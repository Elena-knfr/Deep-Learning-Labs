{
  "cells": [
    {
      "cell_type": "markdown",
      "metadata": {
        "id": "OhtOdxzd1ppr"
      },
      "source": [
        "# Lab 4: Data Imputation using an Autoencoder\n",
        "\n",
        "\n",
        "In this lab, you will build and train an autoencoder to impute (or \"fill in\") missing data. \n",
        "\n",
        "We will be using the\n",
        "Adult Data Set provided by the UCI Machine Learning Repository [1], available \n",
        "at https://archive.ics.uci.edu/ml/datasets/adult.\n",
        "The data set contains census record files of adults, including their\n",
        "age, martial status, the type of work they do, and other features. \n",
        "\n",
        "Normally, people use this data set to build a supervised classification\n",
        "model to classify whether a person is a high income earner.\n",
        "We will not use the dataset for this original intended purpose.\n",
        "\n",
        "Instead, we will perform the task of imputing (or \"filling in\") missing values in the dataset. For example,\n",
        "we may be missing one person's martial status, and another person's age, and\n",
        "a third person's level of education. Our model will predict the missing features \n",
        "based on the information that we do have about each person.\n",
        "\n",
        "We will use a variation of a denoising autoencoder to solve this data imputation\n",
        "problem. Our autoencoder will be trained using inputs that have one categorical feature artificially\n",
        "removed, and the goal of the autoencoder is to correctly reconstruct all features,\n",
        "including the one removed from the input.\n",
        "\n",
        "In the process, you are expected to learn to:\n",
        "\n",
        "1. Clean and process continuous and categorical data for machine learning.\n",
        "2. Implement an autoencoder that takes continuous and categorical (one-hot) inputs.\n",
        "3. Tune the hyperparameters of an autoencoder.\n",
        "4. Use baseline models to help interpret model performance.\n",
        "\n",
        "[1] Dua, D. and Karra Taniskidou, E. (2017). UCI Machine Learning Repository [http://archive.ics.uci.edu/ml]. Irvine, CA: University of California, School of Information and Computer Science.\n",
        "\n",
        "\n",
        "### What to submit\n",
        "\n",
        "Submit a PDF file containing all your code, outputs, and write-up. You can produce a PDF of your Google Colab file by going to File > Print and then save as PDF. The Colab instructions have more information.\n",
        "\n",
        "Do not submit any other files produced by your code.\n",
        "\n",
        "Include a link to your colab file in your submission.\n"
      ]
    },
    {
      "cell_type": "code",
      "execution_count": null,
      "metadata": {
        "collapsed": true,
        "id": "z3p8N43E1ppt",
        "jupyter": {
          "outputs_hidden": true
        }
      },
      "outputs": [],
      "source": [
        "import csv\n",
        "import numpy as np\n",
        "import random\n",
        "import torch\n",
        "import torch.utils.data"
      ]
    },
    {
      "cell_type": "markdown",
      "metadata": {
        "id": "8ROwtHcz1ppx"
      },
      "source": [
        "## Part 0\n",
        "\n",
        "We will be using a package called `pandas` for this assignment. \n",
        "\n",
        "If you are using Colab, `pandas` should already be available.\n",
        "If you are using your own computer,\n",
        "installation instructions for `pandas` are available here: \n",
        "https://pandas.pydata.org/pandas-docs/stable/install.html"
      ]
    },
    {
      "cell_type": "code",
      "execution_count": null,
      "metadata": {
        "collapsed": true,
        "id": "IXQ7BP151ppz",
        "jupyter": {
          "outputs_hidden": true
        }
      },
      "outputs": [],
      "source": [
        "import pandas as pd"
      ]
    },
    {
      "cell_type": "markdown",
      "metadata": {
        "id": "hqXihb4Q1pp2"
      },
      "source": [
        "# Part 1. Data Cleaning [15 pt]\n",
        "\n",
        "The adult.data file is available at `https://archive.ics.uci.edu/ml/machine-learning-databases/adult/adult.data`\n",
        "\n",
        "The function `pd.read_csv` loads the adult.data file into a pandas dataframe.\n",
        "You can read about the pandas documentation for `pd.read_csv` at\n",
        "https://pandas.pydata.org/pandas-docs/stable/reference/api/pandas.read_csv.html"
      ]
    },
    {
      "cell_type": "code",
      "execution_count": null,
      "metadata": {
        "colab": {
          "base_uri": "https://localhost:8080/"
        },
        "collapsed": true,
        "id": "EOMItFKn1pp3",
        "jupyter": {
          "outputs_hidden": true
        },
        "outputId": "3b06ff1c-52ba-4256-dedf-2f9179dfdc92"
      },
      "outputs": [
        {
          "output_type": "stream",
          "name": "stderr",
          "text": [
            "/usr/local/lib/python3.8/dist-packages/pandas/util/_decorators.py:311: ParserWarning: Length of header or names does not match length of data. This leads to a loss of data with index_col=False.\n",
            "  return func(*args, **kwargs)\n"
          ]
        }
      ],
      "source": [
        "header = ['age', 'work', 'fnlwgt', 'edu', 'yredu', 'marriage', 'occupation',\n",
        " 'relationship', 'race', 'sex', 'capgain', 'caploss', 'workhr', 'country']\n",
        "df = pd.read_csv(\n",
        "    \"https://archive.ics.uci.edu/ml/machine-learning-databases/adult/adult.data\",\n",
        "    names=header,\n",
        "    index_col=False)"
      ]
    },
    {
      "cell_type": "code",
      "execution_count": null,
      "metadata": {
        "colab": {
          "base_uri": "https://localhost:8080/"
        },
        "id": "62Ot405q1pp5",
        "outputId": "e5d2483f-f8e7-4c72-e91e-d1f684b39998",
        "scrolled": true
      },
      "outputs": [
        {
          "output_type": "execute_result",
          "data": {
            "text/plain": [
              "(32561, 14)"
            ]
          },
          "metadata": {},
          "execution_count": 4
        }
      ],
      "source": [
        "df.shape # there are 32561 rows (records) in the data frame, and 14 columns (features)"
      ]
    },
    {
      "cell_type": "code",
      "source": [
        "df.head() #gives the first 5 info"
      ],
      "metadata": {
        "colab": {
          "base_uri": "https://localhost:8080/",
          "height": 374
        },
        "id": "1pmlWtALrlNV",
        "outputId": "ffc3e705-b982-4abe-ee58-b5f337e426b8"
      },
      "execution_count": null,
      "outputs": [
        {
          "output_type": "execute_result",
          "data": {
            "text/plain": [
              "   age               work  fnlwgt         edu  yredu             marriage  \\\n",
              "0   39          State-gov   77516   Bachelors     13        Never-married   \n",
              "1   50   Self-emp-not-inc   83311   Bachelors     13   Married-civ-spouse   \n",
              "2   38            Private  215646     HS-grad      9             Divorced   \n",
              "3   53            Private  234721        11th      7   Married-civ-spouse   \n",
              "4   28            Private  338409   Bachelors     13   Married-civ-spouse   \n",
              "\n",
              "           occupation    relationship    race      sex  capgain  caploss  \\\n",
              "0        Adm-clerical   Not-in-family   White     Male     2174        0   \n",
              "1     Exec-managerial         Husband   White     Male        0        0   \n",
              "2   Handlers-cleaners   Not-in-family   White     Male        0        0   \n",
              "3   Handlers-cleaners         Husband   Black     Male        0        0   \n",
              "4      Prof-specialty            Wife   Black   Female        0        0   \n",
              "\n",
              "   workhr         country  \n",
              "0      40   United-States  \n",
              "1      13   United-States  \n",
              "2      40   United-States  \n",
              "3      40   United-States  \n",
              "4      40            Cuba  "
            ],
            "text/html": [
              "\n",
              "  <div id=\"df-f2fc9db8-1d8a-40d3-b811-5f3cde46c224\">\n",
              "    <div class=\"colab-df-container\">\n",
              "      <div>\n",
              "<style scoped>\n",
              "    .dataframe tbody tr th:only-of-type {\n",
              "        vertical-align: middle;\n",
              "    }\n",
              "\n",
              "    .dataframe tbody tr th {\n",
              "        vertical-align: top;\n",
              "    }\n",
              "\n",
              "    .dataframe thead th {\n",
              "        text-align: right;\n",
              "    }\n",
              "</style>\n",
              "<table border=\"1\" class=\"dataframe\">\n",
              "  <thead>\n",
              "    <tr style=\"text-align: right;\">\n",
              "      <th></th>\n",
              "      <th>age</th>\n",
              "      <th>work</th>\n",
              "      <th>fnlwgt</th>\n",
              "      <th>edu</th>\n",
              "      <th>yredu</th>\n",
              "      <th>marriage</th>\n",
              "      <th>occupation</th>\n",
              "      <th>relationship</th>\n",
              "      <th>race</th>\n",
              "      <th>sex</th>\n",
              "      <th>capgain</th>\n",
              "      <th>caploss</th>\n",
              "      <th>workhr</th>\n",
              "      <th>country</th>\n",
              "    </tr>\n",
              "  </thead>\n",
              "  <tbody>\n",
              "    <tr>\n",
              "      <th>0</th>\n",
              "      <td>39</td>\n",
              "      <td>State-gov</td>\n",
              "      <td>77516</td>\n",
              "      <td>Bachelors</td>\n",
              "      <td>13</td>\n",
              "      <td>Never-married</td>\n",
              "      <td>Adm-clerical</td>\n",
              "      <td>Not-in-family</td>\n",
              "      <td>White</td>\n",
              "      <td>Male</td>\n",
              "      <td>2174</td>\n",
              "      <td>0</td>\n",
              "      <td>40</td>\n",
              "      <td>United-States</td>\n",
              "    </tr>\n",
              "    <tr>\n",
              "      <th>1</th>\n",
              "      <td>50</td>\n",
              "      <td>Self-emp-not-inc</td>\n",
              "      <td>83311</td>\n",
              "      <td>Bachelors</td>\n",
              "      <td>13</td>\n",
              "      <td>Married-civ-spouse</td>\n",
              "      <td>Exec-managerial</td>\n",
              "      <td>Husband</td>\n",
              "      <td>White</td>\n",
              "      <td>Male</td>\n",
              "      <td>0</td>\n",
              "      <td>0</td>\n",
              "      <td>13</td>\n",
              "      <td>United-States</td>\n",
              "    </tr>\n",
              "    <tr>\n",
              "      <th>2</th>\n",
              "      <td>38</td>\n",
              "      <td>Private</td>\n",
              "      <td>215646</td>\n",
              "      <td>HS-grad</td>\n",
              "      <td>9</td>\n",
              "      <td>Divorced</td>\n",
              "      <td>Handlers-cleaners</td>\n",
              "      <td>Not-in-family</td>\n",
              "      <td>White</td>\n",
              "      <td>Male</td>\n",
              "      <td>0</td>\n",
              "      <td>0</td>\n",
              "      <td>40</td>\n",
              "      <td>United-States</td>\n",
              "    </tr>\n",
              "    <tr>\n",
              "      <th>3</th>\n",
              "      <td>53</td>\n",
              "      <td>Private</td>\n",
              "      <td>234721</td>\n",
              "      <td>11th</td>\n",
              "      <td>7</td>\n",
              "      <td>Married-civ-spouse</td>\n",
              "      <td>Handlers-cleaners</td>\n",
              "      <td>Husband</td>\n",
              "      <td>Black</td>\n",
              "      <td>Male</td>\n",
              "      <td>0</td>\n",
              "      <td>0</td>\n",
              "      <td>40</td>\n",
              "      <td>United-States</td>\n",
              "    </tr>\n",
              "    <tr>\n",
              "      <th>4</th>\n",
              "      <td>28</td>\n",
              "      <td>Private</td>\n",
              "      <td>338409</td>\n",
              "      <td>Bachelors</td>\n",
              "      <td>13</td>\n",
              "      <td>Married-civ-spouse</td>\n",
              "      <td>Prof-specialty</td>\n",
              "      <td>Wife</td>\n",
              "      <td>Black</td>\n",
              "      <td>Female</td>\n",
              "      <td>0</td>\n",
              "      <td>0</td>\n",
              "      <td>40</td>\n",
              "      <td>Cuba</td>\n",
              "    </tr>\n",
              "  </tbody>\n",
              "</table>\n",
              "</div>\n",
              "      <button class=\"colab-df-convert\" onclick=\"convertToInteractive('df-f2fc9db8-1d8a-40d3-b811-5f3cde46c224')\"\n",
              "              title=\"Convert this dataframe to an interactive table.\"\n",
              "              style=\"display:none;\">\n",
              "        \n",
              "  <svg xmlns=\"http://www.w3.org/2000/svg\" height=\"24px\"viewBox=\"0 0 24 24\"\n",
              "       width=\"24px\">\n",
              "    <path d=\"M0 0h24v24H0V0z\" fill=\"none\"/>\n",
              "    <path d=\"M18.56 5.44l.94 2.06.94-2.06 2.06-.94-2.06-.94-.94-2.06-.94 2.06-2.06.94zm-11 1L8.5 8.5l.94-2.06 2.06-.94-2.06-.94L8.5 2.5l-.94 2.06-2.06.94zm10 10l.94 2.06.94-2.06 2.06-.94-2.06-.94-.94-2.06-.94 2.06-2.06.94z\"/><path d=\"M17.41 7.96l-1.37-1.37c-.4-.4-.92-.59-1.43-.59-.52 0-1.04.2-1.43.59L10.3 9.45l-7.72 7.72c-.78.78-.78 2.05 0 2.83L4 21.41c.39.39.9.59 1.41.59.51 0 1.02-.2 1.41-.59l7.78-7.78 2.81-2.81c.8-.78.8-2.07 0-2.86zM5.41 20L4 18.59l7.72-7.72 1.47 1.35L5.41 20z\"/>\n",
              "  </svg>\n",
              "      </button>\n",
              "      \n",
              "  <style>\n",
              "    .colab-df-container {\n",
              "      display:flex;\n",
              "      flex-wrap:wrap;\n",
              "      gap: 12px;\n",
              "    }\n",
              "\n",
              "    .colab-df-convert {\n",
              "      background-color: #E8F0FE;\n",
              "      border: none;\n",
              "      border-radius: 50%;\n",
              "      cursor: pointer;\n",
              "      display: none;\n",
              "      fill: #1967D2;\n",
              "      height: 32px;\n",
              "      padding: 0 0 0 0;\n",
              "      width: 32px;\n",
              "    }\n",
              "\n",
              "    .colab-df-convert:hover {\n",
              "      background-color: #E2EBFA;\n",
              "      box-shadow: 0px 1px 2px rgba(60, 64, 67, 0.3), 0px 1px 3px 1px rgba(60, 64, 67, 0.15);\n",
              "      fill: #174EA6;\n",
              "    }\n",
              "\n",
              "    [theme=dark] .colab-df-convert {\n",
              "      background-color: #3B4455;\n",
              "      fill: #D2E3FC;\n",
              "    }\n",
              "\n",
              "    [theme=dark] .colab-df-convert:hover {\n",
              "      background-color: #434B5C;\n",
              "      box-shadow: 0px 1px 3px 1px rgba(0, 0, 0, 0.15);\n",
              "      filter: drop-shadow(0px 1px 2px rgba(0, 0, 0, 0.3));\n",
              "      fill: #FFFFFF;\n",
              "    }\n",
              "  </style>\n",
              "\n",
              "      <script>\n",
              "        const buttonEl =\n",
              "          document.querySelector('#df-f2fc9db8-1d8a-40d3-b811-5f3cde46c224 button.colab-df-convert');\n",
              "        buttonEl.style.display =\n",
              "          google.colab.kernel.accessAllowed ? 'block' : 'none';\n",
              "\n",
              "        async function convertToInteractive(key) {\n",
              "          const element = document.querySelector('#df-f2fc9db8-1d8a-40d3-b811-5f3cde46c224');\n",
              "          const dataTable =\n",
              "            await google.colab.kernel.invokeFunction('convertToInteractive',\n",
              "                                                     [key], {});\n",
              "          if (!dataTable) return;\n",
              "\n",
              "          const docLinkHtml = 'Like what you see? Visit the ' +\n",
              "            '<a target=\"_blank\" href=https://colab.research.google.com/notebooks/data_table.ipynb>data table notebook</a>'\n",
              "            + ' to learn more about interactive tables.';\n",
              "          element.innerHTML = '';\n",
              "          dataTable['output_type'] = 'display_data';\n",
              "          await google.colab.output.renderOutput(dataTable, element);\n",
              "          const docLink = document.createElement('div');\n",
              "          docLink.innerHTML = docLinkHtml;\n",
              "          element.appendChild(docLink);\n",
              "        }\n",
              "      </script>\n",
              "    </div>\n",
              "  </div>\n",
              "  "
            ]
          },
          "metadata": {},
          "execution_count": 5
        }
      ]
    },
    {
      "cell_type": "markdown",
      "metadata": {
        "id": "Tr7YG-QY1pp8"
      },
      "source": [
        "### Part (a) Continuous Features [3 pt]\n",
        "\n",
        "For each of the columns `[\"age\", \"yredu\", \"capgain\", \"caploss\", \"workhr\"]`, report the minimum, maximum, and average value across the dataset. \n",
        "\n",
        "Then, normalize each of the features `[\"age\", \"yredu\", \"capgain\", \"caploss\", \"workhr\"]`\n",
        "so that their values are always between 0 and 1.\n",
        "Make sure that you are actually modifying the dataframe `df`. \n",
        "\n",
        "Like numpy arrays and torch tensors, \n",
        "pandas data frames can be sliced. For example, we can\n",
        "display the first 3 rows of the data frame (3 records) below."
      ]
    },
    {
      "cell_type": "code",
      "execution_count": null,
      "metadata": {
        "colab": {
          "base_uri": "https://localhost:8080/",
          "height": 276
        },
        "id": "9evSLsSa1pp9",
        "outputId": "e3350a0d-86e0-4335-b085-03ed81db4ccc"
      },
      "outputs": [
        {
          "output_type": "execute_result",
          "data": {
            "text/plain": [
              "   age               work  fnlwgt         edu  yredu             marriage  \\\n",
              "0   39          State-gov   77516   Bachelors     13        Never-married   \n",
              "1   50   Self-emp-not-inc   83311   Bachelors     13   Married-civ-spouse   \n",
              "2   38            Private  215646     HS-grad      9             Divorced   \n",
              "\n",
              "           occupation    relationship    race    sex  capgain  caploss  \\\n",
              "0        Adm-clerical   Not-in-family   White   Male     2174        0   \n",
              "1     Exec-managerial         Husband   White   Male        0        0   \n",
              "2   Handlers-cleaners   Not-in-family   White   Male        0        0   \n",
              "\n",
              "   workhr         country  \n",
              "0      40   United-States  \n",
              "1      13   United-States  \n",
              "2      40   United-States  "
            ],
            "text/html": [
              "\n",
              "  <div id=\"df-ac7ec61e-09b8-4dd3-b687-b8eb055bae39\">\n",
              "    <div class=\"colab-df-container\">\n",
              "      <div>\n",
              "<style scoped>\n",
              "    .dataframe tbody tr th:only-of-type {\n",
              "        vertical-align: middle;\n",
              "    }\n",
              "\n",
              "    .dataframe tbody tr th {\n",
              "        vertical-align: top;\n",
              "    }\n",
              "\n",
              "    .dataframe thead th {\n",
              "        text-align: right;\n",
              "    }\n",
              "</style>\n",
              "<table border=\"1\" class=\"dataframe\">\n",
              "  <thead>\n",
              "    <tr style=\"text-align: right;\">\n",
              "      <th></th>\n",
              "      <th>age</th>\n",
              "      <th>work</th>\n",
              "      <th>fnlwgt</th>\n",
              "      <th>edu</th>\n",
              "      <th>yredu</th>\n",
              "      <th>marriage</th>\n",
              "      <th>occupation</th>\n",
              "      <th>relationship</th>\n",
              "      <th>race</th>\n",
              "      <th>sex</th>\n",
              "      <th>capgain</th>\n",
              "      <th>caploss</th>\n",
              "      <th>workhr</th>\n",
              "      <th>country</th>\n",
              "    </tr>\n",
              "  </thead>\n",
              "  <tbody>\n",
              "    <tr>\n",
              "      <th>0</th>\n",
              "      <td>39</td>\n",
              "      <td>State-gov</td>\n",
              "      <td>77516</td>\n",
              "      <td>Bachelors</td>\n",
              "      <td>13</td>\n",
              "      <td>Never-married</td>\n",
              "      <td>Adm-clerical</td>\n",
              "      <td>Not-in-family</td>\n",
              "      <td>White</td>\n",
              "      <td>Male</td>\n",
              "      <td>2174</td>\n",
              "      <td>0</td>\n",
              "      <td>40</td>\n",
              "      <td>United-States</td>\n",
              "    </tr>\n",
              "    <tr>\n",
              "      <th>1</th>\n",
              "      <td>50</td>\n",
              "      <td>Self-emp-not-inc</td>\n",
              "      <td>83311</td>\n",
              "      <td>Bachelors</td>\n",
              "      <td>13</td>\n",
              "      <td>Married-civ-spouse</td>\n",
              "      <td>Exec-managerial</td>\n",
              "      <td>Husband</td>\n",
              "      <td>White</td>\n",
              "      <td>Male</td>\n",
              "      <td>0</td>\n",
              "      <td>0</td>\n",
              "      <td>13</td>\n",
              "      <td>United-States</td>\n",
              "    </tr>\n",
              "    <tr>\n",
              "      <th>2</th>\n",
              "      <td>38</td>\n",
              "      <td>Private</td>\n",
              "      <td>215646</td>\n",
              "      <td>HS-grad</td>\n",
              "      <td>9</td>\n",
              "      <td>Divorced</td>\n",
              "      <td>Handlers-cleaners</td>\n",
              "      <td>Not-in-family</td>\n",
              "      <td>White</td>\n",
              "      <td>Male</td>\n",
              "      <td>0</td>\n",
              "      <td>0</td>\n",
              "      <td>40</td>\n",
              "      <td>United-States</td>\n",
              "    </tr>\n",
              "  </tbody>\n",
              "</table>\n",
              "</div>\n",
              "      <button class=\"colab-df-convert\" onclick=\"convertToInteractive('df-ac7ec61e-09b8-4dd3-b687-b8eb055bae39')\"\n",
              "              title=\"Convert this dataframe to an interactive table.\"\n",
              "              style=\"display:none;\">\n",
              "        \n",
              "  <svg xmlns=\"http://www.w3.org/2000/svg\" height=\"24px\"viewBox=\"0 0 24 24\"\n",
              "       width=\"24px\">\n",
              "    <path d=\"M0 0h24v24H0V0z\" fill=\"none\"/>\n",
              "    <path d=\"M18.56 5.44l.94 2.06.94-2.06 2.06-.94-2.06-.94-.94-2.06-.94 2.06-2.06.94zm-11 1L8.5 8.5l.94-2.06 2.06-.94-2.06-.94L8.5 2.5l-.94 2.06-2.06.94zm10 10l.94 2.06.94-2.06 2.06-.94-2.06-.94-.94-2.06-.94 2.06-2.06.94z\"/><path d=\"M17.41 7.96l-1.37-1.37c-.4-.4-.92-.59-1.43-.59-.52 0-1.04.2-1.43.59L10.3 9.45l-7.72 7.72c-.78.78-.78 2.05 0 2.83L4 21.41c.39.39.9.59 1.41.59.51 0 1.02-.2 1.41-.59l7.78-7.78 2.81-2.81c.8-.78.8-2.07 0-2.86zM5.41 20L4 18.59l7.72-7.72 1.47 1.35L5.41 20z\"/>\n",
              "  </svg>\n",
              "      </button>\n",
              "      \n",
              "  <style>\n",
              "    .colab-df-container {\n",
              "      display:flex;\n",
              "      flex-wrap:wrap;\n",
              "      gap: 12px;\n",
              "    }\n",
              "\n",
              "    .colab-df-convert {\n",
              "      background-color: #E8F0FE;\n",
              "      border: none;\n",
              "      border-radius: 50%;\n",
              "      cursor: pointer;\n",
              "      display: none;\n",
              "      fill: #1967D2;\n",
              "      height: 32px;\n",
              "      padding: 0 0 0 0;\n",
              "      width: 32px;\n",
              "    }\n",
              "\n",
              "    .colab-df-convert:hover {\n",
              "      background-color: #E2EBFA;\n",
              "      box-shadow: 0px 1px 2px rgba(60, 64, 67, 0.3), 0px 1px 3px 1px rgba(60, 64, 67, 0.15);\n",
              "      fill: #174EA6;\n",
              "    }\n",
              "\n",
              "    [theme=dark] .colab-df-convert {\n",
              "      background-color: #3B4455;\n",
              "      fill: #D2E3FC;\n",
              "    }\n",
              "\n",
              "    [theme=dark] .colab-df-convert:hover {\n",
              "      background-color: #434B5C;\n",
              "      box-shadow: 0px 1px 3px 1px rgba(0, 0, 0, 0.15);\n",
              "      filter: drop-shadow(0px 1px 2px rgba(0, 0, 0, 0.3));\n",
              "      fill: #FFFFFF;\n",
              "    }\n",
              "  </style>\n",
              "\n",
              "      <script>\n",
              "        const buttonEl =\n",
              "          document.querySelector('#df-ac7ec61e-09b8-4dd3-b687-b8eb055bae39 button.colab-df-convert');\n",
              "        buttonEl.style.display =\n",
              "          google.colab.kernel.accessAllowed ? 'block' : 'none';\n",
              "\n",
              "        async function convertToInteractive(key) {\n",
              "          const element = document.querySelector('#df-ac7ec61e-09b8-4dd3-b687-b8eb055bae39');\n",
              "          const dataTable =\n",
              "            await google.colab.kernel.invokeFunction('convertToInteractive',\n",
              "                                                     [key], {});\n",
              "          if (!dataTable) return;\n",
              "\n",
              "          const docLinkHtml = 'Like what you see? Visit the ' +\n",
              "            '<a target=\"_blank\" href=https://colab.research.google.com/notebooks/data_table.ipynb>data table notebook</a>'\n",
              "            + ' to learn more about interactive tables.';\n",
              "          element.innerHTML = '';\n",
              "          dataTable['output_type'] = 'display_data';\n",
              "          await google.colab.output.renderOutput(dataTable, element);\n",
              "          const docLink = document.createElement('div');\n",
              "          docLink.innerHTML = docLinkHtml;\n",
              "          element.appendChild(docLink);\n",
              "        }\n",
              "      </script>\n",
              "    </div>\n",
              "  </div>\n",
              "  "
            ]
          },
          "metadata": {},
          "execution_count": 6
        }
      ],
      "source": [
        "df[:3] # show the first 3 records"
      ]
    },
    {
      "cell_type": "markdown",
      "metadata": {
        "id": "gBOojI6W1pqA"
      },
      "source": [
        "Alternatively, we can slice based on column names, \n",
        "for example `df[\"race\"]`, `df[\"hr\"]`, or even index multiple columns \n",
        "like below."
      ]
    },
    {
      "cell_type": "code",
      "execution_count": null,
      "metadata": {
        "colab": {
          "base_uri": "https://localhost:8080/",
          "height": 143
        },
        "id": "4v6pp73A1pqB",
        "outputId": "30fc437a-0857-4d70-9964-01f07396be66"
      },
      "outputs": [
        {
          "output_type": "execute_result",
          "data": {
            "text/plain": [
              "   age  yredu  capgain  caploss  workhr\n",
              "0   39     13     2174        0      40\n",
              "1   50     13        0        0      13\n",
              "2   38      9        0        0      40"
            ],
            "text/html": [
              "\n",
              "  <div id=\"df-ab882fcf-57ae-4618-83e5-c5d47d87eb52\">\n",
              "    <div class=\"colab-df-container\">\n",
              "      <div>\n",
              "<style scoped>\n",
              "    .dataframe tbody tr th:only-of-type {\n",
              "        vertical-align: middle;\n",
              "    }\n",
              "\n",
              "    .dataframe tbody tr th {\n",
              "        vertical-align: top;\n",
              "    }\n",
              "\n",
              "    .dataframe thead th {\n",
              "        text-align: right;\n",
              "    }\n",
              "</style>\n",
              "<table border=\"1\" class=\"dataframe\">\n",
              "  <thead>\n",
              "    <tr style=\"text-align: right;\">\n",
              "      <th></th>\n",
              "      <th>age</th>\n",
              "      <th>yredu</th>\n",
              "      <th>capgain</th>\n",
              "      <th>caploss</th>\n",
              "      <th>workhr</th>\n",
              "    </tr>\n",
              "  </thead>\n",
              "  <tbody>\n",
              "    <tr>\n",
              "      <th>0</th>\n",
              "      <td>39</td>\n",
              "      <td>13</td>\n",
              "      <td>2174</td>\n",
              "      <td>0</td>\n",
              "      <td>40</td>\n",
              "    </tr>\n",
              "    <tr>\n",
              "      <th>1</th>\n",
              "      <td>50</td>\n",
              "      <td>13</td>\n",
              "      <td>0</td>\n",
              "      <td>0</td>\n",
              "      <td>13</td>\n",
              "    </tr>\n",
              "    <tr>\n",
              "      <th>2</th>\n",
              "      <td>38</td>\n",
              "      <td>9</td>\n",
              "      <td>0</td>\n",
              "      <td>0</td>\n",
              "      <td>40</td>\n",
              "    </tr>\n",
              "  </tbody>\n",
              "</table>\n",
              "</div>\n",
              "      <button class=\"colab-df-convert\" onclick=\"convertToInteractive('df-ab882fcf-57ae-4618-83e5-c5d47d87eb52')\"\n",
              "              title=\"Convert this dataframe to an interactive table.\"\n",
              "              style=\"display:none;\">\n",
              "        \n",
              "  <svg xmlns=\"http://www.w3.org/2000/svg\" height=\"24px\"viewBox=\"0 0 24 24\"\n",
              "       width=\"24px\">\n",
              "    <path d=\"M0 0h24v24H0V0z\" fill=\"none\"/>\n",
              "    <path d=\"M18.56 5.44l.94 2.06.94-2.06 2.06-.94-2.06-.94-.94-2.06-.94 2.06-2.06.94zm-11 1L8.5 8.5l.94-2.06 2.06-.94-2.06-.94L8.5 2.5l-.94 2.06-2.06.94zm10 10l.94 2.06.94-2.06 2.06-.94-2.06-.94-.94-2.06-.94 2.06-2.06.94z\"/><path d=\"M17.41 7.96l-1.37-1.37c-.4-.4-.92-.59-1.43-.59-.52 0-1.04.2-1.43.59L10.3 9.45l-7.72 7.72c-.78.78-.78 2.05 0 2.83L4 21.41c.39.39.9.59 1.41.59.51 0 1.02-.2 1.41-.59l7.78-7.78 2.81-2.81c.8-.78.8-2.07 0-2.86zM5.41 20L4 18.59l7.72-7.72 1.47 1.35L5.41 20z\"/>\n",
              "  </svg>\n",
              "      </button>\n",
              "      \n",
              "  <style>\n",
              "    .colab-df-container {\n",
              "      display:flex;\n",
              "      flex-wrap:wrap;\n",
              "      gap: 12px;\n",
              "    }\n",
              "\n",
              "    .colab-df-convert {\n",
              "      background-color: #E8F0FE;\n",
              "      border: none;\n",
              "      border-radius: 50%;\n",
              "      cursor: pointer;\n",
              "      display: none;\n",
              "      fill: #1967D2;\n",
              "      height: 32px;\n",
              "      padding: 0 0 0 0;\n",
              "      width: 32px;\n",
              "    }\n",
              "\n",
              "    .colab-df-convert:hover {\n",
              "      background-color: #E2EBFA;\n",
              "      box-shadow: 0px 1px 2px rgba(60, 64, 67, 0.3), 0px 1px 3px 1px rgba(60, 64, 67, 0.15);\n",
              "      fill: #174EA6;\n",
              "    }\n",
              "\n",
              "    [theme=dark] .colab-df-convert {\n",
              "      background-color: #3B4455;\n",
              "      fill: #D2E3FC;\n",
              "    }\n",
              "\n",
              "    [theme=dark] .colab-df-convert:hover {\n",
              "      background-color: #434B5C;\n",
              "      box-shadow: 0px 1px 3px 1px rgba(0, 0, 0, 0.15);\n",
              "      filter: drop-shadow(0px 1px 2px rgba(0, 0, 0, 0.3));\n",
              "      fill: #FFFFFF;\n",
              "    }\n",
              "  </style>\n",
              "\n",
              "      <script>\n",
              "        const buttonEl =\n",
              "          document.querySelector('#df-ab882fcf-57ae-4618-83e5-c5d47d87eb52 button.colab-df-convert');\n",
              "        buttonEl.style.display =\n",
              "          google.colab.kernel.accessAllowed ? 'block' : 'none';\n",
              "\n",
              "        async function convertToInteractive(key) {\n",
              "          const element = document.querySelector('#df-ab882fcf-57ae-4618-83e5-c5d47d87eb52');\n",
              "          const dataTable =\n",
              "            await google.colab.kernel.invokeFunction('convertToInteractive',\n",
              "                                                     [key], {});\n",
              "          if (!dataTable) return;\n",
              "\n",
              "          const docLinkHtml = 'Like what you see? Visit the ' +\n",
              "            '<a target=\"_blank\" href=https://colab.research.google.com/notebooks/data_table.ipynb>data table notebook</a>'\n",
              "            + ' to learn more about interactive tables.';\n",
              "          element.innerHTML = '';\n",
              "          dataTable['output_type'] = 'display_data';\n",
              "          await google.colab.output.renderOutput(dataTable, element);\n",
              "          const docLink = document.createElement('div');\n",
              "          docLink.innerHTML = docLinkHtml;\n",
              "          element.appendChild(docLink);\n",
              "        }\n",
              "      </script>\n",
              "    </div>\n",
              "  </div>\n",
              "  "
            ]
          },
          "metadata": {},
          "execution_count": 7
        }
      ],
      "source": [
        "subdf = df[[\"age\", \"yredu\", \"capgain\", \"caploss\", \"workhr\"]]\n",
        "subdf[:3] # show the first 3 records"
      ]
    },
    {
      "cell_type": "markdown",
      "metadata": {
        "id": "2Nru2P0E1pqD"
      },
      "source": [
        "Numpy works nicely with pandas, like below:"
      ]
    },
    {
      "cell_type": "code",
      "execution_count": null,
      "metadata": {
        "colab": {
          "base_uri": "https://localhost:8080/"
        },
        "id": "JXrS6tjp1pqE",
        "outputId": "7a23e754-c214-407b-c451-a00f4b0268e8"
      },
      "outputs": [
        {
          "output_type": "execute_result",
          "data": {
            "text/plain": [
              "2842700"
            ]
          },
          "metadata": {},
          "execution_count": 8
        }
      ],
      "source": [
        "np.sum(subdf[\"caploss\"])"
      ]
    },
    {
      "cell_type": "markdown",
      "metadata": {
        "id": "Mv5mbxDM1pqH"
      },
      "source": [
        "Just like numpy arrays, you can modify\n",
        "entire columns of data rather than one scalar element at a time.\n",
        "For example, the code  \n",
        "\n",
        "`df[\"age\"] = df[\"age\"] + 1` \n",
        "\n",
        "would increment everyone's age by 1."
      ]
    },
    {
      "cell_type": "code",
      "execution_count": null,
      "metadata": {
        "colab": {
          "base_uri": "https://localhost:8080/"
        },
        "collapsed": true,
        "id": "k5rlWD7-1pqH",
        "jupyter": {
          "outputs_hidden": true
        },
        "outputId": "634f406c-ed90-4ae2-8c1e-f4fb800d8518"
      },
      "outputs": [
        {
          "output_type": "stream",
          "name": "stdout",
          "text": [
            "maximum values across dataset:\n",
            "age           90\n",
            "yredu         16\n",
            "capgain    99999\n",
            "caploss     4356\n",
            "workhr        99\n",
            "dtype: int64\n",
            "\n",
            "minimum values across dataset:\n",
            "age        17\n",
            "yredu       1\n",
            "capgain     0\n",
            "caploss     0\n",
            "workhr      1\n",
            "dtype: int64\n",
            "\n",
            "average values across dataset:\n",
            "age          38.581647\n",
            "yredu        10.080679\n",
            "capgain    1077.648844\n",
            "caploss      87.303830\n",
            "workhr       40.437456\n",
            "dtype: float64\n"
          ]
        }
      ],
      "source": [
        "# report the minimum, maximum, and average value across the dataset.\n",
        "print(\"maximum values across dataset:\")\n",
        "print(subdf.max())\n",
        "\n",
        "print(\"\\nminimum values across dataset:\")\n",
        "print(subdf.min())\n",
        "\n",
        "print(\"\\naverage values across dataset:\")\n",
        "print(subdf.mean())"
      ]
    },
    {
      "cell_type": "code",
      "source": [
        "# Normalize using Min/Max Normalization [2]\n",
        "df[[\"age\", \"yredu\", \"capgain\", \"caploss\", \"workhr\"]] = (subdf - subdf.min()) / (subdf.max() - subdf.min())\n",
        "df.head()"
      ],
      "metadata": {
        "colab": {
          "base_uri": "https://localhost:8080/",
          "height": 374
        },
        "id": "0h94gu0oxHlt",
        "outputId": "de9b2533-2d74-41c6-c623-dd917cacfbd4"
      },
      "execution_count": null,
      "outputs": [
        {
          "output_type": "execute_result",
          "data": {
            "text/plain": [
              "        age               work  fnlwgt         edu     yredu  \\\n",
              "0  0.301370          State-gov   77516   Bachelors  0.800000   \n",
              "1  0.452055   Self-emp-not-inc   83311   Bachelors  0.800000   \n",
              "2  0.287671            Private  215646     HS-grad  0.533333   \n",
              "3  0.493151            Private  234721        11th  0.400000   \n",
              "4  0.150685            Private  338409   Bachelors  0.800000   \n",
              "\n",
              "              marriage          occupation    relationship    race      sex  \\\n",
              "0        Never-married        Adm-clerical   Not-in-family   White     Male   \n",
              "1   Married-civ-spouse     Exec-managerial         Husband   White     Male   \n",
              "2             Divorced   Handlers-cleaners   Not-in-family   White     Male   \n",
              "3   Married-civ-spouse   Handlers-cleaners         Husband   Black     Male   \n",
              "4   Married-civ-spouse      Prof-specialty            Wife   Black   Female   \n",
              "\n",
              "   capgain  caploss    workhr         country  \n",
              "0  0.02174      0.0  0.397959   United-States  \n",
              "1  0.00000      0.0  0.122449   United-States  \n",
              "2  0.00000      0.0  0.397959   United-States  \n",
              "3  0.00000      0.0  0.397959   United-States  \n",
              "4  0.00000      0.0  0.397959            Cuba  "
            ],
            "text/html": [
              "\n",
              "  <div id=\"df-43e5381c-22f1-4e1b-b9cd-20adfb1313ba\">\n",
              "    <div class=\"colab-df-container\">\n",
              "      <div>\n",
              "<style scoped>\n",
              "    .dataframe tbody tr th:only-of-type {\n",
              "        vertical-align: middle;\n",
              "    }\n",
              "\n",
              "    .dataframe tbody tr th {\n",
              "        vertical-align: top;\n",
              "    }\n",
              "\n",
              "    .dataframe thead th {\n",
              "        text-align: right;\n",
              "    }\n",
              "</style>\n",
              "<table border=\"1\" class=\"dataframe\">\n",
              "  <thead>\n",
              "    <tr style=\"text-align: right;\">\n",
              "      <th></th>\n",
              "      <th>age</th>\n",
              "      <th>work</th>\n",
              "      <th>fnlwgt</th>\n",
              "      <th>edu</th>\n",
              "      <th>yredu</th>\n",
              "      <th>marriage</th>\n",
              "      <th>occupation</th>\n",
              "      <th>relationship</th>\n",
              "      <th>race</th>\n",
              "      <th>sex</th>\n",
              "      <th>capgain</th>\n",
              "      <th>caploss</th>\n",
              "      <th>workhr</th>\n",
              "      <th>country</th>\n",
              "    </tr>\n",
              "  </thead>\n",
              "  <tbody>\n",
              "    <tr>\n",
              "      <th>0</th>\n",
              "      <td>0.301370</td>\n",
              "      <td>State-gov</td>\n",
              "      <td>77516</td>\n",
              "      <td>Bachelors</td>\n",
              "      <td>0.800000</td>\n",
              "      <td>Never-married</td>\n",
              "      <td>Adm-clerical</td>\n",
              "      <td>Not-in-family</td>\n",
              "      <td>White</td>\n",
              "      <td>Male</td>\n",
              "      <td>0.02174</td>\n",
              "      <td>0.0</td>\n",
              "      <td>0.397959</td>\n",
              "      <td>United-States</td>\n",
              "    </tr>\n",
              "    <tr>\n",
              "      <th>1</th>\n",
              "      <td>0.452055</td>\n",
              "      <td>Self-emp-not-inc</td>\n",
              "      <td>83311</td>\n",
              "      <td>Bachelors</td>\n",
              "      <td>0.800000</td>\n",
              "      <td>Married-civ-spouse</td>\n",
              "      <td>Exec-managerial</td>\n",
              "      <td>Husband</td>\n",
              "      <td>White</td>\n",
              "      <td>Male</td>\n",
              "      <td>0.00000</td>\n",
              "      <td>0.0</td>\n",
              "      <td>0.122449</td>\n",
              "      <td>United-States</td>\n",
              "    </tr>\n",
              "    <tr>\n",
              "      <th>2</th>\n",
              "      <td>0.287671</td>\n",
              "      <td>Private</td>\n",
              "      <td>215646</td>\n",
              "      <td>HS-grad</td>\n",
              "      <td>0.533333</td>\n",
              "      <td>Divorced</td>\n",
              "      <td>Handlers-cleaners</td>\n",
              "      <td>Not-in-family</td>\n",
              "      <td>White</td>\n",
              "      <td>Male</td>\n",
              "      <td>0.00000</td>\n",
              "      <td>0.0</td>\n",
              "      <td>0.397959</td>\n",
              "      <td>United-States</td>\n",
              "    </tr>\n",
              "    <tr>\n",
              "      <th>3</th>\n",
              "      <td>0.493151</td>\n",
              "      <td>Private</td>\n",
              "      <td>234721</td>\n",
              "      <td>11th</td>\n",
              "      <td>0.400000</td>\n",
              "      <td>Married-civ-spouse</td>\n",
              "      <td>Handlers-cleaners</td>\n",
              "      <td>Husband</td>\n",
              "      <td>Black</td>\n",
              "      <td>Male</td>\n",
              "      <td>0.00000</td>\n",
              "      <td>0.0</td>\n",
              "      <td>0.397959</td>\n",
              "      <td>United-States</td>\n",
              "    </tr>\n",
              "    <tr>\n",
              "      <th>4</th>\n",
              "      <td>0.150685</td>\n",
              "      <td>Private</td>\n",
              "      <td>338409</td>\n",
              "      <td>Bachelors</td>\n",
              "      <td>0.800000</td>\n",
              "      <td>Married-civ-spouse</td>\n",
              "      <td>Prof-specialty</td>\n",
              "      <td>Wife</td>\n",
              "      <td>Black</td>\n",
              "      <td>Female</td>\n",
              "      <td>0.00000</td>\n",
              "      <td>0.0</td>\n",
              "      <td>0.397959</td>\n",
              "      <td>Cuba</td>\n",
              "    </tr>\n",
              "  </tbody>\n",
              "</table>\n",
              "</div>\n",
              "      <button class=\"colab-df-convert\" onclick=\"convertToInteractive('df-43e5381c-22f1-4e1b-b9cd-20adfb1313ba')\"\n",
              "              title=\"Convert this dataframe to an interactive table.\"\n",
              "              style=\"display:none;\">\n",
              "        \n",
              "  <svg xmlns=\"http://www.w3.org/2000/svg\" height=\"24px\"viewBox=\"0 0 24 24\"\n",
              "       width=\"24px\">\n",
              "    <path d=\"M0 0h24v24H0V0z\" fill=\"none\"/>\n",
              "    <path d=\"M18.56 5.44l.94 2.06.94-2.06 2.06-.94-2.06-.94-.94-2.06-.94 2.06-2.06.94zm-11 1L8.5 8.5l.94-2.06 2.06-.94-2.06-.94L8.5 2.5l-.94 2.06-2.06.94zm10 10l.94 2.06.94-2.06 2.06-.94-2.06-.94-.94-2.06-.94 2.06-2.06.94z\"/><path d=\"M17.41 7.96l-1.37-1.37c-.4-.4-.92-.59-1.43-.59-.52 0-1.04.2-1.43.59L10.3 9.45l-7.72 7.72c-.78.78-.78 2.05 0 2.83L4 21.41c.39.39.9.59 1.41.59.51 0 1.02-.2 1.41-.59l7.78-7.78 2.81-2.81c.8-.78.8-2.07 0-2.86zM5.41 20L4 18.59l7.72-7.72 1.47 1.35L5.41 20z\"/>\n",
              "  </svg>\n",
              "      </button>\n",
              "      \n",
              "  <style>\n",
              "    .colab-df-container {\n",
              "      display:flex;\n",
              "      flex-wrap:wrap;\n",
              "      gap: 12px;\n",
              "    }\n",
              "\n",
              "    .colab-df-convert {\n",
              "      background-color: #E8F0FE;\n",
              "      border: none;\n",
              "      border-radius: 50%;\n",
              "      cursor: pointer;\n",
              "      display: none;\n",
              "      fill: #1967D2;\n",
              "      height: 32px;\n",
              "      padding: 0 0 0 0;\n",
              "      width: 32px;\n",
              "    }\n",
              "\n",
              "    .colab-df-convert:hover {\n",
              "      background-color: #E2EBFA;\n",
              "      box-shadow: 0px 1px 2px rgba(60, 64, 67, 0.3), 0px 1px 3px 1px rgba(60, 64, 67, 0.15);\n",
              "      fill: #174EA6;\n",
              "    }\n",
              "\n",
              "    [theme=dark] .colab-df-convert {\n",
              "      background-color: #3B4455;\n",
              "      fill: #D2E3FC;\n",
              "    }\n",
              "\n",
              "    [theme=dark] .colab-df-convert:hover {\n",
              "      background-color: #434B5C;\n",
              "      box-shadow: 0px 1px 3px 1px rgba(0, 0, 0, 0.15);\n",
              "      filter: drop-shadow(0px 1px 2px rgba(0, 0, 0, 0.3));\n",
              "      fill: #FFFFFF;\n",
              "    }\n",
              "  </style>\n",
              "\n",
              "      <script>\n",
              "        const buttonEl =\n",
              "          document.querySelector('#df-43e5381c-22f1-4e1b-b9cd-20adfb1313ba button.colab-df-convert');\n",
              "        buttonEl.style.display =\n",
              "          google.colab.kernel.accessAllowed ? 'block' : 'none';\n",
              "\n",
              "        async function convertToInteractive(key) {\n",
              "          const element = document.querySelector('#df-43e5381c-22f1-4e1b-b9cd-20adfb1313ba');\n",
              "          const dataTable =\n",
              "            await google.colab.kernel.invokeFunction('convertToInteractive',\n",
              "                                                     [key], {});\n",
              "          if (!dataTable) return;\n",
              "\n",
              "          const docLinkHtml = 'Like what you see? Visit the ' +\n",
              "            '<a target=\"_blank\" href=https://colab.research.google.com/notebooks/data_table.ipynb>data table notebook</a>'\n",
              "            + ' to learn more about interactive tables.';\n",
              "          element.innerHTML = '';\n",
              "          dataTable['output_type'] = 'display_data';\n",
              "          await google.colab.output.renderOutput(dataTable, element);\n",
              "          const docLink = document.createElement('div');\n",
              "          docLink.innerHTML = docLinkHtml;\n",
              "          element.appendChild(docLink);\n",
              "        }\n",
              "      </script>\n",
              "    </div>\n",
              "  </div>\n",
              "  "
            ]
          },
          "metadata": {},
          "execution_count": 10
        }
      ]
    },
    {
      "cell_type": "markdown",
      "source": [
        "[2] Naveen (2021). Pandas Normalize Columns of DataFrame [https://sparkbyexamples.com/pandas/normalize-columns-of-pandas-dataframe/]."
      ],
      "metadata": {
        "id": "kqRNYnXPzk7W"
      }
    },
    {
      "cell_type": "markdown",
      "metadata": {
        "id": "qbfMly4R1pqK"
      },
      "source": [
        "### Part (b) Categorical Features [1 pt]\n",
        "\n",
        "What percentage of people in our data set are male? Note that the data labels all have an unfortunate space in the beginning, e.g. \" Male\" instead of \"Male\".\n",
        "\n",
        "What percentage of people in our data set are female?"
      ]
    },
    {
      "cell_type": "code",
      "execution_count": null,
      "metadata": {
        "colab": {
          "base_uri": "https://localhost:8080/"
        },
        "id": "DjAjcsB_1pqK",
        "outputId": "f82d067d-3dbf-41c8-9a15-8ca13d851b47"
      },
      "outputs": [
        {
          "output_type": "stream",
          "name": "stdout",
          "text": [
            "percentage of male in the dataset is: 66.9205%\n",
            "percentage of female in the dataset is: 33.0795%\n"
          ]
        }
      ],
      "source": [
        "# hint: you can do something like this in pandas\n",
        "male_count = sum(df[\"sex\"] == \" Male\")\n",
        "female_count = sum(df[\"sex\"] == \" Female\")\n",
        "total = male_count + female_count\n",
        "print(\"percentage of male in the dataset is: %5.4f%%\" % (male_count / total * 100))\n",
        "print(\"percentage of female in the dataset is: %5.4f%%\" % (female_count / total * 100))"
      ]
    },
    {
      "cell_type": "markdown",
      "metadata": {
        "id": "eGVw7pqL1pqN"
      },
      "source": [
        "### Part (c) [2 pt]\n",
        "\n",
        "Before proceeding, we will modify our data frame in a couple more ways:\n",
        "\n",
        "1. We will restrict ourselves to using a subset of the features (to simplify our autoencoder)\n",
        "2. We will remove any records (rows) already containing missing values, and store them in a second dataframe. We will only use records without missing values to train our autoencoder.\n",
        "\n",
        "Both of these steps are done for you, below.\n",
        "\n",
        "How many records contained missing features? What percentage of records were removed?"
      ]
    },
    {
      "cell_type": "code",
      "execution_count": null,
      "metadata": {
        "collapsed": true,
        "id": "z6ewPUdv1pqO",
        "jupyter": {
          "outputs_hidden": true
        }
      },
      "outputs": [],
      "source": [
        "contcols = [\"age\", \"yredu\", \"capgain\", \"caploss\", \"workhr\"]\n",
        "catcols = [\"work\", \"marriage\", \"occupation\", \"edu\", \"relationship\", \"sex\"]\n",
        "features = contcols + catcols\n",
        "df = df[features]"
      ]
    },
    {
      "cell_type": "code",
      "execution_count": null,
      "metadata": {
        "collapsed": true,
        "id": "fjdVll5a1pqQ",
        "jupyter": {
          "outputs_hidden": true
        }
      },
      "outputs": [],
      "source": [
        "missing = pd.concat([df[c] == \" ?\" for c in catcols], axis=1).any(axis=1)\n",
        "df_with_missing = df[missing]\n",
        "df_not_missing = df[~missing]"
      ]
    },
    {
      "cell_type": "code",
      "source": [
        "# How many records contained missing features? What percentage of records were removed?\n",
        "print(\"size of records contained missing features is:\", len(df_with_missing))\n",
        "print(\"percentage of records that were removed is: %5.4f%%\" % (len(df_with_missing) / len(df) * 100))"
      ],
      "metadata": {
        "colab": {
          "base_uri": "https://localhost:8080/"
        },
        "id": "Cwfa-Ijl3hXr",
        "outputId": "14a4fa66-10c0-4baa-d2ec-1a0c770250a5"
      },
      "execution_count": null,
      "outputs": [
        {
          "output_type": "stream",
          "name": "stdout",
          "text": [
            "size of records contained missing features is: 1843\n",
            "percentage of records that were removed is: 5.6601%\n"
          ]
        }
      ]
    },
    {
      "cell_type": "markdown",
      "metadata": {
        "id": "XuEpndTQ1pqU"
      },
      "source": [
        "### Part (d) One-Hot Encoding [1 pt]\n",
        "\n",
        "What are all the possible values of the feature \"work\" in `df_not_missing`? You may find the Python function `set` useful."
      ]
    },
    {
      "cell_type": "code",
      "execution_count": null,
      "metadata": {
        "colab": {
          "base_uri": "https://localhost:8080/"
        },
        "collapsed": true,
        "id": "iKFh4owE1pqV",
        "jupyter": {
          "outputs_hidden": true
        },
        "outputId": "8572628f-5563-4c99-8791-dae3479258e2"
      },
      "outputs": [
        {
          "output_type": "stream",
          "name": "stdout",
          "text": [
            "all the possible values of the feature 'work' in df_not_missing is:\n",
            " {' Federal-gov', ' Self-emp-inc', ' Private', ' Local-gov', ' State-gov', ' Self-emp-not-inc', ' Without-pay'}\n"
          ]
        }
      ],
      "source": [
        "print(\"all the possible values of the feature 'work' in df_not_missing is:\\n\", set(df_not_missing[\"work\"]))"
      ]
    },
    {
      "cell_type": "markdown",
      "metadata": {
        "id": "COv3HaKr1pqY"
      },
      "source": [
        "We will be using a one-hot encoding to represent each of the categorical variables.\n",
        "Our autoencoder will be trained using these one-hot encodings.\n",
        "\n",
        "We will use the pandas function `get_dummies` to produce one-hot encodings\n",
        "for all of the categorical variables in `df_not_missing`. "
      ]
    },
    {
      "cell_type": "code",
      "execution_count": null,
      "metadata": {
        "collapsed": true,
        "id": "eKlSYmJg1pqZ",
        "jupyter": {
          "outputs_hidden": true
        }
      },
      "outputs": [],
      "source": [
        "data = pd.get_dummies(df_not_missing)"
      ]
    },
    {
      "cell_type": "code",
      "execution_count": null,
      "metadata": {
        "colab": {
          "base_uri": "https://localhost:8080/",
          "height": 306
        },
        "collapsed": true,
        "id": "3y7nTZ7H1pqb",
        "jupyter": {
          "outputs_hidden": true
        },
        "scrolled": true,
        "outputId": "332c1dff-b968-4086-dad3-25f11e5820cc"
      },
      "outputs": [
        {
          "output_type": "execute_result",
          "data": {
            "text/plain": [
              "        age     yredu  capgain  caploss    workhr  work_ Federal-gov  \\\n",
              "0  0.301370  0.800000  0.02174      0.0  0.397959                  0   \n",
              "1  0.452055  0.800000  0.00000      0.0  0.122449                  0   \n",
              "2  0.287671  0.533333  0.00000      0.0  0.397959                  0   \n",
              "\n",
              "   work_ Local-gov  work_ Private  work_ Self-emp-inc  work_ Self-emp-not-inc  \\\n",
              "0                0              0                   0                       0   \n",
              "1                0              0                   0                       1   \n",
              "2                0              1                   0                       0   \n",
              "\n",
              "   ...  edu_ Prof-school  edu_ Some-college  relationship_ Husband  \\\n",
              "0  ...                 0                  0                      0   \n",
              "1  ...                 0                  0                      1   \n",
              "2  ...                 0                  0                      0   \n",
              "\n",
              "   relationship_ Not-in-family  relationship_ Other-relative  \\\n",
              "0                            1                             0   \n",
              "1                            0                             0   \n",
              "2                            1                             0   \n",
              "\n",
              "   relationship_ Own-child  relationship_ Unmarried  relationship_ Wife  \\\n",
              "0                        0                        0                   0   \n",
              "1                        0                        0                   0   \n",
              "2                        0                        0                   0   \n",
              "\n",
              "   sex_ Female  sex_ Male  \n",
              "0            0          1  \n",
              "1            0          1  \n",
              "2            0          1  \n",
              "\n",
              "[3 rows x 57 columns]"
            ],
            "text/html": [
              "\n",
              "  <div id=\"df-72fc6648-7022-43e7-9a11-2c6998cea101\">\n",
              "    <div class=\"colab-df-container\">\n",
              "      <div>\n",
              "<style scoped>\n",
              "    .dataframe tbody tr th:only-of-type {\n",
              "        vertical-align: middle;\n",
              "    }\n",
              "\n",
              "    .dataframe tbody tr th {\n",
              "        vertical-align: top;\n",
              "    }\n",
              "\n",
              "    .dataframe thead th {\n",
              "        text-align: right;\n",
              "    }\n",
              "</style>\n",
              "<table border=\"1\" class=\"dataframe\">\n",
              "  <thead>\n",
              "    <tr style=\"text-align: right;\">\n",
              "      <th></th>\n",
              "      <th>age</th>\n",
              "      <th>yredu</th>\n",
              "      <th>capgain</th>\n",
              "      <th>caploss</th>\n",
              "      <th>workhr</th>\n",
              "      <th>work_ Federal-gov</th>\n",
              "      <th>work_ Local-gov</th>\n",
              "      <th>work_ Private</th>\n",
              "      <th>work_ Self-emp-inc</th>\n",
              "      <th>work_ Self-emp-not-inc</th>\n",
              "      <th>...</th>\n",
              "      <th>edu_ Prof-school</th>\n",
              "      <th>edu_ Some-college</th>\n",
              "      <th>relationship_ Husband</th>\n",
              "      <th>relationship_ Not-in-family</th>\n",
              "      <th>relationship_ Other-relative</th>\n",
              "      <th>relationship_ Own-child</th>\n",
              "      <th>relationship_ Unmarried</th>\n",
              "      <th>relationship_ Wife</th>\n",
              "      <th>sex_ Female</th>\n",
              "      <th>sex_ Male</th>\n",
              "    </tr>\n",
              "  </thead>\n",
              "  <tbody>\n",
              "    <tr>\n",
              "      <th>0</th>\n",
              "      <td>0.301370</td>\n",
              "      <td>0.800000</td>\n",
              "      <td>0.02174</td>\n",
              "      <td>0.0</td>\n",
              "      <td>0.397959</td>\n",
              "      <td>0</td>\n",
              "      <td>0</td>\n",
              "      <td>0</td>\n",
              "      <td>0</td>\n",
              "      <td>0</td>\n",
              "      <td>...</td>\n",
              "      <td>0</td>\n",
              "      <td>0</td>\n",
              "      <td>0</td>\n",
              "      <td>1</td>\n",
              "      <td>0</td>\n",
              "      <td>0</td>\n",
              "      <td>0</td>\n",
              "      <td>0</td>\n",
              "      <td>0</td>\n",
              "      <td>1</td>\n",
              "    </tr>\n",
              "    <tr>\n",
              "      <th>1</th>\n",
              "      <td>0.452055</td>\n",
              "      <td>0.800000</td>\n",
              "      <td>0.00000</td>\n",
              "      <td>0.0</td>\n",
              "      <td>0.122449</td>\n",
              "      <td>0</td>\n",
              "      <td>0</td>\n",
              "      <td>0</td>\n",
              "      <td>0</td>\n",
              "      <td>1</td>\n",
              "      <td>...</td>\n",
              "      <td>0</td>\n",
              "      <td>0</td>\n",
              "      <td>1</td>\n",
              "      <td>0</td>\n",
              "      <td>0</td>\n",
              "      <td>0</td>\n",
              "      <td>0</td>\n",
              "      <td>0</td>\n",
              "      <td>0</td>\n",
              "      <td>1</td>\n",
              "    </tr>\n",
              "    <tr>\n",
              "      <th>2</th>\n",
              "      <td>0.287671</td>\n",
              "      <td>0.533333</td>\n",
              "      <td>0.00000</td>\n",
              "      <td>0.0</td>\n",
              "      <td>0.397959</td>\n",
              "      <td>0</td>\n",
              "      <td>0</td>\n",
              "      <td>1</td>\n",
              "      <td>0</td>\n",
              "      <td>0</td>\n",
              "      <td>...</td>\n",
              "      <td>0</td>\n",
              "      <td>0</td>\n",
              "      <td>0</td>\n",
              "      <td>1</td>\n",
              "      <td>0</td>\n",
              "      <td>0</td>\n",
              "      <td>0</td>\n",
              "      <td>0</td>\n",
              "      <td>0</td>\n",
              "      <td>1</td>\n",
              "    </tr>\n",
              "  </tbody>\n",
              "</table>\n",
              "<p>3 rows × 57 columns</p>\n",
              "</div>\n",
              "      <button class=\"colab-df-convert\" onclick=\"convertToInteractive('df-72fc6648-7022-43e7-9a11-2c6998cea101')\"\n",
              "              title=\"Convert this dataframe to an interactive table.\"\n",
              "              style=\"display:none;\">\n",
              "        \n",
              "  <svg xmlns=\"http://www.w3.org/2000/svg\" height=\"24px\"viewBox=\"0 0 24 24\"\n",
              "       width=\"24px\">\n",
              "    <path d=\"M0 0h24v24H0V0z\" fill=\"none\"/>\n",
              "    <path d=\"M18.56 5.44l.94 2.06.94-2.06 2.06-.94-2.06-.94-.94-2.06-.94 2.06-2.06.94zm-11 1L8.5 8.5l.94-2.06 2.06-.94-2.06-.94L8.5 2.5l-.94 2.06-2.06.94zm10 10l.94 2.06.94-2.06 2.06-.94-2.06-.94-.94-2.06-.94 2.06-2.06.94z\"/><path d=\"M17.41 7.96l-1.37-1.37c-.4-.4-.92-.59-1.43-.59-.52 0-1.04.2-1.43.59L10.3 9.45l-7.72 7.72c-.78.78-.78 2.05 0 2.83L4 21.41c.39.39.9.59 1.41.59.51 0 1.02-.2 1.41-.59l7.78-7.78 2.81-2.81c.8-.78.8-2.07 0-2.86zM5.41 20L4 18.59l7.72-7.72 1.47 1.35L5.41 20z\"/>\n",
              "  </svg>\n",
              "      </button>\n",
              "      \n",
              "  <style>\n",
              "    .colab-df-container {\n",
              "      display:flex;\n",
              "      flex-wrap:wrap;\n",
              "      gap: 12px;\n",
              "    }\n",
              "\n",
              "    .colab-df-convert {\n",
              "      background-color: #E8F0FE;\n",
              "      border: none;\n",
              "      border-radius: 50%;\n",
              "      cursor: pointer;\n",
              "      display: none;\n",
              "      fill: #1967D2;\n",
              "      height: 32px;\n",
              "      padding: 0 0 0 0;\n",
              "      width: 32px;\n",
              "    }\n",
              "\n",
              "    .colab-df-convert:hover {\n",
              "      background-color: #E2EBFA;\n",
              "      box-shadow: 0px 1px 2px rgba(60, 64, 67, 0.3), 0px 1px 3px 1px rgba(60, 64, 67, 0.15);\n",
              "      fill: #174EA6;\n",
              "    }\n",
              "\n",
              "    [theme=dark] .colab-df-convert {\n",
              "      background-color: #3B4455;\n",
              "      fill: #D2E3FC;\n",
              "    }\n",
              "\n",
              "    [theme=dark] .colab-df-convert:hover {\n",
              "      background-color: #434B5C;\n",
              "      box-shadow: 0px 1px 3px 1px rgba(0, 0, 0, 0.15);\n",
              "      filter: drop-shadow(0px 1px 2px rgba(0, 0, 0, 0.3));\n",
              "      fill: #FFFFFF;\n",
              "    }\n",
              "  </style>\n",
              "\n",
              "      <script>\n",
              "        const buttonEl =\n",
              "          document.querySelector('#df-72fc6648-7022-43e7-9a11-2c6998cea101 button.colab-df-convert');\n",
              "        buttonEl.style.display =\n",
              "          google.colab.kernel.accessAllowed ? 'block' : 'none';\n",
              "\n",
              "        async function convertToInteractive(key) {\n",
              "          const element = document.querySelector('#df-72fc6648-7022-43e7-9a11-2c6998cea101');\n",
              "          const dataTable =\n",
              "            await google.colab.kernel.invokeFunction('convertToInteractive',\n",
              "                                                     [key], {});\n",
              "          if (!dataTable) return;\n",
              "\n",
              "          const docLinkHtml = 'Like what you see? Visit the ' +\n",
              "            '<a target=\"_blank\" href=https://colab.research.google.com/notebooks/data_table.ipynb>data table notebook</a>'\n",
              "            + ' to learn more about interactive tables.';\n",
              "          element.innerHTML = '';\n",
              "          dataTable['output_type'] = 'display_data';\n",
              "          await google.colab.output.renderOutput(dataTable, element);\n",
              "          const docLink = document.createElement('div');\n",
              "          docLink.innerHTML = docLinkHtml;\n",
              "          element.appendChild(docLink);\n",
              "        }\n",
              "      </script>\n",
              "    </div>\n",
              "  </div>\n",
              "  "
            ]
          },
          "metadata": {},
          "execution_count": 17
        }
      ],
      "source": [
        "data[:3]"
      ]
    },
    {
      "cell_type": "markdown",
      "metadata": {
        "id": "HwjDg1uM1pqe"
      },
      "source": [
        "### Part (e) One-Hot Encoding [2 pt]\n",
        "\n",
        "The dataframe `data` contains the cleaned and normalized data that we will use to train our denoising autoencoder.\n",
        "\n",
        "How many **columns** (features) are in the dataframe `data`?\n",
        "\n",
        "Briefly explain where that number come from."
      ]
    },
    {
      "cell_type": "code",
      "execution_count": null,
      "metadata": {
        "colab": {
          "base_uri": "https://localhost:8080/"
        },
        "collapsed": true,
        "id": "yjZ5N0Tl1pqf",
        "jupyter": {
          "outputs_hidden": true
        },
        "outputId": "603dafc2-9a64-43e3-cb80-d6113425752a"
      },
      "outputs": [
        {
          "output_type": "stream",
          "name": "stdout",
          "text": [
            "the number of columns in the data dataframe is: 57\n"
          ]
        }
      ],
      "source": [
        "print(\"the number of columns in the data dataframe is:\", len(data.columns))"
      ]
    },
    {
      "cell_type": "markdown",
      "source": [
        "pandas.get_dummies() is used for data manipulation. It converts categorical data into dummy or indicator variables [3].\n",
        "\n",
        "[3] GeeksforGeeks (2020). Python Pandas – get_dummies() method [https://www.geeksforgeeks.org/python-pandas-get_dummies-method/]."
      ],
      "metadata": {
        "id": "rtsNfABb-fmf"
      }
    },
    {
      "cell_type": "code",
      "source": [
        "# work column will be divided into len(set(df_not_missing[\"work\"])) columns\n",
        "print(\"length of all the possible values of the feature 'work' in df_not_missing is:\\n\", len(set(df_not_missing[\"work\"])))\n",
        "\n",
        "# edu column will be divided into len(set(df_not_missing[\"edu\"])) columns\n",
        "print(\"length of all the possible values of the feature 'edu' in df_not_missing is:\\n\", len(set(df_not_missing[\"edu\"])))\n",
        "\n",
        "# marriage column will be divided into len(set(df_not_missing[\"marriage\"])) columns\n",
        "print(\"length of all the possible values of the feature 'marriage' in df_not_missing is:\\n\", len(set(df_not_missing[\"marriage\"])))\n",
        "\n",
        "# occupation column will be divided into len(set(df_not_missing[\"occupation\"])) columns\n",
        "print(\"length of all the possible values of the feature 'occupation' in df_not_missing is:\\n\", len(set(df_not_missing[\"occupation\"])))\n",
        "\n",
        "# relationship column will be divided into len(set(df_not_missing[\"relationship\"])) columns\n",
        "print(\"length of all the possible values of the feature 'relationship' in df_not_missing is:\\n\", len(set(df_not_missing[\"relationship\"])))\n",
        "\n",
        "# sex column will be divided into len(set(df_not_missing[\"sex\"])) columns\n",
        "print(\"length of all the possible values of the feature 'sex' in df_not_missing is:\\n\", len(set(df_not_missing[\"sex\"])))"
      ],
      "metadata": {
        "colab": {
          "base_uri": "https://localhost:8080/"
        },
        "id": "vSEU7Cha6ySh",
        "outputId": "eccb431e-7bb8-4fd9-c3c1-d58461e9f6e8"
      },
      "execution_count": null,
      "outputs": [
        {
          "output_type": "stream",
          "name": "stdout",
          "text": [
            "length of all the possible values of the feature 'work' in df_not_missing is:\n",
            " 7\n",
            "length of all the possible values of the feature 'edu' in df_not_missing is:\n",
            " 16\n",
            "length of all the possible values of the feature 'marriage' in df_not_missing is:\n",
            " 7\n",
            "length of all the possible values of the feature 'occupation' in df_not_missing is:\n",
            " 14\n",
            "length of all the possible values of the feature 'relationship' in df_not_missing is:\n",
            " 6\n",
            "length of all the possible values of the feature 'sex' in df_not_missing is:\n",
            " 2\n"
          ]
        }
      ]
    },
    {
      "cell_type": "markdown",
      "source": [
        "We have 5 non-categorical features including age, yredu, capgain, caploss, workhr. We have then 5 + 7 + 16 + 7 + 14 + 6 + 2 = 57 columns in 'data' dataframe."
      ],
      "metadata": {
        "id": "WzTT6f7e_tYJ"
      }
    },
    {
      "cell_type": "markdown",
      "metadata": {
        "id": "OEJ0Ci3l1pqh"
      },
      "source": [
        "### Part (f) One-Hot Conversion [3 pt]\n",
        "\n",
        "We will convert the pandas data frame `data` into numpy, so that\n",
        "it can be further converted into a PyTorch tensor.\n",
        "However, in doing so, we lose the column label information that\n",
        "a panda data frame automatically stores.\n",
        "\n",
        "Complete the function `get_categorical_value` that will return\n",
        "the named value of a feature given a one-hot embedding.\n",
        "You may find the global variables `cat_index` and `cat_values`\n",
        "useful. (Display them and figure out what they are first.)\n",
        "\n",
        "We will need this function in the next part of the lab\n",
        "to interpret our autoencoder outputs. So, the input\n",
        "to our function `get_categorical_values` might not \n",
        "actually be \"one-hot\" -- the input may instead \n",
        "contain real-valued predictions from our neural network."
      ]
    },
    {
      "cell_type": "code",
      "execution_count": null,
      "metadata": {
        "colab": {
          "base_uri": "https://localhost:8080/"
        },
        "collapsed": true,
        "id": "ZmovX6gu1pqi",
        "jupyter": {
          "outputs_hidden": true
        },
        "outputId": "0e6d3f9e-9927-489f-c50c-7c8402e1aadc"
      },
      "outputs": [
        {
          "output_type": "execute_result",
          "data": {
            "text/plain": [
              "array([[0.30136988, 0.8       , 0.02174022, ..., 0.        , 0.        ,\n",
              "        1.        ],\n",
              "       [0.4520548 , 0.8       , 0.        , ..., 0.        , 0.        ,\n",
              "        1.        ],\n",
              "       [0.28767124, 0.53333336, 0.        , ..., 0.        , 0.        ,\n",
              "        1.        ],\n",
              "       ...,\n",
              "       [0.56164384, 0.53333336, 0.        , ..., 0.        , 1.        ,\n",
              "        0.        ],\n",
              "       [0.06849315, 0.53333336, 0.        , ..., 0.        , 0.        ,\n",
              "        1.        ],\n",
              "       [0.47945204, 0.53333336, 0.15024151, ..., 1.        , 1.        ,\n",
              "        0.        ]], dtype=float32)"
            ]
          },
          "metadata": {},
          "execution_count": 20
        }
      ],
      "source": [
        "datanp = data.values.astype(np.float32)\n",
        "datanp"
      ]
    },
    {
      "cell_type": "code",
      "execution_count": null,
      "metadata": {
        "collapsed": true,
        "id": "YRIa5MBd1pql",
        "jupyter": {
          "outputs_hidden": true
        }
      },
      "outputs": [],
      "source": [
        "cat_index = {}  # Mapping of feature -> start index of feature in a record\n",
        "cat_values = {} # Mapping of feature -> list of categorical values the feature can take\n",
        "\n",
        "# build up the cat_index and cat_values dictionary\n",
        "for i, header in enumerate(data.keys()):\n",
        "    if \"_\" in header: # categorical header\n",
        "        feature, value = header.split()\n",
        "        feature = feature[:-1] # remove the last char; it is always an underscore\n",
        "        if feature not in cat_index:\n",
        "            cat_index[feature] = i\n",
        "            cat_values[feature] = [value]\n",
        "        else:\n",
        "            cat_values[feature].append(value)\n",
        "\n",
        "def get_onehot(record, feature):\n",
        "    \"\"\"\n",
        "    Return the portion of `record` that is the one-hot encoding\n",
        "    of `feature`. For example, since the feature \"work\" is stored\n",
        "    in the indices [5:12] in each record, calling `get_range(record, \"work\")`\n",
        "    is equivalent to accessing `record[5:12]`.\n",
        "    \n",
        "    Args:\n",
        "        - record: a numpy array representing one record, formatted\n",
        "                  the same way as a row in `data.np`\n",
        "        - feature: a string, should be an element of `catcols`\n",
        "    \"\"\"\n",
        "    start_index = cat_index[feature]\n",
        "    stop_index = cat_index[feature] + len(cat_values[feature])\n",
        "    return record[start_index:stop_index]\n",
        "\n",
        "def get_categorical_value(onehot, feature):\n",
        "    \"\"\"\n",
        "    Return the categorical value name of a feature given\n",
        "    a one-hot vector representing the feature.\n",
        "    \n",
        "    Args:\n",
        "        - onehot: a numpy array one-hot representation of the feature\n",
        "        - feature: a string, should be an element of `catcols`\n",
        "        \n",
        "    Examples:\n",
        "    \n",
        "    >>> get_categorical_value(np.array([0., 0., 0., 0., 0., 1., 0.]), \"work\")\n",
        "    'State-gov'\n",
        "    >>> get_categorical_value(np.array([0.1, 0., 1.1, 0.2, 0., 1., 0.]), \"work\")\n",
        "    'Private'\n",
        "    \"\"\"\n",
        "    # <----- TODO: WRITE YOUR CODE HERE ----->\n",
        "    # You may find the variables `cat_index` and `cat_values` \n",
        "    # (created above) useful.\n",
        "    return cat_values[feature][np.argmax(onehot)]"
      ]
    },
    {
      "cell_type": "code",
      "source": [
        "cat_index"
      ],
      "metadata": {
        "colab": {
          "base_uri": "https://localhost:8080/"
        },
        "id": "7PdAhCvPlvh0",
        "outputId": "87aae92d-c31d-484e-e157-f5554be58d95"
      },
      "execution_count": null,
      "outputs": [
        {
          "output_type": "execute_result",
          "data": {
            "text/plain": [
              "{'work': 5,\n",
              " 'marriage': 12,\n",
              " 'occupation': 19,\n",
              " 'edu': 33,\n",
              " 'relationship': 49,\n",
              " 'sex': 55}"
            ]
          },
          "metadata": {},
          "execution_count": 22
        }
      ]
    },
    {
      "cell_type": "code",
      "source": [
        "cat_values"
      ],
      "metadata": {
        "colab": {
          "base_uri": "https://localhost:8080/"
        },
        "id": "VTCDHuAxlz35",
        "outputId": "4f548217-182a-4e9f-b7c1-449ebc51f72f"
      },
      "execution_count": null,
      "outputs": [
        {
          "output_type": "execute_result",
          "data": {
            "text/plain": [
              "{'work': ['Federal-gov',\n",
              "  'Local-gov',\n",
              "  'Private',\n",
              "  'Self-emp-inc',\n",
              "  'Self-emp-not-inc',\n",
              "  'State-gov',\n",
              "  'Without-pay'],\n",
              " 'marriage': ['Divorced',\n",
              "  'Married-AF-spouse',\n",
              "  'Married-civ-spouse',\n",
              "  'Married-spouse-absent',\n",
              "  'Never-married',\n",
              "  'Separated',\n",
              "  'Widowed'],\n",
              " 'occupation': ['Adm-clerical',\n",
              "  'Armed-Forces',\n",
              "  'Craft-repair',\n",
              "  'Exec-managerial',\n",
              "  'Farming-fishing',\n",
              "  'Handlers-cleaners',\n",
              "  'Machine-op-inspct',\n",
              "  'Other-service',\n",
              "  'Priv-house-serv',\n",
              "  'Prof-specialty',\n",
              "  'Protective-serv',\n",
              "  'Sales',\n",
              "  'Tech-support',\n",
              "  'Transport-moving'],\n",
              " 'edu': ['10th',\n",
              "  '11th',\n",
              "  '12th',\n",
              "  '1st-4th',\n",
              "  '5th-6th',\n",
              "  '7th-8th',\n",
              "  '9th',\n",
              "  'Assoc-acdm',\n",
              "  'Assoc-voc',\n",
              "  'Bachelors',\n",
              "  'Doctorate',\n",
              "  'HS-grad',\n",
              "  'Masters',\n",
              "  'Preschool',\n",
              "  'Prof-school',\n",
              "  'Some-college'],\n",
              " 'relationship': ['Husband',\n",
              "  'Not-in-family',\n",
              "  'Other-relative',\n",
              "  'Own-child',\n",
              "  'Unmarried',\n",
              "  'Wife'],\n",
              " 'sex': ['Female', 'Male']}"
            ]
          },
          "metadata": {},
          "execution_count": 23
        }
      ]
    },
    {
      "cell_type": "code",
      "execution_count": null,
      "metadata": {
        "collapsed": true,
        "id": "T_XXxZdh1pqv",
        "jupyter": {
          "outputs_hidden": true
        }
      },
      "outputs": [],
      "source": [
        "# more useful code, used during training, that depends on the function\n",
        "# you write above\n",
        "\n",
        "def get_feature(record, feature):\n",
        "    \"\"\"\n",
        "    Return the categorical feature value of a record\n",
        "    \"\"\"\n",
        "    onehot = get_onehot(record, feature)\n",
        "    return get_categorical_value(onehot, feature)\n",
        "\n",
        "def get_features(record):\n",
        "    \"\"\"\n",
        "    Return a dictionary of all categorical feature values of a record\n",
        "    \"\"\"\n",
        "    return { f: get_feature(record, f) for f in catcols }"
      ]
    },
    {
      "cell_type": "markdown",
      "metadata": {
        "id": "1_5ZZR_J1pqy"
      },
      "source": [
        "### Part (g) Train/Test Split [3 pt]\n",
        "\n",
        "Randomly split the data into approximately 70% training, 15% validation and 15% test.\n",
        "\n",
        "Report the number of items in your training, validation, and test set."
      ]
    },
    {
      "cell_type": "code",
      "source": [
        "datanp.shape"
      ],
      "metadata": {
        "colab": {
          "base_uri": "https://localhost:8080/"
        },
        "id": "aVK-6bhqowyK",
        "outputId": "a47e0dbf-9185-4dfc-92ae-83246a27f123"
      },
      "execution_count": null,
      "outputs": [
        {
          "output_type": "execute_result",
          "data": {
            "text/plain": [
              "(30718, 57)"
            ]
          },
          "metadata": {},
          "execution_count": 25
        }
      ]
    },
    {
      "cell_type": "code",
      "execution_count": null,
      "metadata": {
        "colab": {
          "base_uri": "https://localhost:8080/"
        },
        "collapsed": true,
        "id": "TE_fTJJf1pqz",
        "jupyter": {
          "outputs_hidden": true
        },
        "outputId": "954b30e7-db6e-45fc-b3e2-11d6f253a896"
      },
      "outputs": [
        {
          "output_type": "stream",
          "name": "stdout",
          "text": [
            "The length of train data is: 21502\n",
            "The length of validation data is: 4608\n",
            "The length of test data is: 4608\n"
          ]
        }
      ],
      "source": [
        "# set the numpy seed for reproducibility\n",
        "# https://docs.scipy.org/doc/numpy/reference/generated/numpy.random.seed.html\n",
        "np.random.seed(50)\n",
        "\n",
        "# todo\n",
        "np.random.shuffle(datanp)\n",
        "datanp_shape = datanp.shape[0]\n",
        "train_data = datanp[:int(datanp_shape*0.7)]\n",
        "validation_data = datanp[int(datanp_shape*0.7): int(datanp_shape*0.85)]\n",
        "test_data = datanp[int(datanp_shape*0.85):]\n",
        "\n",
        "print(\"The length of train data is:\", len(train_data))\n",
        "print(\"The length of validation data is:\", len(validation_data))\n",
        "print(\"The length of test data is:\", len(test_data))"
      ]
    },
    {
      "cell_type": "markdown",
      "metadata": {
        "id": "h9wJAKOI1pq3"
      },
      "source": [
        "## Part 2. Model Setup [5 pt]\n",
        "\n",
        "### Part (a) [4 pt]\n",
        "\n",
        "Design a fully-connected autoencoder by modifying the `encoder` and `decoder`\n",
        "below.\n",
        "\n",
        "The input to this autoencoder will be the features of the `data`, with\n",
        "one categorical feature recorded as \"missing\". The output of the autoencoder\n",
        "should be the reconstruction of the same features, but with the missing\n",
        "value filled in.\n",
        "\n",
        "**Note**: Do not reduce the dimensionality of the input too much!\n",
        "The output of your embedding is expected to contain information \n",
        "about ~11 features."
      ]
    },
    {
      "cell_type": "code",
      "execution_count": null,
      "metadata": {
        "collapsed": true,
        "id": "f3F--tdn1pq3",
        "jupyter": {
          "outputs_hidden": true
        }
      },
      "outputs": [],
      "source": [
        "from torch import nn\n",
        "\n",
        "class AutoEncoder(nn.Module):\n",
        "    def __init__(self):\n",
        "        super(AutoEncoder, self).__init__()\n",
        "        self.encoder = nn.Sequential(\n",
        "            nn.Linear(57, 57), # TODO -- FILL OUT THE CODE HERE!\n",
        "            nn.ReLU(),\n",
        "            nn.Linear(57, 40),\n",
        "            nn.ReLU(),\n",
        "            nn.Linear(40, 15)\n",
        "        )\n",
        "        self.decoder = nn.Sequential(\n",
        "            nn.Linear(15, 40),\n",
        "            nn.ReLU(),\n",
        "            nn.Linear(40, 57),\n",
        "            nn.ReLU(),\n",
        "            nn.Linear(57, 57), # TODO -- FILL OUT THE CODE HERE!\n",
        "            nn.Sigmoid() # get to the range (0, 1)\n",
        "        )\n",
        "\n",
        "    def forward(self, x):\n",
        "        x = self.encoder(x)\n",
        "        x = self.decoder(x)\n",
        "        return x"
      ]
    },
    {
      "cell_type": "markdown",
      "metadata": {
        "id": "kuEzTSAv1pq6"
      },
      "source": [
        "### Part (b) [1 pt]\n",
        "\n",
        "Explain why there is a sigmoid activation in the last step of the decoder.\n",
        "\n",
        "(**Note**: the values inside the data frame `data` and the training code in Part 3 might be helpful.)"
      ]
    },
    {
      "cell_type": "markdown",
      "source": [
        "**Answer:** \n",
        "\n",
        "Because we need the outputs to be between [0, 1] and sigmoid forces this. Earlier we normalized features to be between 0 and 1 and so our data is between 0 and 1. The output of auto encoder should match our data and so we are forcing it to be in this range of [0, 1]."
      ],
      "metadata": {
        "id": "iEnncFKdS_M3"
      }
    },
    {
      "cell_type": "markdown",
      "metadata": {
        "id": "jYwqFWVl1pq8"
      },
      "source": [
        "## Part 3. Training [18] \n",
        "\n",
        "### Part (a) [6 pt]\n",
        "\n",
        "We will train our autoencoder in the following way:\n",
        "\n",
        "- In each iteration, we will hide one of the categorical features using the `zero_out_random_features` function\n",
        "- We will pass the data with one missing feature through the autoencoder, and obtain a reconstruction\n",
        "- We will check how close the reconstruction is compared to the original data -- including the value of the missing feature\n",
        "\n",
        "Complete the code to train the autoencoder, and plot the training and validation loss every few iterations.\n",
        "You may also want to plot training and validation \"accuracy\" every few iterations, as we will define in\n",
        "part (b). You may also want to checkpoint your model every few iterations or epochs.\n",
        "\n",
        "Use `nn.MSELoss()` as your loss function. (Side note: you might recognize that this loss function is not\n",
        "ideal for this problem, but we will use it anyway.)"
      ]
    },
    {
      "cell_type": "code",
      "execution_count": null,
      "metadata": {
        "collapsed": true,
        "id": "IDQA_-dS1pq9",
        "jupyter": {
          "outputs_hidden": true
        }
      },
      "outputs": [],
      "source": [
        "def zero_out_feature(records, feature):\n",
        "    \"\"\" Set the feature missing in records, by setting the appropriate\n",
        "    columns of records to 0\n",
        "    \"\"\"\n",
        "    start_index = cat_index[feature]\n",
        "    stop_index = cat_index[feature] + len(cat_values[feature])\n",
        "    records[:, start_index:stop_index] = 0\n",
        "    return records\n",
        "\n",
        "def zero_out_random_feature(records):\n",
        "    \"\"\" Set one random feature missing in records, by setting the \n",
        "    appropriate columns of records to 0\n",
        "    \"\"\"\n",
        "    return zero_out_feature(records, random.choice(catcols))\n",
        "\n",
        "def train(model, train_loader, valid_loader, num_epochs=5, learning_rate=1e-4):\n",
        "    \"\"\" Training loop. You should update this.\"\"\"\n",
        "    torch.manual_seed(42)\n",
        "    criterion = nn.MSELoss()\n",
        "    optimizer = torch.optim.Adam(model.parameters(), lr=learning_rate, weight_decay=1e-5)\n",
        "    curves = {\"train_losses\" : [], \"val_losses\" : [], \"train_accs\" : [], \"val_accs\" : []}\n",
        "\n",
        "    for epoch in range(num_epochs):\n",
        "        for i, data in enumerate(train_loader):\n",
        "            datam = zero_out_random_feature(data.clone()) # zero out one categorical feature\n",
        "            recon = model(datam)\n",
        "            loss = criterion(recon, data)\n",
        "            loss.backward()\n",
        "            optimizer.step()\n",
        "            optimizer.zero_grad()\n",
        "            if not (i+1)%50:\n",
        "              with torch.no_grad():\n",
        "                model.eval()\n",
        "                val_data = torch.tensor(valid_loader.dataset)\n",
        "                datam_val = zero_out_random_feature(val_data.clone())\n",
        "                recon_val = model(datam_val)\n",
        "                val_loss = criterion(recon_val, val_data)\n",
        "                train_acc = get_accuracy(model, train_loader)\n",
        "                val_acc = get_accuracy(model, valid_loader)\n",
        "                print(f\"epoch:{epoch}/{num_epochs}, iteration:{i+1}/{len(train_loader)}, Train Loss:{loss.item():.4f}, Val Loss:{val_loss.item():.4f}, train_acc:{train_acc:.4f}, val_acc:{val_acc:.4f}\")\n",
        "\n",
        "                curves[\"train_losses\"].append(loss.item())\n",
        "                curves[\"val_losses\"].append(val_loss.item())\n",
        "                curves[\"train_accs\"].append(train_acc)\n",
        "                curves[\"val_accs\"].append(val_acc)\n",
        "              model.train()\n",
        "    return curves"
      ]
    },
    {
      "cell_type": "markdown",
      "metadata": {
        "id": "WKk01pwx1pq_"
      },
      "source": [
        "### Part (b) [3 pt]\n",
        "\n",
        "While plotting training and validation loss is valuable, loss values are harder to compare\n",
        "than accuracy percentages. It would be nice to have a measure of \"accuracy\" in this problem.\n",
        "\n",
        "Since we will only be imputing missing categorical values, we will define an accuracy measure.\n",
        "For each record and for each categorical feature, we determine whether\n",
        "the model can predict the categorical feature given all the other features of the record.\n",
        "\n",
        "A function `get_accuracy` is written for you. It is up to you to figure out how to\n",
        "use the function. **You don't need to submit anything in this part.**\n",
        "To earn the marks, correctly plot the training and validation accuracy every few \n",
        "iterations as part of your training curve."
      ]
    },
    {
      "cell_type": "code",
      "execution_count": null,
      "metadata": {
        "collapsed": true,
        "id": "bHWLfCzM1pq_",
        "jupyter": {
          "outputs_hidden": true
        }
      },
      "outputs": [],
      "source": [
        "def get_accuracy(model, data_loader):\n",
        "    \"\"\"Return the \"accuracy\" of the autoencoder model across a data set.\n",
        "    That is, for each record and for each categorical feature, \n",
        "    we determine whether the model can successfully predict the value\n",
        "    of the categorical feature given all the other features of the \n",
        "    record. The returned \"accuracy\" measure is the percentage of times \n",
        "    that our model is successful.\n",
        "        \n",
        "    Args:\n",
        "       - model: the autoencoder model, an instance of nn.Module\n",
        "       - data_loader: an instance of torch.utils.data.DataLoader\n",
        "\n",
        "    Example (to illustrate how get_accuracy is intended to be called.\n",
        "             Depending on your variable naming this code might require\n",
        "             modification.)\n",
        "\n",
        "        >>> model = AutoEncoder()\n",
        "        >>> vdl = torch.utils.data.DataLoader(data_valid, batch_size=256, shuffle=True)\n",
        "        >>> get_accuracy(model, vdl)\n",
        "    \"\"\"\n",
        "    total = 0\n",
        "    acc = 0\n",
        "    for col in catcols:\n",
        "        for item in data_loader: # minibatches\n",
        "            inp = item.detach().numpy()\n",
        "            out = model(zero_out_feature(item.clone(), col)).detach().numpy()\n",
        "            for i in range(out.shape[0]): # record in minibatch\n",
        "                acc += int(get_feature(out[i], col) == get_feature(inp[i], col))\n",
        "                total += 1\n",
        "    return acc / total"
      ]
    },
    {
      "cell_type": "markdown",
      "metadata": {
        "id": "SxCTlXoV1prB"
      },
      "source": [
        "### Part (c) [4 pt]\n",
        "\n",
        "Run your updated training code, using reasonable initial hyperparameters.\n",
        "\n",
        "Include your training curve in your submission."
      ]
    },
    {
      "cell_type": "code",
      "execution_count": null,
      "metadata": {
        "colab": {
          "base_uri": "https://localhost:8080/"
        },
        "collapsed": true,
        "id": "nj5b71l-1prC",
        "jupyter": {
          "outputs_hidden": true
        },
        "outputId": "476e0500-275d-4118-9376-27ce0da1b8c3"
      },
      "outputs": [
        {
          "output_type": "stream",
          "name": "stdout",
          "text": [
            "epoch:0/30, iteration:50/336, Train Loss:0.0786, Val Loss:0.0778, train_acc:0.4395, val_acc:0.4384\n",
            "epoch:0/30, iteration:100/336, Train Loss:0.0710, Val Loss:0.0709, train_acc:0.4598, val_acc:0.4586\n",
            "epoch:0/30, iteration:150/336, Train Loss:0.0711, Val Loss:0.0699, train_acc:0.4593, val_acc:0.4578\n",
            "epoch:0/30, iteration:200/336, Train Loss:0.0754, Val Loss:0.0687, train_acc:0.4610, val_acc:0.4600\n",
            "epoch:0/30, iteration:250/336, Train Loss:0.0565, Val Loss:0.0577, train_acc:0.5378, val_acc:0.5396\n",
            "epoch:0/30, iteration:300/336, Train Loss:0.0571, Val Loss:0.0547, train_acc:0.5499, val_acc:0.5505\n",
            "epoch:1/30, iteration:50/336, Train Loss:0.0496, Val Loss:0.0556, train_acc:0.5670, val_acc:0.5664\n",
            "epoch:1/30, iteration:100/336, Train Loss:0.0529, Val Loss:0.0502, train_acc:0.5800, val_acc:0.5796\n",
            "epoch:1/30, iteration:150/336, Train Loss:0.0506, Val Loss:0.0487, train_acc:0.5872, val_acc:0.5856\n",
            "epoch:1/30, iteration:200/336, Train Loss:0.0435, Val Loss:0.0481, train_acc:0.5965, val_acc:0.5943\n",
            "epoch:1/30, iteration:250/336, Train Loss:0.0416, Val Loss:0.0458, train_acc:0.5896, val_acc:0.5876\n",
            "epoch:1/30, iteration:300/336, Train Loss:0.0411, Val Loss:0.0424, train_acc:0.5918, val_acc:0.5890\n",
            "epoch:2/30, iteration:50/336, Train Loss:0.0384, Val Loss:0.0421, train_acc:0.5943, val_acc:0.5915\n",
            "epoch:2/30, iteration:100/336, Train Loss:0.0416, Val Loss:0.0380, train_acc:0.5951, val_acc:0.5964\n",
            "epoch:2/30, iteration:150/336, Train Loss:0.0423, Val Loss:0.0410, train_acc:0.5870, val_acc:0.5854\n",
            "epoch:2/30, iteration:200/336, Train Loss:0.0361, Val Loss:0.0360, train_acc:0.5971, val_acc:0.5952\n",
            "epoch:2/30, iteration:250/336, Train Loss:0.0370, Val Loss:0.0357, train_acc:0.6061, val_acc:0.6008\n",
            "epoch:2/30, iteration:300/336, Train Loss:0.0436, Val Loss:0.0350, train_acc:0.6064, val_acc:0.6028\n",
            "epoch:3/30, iteration:50/336, Train Loss:0.0327, Val Loss:0.0333, train_acc:0.6117, val_acc:0.6076\n",
            "epoch:3/30, iteration:100/336, Train Loss:0.0340, Val Loss:0.0368, train_acc:0.6001, val_acc:0.5961\n",
            "epoch:3/30, iteration:150/336, Train Loss:0.0384, Val Loss:0.0339, train_acc:0.6052, val_acc:0.6026\n",
            "epoch:3/30, iteration:200/336, Train Loss:0.0377, Val Loss:0.0325, train_acc:0.6021, val_acc:0.5988\n",
            "epoch:3/30, iteration:250/336, Train Loss:0.0336, Val Loss:0.0348, train_acc:0.6109, val_acc:0.6091\n",
            "epoch:3/30, iteration:300/336, Train Loss:0.0361, Val Loss:0.0323, train_acc:0.6027, val_acc:0.6000\n",
            "epoch:4/30, iteration:50/336, Train Loss:0.0330, Val Loss:0.0339, train_acc:0.6073, val_acc:0.6034\n",
            "epoch:4/30, iteration:100/336, Train Loss:0.0394, Val Loss:0.0332, train_acc:0.6027, val_acc:0.5991\n",
            "epoch:4/30, iteration:150/336, Train Loss:0.0329, Val Loss:0.0332, train_acc:0.6015, val_acc:0.5977\n",
            "epoch:4/30, iteration:200/336, Train Loss:0.0355, Val Loss:0.0314, train_acc:0.6027, val_acc:0.6004\n",
            "epoch:4/30, iteration:250/336, Train Loss:0.0310, Val Loss:0.0313, train_acc:0.6006, val_acc:0.5957\n",
            "epoch:4/30, iteration:300/336, Train Loss:0.0318, Val Loss:0.0305, train_acc:0.6087, val_acc:0.6045\n",
            "epoch:5/30, iteration:50/336, Train Loss:0.0330, Val Loss:0.0309, train_acc:0.6096, val_acc:0.6056\n",
            "epoch:5/30, iteration:100/336, Train Loss:0.0293, Val Loss:0.0348, train_acc:0.6165, val_acc:0.6109\n",
            "epoch:5/30, iteration:150/336, Train Loss:0.0316, Val Loss:0.0353, train_acc:0.6117, val_acc:0.6071\n",
            "epoch:5/30, iteration:200/336, Train Loss:0.0342, Val Loss:0.0291, train_acc:0.6049, val_acc:0.5978\n",
            "epoch:5/30, iteration:250/336, Train Loss:0.0267, Val Loss:0.0342, train_acc:0.6179, val_acc:0.6139\n",
            "epoch:5/30, iteration:300/336, Train Loss:0.0291, Val Loss:0.0287, train_acc:0.5963, val_acc:0.5920\n",
            "epoch:6/30, iteration:50/336, Train Loss:0.0325, Val Loss:0.0312, train_acc:0.6092, val_acc:0.6033\n",
            "epoch:6/30, iteration:100/336, Train Loss:0.0291, Val Loss:0.0286, train_acc:0.6075, val_acc:0.6053\n",
            "epoch:6/30, iteration:150/336, Train Loss:0.0244, Val Loss:0.0310, train_acc:0.6067, val_acc:0.6023\n",
            "epoch:6/30, iteration:200/336, Train Loss:0.0273, Val Loss:0.0277, train_acc:0.6061, val_acc:0.6023\n",
            "epoch:6/30, iteration:250/336, Train Loss:0.0251, Val Loss:0.0290, train_acc:0.6062, val_acc:0.5999\n",
            "epoch:6/30, iteration:300/336, Train Loss:0.0286, Val Loss:0.0271, train_acc:0.6111, val_acc:0.6060\n",
            "epoch:7/30, iteration:50/336, Train Loss:0.0281, Val Loss:0.0285, train_acc:0.6085, val_acc:0.6016\n",
            "epoch:7/30, iteration:100/336, Train Loss:0.0290, Val Loss:0.0263, train_acc:0.6140, val_acc:0.6074\n",
            "epoch:7/30, iteration:150/336, Train Loss:0.0298, Val Loss:0.0293, train_acc:0.6102, val_acc:0.6042\n",
            "epoch:7/30, iteration:200/336, Train Loss:0.0337, Val Loss:0.0281, train_acc:0.6176, val_acc:0.6107\n",
            "epoch:7/30, iteration:250/336, Train Loss:0.0288, Val Loss:0.0289, train_acc:0.6132, val_acc:0.6076\n",
            "epoch:7/30, iteration:300/336, Train Loss:0.0255, Val Loss:0.0251, train_acc:0.6130, val_acc:0.6065\n",
            "epoch:8/30, iteration:50/336, Train Loss:0.0280, Val Loss:0.0276, train_acc:0.6234, val_acc:0.6157\n",
            "epoch:8/30, iteration:100/336, Train Loss:0.0222, Val Loss:0.0326, train_acc:0.6040, val_acc:0.5979\n",
            "epoch:8/30, iteration:150/336, Train Loss:0.0262, Val Loss:0.0278, train_acc:0.6192, val_acc:0.6127\n",
            "epoch:8/30, iteration:200/336, Train Loss:0.0291, Val Loss:0.0266, train_acc:0.6122, val_acc:0.6062\n",
            "epoch:8/30, iteration:250/336, Train Loss:0.0238, Val Loss:0.0248, train_acc:0.6210, val_acc:0.6174\n",
            "epoch:8/30, iteration:300/336, Train Loss:0.0287, Val Loss:0.0311, train_acc:0.6171, val_acc:0.6119\n",
            "epoch:9/30, iteration:50/336, Train Loss:0.0283, Val Loss:0.0259, train_acc:0.6220, val_acc:0.6135\n",
            "epoch:9/30, iteration:100/336, Train Loss:0.0303, Val Loss:0.0274, train_acc:0.6205, val_acc:0.6118\n",
            "epoch:9/30, iteration:150/336, Train Loss:0.0254, Val Loss:0.0259, train_acc:0.6115, val_acc:0.6032\n",
            "epoch:9/30, iteration:200/336, Train Loss:0.0302, Val Loss:0.0261, train_acc:0.6204, val_acc:0.6137\n",
            "epoch:9/30, iteration:250/336, Train Loss:0.0212, Val Loss:0.0268, train_acc:0.6188, val_acc:0.6105\n",
            "epoch:9/30, iteration:300/336, Train Loss:0.0273, Val Loss:0.0267, train_acc:0.6174, val_acc:0.6117\n",
            "epoch:10/30, iteration:50/336, Train Loss:0.0247, Val Loss:0.0295, train_acc:0.6244, val_acc:0.6185\n",
            "epoch:10/30, iteration:100/336, Train Loss:0.0219, Val Loss:0.0255, train_acc:0.6149, val_acc:0.6081\n",
            "epoch:10/30, iteration:150/336, Train Loss:0.0214, Val Loss:0.0251, train_acc:0.6141, val_acc:0.6123\n",
            "epoch:10/30, iteration:200/336, Train Loss:0.0251, Val Loss:0.0262, train_acc:0.6201, val_acc:0.6150\n",
            "epoch:10/30, iteration:250/336, Train Loss:0.0252, Val Loss:0.0250, train_acc:0.6305, val_acc:0.6252\n",
            "epoch:10/30, iteration:300/336, Train Loss:0.0313, Val Loss:0.0291, train_acc:0.6234, val_acc:0.6174\n",
            "epoch:11/30, iteration:50/336, Train Loss:0.0230, Val Loss:0.0220, train_acc:0.6210, val_acc:0.6143\n",
            "epoch:11/30, iteration:100/336, Train Loss:0.0230, Val Loss:0.0241, train_acc:0.6198, val_acc:0.6154\n",
            "epoch:11/30, iteration:150/336, Train Loss:0.0204, Val Loss:0.0217, train_acc:0.6189, val_acc:0.6126\n",
            "epoch:11/30, iteration:200/336, Train Loss:0.0230, Val Loss:0.0216, train_acc:0.6211, val_acc:0.6161\n",
            "epoch:11/30, iteration:250/336, Train Loss:0.0308, Val Loss:0.0234, train_acc:0.6141, val_acc:0.6098\n",
            "epoch:11/30, iteration:300/336, Train Loss:0.0289, Val Loss:0.0215, train_acc:0.6289, val_acc:0.6229\n",
            "epoch:12/30, iteration:50/336, Train Loss:0.0262, Val Loss:0.0227, train_acc:0.6141, val_acc:0.6096\n",
            "epoch:12/30, iteration:100/336, Train Loss:0.0257, Val Loss:0.0237, train_acc:0.6042, val_acc:0.5974\n",
            "epoch:12/30, iteration:150/336, Train Loss:0.0232, Val Loss:0.0256, train_acc:0.6233, val_acc:0.6196\n",
            "epoch:12/30, iteration:200/336, Train Loss:0.0218, Val Loss:0.0218, train_acc:0.6183, val_acc:0.6131\n",
            "epoch:12/30, iteration:250/336, Train Loss:0.0222, Val Loss:0.0252, train_acc:0.6185, val_acc:0.6118\n",
            "epoch:12/30, iteration:300/336, Train Loss:0.0187, Val Loss:0.0204, train_acc:0.6251, val_acc:0.6189\n",
            "epoch:13/30, iteration:50/336, Train Loss:0.0306, Val Loss:0.0218, train_acc:0.6194, val_acc:0.6140\n",
            "epoch:13/30, iteration:100/336, Train Loss:0.0234, Val Loss:0.0253, train_acc:0.6163, val_acc:0.6115\n",
            "epoch:13/30, iteration:150/336, Train Loss:0.0283, Val Loss:0.0252, train_acc:0.6247, val_acc:0.6186\n",
            "epoch:13/30, iteration:200/336, Train Loss:0.0239, Val Loss:0.0249, train_acc:0.6258, val_acc:0.6205\n",
            "epoch:13/30, iteration:250/336, Train Loss:0.0223, Val Loss:0.0228, train_acc:0.6232, val_acc:0.6180\n",
            "epoch:13/30, iteration:300/336, Train Loss:0.0200, Val Loss:0.0192, train_acc:0.6207, val_acc:0.6149\n",
            "epoch:14/30, iteration:50/336, Train Loss:0.0241, Val Loss:0.0219, train_acc:0.6040, val_acc:0.5991\n",
            "epoch:14/30, iteration:100/336, Train Loss:0.0185, Val Loss:0.0255, train_acc:0.6270, val_acc:0.6216\n",
            "epoch:14/30, iteration:150/336, Train Loss:0.0166, Val Loss:0.0222, train_acc:0.6242, val_acc:0.6175\n",
            "epoch:14/30, iteration:200/336, Train Loss:0.0215, Val Loss:0.0187, train_acc:0.6110, val_acc:0.6046\n",
            "epoch:14/30, iteration:250/336, Train Loss:0.0152, Val Loss:0.0267, train_acc:0.6122, val_acc:0.6098\n",
            "epoch:14/30, iteration:300/336, Train Loss:0.0224, Val Loss:0.0250, train_acc:0.6257, val_acc:0.6207\n",
            "epoch:15/30, iteration:50/336, Train Loss:0.0162, Val Loss:0.0179, train_acc:0.6081, val_acc:0.6017\n",
            "epoch:15/30, iteration:100/336, Train Loss:0.0205, Val Loss:0.0195, train_acc:0.6305, val_acc:0.6255\n",
            "epoch:15/30, iteration:150/336, Train Loss:0.0258, Val Loss:0.0198, train_acc:0.6227, val_acc:0.6180\n",
            "epoch:15/30, iteration:200/336, Train Loss:0.0209, Val Loss:0.0245, train_acc:0.6218, val_acc:0.6152\n",
            "epoch:15/30, iteration:250/336, Train Loss:0.0200, Val Loss:0.0203, train_acc:0.6202, val_acc:0.6171\n",
            "epoch:15/30, iteration:300/336, Train Loss:0.0158, Val Loss:0.0168, train_acc:0.6207, val_acc:0.6164\n",
            "epoch:16/30, iteration:50/336, Train Loss:0.0191, Val Loss:0.0244, train_acc:0.6212, val_acc:0.6171\n",
            "epoch:16/30, iteration:100/336, Train Loss:0.0173, Val Loss:0.0203, train_acc:0.6163, val_acc:0.6113\n",
            "epoch:16/30, iteration:150/336, Train Loss:0.0246, Val Loss:0.0243, train_acc:0.6182, val_acc:0.6149\n",
            "epoch:16/30, iteration:200/336, Train Loss:0.0195, Val Loss:0.0182, train_acc:0.6064, val_acc:0.6013\n",
            "epoch:16/30, iteration:250/336, Train Loss:0.0136, Val Loss:0.0211, train_acc:0.6171, val_acc:0.6126\n",
            "epoch:16/30, iteration:300/336, Train Loss:0.0251, Val Loss:0.0183, train_acc:0.6141, val_acc:0.6090\n",
            "epoch:17/30, iteration:50/336, Train Loss:0.0252, Val Loss:0.0180, train_acc:0.6104, val_acc:0.6046\n",
            "epoch:17/30, iteration:100/336, Train Loss:0.0192, Val Loss:0.0179, train_acc:0.6266, val_acc:0.6209\n",
            "epoch:17/30, iteration:150/336, Train Loss:0.0157, Val Loss:0.0177, train_acc:0.6254, val_acc:0.6207\n",
            "epoch:17/30, iteration:200/336, Train Loss:0.0174, Val Loss:0.0179, train_acc:0.6038, val_acc:0.5999\n",
            "epoch:17/30, iteration:250/336, Train Loss:0.0242, Val Loss:0.0183, train_acc:0.6186, val_acc:0.6146\n",
            "epoch:17/30, iteration:300/336, Train Loss:0.0204, Val Loss:0.0240, train_acc:0.6156, val_acc:0.6110\n",
            "epoch:18/30, iteration:50/336, Train Loss:0.0153, Val Loss:0.0235, train_acc:0.6158, val_acc:0.6111\n",
            "epoch:18/30, iteration:100/336, Train Loss:0.0248, Val Loss:0.0177, train_acc:0.6195, val_acc:0.6157\n",
            "epoch:18/30, iteration:150/336, Train Loss:0.0244, Val Loss:0.0231, train_acc:0.6209, val_acc:0.6187\n",
            "epoch:18/30, iteration:200/336, Train Loss:0.0135, Val Loss:0.0160, train_acc:0.6261, val_acc:0.6222\n",
            "epoch:18/30, iteration:250/336, Train Loss:0.0232, Val Loss:0.0157, train_acc:0.6103, val_acc:0.6055\n",
            "epoch:18/30, iteration:300/336, Train Loss:0.0177, Val Loss:0.0238, train_acc:0.6261, val_acc:0.6206\n",
            "epoch:19/30, iteration:50/336, Train Loss:0.0235, Val Loss:0.0239, train_acc:0.6087, val_acc:0.6046\n",
            "epoch:19/30, iteration:100/336, Train Loss:0.0163, Val Loss:0.0174, train_acc:0.6121, val_acc:0.6089\n",
            "epoch:19/30, iteration:150/336, Train Loss:0.0203, Val Loss:0.0233, train_acc:0.6222, val_acc:0.6180\n",
            "epoch:19/30, iteration:200/336, Train Loss:0.0150, Val Loss:0.0191, train_acc:0.6122, val_acc:0.6078\n",
            "epoch:19/30, iteration:250/336, Train Loss:0.0181, Val Loss:0.0152, train_acc:0.6129, val_acc:0.6098\n",
            "epoch:19/30, iteration:300/336, Train Loss:0.0252, Val Loss:0.0172, train_acc:0.6177, val_acc:0.6135\n",
            "epoch:20/30, iteration:50/336, Train Loss:0.0165, Val Loss:0.0168, train_acc:0.6207, val_acc:0.6187\n",
            "epoch:20/30, iteration:100/336, Train Loss:0.0195, Val Loss:0.0170, train_acc:0.6251, val_acc:0.6244\n",
            "epoch:20/30, iteration:150/336, Train Loss:0.0147, Val Loss:0.0171, train_acc:0.6211, val_acc:0.6184\n",
            "epoch:20/30, iteration:200/336, Train Loss:0.0214, Val Loss:0.0169, train_acc:0.6212, val_acc:0.6175\n",
            "epoch:20/30, iteration:250/336, Train Loss:0.0148, Val Loss:0.0166, train_acc:0.6195, val_acc:0.6160\n",
            "epoch:20/30, iteration:300/336, Train Loss:0.0177, Val Loss:0.0232, train_acc:0.6263, val_acc:0.6220\n",
            "epoch:21/30, iteration:50/336, Train Loss:0.0242, Val Loss:0.0152, train_acc:0.6223, val_acc:0.6181\n",
            "epoch:21/30, iteration:100/336, Train Loss:0.0115, Val Loss:0.0168, train_acc:0.6237, val_acc:0.6203\n",
            "epoch:21/30, iteration:150/336, Train Loss:0.0261, Val Loss:0.0239, train_acc:0.6133, val_acc:0.6110\n",
            "epoch:21/30, iteration:200/336, Train Loss:0.0128, Val Loss:0.0148, train_acc:0.6174, val_acc:0.6134\n",
            "epoch:21/30, iteration:250/336, Train Loss:0.0159, Val Loss:0.0225, train_acc:0.6235, val_acc:0.6191\n",
            "epoch:21/30, iteration:300/336, Train Loss:0.0196, Val Loss:0.0168, train_acc:0.6151, val_acc:0.6121\n",
            "epoch:22/30, iteration:50/336, Train Loss:0.0146, Val Loss:0.0196, train_acc:0.6126, val_acc:0.6093\n",
            "epoch:22/30, iteration:100/336, Train Loss:0.0210, Val Loss:0.0166, train_acc:0.6265, val_acc:0.6236\n",
            "epoch:22/30, iteration:150/336, Train Loss:0.0140, Val Loss:0.0189, train_acc:0.6178, val_acc:0.6150\n",
            "epoch:22/30, iteration:200/336, Train Loss:0.0230, Val Loss:0.0165, train_acc:0.6257, val_acc:0.6232\n",
            "epoch:22/30, iteration:250/336, Train Loss:0.0196, Val Loss:0.0168, train_acc:0.6144, val_acc:0.6123\n",
            "epoch:22/30, iteration:300/336, Train Loss:0.0162, Val Loss:0.0146, train_acc:0.6152, val_acc:0.6127\n",
            "epoch:23/30, iteration:50/336, Train Loss:0.0189, Val Loss:0.0227, train_acc:0.6225, val_acc:0.6194\n",
            "epoch:23/30, iteration:100/336, Train Loss:0.0156, Val Loss:0.0163, train_acc:0.6274, val_acc:0.6217\n",
            "epoch:23/30, iteration:150/336, Train Loss:0.0221, Val Loss:0.0232, train_acc:0.6192, val_acc:0.6140\n",
            "epoch:23/30, iteration:200/336, Train Loss:0.0175, Val Loss:0.0225, train_acc:0.6210, val_acc:0.6168\n",
            "epoch:23/30, iteration:250/336, Train Loss:0.0209, Val Loss:0.0222, train_acc:0.6221, val_acc:0.6199\n",
            "epoch:23/30, iteration:300/336, Train Loss:0.0164, Val Loss:0.0224, train_acc:0.6204, val_acc:0.6162\n",
            "epoch:24/30, iteration:50/336, Train Loss:0.0232, Val Loss:0.0220, train_acc:0.6283, val_acc:0.6250\n",
            "epoch:24/30, iteration:100/336, Train Loss:0.0206, Val Loss:0.0170, train_acc:0.6234, val_acc:0.6189\n",
            "epoch:24/30, iteration:150/336, Train Loss:0.0162, Val Loss:0.0184, train_acc:0.6210, val_acc:0.6159\n",
            "epoch:24/30, iteration:200/336, Train Loss:0.0125, Val Loss:0.0167, train_acc:0.6254, val_acc:0.6210\n",
            "epoch:24/30, iteration:250/336, Train Loss:0.0200, Val Loss:0.0228, train_acc:0.6150, val_acc:0.6104\n",
            "epoch:24/30, iteration:300/336, Train Loss:0.0214, Val Loss:0.0159, train_acc:0.6284, val_acc:0.6255\n",
            "epoch:25/30, iteration:50/336, Train Loss:0.0109, Val Loss:0.0181, train_acc:0.6239, val_acc:0.6205\n",
            "epoch:25/30, iteration:100/336, Train Loss:0.0147, Val Loss:0.0182, train_acc:0.6211, val_acc:0.6173\n",
            "epoch:25/30, iteration:150/336, Train Loss:0.0197, Val Loss:0.0231, train_acc:0.6229, val_acc:0.6187\n",
            "epoch:25/30, iteration:200/336, Train Loss:0.0278, Val Loss:0.0161, train_acc:0.6156, val_acc:0.6121\n",
            "epoch:25/30, iteration:250/336, Train Loss:0.0179, Val Loss:0.0221, train_acc:0.6251, val_acc:0.6223\n",
            "epoch:25/30, iteration:300/336, Train Loss:0.0136, Val Loss:0.0158, train_acc:0.6152, val_acc:0.6104\n",
            "epoch:26/30, iteration:50/336, Train Loss:0.0201, Val Loss:0.0141, train_acc:0.6250, val_acc:0.6209\n",
            "epoch:26/30, iteration:100/336, Train Loss:0.0143, Val Loss:0.0163, train_acc:0.6217, val_acc:0.6199\n",
            "epoch:26/30, iteration:150/336, Train Loss:0.0183, Val Loss:0.0156, train_acc:0.6248, val_acc:0.6204\n",
            "epoch:26/30, iteration:200/336, Train Loss:0.0250, Val Loss:0.0229, train_acc:0.6181, val_acc:0.6148\n",
            "epoch:26/30, iteration:250/336, Train Loss:0.0122, Val Loss:0.0157, train_acc:0.6202, val_acc:0.6170\n",
            "epoch:26/30, iteration:300/336, Train Loss:0.0171, Val Loss:0.0219, train_acc:0.6201, val_acc:0.6128\n",
            "epoch:27/30, iteration:50/336, Train Loss:0.0168, Val Loss:0.0158, train_acc:0.6166, val_acc:0.6122\n",
            "epoch:27/30, iteration:100/336, Train Loss:0.0237, Val Loss:0.0190, train_acc:0.6054, val_acc:0.5997\n",
            "epoch:27/30, iteration:150/336, Train Loss:0.0206, Val Loss:0.0137, train_acc:0.6176, val_acc:0.6147\n",
            "epoch:27/30, iteration:200/336, Train Loss:0.0155, Val Loss:0.0230, train_acc:0.6243, val_acc:0.6217\n",
            "epoch:27/30, iteration:250/336, Train Loss:0.0213, Val Loss:0.0140, train_acc:0.6270, val_acc:0.6241\n",
            "epoch:27/30, iteration:300/336, Train Loss:0.0157, Val Loss:0.0139, train_acc:0.6232, val_acc:0.6167\n",
            "epoch:28/30, iteration:50/336, Train Loss:0.0153, Val Loss:0.0139, train_acc:0.6299, val_acc:0.6264\n",
            "epoch:28/30, iteration:100/336, Train Loss:0.0148, Val Loss:0.0234, train_acc:0.6256, val_acc:0.6240\n",
            "epoch:28/30, iteration:150/336, Train Loss:0.0214, Val Loss:0.0151, train_acc:0.6220, val_acc:0.6164\n",
            "epoch:28/30, iteration:200/336, Train Loss:0.0177, Val Loss:0.0153, train_acc:0.6100, val_acc:0.6059\n",
            "epoch:28/30, iteration:250/336, Train Loss:0.0163, Val Loss:0.0230, train_acc:0.5891, val_acc:0.5855\n",
            "epoch:28/30, iteration:300/336, Train Loss:0.0242, Val Loss:0.0218, train_acc:0.6217, val_acc:0.6201\n",
            "epoch:29/30, iteration:50/336, Train Loss:0.0203, Val Loss:0.0154, train_acc:0.6190, val_acc:0.6145\n",
            "epoch:29/30, iteration:100/336, Train Loss:0.0176, Val Loss:0.0151, train_acc:0.6252, val_acc:0.6225\n",
            "epoch:29/30, iteration:150/336, Train Loss:0.0117, Val Loss:0.0228, train_acc:0.6195, val_acc:0.6162\n",
            "epoch:29/30, iteration:200/336, Train Loss:0.0224, Val Loss:0.0149, train_acc:0.6258, val_acc:0.6219\n",
            "epoch:29/30, iteration:250/336, Train Loss:0.0126, Val Loss:0.0231, train_acc:0.6201, val_acc:0.6151\n",
            "epoch:29/30, iteration:300/336, Train Loss:0.0151, Val Loss:0.0170, train_acc:0.6184, val_acc:0.6151\n"
          ]
        }
      ],
      "source": [
        "from torch.utils.data import DataLoader\n",
        "import matplotlib.pyplot as plt\n",
        "\n",
        "model = AutoEncoder()\n",
        "train_loader = DataLoader(train_data, batch_size=64, shuffle=True)\n",
        "valid_loader = DataLoader(validation_data, batch_size=64, shuffle=False)\n",
        "curves = train(model, train_loader, valid_loader, num_epochs=30, learning_rate=1e-3)"
      ]
    },
    {
      "cell_type": "code",
      "source": [
        "plt.figure(figsize=(20,5))\n",
        "plt.subplot(1, 2, 1) # row 1, col 2 index 1\n",
        "plt.plot(curves[\"train_losses\"], color='b', label='train_loss')\n",
        "plt.plot(curves[\"val_losses\"], color='r', label='validation_loss')\n",
        "plt.title(\"Loss plot\")\n",
        "plt.xlabel('Iterations')\n",
        "plt.ylabel('Loss')\n",
        "plt.legend()\n",
        "\n",
        "plt.subplot(1, 2, 2) # index 2\n",
        "plt.plot(curves[\"train_accs\"], color='b', label='train_accs')\n",
        "plt.plot(curves[\"val_accs\"], color='r', label='validation_accs')\n",
        "plt.title(\"Accuracy plot\")\n",
        "plt.xlabel('Iterations')\n",
        "plt.ylabel('Accuracy')\n",
        "plt.legend()"
      ],
      "metadata": {
        "colab": {
          "base_uri": "https://localhost:8080/",
          "height": 315
        },
        "id": "RsrCXJkRR0Yb",
        "outputId": "7692ff4a-b1a2-4908-aff5-e0f18d542f45"
      },
      "execution_count": null,
      "outputs": [
        {
          "output_type": "execute_result",
          "data": {
            "text/plain": [
              "<matplotlib.legend.Legend at 0x7f68706a0df0>"
            ]
          },
          "metadata": {},
          "execution_count": 31
        },
        {
          "output_type": "display_data",
          "data": {
            "text/plain": [
              "<Figure size 1440x360 with 2 Axes>"
            ],
            "image/png": "[encoded data removed]"
          },
          "metadata": {
            "needs_background": "light"
          }
        }
      ]
    },
    {
      "cell_type": "markdown",
      "metadata": {
        "id": "h9xTwIf51prF"
      },
      "source": [
        "### Part (d) [5 pt]\n",
        "\n",
        "Tune your hyperparameters, training at least 4 different models (4 sets of hyperparameters).\n",
        "\n",
        "Do not include all your training curves. Instead, explain what hyperparameters\n",
        "you tried, what their effect was, and what your thought process was as you \n",
        "chose the next set of hyperparameters to try."
      ]
    },
    {
      "cell_type": "markdown",
      "source": [
        "**First set:**\n",
        "\n",
        "batch_size = 32, num_epochs = 30, learning_rate = 0.0001\n",
        "\n",
        "**Second set:**\n",
        "\n",
        "batch_size = 64, num_epochs = 20, learning_rate = 0.005\n",
        "\n",
        "**Third set:**\n",
        "\n",
        "batch_size = 64, num_epochs = 10, learning_rate = 0.01\n",
        "\n",
        "**Fourth set:**\n",
        "\n",
        "batch_size = 128, num_epochs = 10, learning_rate = 0.001"
      ],
      "metadata": {
        "id": "lXgOd8FzTQ7Q"
      }
    },
    {
      "cell_type": "markdown",
      "source": [
        "My second model having batch_size = 64, num_epochs = 20, learning_rate = 0.005 performed the best. The first one, batch size was too low so I increased it to 64 and decided to go with less number of epochs and higher learning rate than both my first set and the original model I trained in previous part. So my second model performed better than first set and original set. I then wanted to try lower learning rate to see how it performs. It was fine but then still my second set gave better result (higher val acc). I then decided to try even higher batch size. Although higher batch size is not always good and we can run out of gpu memory and can lead to higher test error, I wanted to try it. I also kept my learning rate the same as the original model. The result for this one was fine too, but still my second model was the best so I will pick second set as my best set of hyperparams for this model."
      ],
      "metadata": {
        "id": "dCMsAQSqVJ7I"
      }
    },
    {
      "cell_type": "code",
      "execution_count": null,
      "metadata": {
        "colab": {
          "base_uri": "https://localhost:8080/"
        },
        "collapsed": true,
        "id": "PhTKt9iL1prG",
        "jupyter": {
          "outputs_hidden": true
        },
        "outputId": "a65c9d3e-de28-44c6-9121-21b7d8f42ada"
      },
      "outputs": [
        {
          "output_type": "stream",
          "name": "stdout",
          "text": [
            "epoch:0/30, iteration:50/672, Train Loss:0.2327, Val Loss:0.2323, train_acc:0.1224, val_acc:0.1221\n",
            "epoch:0/30, iteration:100/672, Train Loss:0.2241, Val Loss:0.2238, train_acc:0.1223, val_acc:0.1216\n",
            "epoch:0/30, iteration:150/672, Train Loss:0.2055, Val Loss:0.2047, train_acc:0.3257, val_acc:0.3235\n",
            "epoch:0/30, iteration:200/672, Train Loss:0.1546, Val Loss:0.1537, train_acc:0.3984, val_acc:0.3966\n",
            "epoch:0/30, iteration:250/672, Train Loss:0.0861, Val Loss:0.0900, train_acc:0.4594, val_acc:0.4583\n",
            "epoch:0/30, iteration:300/672, Train Loss:0.0776, Val Loss:0.0751, train_acc:0.4594, val_acc:0.4583\n",
            "epoch:0/30, iteration:350/672, Train Loss:0.0693, Val Loss:0.0727, train_acc:0.4594, val_acc:0.4583\n",
            "epoch:0/30, iteration:400/672, Train Loss:0.0767, Val Loss:0.0718, train_acc:0.4594, val_acc:0.4583\n",
            "epoch:0/30, iteration:450/672, Train Loss:0.0666, Val Loss:0.0715, train_acc:0.4594, val_acc:0.4583\n",
            "epoch:0/30, iteration:500/672, Train Loss:0.0716, Val Loss:0.0711, train_acc:0.4594, val_acc:0.4583\n",
            "epoch:0/30, iteration:550/672, Train Loss:0.0721, Val Loss:0.0709, train_acc:0.4594, val_acc:0.4583\n",
            "epoch:0/30, iteration:600/672, Train Loss:0.0687, Val Loss:0.0709, train_acc:0.4594, val_acc:0.4583\n",
            "epoch:0/30, iteration:650/672, Train Loss:0.0660, Val Loss:0.0705, train_acc:0.4567, val_acc:0.4564\n",
            "epoch:1/30, iteration:50/672, Train Loss:0.0677, Val Loss:0.0706, train_acc:0.4598, val_acc:0.4586\n",
            "epoch:1/30, iteration:100/672, Train Loss:0.0727, Val Loss:0.0705, train_acc:0.4602, val_acc:0.4602\n",
            "epoch:1/30, iteration:150/672, Train Loss:0.0673, Val Loss:0.0703, train_acc:0.4599, val_acc:0.4586\n",
            "epoch:1/30, iteration:200/672, Train Loss:0.0709, Val Loss:0.0700, train_acc:0.4598, val_acc:0.4586\n",
            "epoch:1/30, iteration:250/672, Train Loss:0.0630, Val Loss:0.0699, train_acc:0.4598, val_acc:0.4586\n",
            "epoch:1/30, iteration:300/672, Train Loss:0.0701, Val Loss:0.0701, train_acc:0.4598, val_acc:0.4586\n",
            "epoch:1/30, iteration:350/672, Train Loss:0.0713, Val Loss:0.0700, train_acc:0.4598, val_acc:0.4586\n",
            "epoch:1/30, iteration:400/672, Train Loss:0.0667, Val Loss:0.0698, train_acc:0.4575, val_acc:0.4570\n",
            "epoch:1/30, iteration:450/672, Train Loss:0.0654, Val Loss:0.0697, train_acc:0.4591, val_acc:0.4580\n",
            "epoch:1/30, iteration:500/672, Train Loss:0.0732, Val Loss:0.0692, train_acc:0.4597, val_acc:0.4584\n",
            "epoch:1/30, iteration:550/672, Train Loss:0.0658, Val Loss:0.0694, train_acc:0.4596, val_acc:0.4584\n",
            "epoch:1/30, iteration:600/672, Train Loss:0.0676, Val Loss:0.0692, train_acc:0.4599, val_acc:0.4582\n",
            "epoch:1/30, iteration:650/672, Train Loss:0.0675, Val Loss:0.0686, train_acc:0.4598, val_acc:0.4586\n",
            "epoch:2/30, iteration:50/672, Train Loss:0.0723, Val Loss:0.0687, train_acc:0.4598, val_acc:0.4586\n",
            "epoch:2/30, iteration:100/672, Train Loss:0.0645, Val Loss:0.0687, train_acc:0.4598, val_acc:0.4586\n",
            "epoch:2/30, iteration:150/672, Train Loss:0.0673, Val Loss:0.0684, train_acc:0.4598, val_acc:0.4586\n",
            "epoch:2/30, iteration:200/672, Train Loss:0.0693, Val Loss:0.0679, train_acc:0.4598, val_acc:0.4586\n",
            "epoch:2/30, iteration:250/672, Train Loss:0.0669, Val Loss:0.0675, train_acc:0.4643, val_acc:0.4626\n",
            "epoch:2/30, iteration:300/672, Train Loss:0.0716, Val Loss:0.0657, train_acc:0.4574, val_acc:0.4568\n",
            "epoch:2/30, iteration:350/672, Train Loss:0.0646, Val Loss:0.0651, train_acc:0.4620, val_acc:0.4606\n",
            "epoch:2/30, iteration:400/672, Train Loss:0.0658, Val Loss:0.0650, train_acc:0.4772, val_acc:0.4767\n",
            "epoch:2/30, iteration:450/672, Train Loss:0.0600, Val Loss:0.0627, train_acc:0.4947, val_acc:0.4953\n",
            "epoch:2/30, iteration:500/672, Train Loss:0.0649, Val Loss:0.0608, train_acc:0.5006, val_acc:0.5008\n",
            "epoch:2/30, iteration:550/672, Train Loss:0.0647, Val Loss:0.0608, train_acc:0.5164, val_acc:0.5159\n",
            "epoch:2/30, iteration:600/672, Train Loss:0.0595, Val Loss:0.0591, train_acc:0.5241, val_acc:0.5232\n",
            "epoch:2/30, iteration:650/672, Train Loss:0.0573, Val Loss:0.0585, train_acc:0.5326, val_acc:0.5328\n",
            "epoch:3/30, iteration:50/672, Train Loss:0.0558, Val Loss:0.0579, train_acc:0.5370, val_acc:0.5384\n",
            "epoch:3/30, iteration:100/672, Train Loss:0.0540, Val Loss:0.0569, train_acc:0.5396, val_acc:0.5408\n",
            "epoch:3/30, iteration:150/672, Train Loss:0.0602, Val Loss:0.0561, train_acc:0.5456, val_acc:0.5465\n",
            "epoch:3/30, iteration:200/672, Train Loss:0.0562, Val Loss:0.0558, train_acc:0.5449, val_acc:0.5454\n",
            "epoch:3/30, iteration:250/672, Train Loss:0.0522, Val Loss:0.0550, train_acc:0.5458, val_acc:0.5471\n",
            "epoch:3/30, iteration:300/672, Train Loss:0.0543, Val Loss:0.0551, train_acc:0.5481, val_acc:0.5481\n",
            "epoch:3/30, iteration:350/672, Train Loss:0.0537, Val Loss:0.0570, train_acc:0.5550, val_acc:0.5551\n",
            "epoch:3/30, iteration:400/672, Train Loss:0.0476, Val Loss:0.0548, train_acc:0.5540, val_acc:0.5555\n",
            "epoch:3/30, iteration:450/672, Train Loss:0.0510, Val Loss:0.0544, train_acc:0.5557, val_acc:0.5565\n",
            "epoch:3/30, iteration:500/672, Train Loss:0.0528, Val Loss:0.0544, train_acc:0.5584, val_acc:0.5593\n",
            "epoch:3/30, iteration:550/672, Train Loss:0.0572, Val Loss:0.0537, train_acc:0.5593, val_acc:0.5603\n",
            "epoch:3/30, iteration:600/672, Train Loss:0.0490, Val Loss:0.0535, train_acc:0.5580, val_acc:0.5591\n",
            "epoch:3/30, iteration:650/672, Train Loss:0.0559, Val Loss:0.0534, train_acc:0.5612, val_acc:0.5619\n",
            "epoch:4/30, iteration:50/672, Train Loss:0.0519, Val Loss:0.0537, train_acc:0.5642, val_acc:0.5654\n",
            "epoch:4/30, iteration:100/672, Train Loss:0.0567, Val Loss:0.0530, train_acc:0.5671, val_acc:0.5678\n",
            "epoch:4/30, iteration:150/672, Train Loss:0.0577, Val Loss:0.0535, train_acc:0.5651, val_acc:0.5659\n",
            "epoch:4/30, iteration:200/672, Train Loss:0.0571, Val Loss:0.0528, train_acc:0.5642, val_acc:0.5643\n",
            "epoch:4/30, iteration:250/672, Train Loss:0.0534, Val Loss:0.0532, train_acc:0.5668, val_acc:0.5669\n",
            "epoch:4/30, iteration:300/672, Train Loss:0.0561, Val Loss:0.0531, train_acc:0.5676, val_acc:0.5688\n",
            "epoch:4/30, iteration:350/672, Train Loss:0.0527, Val Loss:0.0530, train_acc:0.5677, val_acc:0.5685\n",
            "epoch:4/30, iteration:400/672, Train Loss:0.0551, Val Loss:0.0529, train_acc:0.5683, val_acc:0.5690\n",
            "epoch:4/30, iteration:450/672, Train Loss:0.0502, Val Loss:0.0563, train_acc:0.5655, val_acc:0.5653\n",
            "epoch:4/30, iteration:500/672, Train Loss:0.0573, Val Loss:0.0529, train_acc:0.5681, val_acc:0.5673\n",
            "epoch:4/30, iteration:550/672, Train Loss:0.0510, Val Loss:0.0520, train_acc:0.5699, val_acc:0.5695\n",
            "epoch:4/30, iteration:600/672, Train Loss:0.0504, Val Loss:0.0527, train_acc:0.5718, val_acc:0.5722\n",
            "epoch:4/30, iteration:650/672, Train Loss:0.0553, Val Loss:0.0523, train_acc:0.5705, val_acc:0.5697\n",
            "epoch:5/30, iteration:50/672, Train Loss:0.0530, Val Loss:0.0528, train_acc:0.5691, val_acc:0.5688\n",
            "epoch:5/30, iteration:100/672, Train Loss:0.0514, Val Loss:0.0515, train_acc:0.5715, val_acc:0.5714\n",
            "epoch:5/30, iteration:150/672, Train Loss:0.0491, Val Loss:0.0525, train_acc:0.5713, val_acc:0.5715\n",
            "epoch:5/30, iteration:200/672, Train Loss:0.0537, Val Loss:0.0513, train_acc:0.5730, val_acc:0.5731\n",
            "epoch:5/30, iteration:250/672, Train Loss:0.0510, Val Loss:0.0522, train_acc:0.5690, val_acc:0.5675\n",
            "epoch:5/30, iteration:300/672, Train Loss:0.0645, Val Loss:0.0520, train_acc:0.5749, val_acc:0.5727\n",
            "epoch:5/30, iteration:350/672, Train Loss:0.0569, Val Loss:0.0510, train_acc:0.5728, val_acc:0.5733\n",
            "epoch:5/30, iteration:400/672, Train Loss:0.0536, Val Loss:0.0519, train_acc:0.5697, val_acc:0.5689\n",
            "epoch:5/30, iteration:450/672, Train Loss:0.0543, Val Loss:0.0550, train_acc:0.5727, val_acc:0.5723\n",
            "epoch:5/30, iteration:500/672, Train Loss:0.0512, Val Loss:0.0550, train_acc:0.5711, val_acc:0.5707\n",
            "epoch:5/30, iteration:550/672, Train Loss:0.0526, Val Loss:0.0507, train_acc:0.5724, val_acc:0.5702\n",
            "epoch:5/30, iteration:600/672, Train Loss:0.0468, Val Loss:0.0511, train_acc:0.5719, val_acc:0.5706\n",
            "epoch:5/30, iteration:650/672, Train Loss:0.0536, Val Loss:0.0516, train_acc:0.5756, val_acc:0.5745\n",
            "epoch:6/30, iteration:50/672, Train Loss:0.0485, Val Loss:0.0515, train_acc:0.5764, val_acc:0.5751\n",
            "epoch:6/30, iteration:100/672, Train Loss:0.0567, Val Loss:0.0504, train_acc:0.5743, val_acc:0.5724\n",
            "epoch:6/30, iteration:150/672, Train Loss:0.0460, Val Loss:0.0514, train_acc:0.5766, val_acc:0.5757\n",
            "epoch:6/30, iteration:200/672, Train Loss:0.0517, Val Loss:0.0508, train_acc:0.5771, val_acc:0.5770\n",
            "epoch:6/30, iteration:250/672, Train Loss:0.0468, Val Loss:0.0500, train_acc:0.5730, val_acc:0.5719\n",
            "epoch:6/30, iteration:300/672, Train Loss:0.0521, Val Loss:0.0500, train_acc:0.5778, val_acc:0.5770\n",
            "epoch:6/30, iteration:350/672, Train Loss:0.0514, Val Loss:0.0499, train_acc:0.5763, val_acc:0.5746\n",
            "epoch:6/30, iteration:400/672, Train Loss:0.0529, Val Loss:0.0508, train_acc:0.5739, val_acc:0.5723\n",
            "epoch:6/30, iteration:450/672, Train Loss:0.0499, Val Loss:0.0504, train_acc:0.5775, val_acc:0.5744\n",
            "epoch:6/30, iteration:500/672, Train Loss:0.0585, Val Loss:0.0537, train_acc:0.5758, val_acc:0.5737\n",
            "epoch:6/30, iteration:550/672, Train Loss:0.0527, Val Loss:0.0496, train_acc:0.5784, val_acc:0.5769\n",
            "epoch:6/30, iteration:600/672, Train Loss:0.0516, Val Loss:0.0510, train_acc:0.5777, val_acc:0.5736\n",
            "epoch:6/30, iteration:650/672, Train Loss:0.0496, Val Loss:0.0495, train_acc:0.5814, val_acc:0.5802\n",
            "epoch:7/30, iteration:50/672, Train Loss:0.0526, Val Loss:0.0501, train_acc:0.5808, val_acc:0.5790\n",
            "epoch:7/30, iteration:100/672, Train Loss:0.0465, Val Loss:0.0506, train_acc:0.5835, val_acc:0.5819\n",
            "epoch:7/30, iteration:150/672, Train Loss:0.0494, Val Loss:0.0492, train_acc:0.5836, val_acc:0.5806\n",
            "epoch:7/30, iteration:200/672, Train Loss:0.0440, Val Loss:0.0530, train_acc:0.5841, val_acc:0.5812\n",
            "epoch:7/30, iteration:250/672, Train Loss:0.0539, Val Loss:0.0499, train_acc:0.5844, val_acc:0.5833\n",
            "epoch:7/30, iteration:300/672, Train Loss:0.0509, Val Loss:0.0498, train_acc:0.5819, val_acc:0.5790\n",
            "epoch:7/30, iteration:350/672, Train Loss:0.0475, Val Loss:0.0488, train_acc:0.5828, val_acc:0.5808\n",
            "epoch:7/30, iteration:400/672, Train Loss:0.0479, Val Loss:0.0490, train_acc:0.5829, val_acc:0.5802\n",
            "epoch:7/30, iteration:450/672, Train Loss:0.0604, Val Loss:0.0488, train_acc:0.5840, val_acc:0.5815\n",
            "epoch:7/30, iteration:500/672, Train Loss:0.0452, Val Loss:0.0503, train_acc:0.5794, val_acc:0.5785\n",
            "epoch:7/30, iteration:550/672, Train Loss:0.0474, Val Loss:0.0501, train_acc:0.5865, val_acc:0.5833\n",
            "epoch:7/30, iteration:600/672, Train Loss:0.0521, Val Loss:0.0494, train_acc:0.5830, val_acc:0.5808\n",
            "epoch:7/30, iteration:650/672, Train Loss:0.0534, Val Loss:0.0485, train_acc:0.5846, val_acc:0.5826\n",
            "epoch:8/30, iteration:50/672, Train Loss:0.0509, Val Loss:0.0522, train_acc:0.5849, val_acc:0.5843\n",
            "epoch:8/30, iteration:100/672, Train Loss:0.0541, Val Loss:0.0493, train_acc:0.5810, val_acc:0.5796\n",
            "epoch:8/30, iteration:150/672, Train Loss:0.0561, Val Loss:0.0484, train_acc:0.5830, val_acc:0.5816\n",
            "epoch:8/30, iteration:200/672, Train Loss:0.0499, Val Loss:0.0482, train_acc:0.5832, val_acc:0.5808\n",
            "epoch:8/30, iteration:250/672, Train Loss:0.0451, Val Loss:0.0499, train_acc:0.5834, val_acc:0.5820\n",
            "epoch:8/30, iteration:300/672, Train Loss:0.0516, Val Loss:0.0491, train_acc:0.5857, val_acc:0.5827\n",
            "epoch:8/30, iteration:350/672, Train Loss:0.0459, Val Loss:0.0489, train_acc:0.5825, val_acc:0.5794\n",
            "epoch:8/30, iteration:400/672, Train Loss:0.0501, Val Loss:0.0480, train_acc:0.5779, val_acc:0.5771\n",
            "epoch:8/30, iteration:450/672, Train Loss:0.0470, Val Loss:0.0478, train_acc:0.5829, val_acc:0.5807\n",
            "epoch:8/30, iteration:500/672, Train Loss:0.0485, Val Loss:0.0478, train_acc:0.5840, val_acc:0.5819\n",
            "epoch:8/30, iteration:550/672, Train Loss:0.0476, Val Loss:0.0518, train_acc:0.5838, val_acc:0.5822\n",
            "epoch:8/30, iteration:600/672, Train Loss:0.0520, Val Loss:0.0487, train_acc:0.5823, val_acc:0.5807\n",
            "epoch:8/30, iteration:650/672, Train Loss:0.0518, Val Loss:0.0489, train_acc:0.5842, val_acc:0.5824\n",
            "epoch:9/30, iteration:50/672, Train Loss:0.0452, Val Loss:0.0517, train_acc:0.5850, val_acc:0.5832\n",
            "epoch:9/30, iteration:100/672, Train Loss:0.0489, Val Loss:0.0487, train_acc:0.5836, val_acc:0.5821\n",
            "epoch:9/30, iteration:150/672, Train Loss:0.0506, Val Loss:0.0515, train_acc:0.5839, val_acc:0.5813\n",
            "epoch:9/30, iteration:200/672, Train Loss:0.0448, Val Loss:0.0485, train_acc:0.5804, val_acc:0.5791\n",
            "epoch:9/30, iteration:250/672, Train Loss:0.0461, Val Loss:0.0490, train_acc:0.5815, val_acc:0.5798\n",
            "epoch:9/30, iteration:300/672, Train Loss:0.0451, Val Loss:0.0490, train_acc:0.5871, val_acc:0.5853\n",
            "epoch:9/30, iteration:350/672, Train Loss:0.0417, Val Loss:0.0486, train_acc:0.5863, val_acc:0.5834\n",
            "epoch:9/30, iteration:400/672, Train Loss:0.0498, Val Loss:0.0487, train_acc:0.5860, val_acc:0.5836\n",
            "epoch:9/30, iteration:450/672, Train Loss:0.0490, Val Loss:0.0471, train_acc:0.5861, val_acc:0.5838\n",
            "epoch:9/30, iteration:500/672, Train Loss:0.0456, Val Loss:0.0470, train_acc:0.5860, val_acc:0.5843\n",
            "epoch:9/30, iteration:550/672, Train Loss:0.0466, Val Loss:0.0471, train_acc:0.5843, val_acc:0.5820\n",
            "epoch:9/30, iteration:600/672, Train Loss:0.0507, Val Loss:0.0482, train_acc:0.5844, val_acc:0.5834\n",
            "epoch:9/30, iteration:650/672, Train Loss:0.0450, Val Loss:0.0469, train_acc:0.5837, val_acc:0.5812\n",
            "epoch:10/30, iteration:50/672, Train Loss:0.0454, Val Loss:0.0482, train_acc:0.5873, val_acc:0.5839\n",
            "epoch:10/30, iteration:100/672, Train Loss:0.0471, Val Loss:0.0480, train_acc:0.5840, val_acc:0.5822\n",
            "epoch:10/30, iteration:150/672, Train Loss:0.0476, Val Loss:0.0483, train_acc:0.5880, val_acc:0.5853\n",
            "epoch:10/30, iteration:200/672, Train Loss:0.0418, Val Loss:0.0480, train_acc:0.5876, val_acc:0.5865\n",
            "epoch:10/30, iteration:250/672, Train Loss:0.0517, Val Loss:0.0480, train_acc:0.5890, val_acc:0.5878\n",
            "epoch:10/30, iteration:300/672, Train Loss:0.0439, Val Loss:0.0477, train_acc:0.5867, val_acc:0.5837\n",
            "epoch:10/30, iteration:350/672, Train Loss:0.0484, Val Loss:0.0506, train_acc:0.5880, val_acc:0.5876\n",
            "epoch:10/30, iteration:400/672, Train Loss:0.0450, Val Loss:0.0476, train_acc:0.5904, val_acc:0.5879\n",
            "epoch:10/30, iteration:450/672, Train Loss:0.0527, Val Loss:0.0463, train_acc:0.5881, val_acc:0.5860\n",
            "epoch:10/30, iteration:500/672, Train Loss:0.0505, Val Loss:0.0479, train_acc:0.5887, val_acc:0.5860\n",
            "epoch:10/30, iteration:550/672, Train Loss:0.0455, Val Loss:0.0479, train_acc:0.5927, val_acc:0.5900\n",
            "epoch:10/30, iteration:600/672, Train Loss:0.0524, Val Loss:0.0503, train_acc:0.5907, val_acc:0.5881\n",
            "epoch:10/30, iteration:650/672, Train Loss:0.0469, Val Loss:0.0477, train_acc:0.5910, val_acc:0.5895\n",
            "epoch:11/30, iteration:50/672, Train Loss:0.0473, Val Loss:0.0472, train_acc:0.5888, val_acc:0.5875\n",
            "epoch:11/30, iteration:100/672, Train Loss:0.0497, Val Loss:0.0500, train_acc:0.5904, val_acc:0.5882\n",
            "epoch:11/30, iteration:150/672, Train Loss:0.0491, Val Loss:0.0475, train_acc:0.5906, val_acc:0.5877\n",
            "epoch:11/30, iteration:200/672, Train Loss:0.0416, Val Loss:0.0473, train_acc:0.5905, val_acc:0.5879\n",
            "epoch:11/30, iteration:250/672, Train Loss:0.0444, Val Loss:0.0473, train_acc:0.5919, val_acc:0.5884\n",
            "epoch:11/30, iteration:300/672, Train Loss:0.0480, Val Loss:0.0495, train_acc:0.5909, val_acc:0.5893\n",
            "epoch:11/30, iteration:350/672, Train Loss:0.0441, Val Loss:0.0494, train_acc:0.5952, val_acc:0.5927\n",
            "epoch:11/30, iteration:400/672, Train Loss:0.0482, Val Loss:0.0470, train_acc:0.5928, val_acc:0.5907\n",
            "epoch:11/30, iteration:450/672, Train Loss:0.0476, Val Loss:0.0450, train_acc:0.5918, val_acc:0.5891\n",
            "epoch:11/30, iteration:500/672, Train Loss:0.0430, Val Loss:0.0489, train_acc:0.5912, val_acc:0.5887\n",
            "epoch:11/30, iteration:550/672, Train Loss:0.0474, Val Loss:0.0450, train_acc:0.5924, val_acc:0.5911\n",
            "epoch:11/30, iteration:600/672, Train Loss:0.0510, Val Loss:0.0466, train_acc:0.5941, val_acc:0.5926\n",
            "epoch:11/30, iteration:650/672, Train Loss:0.0500, Val Loss:0.0487, train_acc:0.5970, val_acc:0.5952\n",
            "epoch:12/30, iteration:50/672, Train Loss:0.0446, Val Loss:0.0446, train_acc:0.5923, val_acc:0.5910\n",
            "epoch:12/30, iteration:100/672, Train Loss:0.0567, Val Loss:0.0461, train_acc:0.5923, val_acc:0.5908\n",
            "epoch:12/30, iteration:150/672, Train Loss:0.0453, Val Loss:0.0455, train_acc:0.5958, val_acc:0.5950\n",
            "epoch:12/30, iteration:200/672, Train Loss:0.0501, Val Loss:0.0440, train_acc:0.5907, val_acc:0.5906\n",
            "epoch:12/30, iteration:250/672, Train Loss:0.0525, Val Loss:0.0479, train_acc:0.5939, val_acc:0.5935\n",
            "epoch:12/30, iteration:300/672, Train Loss:0.0418, Val Loss:0.0439, train_acc:0.5958, val_acc:0.5934\n",
            "epoch:12/30, iteration:350/672, Train Loss:0.0458, Val Loss:0.0474, train_acc:0.5975, val_acc:0.5954\n",
            "epoch:12/30, iteration:400/672, Train Loss:0.0493, Val Loss:0.0437, train_acc:0.5949, val_acc:0.5944\n",
            "epoch:12/30, iteration:450/672, Train Loss:0.0398, Val Loss:0.0435, train_acc:0.5968, val_acc:0.5962\n",
            "epoch:12/30, iteration:500/672, Train Loss:0.0433, Val Loss:0.0471, train_acc:0.5951, val_acc:0.5936\n",
            "epoch:12/30, iteration:550/672, Train Loss:0.0415, Val Loss:0.0460, train_acc:0.5962, val_acc:0.5964\n",
            "epoch:12/30, iteration:600/672, Train Loss:0.0472, Val Loss:0.0448, train_acc:0.5948, val_acc:0.5945\n",
            "epoch:12/30, iteration:650/672, Train Loss:0.0445, Val Loss:0.0428, train_acc:0.5973, val_acc:0.5982\n",
            "epoch:13/30, iteration:50/672, Train Loss:0.0432, Val Loss:0.0466, train_acc:0.5926, val_acc:0.5912\n",
            "epoch:13/30, iteration:100/672, Train Loss:0.0484, Val Loss:0.0466, train_acc:0.5930, val_acc:0.5922\n",
            "epoch:13/30, iteration:150/672, Train Loss:0.0486, Val Loss:0.0458, train_acc:0.5981, val_acc:0.5978\n",
            "epoch:13/30, iteration:200/672, Train Loss:0.0423, Val Loss:0.0464, train_acc:0.5952, val_acc:0.5947\n",
            "epoch:13/30, iteration:250/672, Train Loss:0.0456, Val Loss:0.0438, train_acc:0.5952, val_acc:0.5947\n",
            "epoch:13/30, iteration:300/672, Train Loss:0.0456, Val Loss:0.0437, train_acc:0.5983, val_acc:0.5980\n",
            "epoch:13/30, iteration:350/672, Train Loss:0.0431, Val Loss:0.0422, train_acc:0.5991, val_acc:0.5985\n",
            "epoch:13/30, iteration:400/672, Train Loss:0.0467, Val Loss:0.0454, train_acc:0.5951, val_acc:0.5956\n",
            "epoch:13/30, iteration:450/672, Train Loss:0.0435, Val Loss:0.0420, train_acc:0.5979, val_acc:0.5956\n",
            "epoch:13/30, iteration:500/672, Train Loss:0.0436, Val Loss:0.0420, train_acc:0.5983, val_acc:0.5973\n",
            "epoch:13/30, iteration:550/672, Train Loss:0.0434, Val Loss:0.0452, train_acc:0.5966, val_acc:0.5950\n",
            "epoch:13/30, iteration:600/672, Train Loss:0.0388, Val Loss:0.0417, train_acc:0.5969, val_acc:0.5961\n",
            "epoch:13/30, iteration:650/672, Train Loss:0.0553, Val Loss:0.0429, train_acc:0.5936, val_acc:0.5940\n",
            "epoch:14/30, iteration:50/672, Train Loss:0.0425, Val Loss:0.0450, train_acc:0.5975, val_acc:0.5966\n",
            "epoch:14/30, iteration:100/672, Train Loss:0.0466, Val Loss:0.0431, train_acc:0.5952, val_acc:0.5934\n",
            "epoch:14/30, iteration:150/672, Train Loss:0.0478, Val Loss:0.0430, train_acc:0.6005, val_acc:0.5999\n",
            "epoch:14/30, iteration:200/672, Train Loss:0.0429, Val Loss:0.0412, train_acc:0.5930, val_acc:0.5929\n",
            "epoch:14/30, iteration:250/672, Train Loss:0.0477, Val Loss:0.0451, train_acc:0.5975, val_acc:0.5974\n",
            "epoch:14/30, iteration:300/672, Train Loss:0.0430, Val Loss:0.0428, train_acc:0.5998, val_acc:0.5982\n",
            "epoch:14/30, iteration:350/672, Train Loss:0.0378, Val Loss:0.0448, train_acc:0.5973, val_acc:0.5957\n",
            "epoch:14/30, iteration:400/672, Train Loss:0.0474, Val Loss:0.0409, train_acc:0.5970, val_acc:0.5969\n",
            "epoch:14/30, iteration:450/672, Train Loss:0.0416, Val Loss:0.0447, train_acc:0.5972, val_acc:0.5970\n",
            "epoch:14/30, iteration:500/672, Train Loss:0.0442, Val Loss:0.0427, train_acc:0.5972, val_acc:0.5968\n",
            "epoch:14/30, iteration:550/672, Train Loss:0.0434, Val Loss:0.0447, train_acc:0.5977, val_acc:0.5970\n",
            "epoch:14/30, iteration:600/672, Train Loss:0.0409, Val Loss:0.0447, train_acc:0.5998, val_acc:0.5984\n",
            "epoch:14/30, iteration:650/672, Train Loss:0.0499, Val Loss:0.0407, train_acc:0.5981, val_acc:0.5970\n",
            "epoch:15/30, iteration:50/672, Train Loss:0.0378, Val Loss:0.0423, train_acc:0.5992, val_acc:0.5987\n",
            "epoch:15/30, iteration:100/672, Train Loss:0.0458, Val Loss:0.0445, train_acc:0.5984, val_acc:0.5965\n",
            "epoch:15/30, iteration:150/672, Train Loss:0.0426, Val Loss:0.0421, train_acc:0.5988, val_acc:0.5964\n",
            "epoch:15/30, iteration:200/672, Train Loss:0.0420, Val Loss:0.0443, train_acc:0.6005, val_acc:0.5976\n",
            "epoch:15/30, iteration:250/672, Train Loss:0.0449, Val Loss:0.0405, train_acc:0.6003, val_acc:0.5992\n",
            "epoch:15/30, iteration:300/672, Train Loss:0.0404, Val Loss:0.0443, train_acc:0.5980, val_acc:0.5965\n",
            "epoch:15/30, iteration:350/672, Train Loss:0.0480, Val Loss:0.0403, train_acc:0.6002, val_acc:0.5994\n",
            "epoch:15/30, iteration:400/672, Train Loss:0.0396, Val Loss:0.0441, train_acc:0.6007, val_acc:0.5983\n",
            "epoch:15/30, iteration:450/672, Train Loss:0.0455, Val Loss:0.0440, train_acc:0.5979, val_acc:0.5953\n",
            "epoch:15/30, iteration:500/672, Train Loss:0.0440, Val Loss:0.0417, train_acc:0.6004, val_acc:0.5973\n",
            "epoch:15/30, iteration:550/672, Train Loss:0.0453, Val Loss:0.0400, train_acc:0.6009, val_acc:0.5994\n",
            "epoch:15/30, iteration:600/672, Train Loss:0.0336, Val Loss:0.0410, train_acc:0.6003, val_acc:0.5987\n",
            "epoch:15/30, iteration:650/672, Train Loss:0.0443, Val Loss:0.0399, train_acc:0.6022, val_acc:0.5996\n",
            "epoch:16/30, iteration:50/672, Train Loss:0.0383, Val Loss:0.0438, train_acc:0.6005, val_acc:0.5982\n",
            "epoch:16/30, iteration:100/672, Train Loss:0.0418, Val Loss:0.0399, train_acc:0.6005, val_acc:0.5968\n",
            "epoch:16/30, iteration:150/672, Train Loss:0.0480, Val Loss:0.0398, train_acc:0.6012, val_acc:0.5988\n",
            "epoch:16/30, iteration:200/672, Train Loss:0.0410, Val Loss:0.0398, train_acc:0.6007, val_acc:0.5977\n",
            "epoch:16/30, iteration:250/672, Train Loss:0.0426, Val Loss:0.0413, train_acc:0.6007, val_acc:0.5986\n",
            "epoch:16/30, iteration:300/672, Train Loss:0.0423, Val Loss:0.0398, train_acc:0.6017, val_acc:0.6006\n",
            "epoch:16/30, iteration:350/672, Train Loss:0.0347, Val Loss:0.0437, train_acc:0.6010, val_acc:0.5986\n",
            "epoch:16/30, iteration:400/672, Train Loss:0.0411, Val Loss:0.0435, train_acc:0.5943, val_acc:0.5915\n",
            "epoch:16/30, iteration:450/672, Train Loss:0.0431, Val Loss:0.0409, train_acc:0.6002, val_acc:0.5977\n",
            "epoch:16/30, iteration:500/672, Train Loss:0.0462, Val Loss:0.0436, train_acc:0.6012, val_acc:0.5982\n",
            "epoch:16/30, iteration:550/672, Train Loss:0.0384, Val Loss:0.0397, train_acc:0.6025, val_acc:0.5994\n",
            "epoch:16/30, iteration:600/672, Train Loss:0.0381, Val Loss:0.0406, train_acc:0.6011, val_acc:0.5984\n",
            "epoch:16/30, iteration:650/672, Train Loss:0.0435, Val Loss:0.0412, train_acc:0.6006, val_acc:0.5972\n",
            "epoch:17/30, iteration:50/672, Train Loss:0.0375, Val Loss:0.0410, train_acc:0.5959, val_acc:0.5957\n",
            "epoch:17/30, iteration:100/672, Train Loss:0.0408, Val Loss:0.0411, train_acc:0.6011, val_acc:0.5975\n",
            "epoch:17/30, iteration:150/672, Train Loss:0.0401, Val Loss:0.0435, train_acc:0.5984, val_acc:0.5947\n",
            "epoch:17/30, iteration:200/672, Train Loss:0.0427, Val Loss:0.0430, train_acc:0.6008, val_acc:0.5981\n",
            "epoch:17/30, iteration:250/672, Train Loss:0.0427, Val Loss:0.0406, train_acc:0.6013, val_acc:0.5986\n",
            "epoch:17/30, iteration:300/672, Train Loss:0.0394, Val Loss:0.0427, train_acc:0.5996, val_acc:0.5978\n",
            "epoch:17/30, iteration:350/672, Train Loss:0.0419, Val Loss:0.0406, train_acc:0.6011, val_acc:0.5990\n",
            "epoch:17/30, iteration:400/672, Train Loss:0.0418, Val Loss:0.0390, train_acc:0.6015, val_acc:0.5977\n",
            "epoch:17/30, iteration:450/672, Train Loss:0.0479, Val Loss:0.0409, train_acc:0.6017, val_acc:0.5983\n",
            "epoch:17/30, iteration:500/672, Train Loss:0.0477, Val Loss:0.0428, train_acc:0.5980, val_acc:0.5961\n",
            "epoch:17/30, iteration:550/672, Train Loss:0.0413, Val Loss:0.0408, train_acc:0.6044, val_acc:0.6005\n",
            "epoch:17/30, iteration:600/672, Train Loss:0.0398, Val Loss:0.0408, train_acc:0.6021, val_acc:0.5996\n",
            "epoch:17/30, iteration:650/672, Train Loss:0.0346, Val Loss:0.0425, train_acc:0.6012, val_acc:0.5997\n",
            "epoch:18/30, iteration:50/672, Train Loss:0.0363, Val Loss:0.0407, train_acc:0.6007, val_acc:0.5989\n",
            "epoch:18/30, iteration:100/672, Train Loss:0.0358, Val Loss:0.0402, train_acc:0.6017, val_acc:0.5992\n",
            "epoch:18/30, iteration:150/672, Train Loss:0.0449, Val Loss:0.0403, train_acc:0.6018, val_acc:0.5977\n",
            "epoch:18/30, iteration:200/672, Train Loss:0.0371, Val Loss:0.0391, train_acc:0.6021, val_acc:0.6005\n",
            "epoch:18/30, iteration:250/672, Train Loss:0.0431, Val Loss:0.0429, train_acc:0.6024, val_acc:0.6008\n",
            "epoch:18/30, iteration:300/672, Train Loss:0.0369, Val Loss:0.0401, train_acc:0.6040, val_acc:0.6001\n",
            "epoch:18/30, iteration:350/672, Train Loss:0.0378, Val Loss:0.0405, train_acc:0.6019, val_acc:0.6013\n",
            "epoch:18/30, iteration:400/672, Train Loss:0.0480, Val Loss:0.0423, train_acc:0.6003, val_acc:0.5984\n",
            "epoch:18/30, iteration:450/672, Train Loss:0.0388, Val Loss:0.0425, train_acc:0.6024, val_acc:0.5999\n",
            "epoch:18/30, iteration:500/672, Train Loss:0.0401, Val Loss:0.0426, train_acc:0.6025, val_acc:0.5992\n",
            "epoch:18/30, iteration:550/672, Train Loss:0.0386, Val Loss:0.0388, train_acc:0.6034, val_acc:0.6013\n",
            "epoch:18/30, iteration:600/672, Train Loss:0.0426, Val Loss:0.0403, train_acc:0.6013, val_acc:0.5991\n",
            "epoch:18/30, iteration:650/672, Train Loss:0.0371, Val Loss:0.0387, train_acc:0.6032, val_acc:0.6002\n",
            "epoch:19/30, iteration:50/672, Train Loss:0.0361, Val Loss:0.0425, train_acc:0.6015, val_acc:0.6005\n",
            "epoch:19/30, iteration:100/672, Train Loss:0.0337, Val Loss:0.0426, train_acc:0.6007, val_acc:0.5984\n",
            "epoch:19/30, iteration:150/672, Train Loss:0.0374, Val Loss:0.0402, train_acc:0.6011, val_acc:0.5987\n",
            "epoch:19/30, iteration:200/672, Train Loss:0.0434, Val Loss:0.0398, train_acc:0.6010, val_acc:0.5982\n",
            "epoch:19/30, iteration:250/672, Train Loss:0.0433, Val Loss:0.0399, train_acc:0.6020, val_acc:0.6004\n",
            "epoch:19/30, iteration:300/672, Train Loss:0.0432, Val Loss:0.0401, train_acc:0.6044, val_acc:0.6007\n",
            "epoch:19/30, iteration:350/672, Train Loss:0.0424, Val Loss:0.0418, train_acc:0.6019, val_acc:0.5994\n",
            "epoch:19/30, iteration:400/672, Train Loss:0.0328, Val Loss:0.0416, train_acc:0.6013, val_acc:0.5988\n",
            "epoch:19/30, iteration:450/672, Train Loss:0.0458, Val Loss:0.0396, train_acc:0.6021, val_acc:0.6000\n",
            "epoch:19/30, iteration:500/672, Train Loss:0.0439, Val Loss:0.0399, train_acc:0.6017, val_acc:0.5986\n",
            "epoch:19/30, iteration:550/672, Train Loss:0.0407, Val Loss:0.0395, train_acc:0.6008, val_acc:0.5986\n",
            "epoch:19/30, iteration:600/672, Train Loss:0.0350, Val Loss:0.0400, train_acc:0.6051, val_acc:0.6011\n",
            "epoch:19/30, iteration:650/672, Train Loss:0.0335, Val Loss:0.0380, train_acc:0.6020, val_acc:0.5995\n",
            "epoch:20/30, iteration:50/672, Train Loss:0.0392, Val Loss:0.0395, train_acc:0.6044, val_acc:0.6019\n",
            "epoch:20/30, iteration:100/672, Train Loss:0.0398, Val Loss:0.0399, train_acc:0.6049, val_acc:0.6009\n",
            "epoch:20/30, iteration:150/672, Train Loss:0.0444, Val Loss:0.0420, train_acc:0.6003, val_acc:0.5986\n",
            "epoch:20/30, iteration:200/672, Train Loss:0.0422, Val Loss:0.0380, train_acc:0.6031, val_acc:0.6007\n",
            "epoch:20/30, iteration:250/672, Train Loss:0.0340, Val Loss:0.0394, train_acc:0.6032, val_acc:0.6002\n",
            "epoch:20/30, iteration:300/672, Train Loss:0.0376, Val Loss:0.0381, train_acc:0.6009, val_acc:0.5974\n",
            "epoch:20/30, iteration:350/672, Train Loss:0.0362, Val Loss:0.0420, train_acc:0.6006, val_acc:0.5985\n",
            "epoch:20/30, iteration:400/672, Train Loss:0.0358, Val Loss:0.0413, train_acc:0.6042, val_acc:0.6034\n",
            "epoch:20/30, iteration:450/672, Train Loss:0.0402, Val Loss:0.0398, train_acc:0.6004, val_acc:0.5990\n",
            "epoch:20/30, iteration:500/672, Train Loss:0.0390, Val Loss:0.0398, train_acc:0.6009, val_acc:0.6002\n",
            "epoch:20/30, iteration:550/672, Train Loss:0.0387, Val Loss:0.0379, train_acc:0.6059, val_acc:0.6028\n",
            "epoch:20/30, iteration:600/672, Train Loss:0.0408, Val Loss:0.0418, train_acc:0.6030, val_acc:0.5991\n",
            "epoch:20/30, iteration:650/672, Train Loss:0.0429, Val Loss:0.0418, train_acc:0.6063, val_acc:0.6030\n",
            "epoch:21/30, iteration:50/672, Train Loss:0.0385, Val Loss:0.0419, train_acc:0.6042, val_acc:0.6023\n",
            "epoch:21/30, iteration:100/672, Train Loss:0.0386, Val Loss:0.0379, train_acc:0.6028, val_acc:0.6002\n",
            "epoch:21/30, iteration:150/672, Train Loss:0.0360, Val Loss:0.0398, train_acc:0.6040, val_acc:0.6015\n",
            "epoch:21/30, iteration:200/672, Train Loss:0.0389, Val Loss:0.0418, train_acc:0.6033, val_acc:0.6011\n",
            "epoch:21/30, iteration:250/672, Train Loss:0.0404, Val Loss:0.0378, train_acc:0.6045, val_acc:0.6013\n",
            "epoch:21/30, iteration:300/672, Train Loss:0.0382, Val Loss:0.0413, train_acc:0.6042, val_acc:0.6017\n",
            "epoch:21/30, iteration:350/672, Train Loss:0.0400, Val Loss:0.0412, train_acc:0.6032, val_acc:0.6011\n",
            "epoch:21/30, iteration:400/672, Train Loss:0.0380, Val Loss:0.0376, train_acc:0.6028, val_acc:0.5999\n",
            "epoch:21/30, iteration:450/672, Train Loss:0.0377, Val Loss:0.0377, train_acc:0.6029, val_acc:0.6002\n",
            "epoch:21/30, iteration:500/672, Train Loss:0.0391, Val Loss:0.0395, train_acc:0.6034, val_acc:0.6007\n",
            "epoch:21/30, iteration:550/672, Train Loss:0.0420, Val Loss:0.0408, train_acc:0.6019, val_acc:0.6006\n",
            "epoch:21/30, iteration:600/672, Train Loss:0.0374, Val Loss:0.0374, train_acc:0.6034, val_acc:0.6001\n",
            "epoch:21/30, iteration:650/672, Train Loss:0.0371, Val Loss:0.0376, train_acc:0.6009, val_acc:0.5984\n",
            "epoch:22/30, iteration:50/672, Train Loss:0.0406, Val Loss:0.0397, train_acc:0.6046, val_acc:0.6025\n",
            "epoch:22/30, iteration:100/672, Train Loss:0.0425, Val Loss:0.0406, train_acc:0.6023, val_acc:0.6005\n",
            "epoch:22/30, iteration:150/672, Train Loss:0.0465, Val Loss:0.0408, train_acc:0.6020, val_acc:0.6006\n",
            "epoch:22/30, iteration:200/672, Train Loss:0.0427, Val Loss:0.0376, train_acc:0.6031, val_acc:0.6004\n",
            "epoch:22/30, iteration:250/672, Train Loss:0.0435, Val Loss:0.0387, train_acc:0.6083, val_acc:0.6050\n",
            "epoch:22/30, iteration:300/672, Train Loss:0.0363, Val Loss:0.0414, train_acc:0.6016, val_acc:0.5989\n",
            "epoch:22/30, iteration:350/672, Train Loss:0.0399, Val Loss:0.0372, train_acc:0.6030, val_acc:0.6012\n",
            "epoch:22/30, iteration:400/672, Train Loss:0.0333, Val Loss:0.0394, train_acc:0.6046, val_acc:0.6004\n",
            "epoch:22/30, iteration:450/672, Train Loss:0.0388, Val Loss:0.0411, train_acc:0.6064, val_acc:0.6030\n",
            "epoch:22/30, iteration:500/672, Train Loss:0.0336, Val Loss:0.0406, train_acc:0.5993, val_acc:0.5966\n",
            "epoch:22/30, iteration:550/672, Train Loss:0.0391, Val Loss:0.0403, train_acc:0.6055, val_acc:0.6030\n",
            "epoch:22/30, iteration:600/672, Train Loss:0.0380, Val Loss:0.0411, train_acc:0.6053, val_acc:0.6013\n",
            "epoch:22/30, iteration:650/672, Train Loss:0.0372, Val Loss:0.0403, train_acc:0.6033, val_acc:0.5996\n",
            "epoch:23/30, iteration:50/672, Train Loss:0.0376, Val Loss:0.0371, train_acc:0.6007, val_acc:0.5975\n",
            "epoch:23/30, iteration:100/672, Train Loss:0.0410, Val Loss:0.0392, train_acc:0.6022, val_acc:0.6002\n",
            "epoch:23/30, iteration:150/672, Train Loss:0.0442, Val Loss:0.0411, train_acc:0.6057, val_acc:0.6021\n",
            "epoch:23/30, iteration:200/672, Train Loss:0.0388, Val Loss:0.0371, train_acc:0.6049, val_acc:0.6012\n",
            "epoch:23/30, iteration:250/672, Train Loss:0.0320, Val Loss:0.0369, train_acc:0.6034, val_acc:0.6002\n",
            "epoch:23/30, iteration:300/672, Train Loss:0.0342, Val Loss:0.0370, train_acc:0.6044, val_acc:0.6012\n",
            "epoch:23/30, iteration:350/672, Train Loss:0.0407, Val Loss:0.0373, train_acc:0.6030, val_acc:0.6003\n",
            "epoch:23/30, iteration:400/672, Train Loss:0.0426, Val Loss:0.0386, train_acc:0.6055, val_acc:0.6030\n",
            "epoch:23/30, iteration:450/672, Train Loss:0.0405, Val Loss:0.0383, train_acc:0.6040, val_acc:0.6004\n",
            "epoch:23/30, iteration:500/672, Train Loss:0.0414, Val Loss:0.0372, train_acc:0.6030, val_acc:0.6013\n",
            "epoch:23/30, iteration:550/672, Train Loss:0.0441, Val Loss:0.0369, train_acc:0.6039, val_acc:0.6008\n",
            "epoch:23/30, iteration:600/672, Train Loss:0.0345, Val Loss:0.0384, train_acc:0.6051, val_acc:0.6017\n",
            "epoch:23/30, iteration:650/672, Train Loss:0.0413, Val Loss:0.0372, train_acc:0.6030, val_acc:0.6011\n",
            "epoch:24/30, iteration:50/672, Train Loss:0.0407, Val Loss:0.0366, train_acc:0.6071, val_acc:0.6022\n",
            "epoch:24/30, iteration:100/672, Train Loss:0.0377, Val Loss:0.0408, train_acc:0.6051, val_acc:0.6006\n",
            "epoch:24/30, iteration:150/672, Train Loss:0.0405, Val Loss:0.0370, train_acc:0.6042, val_acc:0.6004\n",
            "epoch:24/30, iteration:200/672, Train Loss:0.0394, Val Loss:0.0389, train_acc:0.6033, val_acc:0.6006\n",
            "epoch:24/30, iteration:250/672, Train Loss:0.0453, Val Loss:0.0407, train_acc:0.6050, val_acc:0.6013\n",
            "epoch:24/30, iteration:300/672, Train Loss:0.0435, Val Loss:0.0380, train_acc:0.6049, val_acc:0.6015\n",
            "epoch:24/30, iteration:350/672, Train Loss:0.0299, Val Loss:0.0365, train_acc:0.6035, val_acc:0.6002\n",
            "epoch:24/30, iteration:400/672, Train Loss:0.0384, Val Loss:0.0365, train_acc:0.6054, val_acc:0.6026\n",
            "epoch:24/30, iteration:450/672, Train Loss:0.0374, Val Loss:0.0366, train_acc:0.6060, val_acc:0.6032\n",
            "epoch:24/30, iteration:500/672, Train Loss:0.0428, Val Loss:0.0368, train_acc:0.6030, val_acc:0.5996\n",
            "epoch:24/30, iteration:550/672, Train Loss:0.0344, Val Loss:0.0404, train_acc:0.6044, val_acc:0.6013\n",
            "epoch:24/30, iteration:600/672, Train Loss:0.0413, Val Loss:0.0378, train_acc:0.6039, val_acc:0.6006\n",
            "epoch:24/30, iteration:650/672, Train Loss:0.0415, Val Loss:0.0406, train_acc:0.6037, val_acc:0.6012\n",
            "epoch:25/30, iteration:50/672, Train Loss:0.0390, Val Loss:0.0362, train_acc:0.6041, val_acc:0.6012\n",
            "epoch:25/30, iteration:100/672, Train Loss:0.0383, Val Loss:0.0402, train_acc:0.6062, val_acc:0.6033\n",
            "epoch:25/30, iteration:150/672, Train Loss:0.0378, Val Loss:0.0378, train_acc:0.6048, val_acc:0.6022\n",
            "epoch:25/30, iteration:200/672, Train Loss:0.0395, Val Loss:0.0366, train_acc:0.6066, val_acc:0.6033\n",
            "epoch:25/30, iteration:250/672, Train Loss:0.0440, Val Loss:0.0366, train_acc:0.6055, val_acc:0.6038\n",
            "epoch:25/30, iteration:300/672, Train Loss:0.0375, Val Loss:0.0361, train_acc:0.6056, val_acc:0.6019\n",
            "epoch:25/30, iteration:350/672, Train Loss:0.0377, Val Loss:0.0360, train_acc:0.6076, val_acc:0.6044\n",
            "epoch:25/30, iteration:400/672, Train Loss:0.0344, Val Loss:0.0393, train_acc:0.6053, val_acc:0.6016\n",
            "epoch:25/30, iteration:450/672, Train Loss:0.0376, Val Loss:0.0399, train_acc:0.6041, val_acc:0.6012\n",
            "epoch:25/30, iteration:500/672, Train Loss:0.0348, Val Loss:0.0398, train_acc:0.6061, val_acc:0.6047\n",
            "epoch:25/30, iteration:550/672, Train Loss:0.0386, Val Loss:0.0374, train_acc:0.6071, val_acc:0.6043\n",
            "epoch:25/30, iteration:600/672, Train Loss:0.0405, Val Loss:0.0393, train_acc:0.6071, val_acc:0.6041\n",
            "epoch:25/30, iteration:650/672, Train Loss:0.0363, Val Loss:0.0365, train_acc:0.6050, val_acc:0.6026\n",
            "epoch:26/30, iteration:50/672, Train Loss:0.0360, Val Loss:0.0358, train_acc:0.6057, val_acc:0.6026\n",
            "epoch:26/30, iteration:100/672, Train Loss:0.0392, Val Loss:0.0365, train_acc:0.6061, val_acc:0.6024\n",
            "epoch:26/30, iteration:150/672, Train Loss:0.0416, Val Loss:0.0382, train_acc:0.6067, val_acc:0.6028\n",
            "epoch:26/30, iteration:200/672, Train Loss:0.0370, Val Loss:0.0358, train_acc:0.6055, val_acc:0.6021\n",
            "epoch:26/30, iteration:250/672, Train Loss:0.0351, Val Loss:0.0356, train_acc:0.6048, val_acc:0.6011\n",
            "epoch:26/30, iteration:300/672, Train Loss:0.0333, Val Loss:0.0372, train_acc:0.6064, val_acc:0.6035\n",
            "epoch:26/30, iteration:350/672, Train Loss:0.0401, Val Loss:0.0380, train_acc:0.6043, val_acc:0.6004\n",
            "epoch:26/30, iteration:400/672, Train Loss:0.0393, Val Loss:0.0380, train_acc:0.6092, val_acc:0.6058\n",
            "epoch:26/30, iteration:450/672, Train Loss:0.0417, Val Loss:0.0379, train_acc:0.6094, val_acc:0.6046\n",
            "epoch:26/30, iteration:500/672, Train Loss:0.0305, Val Loss:0.0392, train_acc:0.6091, val_acc:0.6054\n",
            "epoch:26/30, iteration:550/672, Train Loss:0.0368, Val Loss:0.0378, train_acc:0.6079, val_acc:0.6045\n",
            "epoch:26/30, iteration:600/672, Train Loss:0.0328, Val Loss:0.0367, train_acc:0.6088, val_acc:0.6058\n",
            "epoch:26/30, iteration:650/672, Train Loss:0.0366, Val Loss:0.0377, train_acc:0.6094, val_acc:0.6056\n",
            "epoch:27/30, iteration:50/672, Train Loss:0.0322, Val Loss:0.0364, train_acc:0.6086, val_acc:0.6053\n",
            "epoch:27/30, iteration:100/672, Train Loss:0.0402, Val Loss:0.0384, train_acc:0.6071, val_acc:0.6037\n",
            "epoch:27/30, iteration:150/672, Train Loss:0.0436, Val Loss:0.0352, train_acc:0.6063, val_acc:0.6028\n",
            "epoch:27/30, iteration:200/672, Train Loss:0.0379, Val Loss:0.0376, train_acc:0.6081, val_acc:0.6043\n",
            "epoch:27/30, iteration:250/672, Train Loss:0.0419, Val Loss:0.0363, train_acc:0.6079, val_acc:0.6037\n",
            "epoch:27/30, iteration:300/672, Train Loss:0.0327, Val Loss:0.0363, train_acc:0.6088, val_acc:0.6038\n",
            "epoch:27/30, iteration:350/672, Train Loss:0.0400, Val Loss:0.0363, train_acc:0.6119, val_acc:0.6074\n",
            "epoch:27/30, iteration:400/672, Train Loss:0.0354, Val Loss:0.0363, train_acc:0.6077, val_acc:0.6041\n",
            "epoch:27/30, iteration:450/672, Train Loss:0.0407, Val Loss:0.0373, train_acc:0.6092, val_acc:0.6050\n",
            "epoch:27/30, iteration:500/672, Train Loss:0.0374, Val Loss:0.0376, train_acc:0.6091, val_acc:0.6072\n",
            "epoch:27/30, iteration:550/672, Train Loss:0.0429, Val Loss:0.0372, train_acc:0.6109, val_acc:0.6068\n",
            "epoch:27/30, iteration:600/672, Train Loss:0.0376, Val Loss:0.0359, train_acc:0.6107, val_acc:0.6079\n",
            "epoch:27/30, iteration:650/672, Train Loss:0.0317, Val Loss:0.0344, train_acc:0.6092, val_acc:0.6069\n",
            "epoch:28/30, iteration:50/672, Train Loss:0.0367, Val Loss:0.0344, train_acc:0.6113, val_acc:0.6075\n",
            "epoch:28/30, iteration:100/672, Train Loss:0.0311, Val Loss:0.0369, train_acc:0.6122, val_acc:0.6084\n",
            "epoch:28/30, iteration:150/672, Train Loss:0.0395, Val Loss:0.0367, train_acc:0.6132, val_acc:0.6093\n",
            "epoch:28/30, iteration:200/672, Train Loss:0.0324, Val Loss:0.0367, train_acc:0.6103, val_acc:0.6071\n",
            "epoch:28/30, iteration:250/672, Train Loss:0.0378, Val Loss:0.0354, train_acc:0.6108, val_acc:0.6079\n",
            "epoch:28/30, iteration:300/672, Train Loss:0.0351, Val Loss:0.0366, train_acc:0.6081, val_acc:0.6049\n",
            "epoch:28/30, iteration:350/672, Train Loss:0.0415, Val Loss:0.0352, train_acc:0.6084, val_acc:0.6061\n",
            "epoch:28/30, iteration:400/672, Train Loss:0.0369, Val Loss:0.0339, train_acc:0.6096, val_acc:0.6076\n",
            "epoch:28/30, iteration:450/672, Train Loss:0.0381, Val Loss:0.0352, train_acc:0.6091, val_acc:0.6051\n",
            "epoch:28/30, iteration:500/672, Train Loss:0.0338, Val Loss:0.0357, train_acc:0.6084, val_acc:0.6058\n",
            "epoch:28/30, iteration:550/672, Train Loss:0.0388, Val Loss:0.0350, train_acc:0.6099, val_acc:0.6066\n",
            "epoch:28/30, iteration:600/672, Train Loss:0.0362, Val Loss:0.0371, train_acc:0.6099, val_acc:0.6072\n",
            "epoch:28/30, iteration:650/672, Train Loss:0.0304, Val Loss:0.0349, train_acc:0.6117, val_acc:0.6080\n",
            "epoch:29/30, iteration:50/672, Train Loss:0.0355, Val Loss:0.0362, train_acc:0.6117, val_acc:0.6093\n",
            "epoch:29/30, iteration:100/672, Train Loss:0.0397, Val Loss:0.0360, train_acc:0.6104, val_acc:0.6070\n",
            "epoch:29/30, iteration:150/672, Train Loss:0.0319, Val Loss:0.0346, train_acc:0.6098, val_acc:0.6078\n",
            "epoch:29/30, iteration:200/672, Train Loss:0.0342, Val Loss:0.0332, train_acc:0.6125, val_acc:0.6106\n",
            "epoch:29/30, iteration:250/672, Train Loss:0.0345, Val Loss:0.0360, train_acc:0.6103, val_acc:0.6081\n",
            "epoch:29/30, iteration:300/672, Train Loss:0.0324, Val Loss:0.0357, train_acc:0.6074, val_acc:0.6034\n",
            "epoch:29/30, iteration:350/672, Train Loss:0.0360, Val Loss:0.0358, train_acc:0.6125, val_acc:0.6090\n",
            "epoch:29/30, iteration:400/672, Train Loss:0.0355, Val Loss:0.0357, train_acc:0.6123, val_acc:0.6099\n",
            "epoch:29/30, iteration:450/672, Train Loss:0.0353, Val Loss:0.0330, train_acc:0.6109, val_acc:0.6073\n",
            "epoch:29/30, iteration:500/672, Train Loss:0.0388, Val Loss:0.0330, train_acc:0.6100, val_acc:0.6076\n",
            "epoch:29/30, iteration:550/672, Train Loss:0.0310, Val Loss:0.0362, train_acc:0.6091, val_acc:0.6058\n",
            "epoch:29/30, iteration:600/672, Train Loss:0.0342, Val Loss:0.0328, train_acc:0.6096, val_acc:0.6074\n",
            "epoch:29/30, iteration:650/672, Train Loss:0.0329, Val Loss:0.0352, train_acc:0.6107, val_acc:0.6064\n",
            "epoch:0/20, iteration:50/336, Train Loss:0.0731, Val Loss:0.0713, train_acc:0.4598, val_acc:0.4586\n",
            "epoch:0/20, iteration:100/336, Train Loss:0.0618, Val Loss:0.0589, train_acc:0.5471, val_acc:0.5460\n",
            "epoch:0/20, iteration:150/336, Train Loss:0.0551, Val Loss:0.0538, train_acc:0.5661, val_acc:0.5656\n",
            "epoch:0/20, iteration:200/336, Train Loss:0.0536, Val Loss:0.0499, train_acc:0.5874, val_acc:0.5862\n",
            "epoch:0/20, iteration:250/336, Train Loss:0.0469, Val Loss:0.0491, train_acc:0.6004, val_acc:0.5975\n",
            "epoch:0/20, iteration:300/336, Train Loss:0.0456, Val Loss:0.0465, train_acc:0.5962, val_acc:0.5928\n",
            "epoch:1/20, iteration:50/336, Train Loss:0.0406, Val Loss:0.0401, train_acc:0.6089, val_acc:0.6052\n",
            "epoch:1/20, iteration:100/336, Train Loss:0.0407, Val Loss:0.0402, train_acc:0.6065, val_acc:0.6032\n",
            "epoch:1/20, iteration:150/336, Train Loss:0.0394, Val Loss:0.0368, train_acc:0.5995, val_acc:0.5979\n",
            "epoch:1/20, iteration:200/336, Train Loss:0.0348, Val Loss:0.0353, train_acc:0.6075, val_acc:0.6061\n",
            "epoch:1/20, iteration:250/336, Train Loss:0.0310, Val Loss:0.0369, train_acc:0.6018, val_acc:0.5973\n",
            "epoch:1/20, iteration:300/336, Train Loss:0.0301, Val Loss:0.0324, train_acc:0.5978, val_acc:0.5969\n",
            "epoch:2/20, iteration:50/336, Train Loss:0.0341, Val Loss:0.0320, train_acc:0.6047, val_acc:0.6029\n",
            "epoch:2/20, iteration:100/336, Train Loss:0.0386, Val Loss:0.0344, train_acc:0.6137, val_acc:0.6088\n",
            "epoch:2/20, iteration:150/336, Train Loss:0.0369, Val Loss:0.0322, train_acc:0.6036, val_acc:0.5975\n",
            "epoch:2/20, iteration:200/336, Train Loss:0.0304, Val Loss:0.0312, train_acc:0.6085, val_acc:0.6018\n",
            "epoch:2/20, iteration:250/336, Train Loss:0.0262, Val Loss:0.0328, train_acc:0.6136, val_acc:0.6084\n",
            "epoch:2/20, iteration:300/336, Train Loss:0.0352, Val Loss:0.0365, train_acc:0.6204, val_acc:0.6174\n",
            "epoch:3/20, iteration:50/336, Train Loss:0.0309, Val Loss:0.0289, train_acc:0.6158, val_acc:0.6122\n",
            "epoch:3/20, iteration:100/336, Train Loss:0.0310, Val Loss:0.0287, train_acc:0.6188, val_acc:0.6141\n",
            "epoch:3/20, iteration:150/336, Train Loss:0.0307, Val Loss:0.0346, train_acc:0.6184, val_acc:0.6147\n",
            "epoch:3/20, iteration:200/336, Train Loss:0.0276, Val Loss:0.0278, train_acc:0.6150, val_acc:0.6110\n",
            "epoch:3/20, iteration:250/336, Train Loss:0.0288, Val Loss:0.0282, train_acc:0.6098, val_acc:0.6079\n",
            "epoch:3/20, iteration:300/336, Train Loss:0.0265, Val Loss:0.0324, train_acc:0.6172, val_acc:0.6124\n",
            "epoch:4/20, iteration:50/336, Train Loss:0.0279, Val Loss:0.0279, train_acc:0.6122, val_acc:0.6090\n",
            "epoch:4/20, iteration:100/336, Train Loss:0.0313, Val Loss:0.0252, train_acc:0.6168, val_acc:0.6145\n",
            "epoch:4/20, iteration:150/336, Train Loss:0.0274, Val Loss:0.0252, train_acc:0.6135, val_acc:0.6091\n",
            "epoch:4/20, iteration:200/336, Train Loss:0.0253, Val Loss:0.0304, train_acc:0.6109, val_acc:0.6042\n",
            "epoch:4/20, iteration:250/336, Train Loss:0.0276, Val Loss:0.0254, train_acc:0.6143, val_acc:0.6076\n",
            "epoch:4/20, iteration:300/336, Train Loss:0.0347, Val Loss:0.0260, train_acc:0.6048, val_acc:0.5986\n",
            "epoch:5/20, iteration:50/336, Train Loss:0.0271, Val Loss:0.0240, train_acc:0.6127, val_acc:0.6070\n",
            "epoch:5/20, iteration:100/336, Train Loss:0.0279, Val Loss:0.0228, train_acc:0.6100, val_acc:0.6031\n",
            "epoch:5/20, iteration:150/336, Train Loss:0.0238, Val Loss:0.0230, train_acc:0.5928, val_acc:0.5889\n",
            "epoch:5/20, iteration:200/336, Train Loss:0.0260, Val Loss:0.0268, train_acc:0.5953, val_acc:0.5915\n",
            "epoch:5/20, iteration:250/336, Train Loss:0.0255, Val Loss:0.0267, train_acc:0.6038, val_acc:0.6002\n",
            "epoch:5/20, iteration:300/336, Train Loss:0.0278, Val Loss:0.0235, train_acc:0.6070, val_acc:0.6019\n",
            "epoch:6/20, iteration:50/336, Train Loss:0.0241, Val Loss:0.0214, train_acc:0.5981, val_acc:0.5942\n",
            "epoch:6/20, iteration:100/336, Train Loss:0.0186, Val Loss:0.0219, train_acc:0.5978, val_acc:0.5950\n",
            "epoch:6/20, iteration:150/336, Train Loss:0.0237, Val Loss:0.0209, train_acc:0.6072, val_acc:0.6033\n",
            "epoch:6/20, iteration:200/336, Train Loss:0.0253, Val Loss:0.0259, train_acc:0.5989, val_acc:0.5944\n",
            "epoch:6/20, iteration:250/336, Train Loss:0.0169, Val Loss:0.0199, train_acc:0.6121, val_acc:0.6064\n",
            "epoch:6/20, iteration:300/336, Train Loss:0.0213, Val Loss:0.0254, train_acc:0.6083, val_acc:0.6022\n",
            "epoch:7/20, iteration:50/336, Train Loss:0.0179, Val Loss:0.0208, train_acc:0.6148, val_acc:0.6097\n",
            "epoch:7/20, iteration:100/336, Train Loss:0.0283, Val Loss:0.0258, train_acc:0.6130, val_acc:0.6087\n",
            "epoch:7/20, iteration:150/336, Train Loss:0.0212, Val Loss:0.0184, train_acc:0.6114, val_acc:0.6063\n",
            "epoch:7/20, iteration:200/336, Train Loss:0.0194, Val Loss:0.0197, train_acc:0.6122, val_acc:0.6081\n",
            "epoch:7/20, iteration:250/336, Train Loss:0.0258, Val Loss:0.0181, train_acc:0.6197, val_acc:0.6166\n",
            "epoch:7/20, iteration:300/336, Train Loss:0.0204, Val Loss:0.0182, train_acc:0.6054, val_acc:0.6034\n",
            "epoch:8/20, iteration:50/336, Train Loss:0.0248, Val Loss:0.0182, train_acc:0.6056, val_acc:0.6005\n",
            "epoch:8/20, iteration:100/336, Train Loss:0.0201, Val Loss:0.0186, train_acc:0.5991, val_acc:0.5945\n",
            "epoch:8/20, iteration:150/336, Train Loss:0.0172, Val Loss:0.0168, train_acc:0.6061, val_acc:0.6022\n",
            "epoch:8/20, iteration:200/336, Train Loss:0.0210, Val Loss:0.0188, train_acc:0.6050, val_acc:0.6017\n",
            "epoch:8/20, iteration:250/336, Train Loss:0.0238, Val Loss:0.0164, train_acc:0.6129, val_acc:0.6097\n",
            "epoch:8/20, iteration:300/336, Train Loss:0.0243, Val Loss:0.0188, train_acc:0.6081, val_acc:0.6056\n",
            "epoch:9/20, iteration:50/336, Train Loss:0.0173, Val Loss:0.0182, train_acc:0.6018, val_acc:0.5954\n",
            "epoch:9/20, iteration:100/336, Train Loss:0.0161, Val Loss:0.0225, train_acc:0.6179, val_acc:0.6149\n",
            "epoch:9/20, iteration:150/336, Train Loss:0.0219, Val Loss:0.0160, train_acc:0.6215, val_acc:0.6165\n",
            "epoch:9/20, iteration:200/336, Train Loss:0.0216, Val Loss:0.0159, train_acc:0.6062, val_acc:0.6051\n",
            "epoch:9/20, iteration:250/336, Train Loss:0.0133, Val Loss:0.0154, train_acc:0.6088, val_acc:0.6037\n",
            "epoch:9/20, iteration:300/336, Train Loss:0.0173, Val Loss:0.0180, train_acc:0.6160, val_acc:0.6119\n",
            "epoch:10/20, iteration:50/336, Train Loss:0.0138, Val Loss:0.0230, train_acc:0.6090, val_acc:0.6090\n",
            "epoch:10/20, iteration:100/336, Train Loss:0.0127, Val Loss:0.0171, train_acc:0.6131, val_acc:0.6083\n",
            "epoch:10/20, iteration:150/336, Train Loss:0.0134, Val Loss:0.0149, train_acc:0.6014, val_acc:0.5958\n",
            "epoch:10/20, iteration:200/336, Train Loss:0.0159, Val Loss:0.0159, train_acc:0.6118, val_acc:0.6066\n",
            "epoch:10/20, iteration:250/336, Train Loss:0.0167, Val Loss:0.0151, train_acc:0.6168, val_acc:0.6107\n",
            "epoch:10/20, iteration:300/336, Train Loss:0.0182, Val Loss:0.0160, train_acc:0.6184, val_acc:0.6135\n",
            "epoch:11/20, iteration:50/336, Train Loss:0.0154, Val Loss:0.0165, train_acc:0.6190, val_acc:0.6132\n",
            "epoch:11/20, iteration:100/336, Train Loss:0.0116, Val Loss:0.0213, train_acc:0.6243, val_acc:0.6199\n",
            "epoch:11/20, iteration:150/336, Train Loss:0.0117, Val Loss:0.0143, train_acc:0.6201, val_acc:0.6153\n",
            "epoch:11/20, iteration:200/336, Train Loss:0.0227, Val Loss:0.0230, train_acc:0.6190, val_acc:0.6126\n",
            "epoch:11/20, iteration:250/336, Train Loss:0.0217, Val Loss:0.0212, train_acc:0.6167, val_acc:0.6100\n",
            "epoch:11/20, iteration:300/336, Train Loss:0.0203, Val Loss:0.0224, train_acc:0.6274, val_acc:0.6227\n",
            "epoch:12/20, iteration:50/336, Train Loss:0.0183, Val Loss:0.0165, train_acc:0.6257, val_acc:0.6199\n",
            "epoch:12/20, iteration:100/336, Train Loss:0.0155, Val Loss:0.0212, train_acc:0.6227, val_acc:0.6181\n",
            "epoch:12/20, iteration:150/336, Train Loss:0.0223, Val Loss:0.0225, train_acc:0.6232, val_acc:0.6186\n",
            "epoch:12/20, iteration:200/336, Train Loss:0.0181, Val Loss:0.0144, train_acc:0.6245, val_acc:0.6212\n",
            "epoch:12/20, iteration:250/336, Train Loss:0.0153, Val Loss:0.0147, train_acc:0.6159, val_acc:0.6126\n",
            "epoch:12/20, iteration:300/336, Train Loss:0.0095, Val Loss:0.0151, train_acc:0.6244, val_acc:0.6199\n",
            "epoch:13/20, iteration:50/336, Train Loss:0.0245, Val Loss:0.0210, train_acc:0.6222, val_acc:0.6158\n",
            "epoch:13/20, iteration:100/336, Train Loss:0.0158, Val Loss:0.0145, train_acc:0.6171, val_acc:0.6120\n",
            "epoch:13/20, iteration:150/336, Train Loss:0.0179, Val Loss:0.0206, train_acc:0.6173, val_acc:0.6117\n",
            "epoch:13/20, iteration:200/336, Train Loss:0.0202, Val Loss:0.0200, train_acc:0.6265, val_acc:0.6224\n",
            "epoch:13/20, iteration:250/336, Train Loss:0.0203, Val Loss:0.0154, train_acc:0.6286, val_acc:0.6240\n",
            "epoch:13/20, iteration:300/336, Train Loss:0.0119, Val Loss:0.0129, train_acc:0.6143, val_acc:0.6094\n",
            "epoch:14/20, iteration:50/336, Train Loss:0.0158, Val Loss:0.0212, train_acc:0.6112, val_acc:0.6047\n",
            "epoch:14/20, iteration:100/336, Train Loss:0.0100, Val Loss:0.0152, train_acc:0.6230, val_acc:0.6189\n",
            "epoch:14/20, iteration:150/336, Train Loss:0.0088, Val Loss:0.0128, train_acc:0.6234, val_acc:0.6157\n",
            "epoch:14/20, iteration:200/336, Train Loss:0.0235, Val Loss:0.0207, train_acc:0.6177, val_acc:0.6132\n",
            "epoch:14/20, iteration:250/336, Train Loss:0.0096, Val Loss:0.0126, train_acc:0.6234, val_acc:0.6175\n",
            "epoch:14/20, iteration:300/336, Train Loss:0.0141, Val Loss:0.0140, train_acc:0.6236, val_acc:0.6187\n",
            "epoch:15/20, iteration:50/336, Train Loss:0.0186, Val Loss:0.0123, train_acc:0.6227, val_acc:0.6175\n",
            "epoch:15/20, iteration:100/336, Train Loss:0.0108, Val Loss:0.0213, train_acc:0.6196, val_acc:0.6165\n",
            "epoch:15/20, iteration:150/336, Train Loss:0.0179, Val Loss:0.0146, train_acc:0.6272, val_acc:0.6226\n",
            "epoch:15/20, iteration:200/336, Train Loss:0.0102, Val Loss:0.0122, train_acc:0.6261, val_acc:0.6225\n",
            "epoch:15/20, iteration:250/336, Train Loss:0.0171, Val Loss:0.0124, train_acc:0.6251, val_acc:0.6191\n",
            "epoch:15/20, iteration:300/336, Train Loss:0.0132, Val Loss:0.0203, train_acc:0.6146, val_acc:0.6110\n",
            "epoch:16/20, iteration:50/336, Train Loss:0.0204, Val Loss:0.0152, train_acc:0.6149, val_acc:0.6115\n",
            "epoch:16/20, iteration:100/336, Train Loss:0.0199, Val Loss:0.0139, train_acc:0.6243, val_acc:0.6193\n",
            "epoch:16/20, iteration:150/336, Train Loss:0.0115, Val Loss:0.0122, train_acc:0.6233, val_acc:0.6197\n",
            "epoch:16/20, iteration:200/336, Train Loss:0.0226, Val Loss:0.0153, train_acc:0.6186, val_acc:0.6142\n",
            "epoch:16/20, iteration:250/336, Train Loss:0.0182, Val Loss:0.0136, train_acc:0.6274, val_acc:0.6256\n",
            "epoch:16/20, iteration:300/336, Train Loss:0.0219, Val Loss:0.0122, train_acc:0.6287, val_acc:0.6230\n",
            "epoch:17/20, iteration:50/336, Train Loss:0.0209, Val Loss:0.0150, train_acc:0.6280, val_acc:0.6229\n",
            "epoch:17/20, iteration:100/336, Train Loss:0.0151, Val Loss:0.0134, train_acc:0.6308, val_acc:0.6270\n",
            "epoch:17/20, iteration:150/336, Train Loss:0.0193, Val Loss:0.0117, train_acc:0.6281, val_acc:0.6222\n",
            "epoch:17/20, iteration:200/336, Train Loss:0.0199, Val Loss:0.0129, train_acc:0.6264, val_acc:0.6209\n",
            "epoch:17/20, iteration:250/336, Train Loss:0.0151, Val Loss:0.0148, train_acc:0.6257, val_acc:0.6190\n",
            "epoch:17/20, iteration:300/336, Train Loss:0.0152, Val Loss:0.0135, train_acc:0.6243, val_acc:0.6192\n",
            "epoch:18/20, iteration:50/336, Train Loss:0.0110, Val Loss:0.0210, train_acc:0.6216, val_acc:0.6152\n",
            "epoch:18/20, iteration:100/336, Train Loss:0.0199, Val Loss:0.0191, train_acc:0.6241, val_acc:0.6189\n",
            "epoch:18/20, iteration:150/336, Train Loss:0.0147, Val Loss:0.0191, train_acc:0.6290, val_acc:0.6249\n",
            "epoch:18/20, iteration:200/336, Train Loss:0.0088, Val Loss:0.0110, train_acc:0.6230, val_acc:0.6206\n",
            "epoch:18/20, iteration:250/336, Train Loss:0.0093, Val Loss:0.0138, train_acc:0.6143, val_acc:0.6073\n",
            "epoch:18/20, iteration:300/336, Train Loss:0.0127, Val Loss:0.0110, train_acc:0.6297, val_acc:0.6262\n",
            "epoch:19/20, iteration:50/336, Train Loss:0.0171, Val Loss:0.0115, train_acc:0.6216, val_acc:0.6149\n",
            "epoch:19/20, iteration:100/336, Train Loss:0.0134, Val Loss:0.0137, train_acc:0.6203, val_acc:0.6155\n",
            "epoch:19/20, iteration:150/336, Train Loss:0.0132, Val Loss:0.0114, train_acc:0.6263, val_acc:0.6213\n",
            "epoch:19/20, iteration:200/336, Train Loss:0.0097, Val Loss:0.0144, train_acc:0.6272, val_acc:0.6207\n",
            "epoch:19/20, iteration:250/336, Train Loss:0.0125, Val Loss:0.0208, train_acc:0.6234, val_acc:0.6175\n",
            "epoch:19/20, iteration:300/336, Train Loss:0.0151, Val Loss:0.0114, train_acc:0.6207, val_acc:0.6154\n",
            "epoch:0/10, iteration:50/336, Train Loss:0.0718, Val Loss:0.0696, train_acc:0.4571, val_acc:0.4551\n",
            "epoch:0/10, iteration:100/336, Train Loss:0.0574, Val Loss:0.0556, train_acc:0.5526, val_acc:0.5533\n",
            "epoch:0/10, iteration:150/336, Train Loss:0.0508, Val Loss:0.0493, train_acc:0.5815, val_acc:0.5809\n",
            "epoch:0/10, iteration:200/336, Train Loss:0.0462, Val Loss:0.0470, train_acc:0.5891, val_acc:0.5842\n",
            "epoch:0/10, iteration:250/336, Train Loss:0.0388, Val Loss:0.0415, train_acc:0.5962, val_acc:0.5921\n",
            "epoch:0/10, iteration:300/336, Train Loss:0.0407, Val Loss:0.0420, train_acc:0.6063, val_acc:0.6016\n",
            "epoch:1/10, iteration:50/336, Train Loss:0.0351, Val Loss:0.0357, train_acc:0.6092, val_acc:0.6054\n",
            "epoch:1/10, iteration:100/336, Train Loss:0.0367, Val Loss:0.0359, train_acc:0.6210, val_acc:0.6141\n",
            "epoch:1/10, iteration:150/336, Train Loss:0.0355, Val Loss:0.0349, train_acc:0.6064, val_acc:0.6007\n",
            "epoch:1/10, iteration:200/336, Train Loss:0.0304, Val Loss:0.0347, train_acc:0.6064, val_acc:0.6004\n",
            "epoch:1/10, iteration:250/336, Train Loss:0.0295, Val Loss:0.0323, train_acc:0.6054, val_acc:0.6009\n",
            "epoch:1/10, iteration:300/336, Train Loss:0.0263, Val Loss:0.0300, train_acc:0.6144, val_acc:0.6084\n",
            "epoch:2/10, iteration:50/336, Train Loss:0.0344, Val Loss:0.0326, train_acc:0.5990, val_acc:0.5932\n",
            "epoch:2/10, iteration:100/336, Train Loss:0.0315, Val Loss:0.0330, train_acc:0.5970, val_acc:0.5911\n",
            "epoch:2/10, iteration:150/336, Train Loss:0.0313, Val Loss:0.0279, train_acc:0.6071, val_acc:0.6030\n",
            "epoch:2/10, iteration:200/336, Train Loss:0.0251, Val Loss:0.0309, train_acc:0.5916, val_acc:0.5853\n",
            "epoch:2/10, iteration:250/336, Train Loss:0.0200, Val Loss:0.0307, train_acc:0.6095, val_acc:0.6049\n",
            "epoch:2/10, iteration:300/336, Train Loss:0.0341, Val Loss:0.0244, train_acc:0.6103, val_acc:0.6034\n",
            "epoch:3/10, iteration:50/336, Train Loss:0.0251, Val Loss:0.0245, train_acc:0.6071, val_acc:0.6026\n",
            "epoch:3/10, iteration:100/336, Train Loss:0.0252, Val Loss:0.0259, train_acc:0.5974, val_acc:0.5964\n",
            "epoch:3/10, iteration:150/336, Train Loss:0.0240, Val Loss:0.0245, train_acc:0.5927, val_acc:0.5869\n",
            "epoch:3/10, iteration:200/336, Train Loss:0.0266, Val Loss:0.0258, train_acc:0.6088, val_acc:0.6044\n",
            "epoch:3/10, iteration:250/336, Train Loss:0.0232, Val Loss:0.0287, train_acc:0.6074, val_acc:0.6031\n",
            "epoch:3/10, iteration:300/336, Train Loss:0.0225, Val Loss:0.0249, train_acc:0.6005, val_acc:0.5981\n",
            "epoch:4/10, iteration:50/336, Train Loss:0.0261, Val Loss:0.0262, train_acc:0.6020, val_acc:0.5981\n",
            "epoch:4/10, iteration:100/336, Train Loss:0.0232, Val Loss:0.0268, train_acc:0.5908, val_acc:0.5876\n",
            "epoch:4/10, iteration:150/336, Train Loss:0.0204, Val Loss:0.0263, train_acc:0.5881, val_acc:0.5866\n",
            "epoch:4/10, iteration:200/336, Train Loss:0.0211, Val Loss:0.0264, train_acc:0.5930, val_acc:0.5896\n",
            "epoch:4/10, iteration:250/336, Train Loss:0.0201, Val Loss:0.0205, train_acc:0.6151, val_acc:0.6110\n",
            "epoch:4/10, iteration:300/336, Train Loss:0.0269, Val Loss:0.0207, train_acc:0.6096, val_acc:0.6074\n",
            "epoch:5/10, iteration:50/336, Train Loss:0.0210, Val Loss:0.0259, train_acc:0.6074, val_acc:0.6028\n",
            "epoch:5/10, iteration:100/336, Train Loss:0.0184, Val Loss:0.0201, train_acc:0.5939, val_acc:0.5890\n",
            "epoch:5/10, iteration:150/336, Train Loss:0.0246, Val Loss:0.0239, train_acc:0.6129, val_acc:0.6091\n",
            "epoch:5/10, iteration:200/336, Train Loss:0.0228, Val Loss:0.0201, train_acc:0.6021, val_acc:0.5962\n",
            "epoch:5/10, iteration:250/336, Train Loss:0.0214, Val Loss:0.0186, train_acc:0.6072, val_acc:0.6024\n",
            "epoch:5/10, iteration:300/336, Train Loss:0.0174, Val Loss:0.0250, train_acc:0.6101, val_acc:0.6060\n",
            "epoch:6/10, iteration:50/336, Train Loss:0.0181, Val Loss:0.0231, train_acc:0.5965, val_acc:0.5942\n",
            "epoch:6/10, iteration:100/336, Train Loss:0.0171, Val Loss:0.0223, train_acc:0.5990, val_acc:0.5905\n",
            "epoch:6/10, iteration:150/336, Train Loss:0.0130, Val Loss:0.0169, train_acc:0.5899, val_acc:0.5863\n",
            "epoch:6/10, iteration:200/336, Train Loss:0.0206, Val Loss:0.0168, train_acc:0.6133, val_acc:0.6101\n",
            "epoch:6/10, iteration:250/336, Train Loss:0.0144, Val Loss:0.0183, train_acc:0.6193, val_acc:0.6142\n",
            "epoch:6/10, iteration:300/336, Train Loss:0.0197, Val Loss:0.0236, train_acc:0.6111, val_acc:0.6060\n",
            "epoch:7/10, iteration:50/336, Train Loss:0.0171, Val Loss:0.0231, train_acc:0.5993, val_acc:0.5944\n",
            "epoch:7/10, iteration:100/336, Train Loss:0.0216, Val Loss:0.0152, train_acc:0.6135, val_acc:0.6068\n",
            "epoch:7/10, iteration:150/336, Train Loss:0.0232, Val Loss:0.0232, train_acc:0.6107, val_acc:0.6042\n",
            "epoch:7/10, iteration:200/336, Train Loss:0.0132, Val Loss:0.0211, train_acc:0.6112, val_acc:0.6074\n",
            "epoch:7/10, iteration:250/336, Train Loss:0.0116, Val Loss:0.0152, train_acc:0.6087, val_acc:0.6053\n",
            "epoch:7/10, iteration:300/336, Train Loss:0.0224, Val Loss:0.0216, train_acc:0.6240, val_acc:0.6190\n",
            "epoch:8/10, iteration:50/336, Train Loss:0.0157, Val Loss:0.0146, train_acc:0.6242, val_acc:0.6176\n",
            "epoch:8/10, iteration:100/336, Train Loss:0.0182, Val Loss:0.0154, train_acc:0.6213, val_acc:0.6130\n",
            "epoch:8/10, iteration:150/336, Train Loss:0.0177, Val Loss:0.0161, train_acc:0.6195, val_acc:0.6157\n",
            "epoch:8/10, iteration:200/336, Train Loss:0.0166, Val Loss:0.0152, train_acc:0.6332, val_acc:0.6281\n",
            "epoch:8/10, iteration:250/336, Train Loss:0.0131, Val Loss:0.0154, train_acc:0.6222, val_acc:0.6195\n",
            "epoch:8/10, iteration:300/336, Train Loss:0.0222, Val Loss:0.0216, train_acc:0.6287, val_acc:0.6240\n",
            "epoch:9/10, iteration:50/336, Train Loss:0.0154, Val Loss:0.0135, train_acc:0.6246, val_acc:0.6185\n",
            "epoch:9/10, iteration:100/336, Train Loss:0.0194, Val Loss:0.0193, train_acc:0.6385, val_acc:0.6352\n",
            "epoch:9/10, iteration:150/336, Train Loss:0.0164, Val Loss:0.0145, train_acc:0.6206, val_acc:0.6130\n",
            "epoch:9/10, iteration:200/336, Train Loss:0.0229, Val Loss:0.0143, train_acc:0.6301, val_acc:0.6246\n",
            "epoch:9/10, iteration:250/336, Train Loss:0.0183, Val Loss:0.0135, train_acc:0.6281, val_acc:0.6215\n",
            "epoch:9/10, iteration:300/336, Train Loss:0.0127, Val Loss:0.0157, train_acc:0.6195, val_acc:0.6133\n",
            "epoch:0/10, iteration:50/168, Train Loss:0.0778, Val Loss:0.0779, train_acc:0.4422, val_acc:0.4416\n",
            "epoch:0/10, iteration:100/168, Train Loss:0.0753, Val Loss:0.0708, train_acc:0.4594, val_acc:0.4583\n",
            "epoch:0/10, iteration:150/168, Train Loss:0.0674, Val Loss:0.0696, train_acc:0.4597, val_acc:0.4588\n",
            "epoch:1/10, iteration:50/168, Train Loss:0.0583, Val Loss:0.0573, train_acc:0.5227, val_acc:0.5230\n",
            "epoch:1/10, iteration:100/168, Train Loss:0.0526, Val Loss:0.0541, train_acc:0.5591, val_acc:0.5590\n",
            "epoch:1/10, iteration:150/168, Train Loss:0.0558, Val Loss:0.0529, train_acc:0.5730, val_acc:0.5731\n",
            "epoch:2/10, iteration:50/168, Train Loss:0.0503, Val Loss:0.0505, train_acc:0.5756, val_acc:0.5751\n",
            "epoch:2/10, iteration:100/168, Train Loss:0.0486, Val Loss:0.0498, train_acc:0.5811, val_acc:0.5804\n",
            "epoch:2/10, iteration:150/168, Train Loss:0.0496, Val Loss:0.0488, train_acc:0.5755, val_acc:0.5755\n",
            "epoch:3/10, iteration:50/168, Train Loss:0.0460, Val Loss:0.0459, train_acc:0.5803, val_acc:0.5787\n",
            "epoch:3/10, iteration:100/168, Train Loss:0.0414, Val Loss:0.0446, train_acc:0.5756, val_acc:0.5739\n",
            "epoch:3/10, iteration:150/168, Train Loss:0.0434, Val Loss:0.0417, train_acc:0.5877, val_acc:0.5853\n",
            "epoch:4/10, iteration:50/168, Train Loss:0.0404, Val Loss:0.0421, train_acc:0.5805, val_acc:0.5828\n",
            "epoch:4/10, iteration:100/168, Train Loss:0.0375, Val Loss:0.0403, train_acc:0.5809, val_acc:0.5808\n",
            "epoch:4/10, iteration:150/168, Train Loss:0.0370, Val Loss:0.0418, train_acc:0.5766, val_acc:0.5783\n",
            "epoch:5/10, iteration:50/168, Train Loss:0.0343, Val Loss:0.0417, train_acc:0.5852, val_acc:0.5856\n",
            "epoch:5/10, iteration:100/168, Train Loss:0.0361, Val Loss:0.0362, train_acc:0.5901, val_acc:0.5900\n",
            "epoch:5/10, iteration:150/168, Train Loss:0.0335, Val Loss:0.0341, train_acc:0.5891, val_acc:0.5877\n",
            "epoch:6/10, iteration:50/168, Train Loss:0.0412, Val Loss:0.0350, train_acc:0.5850, val_acc:0.5864\n",
            "epoch:6/10, iteration:100/168, Train Loss:0.0331, Val Loss:0.0376, train_acc:0.5813, val_acc:0.5830\n",
            "epoch:6/10, iteration:150/168, Train Loss:0.0350, Val Loss:0.0346, train_acc:0.5875, val_acc:0.5877\n",
            "epoch:7/10, iteration:50/168, Train Loss:0.0365, Val Loss:0.0367, train_acc:0.5863, val_acc:0.5847\n",
            "epoch:7/10, iteration:100/168, Train Loss:0.0413, Val Loss:0.0359, train_acc:0.6017, val_acc:0.6006\n",
            "epoch:7/10, iteration:150/168, Train Loss:0.0383, Val Loss:0.0356, train_acc:0.5891, val_acc:0.5893\n",
            "epoch:8/10, iteration:50/168, Train Loss:0.0392, Val Loss:0.0353, train_acc:0.5994, val_acc:0.5986\n",
            "epoch:8/10, iteration:100/168, Train Loss:0.0324, Val Loss:0.0324, train_acc:0.5988, val_acc:0.5992\n",
            "epoch:8/10, iteration:150/168, Train Loss:0.0391, Val Loss:0.0324, train_acc:0.5995, val_acc:0.5998\n",
            "epoch:9/10, iteration:50/168, Train Loss:0.0310, Val Loss:0.0321, train_acc:0.6009, val_acc:0.6011\n",
            "epoch:9/10, iteration:100/168, Train Loss:0.0322, Val Loss:0.0385, train_acc:0.6009, val_acc:0.6008\n",
            "epoch:9/10, iteration:150/168, Train Loss:0.0323, Val Loss:0.0326, train_acc:0.6006, val_acc:0.6019\n"
          ]
        }
      ],
      "source": [
        "from torch.utils.data import DataLoader\n",
        "import matplotlib.pyplot as plt\n",
        "\n",
        "batch_size_list = [32, 64, 64, 128]\n",
        "num_epochs_list = [30, 20, 10, 10]\n",
        "learning_rate_list = [0.0001, 0.005, 0.01, 0.001]\n",
        "for i in range(len(batch_size_list)):\n",
        "  model = AutoEncoder()\n",
        "  train_loader = DataLoader(train_data, batch_size=batch_size_list[i], shuffle=True)  \n",
        "  valid_loader = DataLoader(validation_data, batch_size=batch_size_list[i], shuffle=False)\n",
        "  curves = train(model, train_loader, valid_loader, num_epochs=num_epochs_list[i], learning_rate=learning_rate_list[i])  "
      ]
    },
    {
      "cell_type": "markdown",
      "source": [
        "**The best model:**"
      ],
      "metadata": {
        "id": "_3uzkTTMTeBL"
      }
    },
    {
      "cell_type": "code",
      "source": [
        "from torch.utils.data import DataLoader\n",
        "import matplotlib.pyplot as plt\n",
        "\n",
        "model = AutoEncoder()\n",
        "train_loader = DataLoader(train_data, batch_size=64, shuffle=True)  \n",
        "valid_loader = DataLoader(validation_data, batch_size=64, shuffle=False)\n",
        "curves = train(model, train_loader, valid_loader, num_epochs=20, learning_rate=0.005)  "
      ],
      "metadata": {
        "colab": {
          "base_uri": "https://localhost:8080/"
        },
        "id": "Uz9SUDpITaIg",
        "outputId": "1fcf26aa-2e30-46d8-a340-556bfe2be9c3"
      },
      "execution_count": null,
      "outputs": [
        {
          "output_type": "stream",
          "name": "stdout",
          "text": [
            "epoch:0/20, iteration:50/336, Train Loss:0.0757, Val Loss:0.0734, train_acc:0.4591, val_acc:0.4580\n",
            "epoch:0/20, iteration:100/336, Train Loss:0.0606, Val Loss:0.0587, train_acc:0.5408, val_acc:0.5423\n",
            "epoch:0/20, iteration:150/336, Train Loss:0.0543, Val Loss:0.0529, train_acc:0.5713, val_acc:0.5715\n",
            "epoch:0/20, iteration:200/336, Train Loss:0.0533, Val Loss:0.0498, train_acc:0.5744, val_acc:0.5725\n",
            "epoch:0/20, iteration:250/336, Train Loss:0.0464, Val Loss:0.0480, train_acc:0.5827, val_acc:0.5805\n",
            "epoch:0/20, iteration:300/336, Train Loss:0.0427, Val Loss:0.0460, train_acc:0.5917, val_acc:0.5898\n",
            "epoch:1/20, iteration:50/336, Train Loss:0.0408, Val Loss:0.0401, train_acc:0.6014, val_acc:0.6013\n",
            "epoch:1/20, iteration:100/336, Train Loss:0.0420, Val Loss:0.0382, train_acc:0.6059, val_acc:0.6052\n",
            "epoch:1/20, iteration:150/336, Train Loss:0.0430, Val Loss:0.0386, train_acc:0.5971, val_acc:0.5968\n",
            "epoch:1/20, iteration:200/336, Train Loss:0.0327, Val Loss:0.0348, train_acc:0.6034, val_acc:0.6006\n",
            "epoch:1/20, iteration:250/336, Train Loss:0.0339, Val Loss:0.0346, train_acc:0.6037, val_acc:0.6011\n",
            "epoch:1/20, iteration:300/336, Train Loss:0.0315, Val Loss:0.0331, train_acc:0.6095, val_acc:0.6062\n",
            "epoch:2/20, iteration:50/336, Train Loss:0.0351, Val Loss:0.0352, train_acc:0.6178, val_acc:0.6143\n",
            "epoch:2/20, iteration:100/336, Train Loss:0.0320, Val Loss:0.0315, train_acc:0.6249, val_acc:0.6218\n",
            "epoch:2/20, iteration:150/336, Train Loss:0.0362, Val Loss:0.0311, train_acc:0.6180, val_acc:0.6121\n",
            "epoch:2/20, iteration:200/336, Train Loss:0.0295, Val Loss:0.0316, train_acc:0.6135, val_acc:0.6093\n",
            "epoch:2/20, iteration:250/336, Train Loss:0.0270, Val Loss:0.0305, train_acc:0.6091, val_acc:0.6065\n",
            "epoch:2/20, iteration:300/336, Train Loss:0.0350, Val Loss:0.0325, train_acc:0.6138, val_acc:0.6090\n",
            "epoch:3/20, iteration:50/336, Train Loss:0.0289, Val Loss:0.0280, train_acc:0.6120, val_acc:0.6088\n",
            "epoch:3/20, iteration:100/336, Train Loss:0.0287, Val Loss:0.0298, train_acc:0.5990, val_acc:0.5926\n",
            "epoch:3/20, iteration:150/336, Train Loss:0.0266, Val Loss:0.0288, train_acc:0.6144, val_acc:0.6088\n",
            "epoch:3/20, iteration:200/336, Train Loss:0.0266, Val Loss:0.0283, train_acc:0.6096, val_acc:0.6055\n",
            "epoch:3/20, iteration:250/336, Train Loss:0.0296, Val Loss:0.0273, train_acc:0.6183, val_acc:0.6113\n",
            "epoch:3/20, iteration:300/336, Train Loss:0.0224, Val Loss:0.0274, train_acc:0.6232, val_acc:0.6174\n",
            "epoch:4/20, iteration:50/336, Train Loss:0.0256, Val Loss:0.0288, train_acc:0.6180, val_acc:0.6134\n",
            "epoch:4/20, iteration:100/336, Train Loss:0.0300, Val Loss:0.0244, train_acc:0.6163, val_acc:0.6122\n",
            "epoch:4/20, iteration:150/336, Train Loss:0.0287, Val Loss:0.0242, train_acc:0.6207, val_acc:0.6150\n",
            "epoch:4/20, iteration:200/336, Train Loss:0.0247, Val Loss:0.0272, train_acc:0.6173, val_acc:0.6130\n",
            "epoch:4/20, iteration:250/336, Train Loss:0.0234, Val Loss:0.0265, train_acc:0.6171, val_acc:0.6105\n",
            "epoch:4/20, iteration:300/336, Train Loss:0.0248, Val Loss:0.0266, train_acc:0.6235, val_acc:0.6179\n",
            "epoch:5/20, iteration:50/336, Train Loss:0.0222, Val Loss:0.0262, train_acc:0.6201, val_acc:0.6133\n",
            "epoch:5/20, iteration:100/336, Train Loss:0.0236, Val Loss:0.0257, train_acc:0.6193, val_acc:0.6114\n",
            "epoch:5/20, iteration:150/336, Train Loss:0.0213, Val Loss:0.0211, train_acc:0.6189, val_acc:0.6101\n",
            "epoch:5/20, iteration:200/336, Train Loss:0.0286, Val Loss:0.0228, train_acc:0.6179, val_acc:0.6101\n",
            "epoch:5/20, iteration:250/336, Train Loss:0.0242, Val Loss:0.0215, train_acc:0.6145, val_acc:0.6087\n",
            "epoch:5/20, iteration:300/336, Train Loss:0.0197, Val Loss:0.0248, train_acc:0.6108, val_acc:0.6043\n",
            "epoch:6/20, iteration:50/336, Train Loss:0.0195, Val Loss:0.0185, train_acc:0.6158, val_acc:0.6095\n",
            "epoch:6/20, iteration:100/336, Train Loss:0.0224, Val Loss:0.0250, train_acc:0.6133, val_acc:0.6067\n",
            "epoch:6/20, iteration:150/336, Train Loss:0.0206, Val Loss:0.0215, train_acc:0.6174, val_acc:0.6141\n",
            "epoch:6/20, iteration:200/336, Train Loss:0.0144, Val Loss:0.0205, train_acc:0.6201, val_acc:0.6134\n",
            "epoch:6/20, iteration:250/336, Train Loss:0.0223, Val Loss:0.0216, train_acc:0.6178, val_acc:0.6106\n",
            "epoch:6/20, iteration:300/336, Train Loss:0.0189, Val Loss:0.0199, train_acc:0.6139, val_acc:0.6049\n",
            "epoch:7/20, iteration:50/336, Train Loss:0.0193, Val Loss:0.0238, train_acc:0.6174, val_acc:0.6109\n",
            "epoch:7/20, iteration:100/336, Train Loss:0.0233, Val Loss:0.0242, train_acc:0.6205, val_acc:0.6126\n",
            "epoch:7/20, iteration:150/336, Train Loss:0.0212, Val Loss:0.0174, train_acc:0.6229, val_acc:0.6123\n",
            "epoch:7/20, iteration:200/336, Train Loss:0.0234, Val Loss:0.0235, train_acc:0.6178, val_acc:0.6105\n",
            "epoch:7/20, iteration:250/336, Train Loss:0.0155, Val Loss:0.0168, train_acc:0.6111, val_acc:0.6067\n",
            "epoch:7/20, iteration:300/336, Train Loss:0.0176, Val Loss:0.0238, train_acc:0.6111, val_acc:0.6043\n",
            "epoch:8/20, iteration:50/336, Train Loss:0.0170, Val Loss:0.0180, train_acc:0.6120, val_acc:0.6054\n",
            "epoch:8/20, iteration:100/336, Train Loss:0.0161, Val Loss:0.0207, train_acc:0.6228, val_acc:0.6158\n",
            "epoch:8/20, iteration:150/336, Train Loss:0.0191, Val Loss:0.0235, train_acc:0.6214, val_acc:0.6165\n",
            "epoch:8/20, iteration:200/336, Train Loss:0.0202, Val Loss:0.0169, train_acc:0.6268, val_acc:0.6185\n",
            "epoch:8/20, iteration:250/336, Train Loss:0.0207, Val Loss:0.0174, train_acc:0.6317, val_acc:0.6268\n",
            "epoch:8/20, iteration:300/336, Train Loss:0.0238, Val Loss:0.0174, train_acc:0.6211, val_acc:0.6159\n",
            "epoch:9/20, iteration:50/336, Train Loss:0.0238, Val Loss:0.0226, train_acc:0.6215, val_acc:0.6183\n",
            "epoch:9/20, iteration:100/336, Train Loss:0.0230, Val Loss:0.0174, train_acc:0.6213, val_acc:0.6161\n",
            "epoch:9/20, iteration:150/336, Train Loss:0.0167, Val Loss:0.0219, train_acc:0.6097, val_acc:0.6031\n",
            "epoch:9/20, iteration:200/336, Train Loss:0.0264, Val Loss:0.0171, train_acc:0.6261, val_acc:0.6191\n",
            "epoch:9/20, iteration:250/336, Train Loss:0.0142, Val Loss:0.0219, train_acc:0.6148, val_acc:0.6113\n",
            "epoch:9/20, iteration:300/336, Train Loss:0.0185, Val Loss:0.0175, train_acc:0.6183, val_acc:0.6109\n",
            "epoch:10/20, iteration:50/336, Train Loss:0.0142, Val Loss:0.0170, train_acc:0.6121, val_acc:0.6049\n",
            "epoch:10/20, iteration:100/336, Train Loss:0.0216, Val Loss:0.0173, train_acc:0.6165, val_acc:0.6108\n",
            "epoch:10/20, iteration:150/336, Train Loss:0.0186, Val Loss:0.0163, train_acc:0.6239, val_acc:0.6154\n",
            "epoch:10/20, iteration:200/336, Train Loss:0.0218, Val Loss:0.0223, train_acc:0.6188, val_acc:0.6105\n",
            "epoch:10/20, iteration:250/336, Train Loss:0.0156, Val Loss:0.0222, train_acc:0.6157, val_acc:0.6090\n",
            "epoch:10/20, iteration:300/336, Train Loss:0.0236, Val Loss:0.0159, train_acc:0.6176, val_acc:0.6104\n",
            "epoch:11/20, iteration:50/336, Train Loss:0.0172, Val Loss:0.0214, train_acc:0.6178, val_acc:0.6089\n",
            "epoch:11/20, iteration:100/336, Train Loss:0.0104, Val Loss:0.0221, train_acc:0.6259, val_acc:0.6182\n",
            "epoch:11/20, iteration:150/336, Train Loss:0.0156, Val Loss:0.0162, train_acc:0.6215, val_acc:0.6124\n",
            "epoch:11/20, iteration:200/336, Train Loss:0.0225, Val Loss:0.0152, train_acc:0.6253, val_acc:0.6193\n",
            "epoch:11/20, iteration:250/336, Train Loss:0.0201, Val Loss:0.0223, train_acc:0.6229, val_acc:0.6166\n",
            "epoch:11/20, iteration:300/336, Train Loss:0.0192, Val Loss:0.0152, train_acc:0.6185, val_acc:0.6104\n",
            "epoch:12/20, iteration:50/336, Train Loss:0.0161, Val Loss:0.0160, train_acc:0.6219, val_acc:0.6174\n",
            "epoch:12/20, iteration:100/336, Train Loss:0.0112, Val Loss:0.0219, train_acc:0.6197, val_acc:0.6107\n",
            "epoch:12/20, iteration:150/336, Train Loss:0.0189, Val Loss:0.0163, train_acc:0.6196, val_acc:0.6120\n",
            "epoch:12/20, iteration:200/336, Train Loss:0.0125, Val Loss:0.0208, train_acc:0.6255, val_acc:0.6186\n",
            "epoch:12/20, iteration:250/336, Train Loss:0.0201, Val Loss:0.0223, train_acc:0.6238, val_acc:0.6173\n",
            "epoch:12/20, iteration:300/336, Train Loss:0.0104, Val Loss:0.0152, train_acc:0.6232, val_acc:0.6152\n",
            "epoch:13/20, iteration:50/336, Train Loss:0.0217, Val Loss:0.0141, train_acc:0.6217, val_acc:0.6152\n",
            "epoch:13/20, iteration:100/336, Train Loss:0.0198, Val Loss:0.0140, train_acc:0.6215, val_acc:0.6154\n",
            "epoch:13/20, iteration:150/336, Train Loss:0.0226, Val Loss:0.0150, train_acc:0.6179, val_acc:0.6106\n",
            "epoch:13/20, iteration:200/336, Train Loss:0.0152, Val Loss:0.0139, train_acc:0.6126, val_acc:0.6079\n",
            "epoch:13/20, iteration:250/336, Train Loss:0.0154, Val Loss:0.0206, train_acc:0.6315, val_acc:0.6233\n",
            "epoch:13/20, iteration:300/336, Train Loss:0.0153, Val Loss:0.0217, train_acc:0.6242, val_acc:0.6197\n",
            "epoch:14/20, iteration:50/336, Train Loss:0.0166, Val Loss:0.0207, train_acc:0.6263, val_acc:0.6167\n",
            "epoch:14/20, iteration:100/336, Train Loss:0.0184, Val Loss:0.0202, train_acc:0.6188, val_acc:0.6112\n",
            "epoch:14/20, iteration:150/336, Train Loss:0.0159, Val Loss:0.0142, train_acc:0.6183, val_acc:0.6097\n",
            "epoch:14/20, iteration:200/336, Train Loss:0.0204, Val Loss:0.0144, train_acc:0.6225, val_acc:0.6143\n",
            "epoch:14/20, iteration:250/336, Train Loss:0.0106, Val Loss:0.0206, train_acc:0.6201, val_acc:0.6135\n",
            "epoch:14/20, iteration:300/336, Train Loss:0.0133, Val Loss:0.0147, train_acc:0.6365, val_acc:0.6276\n",
            "epoch:15/20, iteration:50/336, Train Loss:0.0128, Val Loss:0.0135, train_acc:0.6269, val_acc:0.6203\n",
            "epoch:15/20, iteration:100/336, Train Loss:0.0206, Val Loss:0.0134, train_acc:0.6216, val_acc:0.6136\n",
            "epoch:15/20, iteration:150/336, Train Loss:0.0204, Val Loss:0.0212, train_acc:0.6199, val_acc:0.6126\n",
            "epoch:15/20, iteration:200/336, Train Loss:0.0168, Val Loss:0.0209, train_acc:0.6336, val_acc:0.6256\n",
            "epoch:15/20, iteration:250/336, Train Loss:0.0168, Val Loss:0.0126, train_acc:0.6357, val_acc:0.6292\n",
            "epoch:15/20, iteration:300/336, Train Loss:0.0192, Val Loss:0.0144, train_acc:0.6370, val_acc:0.6293\n",
            "epoch:16/20, iteration:50/336, Train Loss:0.0202, Val Loss:0.0210, train_acc:0.6172, val_acc:0.6113\n",
            "epoch:16/20, iteration:100/336, Train Loss:0.0174, Val Loss:0.0191, train_acc:0.6307, val_acc:0.6207\n",
            "epoch:16/20, iteration:150/336, Train Loss:0.0196, Val Loss:0.0194, train_acc:0.6321, val_acc:0.6260\n",
            "epoch:16/20, iteration:200/336, Train Loss:0.0221, Val Loss:0.0139, train_acc:0.6339, val_acc:0.6250\n",
            "epoch:16/20, iteration:250/336, Train Loss:0.0190, Val Loss:0.0204, train_acc:0.6285, val_acc:0.6216\n",
            "epoch:16/20, iteration:300/336, Train Loss:0.0185, Val Loss:0.0205, train_acc:0.6294, val_acc:0.6210\n",
            "epoch:17/20, iteration:50/336, Train Loss:0.0189, Val Loss:0.0140, train_acc:0.6346, val_acc:0.6272\n",
            "epoch:17/20, iteration:100/336, Train Loss:0.0148, Val Loss:0.0160, train_acc:0.6254, val_acc:0.6189\n",
            "epoch:17/20, iteration:150/336, Train Loss:0.0128, Val Loss:0.0191, train_acc:0.6259, val_acc:0.6202\n",
            "epoch:17/20, iteration:200/336, Train Loss:0.0198, Val Loss:0.0140, train_acc:0.6267, val_acc:0.6224\n",
            "epoch:17/20, iteration:250/336, Train Loss:0.0132, Val Loss:0.0121, train_acc:0.6330, val_acc:0.6252\n",
            "epoch:17/20, iteration:300/336, Train Loss:0.0161, Val Loss:0.0199, train_acc:0.6328, val_acc:0.6278\n",
            "epoch:18/20, iteration:50/336, Train Loss:0.0096, Val Loss:0.0148, train_acc:0.6321, val_acc:0.6254\n",
            "epoch:18/20, iteration:100/336, Train Loss:0.0200, Val Loss:0.0158, train_acc:0.6237, val_acc:0.6157\n",
            "epoch:18/20, iteration:150/336, Train Loss:0.0166, Val Loss:0.0192, train_acc:0.6387, val_acc:0.6345\n",
            "epoch:18/20, iteration:200/336, Train Loss:0.0097, Val Loss:0.0204, train_acc:0.6251, val_acc:0.6191\n",
            "epoch:18/20, iteration:250/336, Train Loss:0.0189, Val Loss:0.0147, train_acc:0.6345, val_acc:0.6274\n",
            "epoch:18/20, iteration:300/336, Train Loss:0.0111, Val Loss:0.0126, train_acc:0.6358, val_acc:0.6313\n",
            "epoch:19/20, iteration:50/336, Train Loss:0.0160, Val Loss:0.0131, train_acc:0.6375, val_acc:0.6329\n",
            "epoch:19/20, iteration:100/336, Train Loss:0.0231, Val Loss:0.0152, train_acc:0.6283, val_acc:0.6237\n",
            "epoch:19/20, iteration:150/336, Train Loss:0.0190, Val Loss:0.0146, train_acc:0.6386, val_acc:0.6355\n",
            "epoch:19/20, iteration:200/336, Train Loss:0.0093, Val Loss:0.0117, train_acc:0.6335, val_acc:0.6262\n",
            "epoch:19/20, iteration:250/336, Train Loss:0.0137, Val Loss:0.0134, train_acc:0.6221, val_acc:0.6173\n",
            "epoch:19/20, iteration:300/336, Train Loss:0.0118, Val Loss:0.0198, train_acc:0.6143, val_acc:0.6112\n"
          ]
        }
      ]
    },
    {
      "cell_type": "code",
      "source": [
        "plt.figure(figsize=(20,5))\n",
        "plt.subplot(1, 2, 1) # row 1, col 2 index 1\n",
        "plt.plot(curves[\"train_losses\"], color='b', label='train_loss')\n",
        "plt.plot(curves[\"val_losses\"], color='r', label='validation_loss')\n",
        "plt.title(\"Loss plot\")\n",
        "plt.xlabel('Iterations')\n",
        "plt.ylabel('Loss')\n",
        "plt.legend()\n",
        "\n",
        "plt.subplot(1, 2, 2) # index 2\n",
        "plt.plot(curves[\"train_accs\"], color='b', label='train_accs')\n",
        "plt.plot(curves[\"val_accs\"], color='r', label='validation_accs')\n",
        "plt.title(\"Accuracy plot\")\n",
        "plt.xlabel('Iterations')\n",
        "plt.ylabel('Accuracy')\n",
        "plt.legend()"
      ],
      "metadata": {
        "colab": {
          "base_uri": "https://localhost:8080/",
          "height": 315
        },
        "id": "_05lQp3cTwI0",
        "outputId": "60fcb926-d214-45a0-ca80-dae8e6466c42"
      },
      "execution_count": null,
      "outputs": [
        {
          "output_type": "execute_result",
          "data": {
            "text/plain": [
              "<matplotlib.legend.Legend at 0x7fcd39303f10>"
            ]
          },
          "metadata": {},
          "execution_count": 33
        },
        {
          "output_type": "display_data",
          "data": {
            "text/plain": [
              "<Figure size 1440x360 with 2 Axes>"
            ],
            "image/png": "[encoded data removed]"
          },
          "metadata": {
            "needs_background": "light"
          }
        }
      ]
    },
    {
      "cell_type": "markdown",
      "metadata": {
        "id": "ymCsZH291prI"
      },
      "source": [
        "## Part 4. Testing [12 pt]\n",
        "\n",
        "### Part (a) [2 pt]\n",
        "\n",
        "Compute and report the test accuracy."
      ]
    },
    {
      "cell_type": "code",
      "execution_count": null,
      "metadata": {
        "colab": {
          "base_uri": "https://localhost:8080/"
        },
        "collapsed": true,
        "id": "0OkSbup91prJ",
        "jupyter": {
          "outputs_hidden": true
        },
        "outputId": "d5ee35a4-0636-4f9f-8bba-45add440f5b6"
      },
      "outputs": [
        {
          "output_type": "stream",
          "name": "stdout",
          "text": [
            "The test accuracy of my best model is: 0.6287977430555556\n"
          ]
        }
      ],
      "source": [
        "test_loader = DataLoader(test_data, batch_size=64, shuffle=True)\n",
        "\n",
        "print(\"The test accuracy of my best model is:\", get_accuracy(model, test_loader))"
      ]
    },
    {
      "cell_type": "markdown",
      "metadata": {
        "id": "UEe9yt6L1prM"
      },
      "source": [
        "### Part (b) [4 pt]\n",
        "\n",
        "Based on the test accuracy alone, it is difficult to assess whether our model\n",
        "is actually performing well. We don't know whether a high accuracy is due to\n",
        "the simplicity of the problem, or if a poor accuracy is a result of the inherent\n",
        "difficulty of the problem.\n",
        "\n",
        "It is therefore very important to be able to compare our model to at least one\n",
        "alternative. In particular, we consider a simple **baseline**\n",
        "model that is not very computationally expensive. Our neural network\n",
        "should at least outperform this baseline model. If our network is not much\n",
        "better than the baseline, then it is not doing well.\n",
        "\n",
        "For our data imputation problem, consider the following baseline model:\n",
        "to predict a missing feature, the baseline model will look at the **most common value** of the feature in the training set. \n",
        "\n",
        "For example, if the feature \"marriage\" is missing, then this model's prediction will be the most common value for \"marriage\" in the training set, which happens to be \"Married-civ-spouse\".\n",
        "\n",
        "What would be the test accuracy of this baseline model?\n"
      ]
    },
    {
      "cell_type": "code",
      "execution_count": null,
      "metadata": {
        "collapsed": true,
        "id": "p45VHp011prN",
        "jupyter": {
          "outputs_hidden": true
        }
      },
      "outputs": [],
      "source": []
    },
    {
      "cell_type": "markdown",
      "metadata": {
        "id": "QlHu0wxh1prP"
      },
      "source": [
        "### Part (c) [1 pt]\n",
        "\n",
        "How does your test accuracy from part (a) compared to your basline test accuracy in part (b)?"
      ]
    },
    {
      "cell_type": "code",
      "execution_count": null,
      "metadata": {
        "collapsed": true,
        "id": "1KQdwE_n1prQ",
        "jupyter": {
          "outputs_hidden": true
        }
      },
      "outputs": [],
      "source": []
    },
    {
      "cell_type": "markdown",
      "metadata": {
        "id": "DfQPgu1Q1prS"
      },
      "source": [
        "### Part (d) [1 pt]\n",
        "\n",
        "Look at the first item in your test data. \n",
        "Do you think it is reasonable for a human\n",
        "to be able to guess this person's education level\n",
        "based on their other features? Explain."
      ]
    },
    {
      "cell_type": "code",
      "execution_count": null,
      "metadata": {
        "collapsed": true,
        "id": "3qbQ1vvT1prT",
        "jupyter": {
          "outputs_hidden": true
        }
      },
      "outputs": [],
      "source": []
    },
    {
      "cell_type": "markdown",
      "metadata": {
        "id": "p_d5uuAY1prZ"
      },
      "source": [
        "### Part (e) [2 pt]\n",
        "\n",
        "What is your model's prediction of this person's education\n",
        "level, given their other features?\n"
      ]
    },
    {
      "cell_type": "code",
      "execution_count": null,
      "metadata": {
        "collapsed": true,
        "id": "kBY5gKXR1pra",
        "jupyter": {
          "outputs_hidden": true
        }
      },
      "outputs": [],
      "source": []
    },
    {
      "cell_type": "markdown",
      "metadata": {
        "id": "fdLNA0ce1prd"
      },
      "source": [
        "### Part (f) [2 pt]\n",
        "\n",
        "What is the baseline model's prediction\n",
        "of this person's education level?"
      ]
    },
    {
      "cell_type": "code",
      "execution_count": null,
      "metadata": {
        "collapsed": true,
        "id": "TXgoM9qk1prd",
        "jupyter": {
          "outputs_hidden": true
        }
      },
      "outputs": [],
      "source": []
    }
  ],
  "metadata": {
    "colab": {
      "collapsed_sections": [
        "UEe9yt6L1prM",
        "QlHu0wxh1prP",
        "DfQPgu1Q1prS",
        "p_d5uuAY1prZ",
        "fdLNA0ce1prd"
      ],
      "provenance": []
    },
    "kernelspec": {
      "display_name": "Python 3 (ipykernel)",
      "language": "python",
      "name": "python3"
    },
    "language_info": {
      "codemirror_mode": {
        "name": "ipython",
        "version": 3
      },
      "file_extension": ".py",
      "mimetype": "text/x-python",
      "name": "python",
      "nbconvert_exporter": "python",
      "pygments_lexer": "ipython3",
      "version": "3.9.4"
    }
  },
  "nbformat": 4,
  "nbformat_minor": 0
}