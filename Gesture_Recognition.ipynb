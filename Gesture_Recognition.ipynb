{
  "cells": [
    {
      "cell_type": "markdown",
      "metadata": {
        "id": "X6WDvajSqIDs"
      },
      "source": [
        "# Lab 3: Gesture Recognition using Convolutional Neural Networks\n",
        "\n",
        "In this lab you will train a convolutional neural network to make classifications on different hand gestures. By the end of the lab, you should be able to:\n",
        "\n",
        "1. Load and split data for training, validation and testing\n",
        "2. Train a Convolutional Neural Network\n",
        "3. Apply transfer learning to improve your model\n",
        "\n",
        "Note that for this lab we will not be providing you with any starter code. You should be able to take the code used in previous labs, tutorials and lectures and modify it accordingly to complete the tasks outlined below.\n",
        "\n",
        "### What to submit\n",
        "\n",
        "Submit a PDF file containing all your code, outputs, and write-up\n",
        "from parts 1-5. You can produce a PDF of your Google Colab file by\n",
        "going to **File > Print** and then save as PDF. The Colab instructions\n",
        "has more information. Make sure to review the PDF submission to ensure that your answers are easy to read. Make sure that your text is not cut off at the margins. \n",
        "\n",
        "**Do not submit any other files produced by your code.**\n",
        "\n",
        "Include a link to your colab file in your submission.\n",
        "\n",
        "Please use Google Colab to complete this assignment. If you want to use Jupyter Notebook, please complete the assignment and upload your Jupyter Notebook file to Google Colab for submission. "
      ]
    },
    {
      "cell_type": "markdown",
      "metadata": {
        "id": "kvTXpH_kqIDy"
      },
      "source": [
        "## Dataset\n",
        "\n",
        "American Sign Language (ASL) is a complete, complex language that employs signs made by moving the\n",
        "hands combined with facial expressions and postures of the body. It is the primary language of many\n",
        "North Americans who are deaf and is one of several communication options used by people who are deaf or\n",
        "hard-of-hearing. The hand gestures representing English alphabet are shown below. This lab focuses on classifying a subset\n",
        "of these hand gesture images using convolutional neural networks. Specifically, given an image of a hand\n",
        "showing one of the letters A-I, we want to detect which letter is being represented.\n",
        "\n",
        "![alt text](https://www.disabled-world.com/pics/1/asl-alphabet.jpg)"
      ]
    },
    {
      "cell_type": "markdown",
      "metadata": {
        "id": "bJxMgWGNqID2"
      },
      "source": [
        "## Part B. Building a CNN [50 pt]\n",
        "\n",
        "For this lab, we are not going to give you any starter code. You will be writing a convolutional neural network\n",
        "from scratch. You are welcome to use any code from previous labs, lectures and tutorials. You should also\n",
        "write your own code.\n",
        "\n",
        "You may use the PyTorch documentation freely. You might also find online tutorials helpful. However, all\n",
        "code that you submit must be your own.\n",
        "\n",
        "Make sure that your code is vectorized, and does not contain obvious inefficiencies (for example, unecessary\n",
        "for loops, or unnecessary calls to unsqueeze()). Ensure enough comments are included in the code so that\n",
        "your TA can understand what you are doing. It is your responsibility to show that you understand what you\n",
        "write.\n",
        "\n",
        "**This is much more challenging and time-consuming than the previous labs.** Make sure that you\n",
        "give yourself plenty of time by starting early."
      ]
    },
    {
      "cell_type": "markdown",
      "metadata": {
        "id": "MiDuQaAh56sT"
      },
      "source": [
        "### 1. Data Loading and Splitting [5 pt]\n",
        "\n",
        "Download the anonymized data provided on Quercus. To allow you to get a heads start on this project we will provide you with sample data from previous years. Split the data into training, validation, and test sets.\n",
        "\n",
        "Note: Data splitting is not as trivial in this lab. We want our test set to closely resemble the setting in which\n",
        "our model will be used. In particular, our test set should contain hands that are never seen in training!\n",
        "\n",
        "Explain how you split the data, either by describing what you did, or by showing the code that you used.\n",
        "Justify your choice of splitting strategy. How many training, validation, and test images do you have?\n",
        "\n",
        "For loading the data, you can use plt.imread as in Lab 1, or any other method that you choose. You may find\n",
        "torchvision.datasets.ImageFolder helpful. (see https://pytorch.org/docs/stable/torchvision/datasets.html?highlight=image%20folder#torchvision.datasets.ImageFolder\n",
        ") "
      ]
    },
    {
      "cell_type": "markdown",
      "metadata": {
        "id": "ywIgaB2appy7"
      },
      "source": [
        "**Answer**:\n",
        "\n",
        "I splitted data manually by picking 24 images out of each \"A, B, C, ..., H, and I\" folders for both validation and test data and storing them into Validation/ and Test/ folders. Whatever images remained, stored in Train/ folder for training purpose. "
      ]
    },
    {
      "cell_type": "code",
      "execution_count": null,
      "metadata": {
        "colab": {
          "base_uri": "https://localhost:8080/"
        },
        "id": "D_NiVZF_6pLH",
        "outputId": "64281f20-fa97-47a5-86b2-ad4510b2743a"
      },
      "outputs": [
        {
          "output_type": "stream",
          "name": "stdout",
          "text": [
            "Mounted at /content/gdrive\n"
          ]
        }
      ],
      "source": [
        "from google.colab import drive\n",
        "drive.mount('/content/gdrive')"
      ]
    },
    {
      "cell_type": "code",
      "execution_count": null,
      "metadata": {
        "colab": {
          "base_uri": "https://localhost:8080/"
        },
        "id": "p8BmFlxqPe-U",
        "outputId": "3f5395af-48ae-4457-b24e-d0366bb0986a"
      },
      "outputs": [
        {
          "output_type": "stream",
          "name": "stdout",
          "text": [
            "/content/gdrive/MyDrive/Lab3_Gestures_Summer\n"
          ]
        }
      ],
      "source": [
        "cd /content/gdrive/MyDrive/Lab3_Gestures_Summer/"
      ]
    },
    {
      "cell_type": "code",
      "execution_count": null,
      "metadata": {
        "colab": {
          "base_uri": "https://localhost:8080/"
        },
        "id": "HFy2i551R4Kl",
        "outputId": "57db9924-0977-4c7e-d7b3-ad8e2973e976"
      },
      "outputs": [
        {
          "output_type": "stream",
          "name": "stdout",
          "text": [
            "\u001b[0m\u001b[01;34mTest\u001b[0m/  \u001b[01;34mTrain\u001b[0m/  \u001b[01;34mValidation\u001b[0m/\n"
          ]
        }
      ],
      "source": [
        "ls"
      ]
    },
    {
      "cell_type": "code",
      "execution_count": null,
      "metadata": {
        "collapsed": true,
        "id": "WBrH5kBqRLa6"
      },
      "outputs": [],
      "source": [
        "import numpy as np\n",
        "import time\n",
        "import torch\n",
        "import torch.nn as nn\n",
        "import torch.nn.functional as F\n",
        "import torch.optim as optim\n",
        "import torchvision\n",
        "from torch.utils.data.sampler import SubsetRandomSampler\n",
        "import torchvision.transforms as transforms\n",
        "import torchvision.datasets as datasets\n",
        "from torch.utils.data import DataLoader\n",
        "\n",
        "BATCH_SIZE = 32"
      ]
    },
    {
      "cell_type": "code",
      "execution_count": null,
      "metadata": {
        "id": "3VmU0FoX-P2f"
      },
      "outputs": [],
      "source": [
        "transform = transforms.Compose([\n",
        "    transforms.Resize((224, 224)),\n",
        "    transforms.ToTensor(),\n",
        "])\n",
        "\n",
        "train_dataset = datasets.ImageFolder(\n",
        "    root='/content/gdrive/MyDrive/Lab3_Gestures_Summer/Train',\n",
        "    transform=transform\n",
        ")\n",
        "\n",
        "validation_dataset = datasets.ImageFolder(\n",
        "    root='/content/gdrive/MyDrive/Lab3_Gestures_Summer/Validation',\n",
        "    transform=transform\n",
        ")\n",
        "\n",
        "test_dataset = datasets.ImageFolder(\n",
        "    root='/content/gdrive/MyDrive/Lab3_Gestures_Summer/Test',\n",
        "    transform=transform\n",
        ")\n",
        "\n",
        "train_loader = DataLoader(\n",
        "    train_dataset, batch_size=BATCH_SIZE, \n",
        "    shuffle=True, num_workers=1\n",
        ")\n",
        "\n",
        "validation_loader = DataLoader(\n",
        "    validation_dataset, batch_size=BATCH_SIZE, \n",
        "    shuffle=True, num_workers=1\n",
        ")\n",
        "\n",
        "test_loader = DataLoader(\n",
        "    test_dataset, batch_size=BATCH_SIZE, \n",
        "    shuffle=True, num_workers=1\n",
        ")"
      ]
    },
    {
      "cell_type": "code",
      "execution_count": null,
      "metadata": {
        "colab": {
          "base_uri": "https://localhost:8080/"
        },
        "id": "sqgAWswWXGry",
        "outputId": "6c7ed9a5-4cb9-4af6-db3c-2dc279b023e3"
      },
      "outputs": [
        {
          "output_type": "stream",
          "name": "stdout",
          "text": [
            "The length of train data is: 1787\n",
            "The length of validation data is: 216\n",
            "The length of test data is: 216\n",
            "\n",
            "The split summary: \n",
            "train 80.53 % \n",
            "validation 9.73 % \n",
            "test 9.73 %\n"
          ]
        }
      ],
      "source": [
        "print(\"The length of train data is:\", len(train_dataset))\n",
        "print(\"The length of validation data is:\", len(validation_dataset))\n",
        "print(\"The length of test data is:\", len(test_dataset))\n",
        "\n",
        "total = len(train_dataset) + len(validation_dataset) + len(test_dataset)\n",
        "print(\"\\nThe split summary:\", \"\\ntrain\", round(len(train_dataset)/total, 4)*100, \"%\", \n",
        "      \"\\nvalidation\", round(len(validation_dataset)/total, 4)*100, \"%\", \n",
        "      \"\\ntest\", round(len(test_dataset)/total, 4)*100, \"%\")"
      ]
    },
    {
      "cell_type": "markdown",
      "metadata": {
        "id": "5VWX4DGY5gQE"
      },
      "source": [
        "### 2. Model Building and Sanity Checking [15 pt]\n",
        "\n",
        "### Part (a) Convolutional Network - 5 pt\n",
        "\n",
        "Build a convolutional neural network model that takes the (224x224 RGB) image as input, and predicts the gesture\n",
        "letter. Your model should be a subclass of nn.Module. Explain your choice of neural network architecture: how\n",
        "many layers did you choose? What types of layers did you use? Were they fully-connected or convolutional?\n",
        "What about other decisions like pooling layers, activation functions, number of channels / hidden units?"
      ]
    },
    {
      "cell_type": "markdown",
      "metadata": {
        "id": "qfRneVnFjLFJ"
      },
      "source": [
        "**Answer**:\n",
        "\n",
        "I picked 2 convolution layers, 2 maxpooling layers, and 2 fully-connected layers: The first convolution layer is with 3 input channels, 5 output channels and kernel size of 5. The second convolution layer is with 5 input channels, 10 output channels and kernel size of 5. Both maxpooling layers are with kernel size of 2 and stride of 2. The first fully-connected layer is having input size of 10\\*53\\*53 and output size of 32. The second fully-connected layer is having input size of 32 and output size of 9. \n",
        "\n",
        "The input of cov1 is 3\\*224\\*224 and then after this layer it becomes 5\\*220\\*220 because o = (i+2p-k)/s + 1 = (224+0-5)/1 + 1 = 220. Then we apply relu on it and then a pooling layer with kernel size 2 and stride 2 which reduces the size to 5\\*110\\*110 because o = (i-k)/s + 1 = (220-2)/2 + 1 = 110. Then we apply another conv layer (conv2) which then the size becomes 10\\*106\\*106 because o = (i+2p-k)/s + 1 = (110+0-5)/1 + 1 = 106. Then we apply relu on it and then a pooling layer with kernel size 2 and stride 2 which reduces the size to 10\\*53\\*53 because o = (i-k)/s + 1 = (106-2)/2 + 1 = 53. Finally I applied a fully-connected layer with relu activation on top of it and then another final fully-connected layer to reduce the output size to 9 for my 9 classes (A, B, C, D, E, F, G, H, I)."
      ]
    },
    {
      "cell_type": "code",
      "execution_count": null,
      "metadata": {
        "colab": {
          "base_uri": "https://localhost:8080/"
        },
        "collapsed": true,
        "id": "2dtx1z5951fS",
        "outputId": "43d6dc09-9ec9-4dab-d689-65e49f146e34"
      },
      "outputs": [
        {
          "output_type": "stream",
          "name": "stdout",
          "text": [
            "Convolutional Neural Network Architecture Done\n"
          ]
        }
      ],
      "source": [
        "torch.manual_seed(1) # set the random seed\n",
        "\n",
        "#Convolutional Neural Network Architecture\n",
        "class CNN_Gesture(nn.Module):\n",
        "    def __init__(self):\n",
        "        super(CNN_Gesture, self).__init__()\n",
        "        self.name = \"cnn_gesture\"\n",
        "        self.conv1 = nn.Conv2d(3, 5, 5) #in_channels, out_chanels, kernel_size\n",
        "        self.pool = nn.MaxPool2d(2, 2) #kernel_size, stride \n",
        "        self.conv2 = nn.Conv2d(5, 10, 5) #in_channels, out_chanels, kernel_size\n",
        "        self.fc1 = nn.Linear(10 * 53 * 53, 32)\n",
        "        self.fc2 = nn.Linear(32, 9)\n",
        "\n",
        "    def forward(self, x):\n",
        "        x = self.pool(F.relu(self.conv1(x)))\n",
        "        x = self.pool(F.relu(self.conv2(x)))\n",
        "        x = x.view(-1, 10 * 53 * 53)\n",
        "        x = F.relu(self.fc1(x))\n",
        "        x = self.fc2(x)\n",
        "        return x\n",
        "    \n",
        "    print('Convolutional Neural Network Architecture Done')"
      ]
    },
    {
      "cell_type": "markdown",
      "metadata": {
        "id": "XeGvelvb515e"
      },
      "source": [
        "### Part (b) Training Code - 5 pt\n",
        "\n",
        "Write code that trains your neural network given some training data. Your training code should make it easy\n",
        "to tweak the usual hyperparameters, like batch size, learning rate, and the model object itself. Make sure\n",
        "that you are checkpointing your models from time to time (the frequency is up to you). Explain your choice\n",
        "of loss function and optimizer."
      ]
    },
    {
      "cell_type": "markdown",
      "metadata": {
        "id": "ElaMek-E_F2Q"
      },
      "source": [
        "**Answer**:\n",
        "\n",
        "I picked Cross Entropy for loss function because we are doing a multiclass classification and it's a preferred loss for classification. \n",
        "\n",
        "I chose SGD (Stochastic Gradient Descent) for optimizer because it can converge faster than batch training because it performs updates more frequently. "
      ]
    },
    {
      "cell_type": "code",
      "execution_count": null,
      "metadata": {
        "id": "Tc31lQlquf1N"
      },
      "outputs": [],
      "source": [
        "use_cuda = True\n",
        "\n",
        "def get_accuracy(model, data_loader):\n",
        "\n",
        "    correct = 0\n",
        "    total = 0\n",
        "    for imgs, labels in data_loader:\n",
        "\n",
        "        #############################################\n",
        "        #To Enable GPU Usage\n",
        "        if use_cuda and torch.cuda.is_available():\n",
        "          imgs = imgs.cuda()\n",
        "          labels = labels.cuda()\n",
        "        #############################################\n",
        "        \n",
        "        output = model(imgs)\n",
        "        \n",
        "        #select index with maximum prediction score\n",
        "        pred = output.max(1, keepdim=True)[1]\n",
        "        correct += pred.eq(labels.view_as(pred)).sum().item()\n",
        "        total += imgs.shape[0]\n",
        "    return correct / total"
      ]
    },
    {
      "cell_type": "code",
      "execution_count": null,
      "metadata": {
        "id": "bhiWWISI2ivX"
      },
      "outputs": [],
      "source": [
        "def get_model_name(name, batch_size, learning_rate, epoch):\n",
        "    \"\"\" Generate a name for the model consisting of all the hyperparameter values\n",
        "\n",
        "    Args:\n",
        "        config: Configuration object containing the hyperparameters\n",
        "    Returns:\n",
        "        path: A string with the hyperparameter name and value concatenated\n",
        "    \"\"\"\n",
        "    path = \"model_{0}_bs{1}_lr{2}_epoch{3}\".format(name,\n",
        "                                                   batch_size,\n",
        "                                                   learning_rate,\n",
        "                                                   epoch)\n",
        "    return path"
      ]
    },
    {
      "cell_type": "code",
      "execution_count": null,
      "metadata": {
        "collapsed": true,
        "id": "17YTQv4l54W1"
      },
      "outputs": [],
      "source": [
        "import matplotlib.pyplot as plt\n",
        "\n",
        "def train(model, train_dataset, validation_dataset, learning_rate=0.001, batch_size=64, num_epochs=20):\n",
        "    \n",
        "    train_loader = DataLoader(\n",
        "    train_dataset, batch_size=batch_size, \n",
        "    shuffle=True\n",
        "    )\n",
        "\n",
        "    validation_loader = DataLoader(\n",
        "    validation_dataset, batch_size=batch_size, \n",
        "    shuffle=True\n",
        "    )\n",
        "\n",
        "    criterion = nn.CrossEntropyLoss()\n",
        "    optimizer = optim.Adam(model.parameters(), lr=learning_rate)\n",
        "\n",
        "    iters, losses, train_acc, val_acc = [], [], [], []\n",
        "\n",
        "    # training\n",
        "    #n = 0 # the number of iterations\n",
        "    start_time = time.time()\n",
        "    for epoch in range(num_epochs):\n",
        "        for imgs, labels in iter(train_loader):\n",
        "\n",
        "            #############################################\n",
        "            #To Enable GPU Usage\n",
        "            if use_cuda and torch.cuda.is_available():\n",
        "              imgs = imgs.cuda()\n",
        "              labels = labels.cuda()\n",
        "            #############################################\n",
        "              \n",
        "            out = model(imgs)             # forward pass\n",
        "\n",
        "            loss = criterion(out, labels) # compute the total loss\n",
        "            loss.backward()               # backward pass (compute parameter updates)\n",
        "            optimizer.step()              # make the updates for each parameter\n",
        "            optimizer.zero_grad()         # a clean up step for PyTorch\n",
        "\n",
        "        # save the current training information\n",
        "        #n += 1\n",
        "        iters.append(epoch)\n",
        "        losses.append(float(loss)/batch_size)             # compute *average* loss\n",
        "        train_acc.append(get_accuracy(model, train_loader)) # compute training accuracy \n",
        "        val_acc.append(get_accuracy(model, validation_loader))  # compute validation accuracy\n",
        "        print((\"Epoch {}: Train acc: {} |\"+\n",
        "               \"Validation acc: {}\").format(\n",
        "                   epoch + 1,\n",
        "                   train_acc[epoch],\n",
        "                   val_acc[epoch]))\n",
        "        # Save the current model (checkpoint) to a file\n",
        "        #model_path = get_model_name(model.name, batch_size, learning_rate, epoch)\n",
        "        #torch.save(model.state_dict(), model_path)\n",
        "    print('Finished Training')\n",
        "    end_time = time.time()\n",
        "    elapsed_time = end_time - start_time\n",
        "    print(\"Total time elapsed: {:.2f} seconds\".format(elapsed_time))\n",
        "\n",
        "    # plotting\n",
        "    plt.title(\"Training Curve\")\n",
        "    plt.plot(iters, losses, label=\"Train\")\n",
        "    plt.xlabel(\"Iterations\")\n",
        "    plt.ylabel(\"Loss\")\n",
        "    plt.show()\n",
        "\n",
        "    plt.title(\"Training Curve\")\n",
        "    plt.plot(iters, train_acc, label=\"Train\")\n",
        "    plt.plot(iters, val_acc, label=\"Validation\")\n",
        "    plt.xlabel(\"Iterations\")\n",
        "    plt.ylabel(\"Training Accuracy\")\n",
        "    plt.legend(loc='best')\n",
        "    plt.show()\n",
        "\n",
        "    print(\"Final Training Accuracy: {}\".format(train_acc[-1]))\n",
        "    print(\"Final Validation Accuracy: {}\".format(val_acc[-1]))"
      ]
    },
    {
      "cell_type": "code",
      "execution_count": null,
      "metadata": {
        "colab": {
          "base_uri": "https://localhost:8080/",
          "height": 1000
        },
        "id": "AW7USM-runHJ",
        "outputId": "33c684b7-1385-4a50-b770-53f4b9b6ec58"
      },
      "outputs": [
        {
          "name": "stdout",
          "output_type": "stream",
          "text": [
            "CNN\n",
            "CNN_Gesture(\n",
            "  (conv1): Conv2d(3, 5, kernel_size=(5, 5), stride=(1, 1))\n",
            "  (pool): MaxPool2d(kernel_size=2, stride=2, padding=0, dilation=1, ceil_mode=False)\n",
            "  (conv2): Conv2d(5, 10, kernel_size=(5, 5), stride=(1, 1))\n",
            "  (fc1): Linear(in_features=28090, out_features=32, bias=True)\n",
            "  (fc2): Linear(in_features=32, out_features=9, bias=True)\n",
            ")\n",
            "Epoch 1: Train acc: 0.11135982092893117 |Validation acc: 0.1111111111111111\n",
            "Epoch 2: Train acc: 0.21544487968662562 |Validation acc: 0.19444444444444445\n",
            "Epoch 3: Train acc: 0.3284834918858422 |Validation acc: 0.3194444444444444\n",
            "Epoch 4: Train acc: 0.4051482932288752 |Validation acc: 0.4398148148148148\n",
            "Epoch 5: Train acc: 0.5008393956351427 |Validation acc: 0.49074074074074076\n",
            "Epoch 6: Train acc: 0.5271404588696139 |Validation acc: 0.49537037037037035\n",
            "Epoch 7: Train acc: 0.5635142697257974 |Validation acc: 0.5694444444444444\n",
            "Epoch 8: Train acc: 0.591494124230554 |Validation acc: 0.5555555555555556\n",
            "Epoch 9: Train acc: 0.5948517067711248 |Validation acc: 0.5972222222222222\n",
            "Epoch 10: Train acc: 0.6407386681589256 |Validation acc: 0.6388888888888888\n",
            "Epoch 11: Train acc: 0.6351426972579742 |Validation acc: 0.6666666666666666\n",
            "Epoch 12: Train acc: 0.6737548964745383 |Validation acc: 0.6527777777777778\n",
            "Epoch 13: Train acc: 0.672076105204253 |Validation acc: 0.6712962962962963\n",
            "Epoch 14: Train acc: 0.6877448237269166 |Validation acc: 0.6805555555555556\n",
            "Epoch 15: Train acc: 0.7168438724118634 |Validation acc: 0.6851851851851852\n",
            "Epoch 16: Train acc: 0.7151650811415781 |Validation acc: 0.7407407407407407\n",
            "Epoch 17: Train acc: 0.7431449356463347 |Validation acc: 0.7222222222222222\n",
            "Epoch 18: Train acc: 0.7716843872411864 |Validation acc: 0.7175925925925926\n",
            "Epoch 19: Train acc: 0.7778399552322328 |Validation acc: 0.6851851851851852\n",
            "Epoch 20: Train acc: 0.7750419697817571 |Validation acc: 0.7037037037037037\n",
            "Finished Training\n",
            "Total time elapsed: 907.35 seconds\n"
          ]
        },
        {
          "data": {
            "image/png": "[encoded data removed]",
            "text/plain": [
              "<Figure size 432x288 with 1 Axes>"
            ]
          },
          "metadata": {},
          "output_type": "display_data"
        },
        {
          "data": {
            "image/png": "[encoded data removed]",
            "text/plain": [
              "<Figure size 432x288 with 1 Axes>"
            ]
          },
          "metadata": {},
          "output_type": "display_data"
        },
        {
          "name": "stdout",
          "output_type": "stream",
          "text": [
            "Final Training Accuracy: 0.7750419697817571\n",
            "Final Validation Accuracy: 0.7037037037037037\n"
          ]
        }
      ],
      "source": [
        "print(\"CNN\")\n",
        "model = CNN_Gesture()\n",
        "print(model)\n",
        "train(model, train_dataset, validation_dataset)"
      ]
    },
    {
      "cell_type": "markdown",
      "metadata": {
        "id": "bk1RNgAj54rZ"
      },
      "source": [
        "### Part (c) “Overfit” to a Small Dataset - 5 pt\n",
        "\n",
        "One way to sanity check our neural network model and training code is to check whether the model is capable\n",
        "of “overfitting” or “memorizing” a small dataset. A properly constructed CNN with correct training code\n",
        "should be able to memorize the answers to a small number of images quickly.\n",
        "\n",
        "Construct a small dataset (e.g. just the images that you have collected). Then show that your model and\n",
        "training code is capable of memorizing the labels of this small data set.\n",
        "\n",
        "With a large batch size (e.g. the entire small dataset) and learning rate that is not too high, You should be\n",
        "able to obtain a 100% training accuracy on that small dataset relatively quickly (within 200 iterations)."
      ]
    },
    {
      "cell_type": "code",
      "execution_count": null,
      "metadata": {
        "colab": {
          "base_uri": "https://localhost:8080/"
        },
        "collapsed": true,
        "id": "lXYRBhQO6d3u",
        "outputId": "67538bae-cdde-4b33-f310-952359b013df"
      },
      "outputs": [
        {
          "output_type": "stream",
          "name": "stdout",
          "text": [
            "The length of train data is: 216\n",
            "The length of validation data is: 27\n",
            "The length of test data is: 27\n",
            "\n",
            "The split summary: \n",
            "train 80.0 % \n",
            "validation 10.0 % \n",
            "test 10.0 %\n"
          ]
        }
      ],
      "source": [
        "transform = transforms.Compose([\n",
        "    transforms.Resize((224, 224)),\n",
        "    transforms.ToTensor(),\n",
        "])\n",
        "\n",
        "train_dataset_small = datasets.ImageFolder(\n",
        "    root='/content/gdrive/MyDrive/Lab3_Gestures_Summer_Small/Train',\n",
        "    transform=transform\n",
        ")\n",
        "\n",
        "validation_dataset_small = datasets.ImageFolder(\n",
        "    root='/content/gdrive/MyDrive/Lab3_Gestures_Summer_Small/Validation',\n",
        "    transform=transform\n",
        ")\n",
        "\n",
        "test_dataset_small = datasets.ImageFolder(\n",
        "    root='/content/gdrive/MyDrive/Lab3_Gestures_Summer_Small/Test',\n",
        "    transform=transform\n",
        ")\n",
        "\n",
        "print(\"The length of train data is:\", len(train_dataset_small))\n",
        "print(\"The length of validation data is:\", len(validation_dataset_small))\n",
        "print(\"The length of test data is:\", len(test_dataset_small))\n",
        "\n",
        "total = len(train_dataset_small) + len(validation_dataset_small) + len(test_dataset_small)\n",
        "print(\"\\nThe split summary:\", \"\\ntrain\", round(len(train_dataset_small)/total, 4)*100, \"%\", \n",
        "      \"\\nvalidation\", round(len(validation_dataset_small)/total, 4)*100, \"%\", \n",
        "      \"\\ntest\", round(len(test_dataset_small)/total, 4)*100, \"%\")"
      ]
    },
    {
      "cell_type": "code",
      "execution_count": null,
      "metadata": {
        "id": "ExURGyDmSBkq"
      },
      "outputs": [],
      "source": [
        "use_cuda = True\n",
        "\n",
        "def get_accuracy_small(model, data_loader):\n",
        "\n",
        "    correct = 0\n",
        "    total = 0\n",
        "    for imgs, labels in data_loader:\n",
        "\n",
        "        #############################################\n",
        "        #To Enable GPU Usage\n",
        "        if use_cuda and torch.cuda.is_available():\n",
        "          imgs = imgs.cuda()\n",
        "          labels = labels.cuda()\n",
        "        #############################################\n",
        "        \n",
        "        output = model(imgs)\n",
        "        \n",
        "        #select index with maximum prediction score\n",
        "        pred = output.max(1, keepdim=True)[1]\n",
        "        correct += pred.eq(labels.view_as(pred)).sum().item()\n",
        "        total += imgs.shape[0]\n",
        "    return correct / total"
      ]
    },
    {
      "cell_type": "code",
      "execution_count": null,
      "metadata": {
        "id": "xamdVcihRMk7"
      },
      "outputs": [],
      "source": [
        "def train_small(model, train_dataset, validation_dataset, learning_rate=0.001, batch_size=24, num_epochs=200):\n",
        "    \n",
        "    train_loader = DataLoader(\n",
        "    train_dataset, batch_size=batch_size, \n",
        "    shuffle=True\n",
        "    )\n",
        "\n",
        "    validation_loader = DataLoader(\n",
        "    validation_dataset, batch_size=batch_size, \n",
        "    shuffle=True\n",
        "    )\n",
        "\n",
        "    criterion = nn.CrossEntropyLoss()\n",
        "    optimizer = optim.Adam(model.parameters(), lr=learning_rate)\n",
        "\n",
        "    iters, losses, train_acc, val_acc = [], [], [], []\n",
        "\n",
        "    # training\n",
        "    #n = 0 # the number of iterations\n",
        "    start_time = time.time()\n",
        "    for epoch in range(num_epochs):\n",
        "        for imgs, labels in iter(train_loader):\n",
        "\n",
        "            #############################################\n",
        "            #To Enable GPU Usage\n",
        "            if use_cuda and torch.cuda.is_available():\n",
        "              imgs = imgs.cuda()\n",
        "              labels = labels.cuda()\n",
        "            #############################################\n",
        "              \n",
        "            out = model(imgs)             # forward pass\n",
        "\n",
        "            loss = criterion(out, labels) # compute the total loss\n",
        "            loss.backward()               # backward pass (compute parameter updates)\n",
        "            optimizer.step()              # make the updates for each parameter\n",
        "            optimizer.zero_grad()         # a clean up step for PyTorch\n",
        "\n",
        "        # save the current training information\n",
        "        #n += 1\n",
        "        iters.append(epoch)\n",
        "        losses.append(float(loss)/batch_size)             # compute *average* loss\n",
        "        train_acc.append(get_accuracy_small(model, train_loader)) # compute training accuracy \n",
        "        val_acc.append(get_accuracy_small(model, validation_loader))  # compute validation accuracy\n",
        "        print((\"Epoch {}: Train acc: {} |\"+\n",
        "               \"Validation acc: {}\").format(\n",
        "                   epoch + 1,\n",
        "                   train_acc[epoch],\n",
        "                   val_acc[epoch]))\n",
        "        # Save the current model (checkpoint) to a file\n",
        "        #model_path = get_model_name(model.name, batch_size, learning_rate, epoch)\n",
        "        #torch.save(model.state_dict(), model_path)\n",
        "    print('Finished Training')\n",
        "    end_time = time.time()\n",
        "    elapsed_time = end_time - start_time\n",
        "    print(\"Total time elapsed: {:.2f} seconds\".format(elapsed_time))\n",
        "\n",
        "    # plotting\n",
        "    plt.title(\"Training Curve\")\n",
        "    plt.plot(iters, losses, label=\"Train\")\n",
        "    plt.xlabel(\"Iterations\")\n",
        "    plt.ylabel(\"Loss\")\n",
        "    plt.show()\n",
        "\n",
        "    plt.title(\"Training Curve\")\n",
        "    plt.plot(iters, train_acc, label=\"Train\")\n",
        "    plt.plot(iters, val_acc, label=\"Validation\")\n",
        "    plt.xlabel(\"Iterations\")\n",
        "    plt.ylabel(\"Training Accuracy\")\n",
        "    plt.legend(loc='best')\n",
        "    plt.show()\n",
        "\n",
        "    print(\"Final Training Accuracy: {}\".format(train_acc[-1]))\n",
        "    print(\"Final Validation Accuracy: {}\".format(val_acc[-1]))"
      ]
    },
    {
      "cell_type": "code",
      "execution_count": null,
      "metadata": {
        "colab": {
          "base_uri": "https://localhost:8080/",
          "height": 1000
        },
        "id": "79vKxduiF-78",
        "outputId": "3fa3f997-f610-4bce-bb79-d1c3c09728d4"
      },
      "outputs": [
        {
          "output_type": "stream",
          "name": "stdout",
          "text": [
            "Epoch 1: Train acc: 0.10648148148148148 |Validation acc: 0.1111111111111111\n",
            "Epoch 2: Train acc: 0.1111111111111111 |Validation acc: 0.1111111111111111\n",
            "Epoch 3: Train acc: 0.1111111111111111 |Validation acc: 0.1111111111111111\n",
            "Epoch 4: Train acc: 0.1111111111111111 |Validation acc: 0.1111111111111111\n",
            "Epoch 5: Train acc: 0.14814814814814814 |Validation acc: 0.14814814814814814\n",
            "Epoch 6: Train acc: 0.2175925925925926 |Validation acc: 0.18518518518518517\n",
            "Epoch 7: Train acc: 0.24074074074074073 |Validation acc: 0.18518518518518517\n",
            "Epoch 8: Train acc: 0.25 |Validation acc: 0.18518518518518517\n",
            "Epoch 9: Train acc: 0.2962962962962963 |Validation acc: 0.18518518518518517\n",
            "Epoch 10: Train acc: 0.33796296296296297 |Validation acc: 0.2962962962962963\n",
            "Epoch 11: Train acc: 0.41203703703703703 |Validation acc: 0.37037037037037035\n",
            "Epoch 12: Train acc: 0.4537037037037037 |Validation acc: 0.37037037037037035\n",
            "Epoch 13: Train acc: 0.5046296296296297 |Validation acc: 0.5185185185185185\n",
            "Epoch 14: Train acc: 0.5462962962962963 |Validation acc: 0.48148148148148145\n",
            "Epoch 15: Train acc: 0.6064814814814815 |Validation acc: 0.48148148148148145\n",
            "Epoch 16: Train acc: 0.5925925925925926 |Validation acc: 0.4444444444444444\n",
            "Epoch 17: Train acc: 0.7083333333333334 |Validation acc: 0.5925925925925926\n",
            "Epoch 18: Train acc: 0.7222222222222222 |Validation acc: 0.5185185185185185\n",
            "Epoch 19: Train acc: 0.8055555555555556 |Validation acc: 0.5555555555555556\n",
            "Epoch 20: Train acc: 0.8101851851851852 |Validation acc: 0.6296296296296297\n",
            "Epoch 21: Train acc: 0.8611111111111112 |Validation acc: 0.5555555555555556\n",
            "Epoch 22: Train acc: 0.8981481481481481 |Validation acc: 0.7037037037037037\n",
            "Epoch 23: Train acc: 0.8981481481481481 |Validation acc: 0.5185185185185185\n",
            "Epoch 24: Train acc: 0.9259259259259259 |Validation acc: 0.6296296296296297\n",
            "Epoch 25: Train acc: 0.9444444444444444 |Validation acc: 0.6296296296296297\n",
            "Epoch 26: Train acc: 0.9490740740740741 |Validation acc: 0.5555555555555556\n",
            "Epoch 27: Train acc: 0.9583333333333334 |Validation acc: 0.6666666666666666\n",
            "Epoch 28: Train acc: 0.9722222222222222 |Validation acc: 0.6296296296296297\n",
            "Epoch 29: Train acc: 0.9444444444444444 |Validation acc: 0.6296296296296297\n",
            "Epoch 30: Train acc: 0.9814814814814815 |Validation acc: 0.5925925925925926\n",
            "Epoch 31: Train acc: 0.9907407407407407 |Validation acc: 0.5925925925925926\n",
            "Epoch 32: Train acc: 0.9814814814814815 |Validation acc: 0.6296296296296297\n",
            "Epoch 33: Train acc: 0.9861111111111112 |Validation acc: 0.6666666666666666\n",
            "Epoch 34: Train acc: 0.9861111111111112 |Validation acc: 0.7037037037037037\n",
            "Epoch 35: Train acc: 0.9907407407407407 |Validation acc: 0.6666666666666666\n",
            "Epoch 36: Train acc: 0.9907407407407407 |Validation acc: 0.7037037037037037\n",
            "Epoch 37: Train acc: 0.9907407407407407 |Validation acc: 0.6666666666666666\n",
            "Epoch 38: Train acc: 0.9907407407407407 |Validation acc: 0.7037037037037037\n",
            "Epoch 39: Train acc: 0.9953703703703703 |Validation acc: 0.6666666666666666\n",
            "Epoch 40: Train acc: 0.9953703703703703 |Validation acc: 0.7037037037037037\n",
            "Epoch 41: Train acc: 0.9953703703703703 |Validation acc: 0.7037037037037037\n",
            "Epoch 42: Train acc: 0.9953703703703703 |Validation acc: 0.7037037037037037\n",
            "Epoch 43: Train acc: 0.9953703703703703 |Validation acc: 0.7037037037037037\n",
            "Epoch 44: Train acc: 0.9953703703703703 |Validation acc: 0.7037037037037037\n",
            "Epoch 45: Train acc: 0.9953703703703703 |Validation acc: 0.7037037037037037\n",
            "Epoch 46: Train acc: 0.9953703703703703 |Validation acc: 0.7037037037037037\n",
            "Epoch 47: Train acc: 0.9953703703703703 |Validation acc: 0.7037037037037037\n",
            "Epoch 48: Train acc: 0.9953703703703703 |Validation acc: 0.7037037037037037\n",
            "Epoch 49: Train acc: 0.9953703703703703 |Validation acc: 0.7037037037037037\n",
            "Epoch 50: Train acc: 0.9953703703703703 |Validation acc: 0.7037037037037037\n",
            "Epoch 51: Train acc: 0.9953703703703703 |Validation acc: 0.7037037037037037\n",
            "Epoch 52: Train acc: 0.9953703703703703 |Validation acc: 0.7037037037037037\n",
            "Epoch 53: Train acc: 0.9953703703703703 |Validation acc: 0.7037037037037037\n",
            "Epoch 54: Train acc: 0.9953703703703703 |Validation acc: 0.7037037037037037\n",
            "Epoch 55: Train acc: 0.9953703703703703 |Validation acc: 0.7037037037037037\n",
            "Epoch 56: Train acc: 0.9953703703703703 |Validation acc: 0.7037037037037037\n",
            "Epoch 57: Train acc: 0.9953703703703703 |Validation acc: 0.6666666666666666\n",
            "Epoch 58: Train acc: 0.9953703703703703 |Validation acc: 0.6666666666666666\n",
            "Epoch 59: Train acc: 0.9953703703703703 |Validation acc: 0.7037037037037037\n",
            "Epoch 60: Train acc: 0.9953703703703703 |Validation acc: 0.6296296296296297\n",
            "Epoch 61: Train acc: 0.9953703703703703 |Validation acc: 0.6666666666666666\n",
            "Epoch 62: Train acc: 0.9953703703703703 |Validation acc: 0.6666666666666666\n",
            "Epoch 63: Train acc: 0.9953703703703703 |Validation acc: 0.7037037037037037\n",
            "Epoch 64: Train acc: 0.9953703703703703 |Validation acc: 0.6666666666666666\n",
            "Epoch 65: Train acc: 0.9953703703703703 |Validation acc: 0.6296296296296297\n",
            "Epoch 66: Train acc: 0.9953703703703703 |Validation acc: 0.7037037037037037\n",
            "Epoch 67: Train acc: 0.9953703703703703 |Validation acc: 0.6666666666666666\n",
            "Epoch 68: Train acc: 0.9953703703703703 |Validation acc: 0.6666666666666666\n",
            "Epoch 69: Train acc: 0.9953703703703703 |Validation acc: 0.6666666666666666\n",
            "Epoch 70: Train acc: 0.9953703703703703 |Validation acc: 0.6666666666666666\n",
            "Epoch 71: Train acc: 0.9953703703703703 |Validation acc: 0.7037037037037037\n",
            "Epoch 72: Train acc: 0.9953703703703703 |Validation acc: 0.7037037037037037\n",
            "Epoch 73: Train acc: 0.9953703703703703 |Validation acc: 0.6666666666666666\n",
            "Epoch 74: Train acc: 0.9953703703703703 |Validation acc: 0.6296296296296297\n",
            "Epoch 75: Train acc: 0.9953703703703703 |Validation acc: 0.7037037037037037\n",
            "Epoch 76: Train acc: 0.9953703703703703 |Validation acc: 0.6666666666666666\n",
            "Epoch 77: Train acc: 0.9953703703703703 |Validation acc: 0.6666666666666666\n",
            "Epoch 78: Train acc: 0.9953703703703703 |Validation acc: 0.6666666666666666\n",
            "Epoch 79: Train acc: 0.9953703703703703 |Validation acc: 0.6666666666666666\n",
            "Epoch 80: Train acc: 0.9953703703703703 |Validation acc: 0.6666666666666666\n",
            "Epoch 81: Train acc: 0.9953703703703703 |Validation acc: 0.7037037037037037\n",
            "Epoch 82: Train acc: 0.9953703703703703 |Validation acc: 0.6666666666666666\n",
            "Epoch 83: Train acc: 0.9953703703703703 |Validation acc: 0.7037037037037037\n",
            "Epoch 84: Train acc: 0.9953703703703703 |Validation acc: 0.7037037037037037\n",
            "Epoch 85: Train acc: 0.9953703703703703 |Validation acc: 0.7037037037037037\n",
            "Epoch 86: Train acc: 0.9953703703703703 |Validation acc: 0.6296296296296297\n",
            "Epoch 87: Train acc: 0.9953703703703703 |Validation acc: 0.6666666666666666\n",
            "Epoch 88: Train acc: 0.9953703703703703 |Validation acc: 0.6296296296296297\n",
            "Epoch 89: Train acc: 0.9953703703703703 |Validation acc: 0.7037037037037037\n",
            "Epoch 90: Train acc: 0.9953703703703703 |Validation acc: 0.6296296296296297\n",
            "Epoch 91: Train acc: 0.9953703703703703 |Validation acc: 0.7037037037037037\n",
            "Epoch 92: Train acc: 0.9953703703703703 |Validation acc: 0.6666666666666666\n",
            "Epoch 93: Train acc: 0.9953703703703703 |Validation acc: 0.6666666666666666\n",
            "Epoch 94: Train acc: 0.9953703703703703 |Validation acc: 0.7037037037037037\n",
            "Epoch 95: Train acc: 0.9953703703703703 |Validation acc: 0.7037037037037037\n",
            "Epoch 96: Train acc: 0.9953703703703703 |Validation acc: 0.6666666666666666\n",
            "Epoch 97: Train acc: 0.9953703703703703 |Validation acc: 0.6666666666666666\n",
            "Epoch 98: Train acc: 0.9953703703703703 |Validation acc: 0.7037037037037037\n",
            "Epoch 99: Train acc: 0.9953703703703703 |Validation acc: 0.7037037037037037\n",
            "Epoch 100: Train acc: 0.9953703703703703 |Validation acc: 0.7037037037037037\n",
            "Epoch 101: Train acc: 0.9953703703703703 |Validation acc: 0.7037037037037037\n",
            "Epoch 102: Train acc: 0.9953703703703703 |Validation acc: 0.7037037037037037\n",
            "Epoch 103: Train acc: 0.9953703703703703 |Validation acc: 0.7037037037037037\n",
            "Epoch 104: Train acc: 0.9953703703703703 |Validation acc: 0.7037037037037037\n",
            "Epoch 105: Train acc: 0.9953703703703703 |Validation acc: 0.7037037037037037\n",
            "Epoch 106: Train acc: 0.9953703703703703 |Validation acc: 0.7037037037037037\n",
            "Epoch 107: Train acc: 0.9953703703703703 |Validation acc: 0.7037037037037037\n",
            "Epoch 108: Train acc: 0.9953703703703703 |Validation acc: 0.7037037037037037\n",
            "Epoch 109: Train acc: 0.9953703703703703 |Validation acc: 0.7037037037037037\n",
            "Epoch 110: Train acc: 0.9953703703703703 |Validation acc: 0.7037037037037037\n",
            "Epoch 111: Train acc: 0.9953703703703703 |Validation acc: 0.7037037037037037\n",
            "Epoch 112: Train acc: 0.9953703703703703 |Validation acc: 0.7037037037037037\n",
            "Epoch 113: Train acc: 0.9953703703703703 |Validation acc: 0.7037037037037037\n",
            "Epoch 114: Train acc: 0.9953703703703703 |Validation acc: 0.7037037037037037\n",
            "Epoch 115: Train acc: 0.9953703703703703 |Validation acc: 0.7037037037037037\n",
            "Epoch 116: Train acc: 0.9953703703703703 |Validation acc: 0.7037037037037037\n",
            "Epoch 117: Train acc: 0.9953703703703703 |Validation acc: 0.7037037037037037\n",
            "Epoch 118: Train acc: 0.9953703703703703 |Validation acc: 0.7037037037037037\n",
            "Epoch 119: Train acc: 0.9953703703703703 |Validation acc: 0.7037037037037037\n",
            "Epoch 120: Train acc: 0.9953703703703703 |Validation acc: 0.7037037037037037\n",
            "Epoch 121: Train acc: 0.9953703703703703 |Validation acc: 0.7037037037037037\n",
            "Epoch 122: Train acc: 0.9953703703703703 |Validation acc: 0.7037037037037037\n",
            "Epoch 123: Train acc: 0.9953703703703703 |Validation acc: 0.7037037037037037\n",
            "Epoch 124: Train acc: 0.9953703703703703 |Validation acc: 0.7037037037037037\n",
            "Epoch 125: Train acc: 0.9953703703703703 |Validation acc: 0.7037037037037037\n",
            "Epoch 126: Train acc: 0.9953703703703703 |Validation acc: 0.7037037037037037\n",
            "Epoch 127: Train acc: 0.9953703703703703 |Validation acc: 0.7037037037037037\n",
            "Epoch 128: Train acc: 0.9953703703703703 |Validation acc: 0.7037037037037037\n",
            "Epoch 129: Train acc: 0.9953703703703703 |Validation acc: 0.7037037037037037\n",
            "Epoch 130: Train acc: 0.9953703703703703 |Validation acc: 0.7037037037037037\n",
            "Epoch 131: Train acc: 0.9953703703703703 |Validation acc: 0.7037037037037037\n",
            "Epoch 132: Train acc: 0.9953703703703703 |Validation acc: 0.7037037037037037\n",
            "Epoch 133: Train acc: 0.9953703703703703 |Validation acc: 0.7037037037037037\n",
            "Epoch 134: Train acc: 0.9953703703703703 |Validation acc: 0.7037037037037037\n",
            "Epoch 135: Train acc: 0.9953703703703703 |Validation acc: 0.7037037037037037\n",
            "Epoch 136: Train acc: 0.9953703703703703 |Validation acc: 0.7037037037037037\n",
            "Epoch 137: Train acc: 0.9953703703703703 |Validation acc: 0.7037037037037037\n",
            "Epoch 138: Train acc: 0.9953703703703703 |Validation acc: 0.7037037037037037\n",
            "Epoch 139: Train acc: 0.9953703703703703 |Validation acc: 0.7037037037037037\n",
            "Epoch 140: Train acc: 0.9953703703703703 |Validation acc: 0.7037037037037037\n",
            "Epoch 141: Train acc: 0.9953703703703703 |Validation acc: 0.7037037037037037\n",
            "Epoch 142: Train acc: 0.9953703703703703 |Validation acc: 0.7037037037037037\n",
            "Epoch 143: Train acc: 0.9953703703703703 |Validation acc: 0.7037037037037037\n",
            "Epoch 144: Train acc: 0.9953703703703703 |Validation acc: 0.7037037037037037\n",
            "Epoch 145: Train acc: 0.9953703703703703 |Validation acc: 0.7037037037037037\n",
            "Epoch 146: Train acc: 0.9953703703703703 |Validation acc: 0.7037037037037037\n",
            "Epoch 147: Train acc: 0.9953703703703703 |Validation acc: 0.7037037037037037\n",
            "Epoch 148: Train acc: 0.9953703703703703 |Validation acc: 0.7037037037037037\n",
            "Epoch 149: Train acc: 0.9953703703703703 |Validation acc: 0.7037037037037037\n",
            "Epoch 150: Train acc: 0.9953703703703703 |Validation acc: 0.7037037037037037\n",
            "Epoch 151: Train acc: 0.9953703703703703 |Validation acc: 0.7037037037037037\n",
            "Epoch 152: Train acc: 0.9953703703703703 |Validation acc: 0.7037037037037037\n",
            "Epoch 153: Train acc: 0.9953703703703703 |Validation acc: 0.7037037037037037\n",
            "Epoch 154: Train acc: 0.9953703703703703 |Validation acc: 0.7037037037037037\n",
            "Epoch 155: Train acc: 0.9953703703703703 |Validation acc: 0.7037037037037037\n",
            "Epoch 156: Train acc: 0.9953703703703703 |Validation acc: 0.7037037037037037\n",
            "Epoch 157: Train acc: 0.9953703703703703 |Validation acc: 0.7037037037037037\n",
            "Epoch 158: Train acc: 0.9953703703703703 |Validation acc: 0.7037037037037037\n",
            "Epoch 159: Train acc: 0.9953703703703703 |Validation acc: 0.7037037037037037\n",
            "Epoch 160: Train acc: 0.9953703703703703 |Validation acc: 0.7037037037037037\n",
            "Epoch 161: Train acc: 0.9953703703703703 |Validation acc: 0.7037037037037037\n",
            "Epoch 162: Train acc: 0.9953703703703703 |Validation acc: 0.7037037037037037\n",
            "Epoch 163: Train acc: 0.9953703703703703 |Validation acc: 0.7037037037037037\n",
            "Epoch 164: Train acc: 0.9953703703703703 |Validation acc: 0.7037037037037037\n",
            "Epoch 165: Train acc: 0.9953703703703703 |Validation acc: 0.7037037037037037\n",
            "Epoch 166: Train acc: 0.9953703703703703 |Validation acc: 0.7037037037037037\n",
            "Epoch 167: Train acc: 1.0 |Validation acc: 0.7037037037037037\n",
            "Epoch 168: Train acc: 1.0 |Validation acc: 0.7037037037037037\n",
            "Epoch 169: Train acc: 1.0 |Validation acc: 0.7037037037037037\n",
            "Epoch 170: Train acc: 1.0 |Validation acc: 0.7037037037037037\n",
            "Epoch 171: Train acc: 1.0 |Validation acc: 0.7037037037037037\n",
            "Epoch 172: Train acc: 1.0 |Validation acc: 0.7037037037037037\n",
            "Epoch 173: Train acc: 1.0 |Validation acc: 0.7037037037037037\n",
            "Epoch 174: Train acc: 1.0 |Validation acc: 0.7037037037037037\n",
            "Epoch 175: Train acc: 1.0 |Validation acc: 0.7037037037037037\n",
            "Epoch 176: Train acc: 1.0 |Validation acc: 0.7037037037037037\n",
            "Epoch 177: Train acc: 1.0 |Validation acc: 0.7037037037037037\n",
            "Epoch 178: Train acc: 1.0 |Validation acc: 0.7037037037037037\n",
            "Epoch 179: Train acc: 1.0 |Validation acc: 0.7037037037037037\n",
            "Epoch 180: Train acc: 1.0 |Validation acc: 0.7037037037037037\n",
            "Epoch 181: Train acc: 1.0 |Validation acc: 0.7037037037037037\n",
            "Epoch 182: Train acc: 1.0 |Validation acc: 0.7037037037037037\n",
            "Epoch 183: Train acc: 1.0 |Validation acc: 0.7037037037037037\n",
            "Epoch 184: Train acc: 1.0 |Validation acc: 0.7037037037037037\n",
            "Epoch 185: Train acc: 1.0 |Validation acc: 0.7037037037037037\n",
            "Epoch 186: Train acc: 1.0 |Validation acc: 0.7037037037037037\n",
            "Epoch 187: Train acc: 1.0 |Validation acc: 0.7037037037037037\n",
            "Epoch 188: Train acc: 1.0 |Validation acc: 0.7037037037037037\n",
            "Epoch 189: Train acc: 1.0 |Validation acc: 0.7037037037037037\n",
            "Epoch 190: Train acc: 1.0 |Validation acc: 0.7037037037037037\n",
            "Epoch 191: Train acc: 1.0 |Validation acc: 0.7037037037037037\n",
            "Epoch 192: Train acc: 1.0 |Validation acc: 0.7037037037037037\n",
            "Epoch 193: Train acc: 1.0 |Validation acc: 0.7037037037037037\n",
            "Epoch 194: Train acc: 1.0 |Validation acc: 0.7037037037037037\n",
            "Epoch 195: Train acc: 1.0 |Validation acc: 0.7037037037037037\n",
            "Epoch 196: Train acc: 1.0 |Validation acc: 0.7037037037037037\n",
            "Epoch 197: Train acc: 1.0 |Validation acc: 0.7037037037037037\n",
            "Epoch 198: Train acc: 1.0 |Validation acc: 0.7037037037037037\n",
            "Epoch 199: Train acc: 1.0 |Validation acc: 0.7037037037037037\n",
            "Epoch 200: Train acc: 1.0 |Validation acc: 0.7037037037037037\n",
            "Finished Training\n",
            "Total time elapsed: 1508.96 seconds\n"
          ]
        },
        {
          "output_type": "display_data",
          "data": {
            "text/plain": [
              "<Figure size 432x288 with 1 Axes>"
            ],
            "image/png": "[encoded data removed]"
          },
          "metadata": {
            "needs_background": "light"
          }
        },
        {
          "output_type": "display_data",
          "data": {
            "text/plain": [
              "<Figure size 432x288 with 1 Axes>"
            ],
            "image/png": "[encoded data removed]"
          },
          "metadata": {
            "needs_background": "light"
          }
        },
        {
          "output_type": "stream",
          "name": "stdout",
          "text": [
            "Final Training Accuracy: 1.0\n",
            "Final Validation Accuracy: 0.7037037037037037\n"
          ]
        }
      ],
      "source": [
        "small_model = CNN_Gesture()\n",
        "\n",
        "train_small(small_model, train_dataset_small, validation_dataset_small)"
      ]
    },
    {
      "cell_type": "markdown",
      "metadata": {
        "id": "nvDLw-Vz6eVS"
      },
      "source": [
        "### 3. Hyperparameter Search [10 pt]\n",
        "\n",
        "### Part (a) - 1 pt\n",
        "\n",
        "List 3 hyperparameters that you think are most worth tuning. Choose at least one hyperparameter related to\n",
        "the model architecture."
      ]
    },
    {
      "cell_type": "markdown",
      "metadata": {
        "id": "LEudKf5ZTExl"
      },
      "source": [
        "**Answer**:\n",
        "\n",
        "batch size, learning rate, kernel size"
      ]
    },
    {
      "cell_type": "markdown",
      "metadata": {
        "id": "zeD6EzPB6kSW"
      },
      "source": [
        "### Part (b) - 5 pt\n",
        "\n",
        "Tune the hyperparameters you listed in Part (a), trying as many values as you need to until you feel satisfied\n",
        "that you are getting a good model. Plot the training curve of at least 4 different hyperparameter settings."
      ]
    },
    {
      "cell_type": "markdown",
      "metadata": {
        "id": "VOkvZfNNUYdx"
      },
      "source": [
        "**Changing batch size from 64 to 256:**"
      ]
    },
    {
      "cell_type": "code",
      "execution_count": null,
      "metadata": {
        "colab": {
          "base_uri": "https://localhost:8080/",
          "height": 1000
        },
        "collapsed": true,
        "id": "UkvdR-cB6nzm",
        "outputId": "e345eb7d-4f3e-489a-bd5d-b8163315fd05"
      },
      "outputs": [
        {
          "name": "stdout",
          "output_type": "stream",
          "text": [
            "CNN: Increasing batch size from 64 to 256...\n",
            "CNN_Gesture(\n",
            "  (conv1): Conv2d(3, 5, kernel_size=(5, 5), stride=(1, 1))\n",
            "  (pool): MaxPool2d(kernel_size=2, stride=2, padding=0, dilation=1, ceil_mode=False)\n",
            "  (conv2): Conv2d(5, 10, kernel_size=(5, 5), stride=(1, 1))\n",
            "  (fc1): Linear(in_features=28090, out_features=32, bias=True)\n",
            "  (fc2): Linear(in_features=32, out_features=9, bias=True)\n",
            ")\n",
            "Epoch 1: Train acc: 0.11135982092893117 |Validation acc: 0.1111111111111111\n",
            "Epoch 2: Train acc: 0.11135982092893117 |Validation acc: 0.1111111111111111\n",
            "Epoch 3: Train acc: 0.2008953553441522 |Validation acc: 0.20833333333333334\n",
            "Epoch 4: Train acc: 0.18522663682148852 |Validation acc: 0.18981481481481483\n",
            "Epoch 5: Train acc: 0.19138220481253498 |Validation acc: 0.21296296296296297\n",
            "Epoch 6: Train acc: 0.2686066032456631 |Validation acc: 0.27314814814814814\n",
            "Epoch 7: Train acc: 0.2574146614437605 |Validation acc: 0.25\n",
            "Epoch 8: Train acc: 0.2747621712367096 |Validation acc: 0.26851851851851855\n",
            "Epoch 9: Train acc: 0.3005036373810856 |Validation acc: 0.30092592592592593\n",
            "Epoch 10: Train acc: 0.3430330162283156 |Validation acc: 0.3333333333333333\n",
            "Epoch 11: Train acc: 0.44096250699496364 |Validation acc: 0.46296296296296297\n",
            "Epoch 12: Train acc: 0.39955232232792387 |Validation acc: 0.42592592592592593\n",
            "Epoch 13: Train acc: 0.43200895355344154 |Validation acc: 0.44907407407407407\n",
            "Epoch 14: Train acc: 0.4583100167879127 |Validation acc: 0.4398148148148148\n",
            "Epoch 15: Train acc: 0.4650251818690543 |Validation acc: 0.4583333333333333\n",
            "Epoch 16: Train acc: 0.47845551203133746 |Validation acc: 0.47685185185185186\n",
            "Epoch 17: Train acc: 0.4812534974818131 |Validation acc: 0.49537037037037035\n",
            "Epoch 18: Train acc: 0.5002797985450476 |Validation acc: 0.5\n",
            "Epoch 19: Train acc: 0.5125909345271404 |Validation acc: 0.5231481481481481\n",
            "Epoch 20: Train acc: 0.4918858421936206 |Validation acc: 0.4398148148148148\n",
            "Finished Training\n",
            "Total time elapsed: 1007.68 seconds\n"
          ]
        },
        {
          "data": {
            "image/png": "[encoded data removed]",
            "text/plain": [
              "<Figure size 432x288 with 1 Axes>"
            ]
          },
          "metadata": {},
          "output_type": "display_data"
        },
        {
          "data": {
            "image/png": "[encoded data removed]",
            "text/plain": [
              "<Figure size 432x288 with 1 Axes>"
            ]
          },
          "metadata": {},
          "output_type": "display_data"
        },
        {
          "name": "stdout",
          "output_type": "stream",
          "text": [
            "Final Training Accuracy: 0.4918858421936206\n",
            "Final Validation Accuracy: 0.4398148148148148\n"
          ]
        }
      ],
      "source": [
        "print(\"CNN: Increasing batch size from 64 to 256...\")\n",
        "model1 = CNN_Gesture()\n",
        "print(model1)\n",
        "train(model1, train_dataset, validation_dataset, batch_size=256)"
      ]
    },
    {
      "cell_type": "markdown",
      "metadata": {
        "id": "JNzTNC9Zbqi2"
      },
      "source": [
        "**Changing kernel size from 5 to 3:**"
      ]
    },
    {
      "cell_type": "code",
      "execution_count": null,
      "metadata": {
        "colab": {
          "base_uri": "https://localhost:8080/",
          "height": 1000
        },
        "id": "aqqBgO8sWu2Q",
        "outputId": "126693e2-dd47-4ede-cc18-f9798591530a"
      },
      "outputs": [
        {
          "name": "stdout",
          "output_type": "stream",
          "text": [
            "CNN: Changing kernel size from 5 to 3 for Conv2d layers...\n",
            "Convolutional Neural Network Architecture Done\n",
            "CNN_Gesture_new(\n",
            "  (conv1): Conv2d(3, 5, kernel_size=(3, 3), stride=(1, 1))\n",
            "  (pool): MaxPool2d(kernel_size=2, stride=2, padding=0, dilation=1, ceil_mode=False)\n",
            "  (conv2): Conv2d(5, 10, kernel_size=(3, 3), stride=(1, 1))\n",
            "  (fc1): Linear(in_features=29160, out_features=32, bias=True)\n",
            "  (fc2): Linear(in_features=32, out_features=9, bias=True)\n",
            ")\n",
            "Epoch 1: Train acc: 0.1152770005595971 |Validation acc: 0.1111111111111111\n",
            "Epoch 2: Train acc: 0.20145495243424735 |Validation acc: 0.19907407407407407\n",
            "Epoch 3: Train acc: 0.19082260772243984 |Validation acc: 0.2037037037037037\n",
            "Epoch 4: Train acc: 0.1986569669837717 |Validation acc: 0.19907407407407407\n",
            "Epoch 5: Train acc: 0.19585898153329603 |Validation acc: 0.20833333333333334\n",
            "Epoch 6: Train acc: 0.21208729714605484 |Validation acc: 0.20833333333333334\n",
            "Epoch 7: Train acc: 0.22887520984890877 |Validation acc: 0.2222222222222222\n",
            "Epoch 8: Train acc: 0.23726916620033575 |Validation acc: 0.25\n",
            "Epoch 9: Train acc: 0.3049804141018467 |Validation acc: 0.3101851851851852\n",
            "Epoch 10: Train acc: 0.4336877448237269 |Validation acc: 0.4444444444444444\n",
            "Epoch 11: Train acc: 0.4986010072747622 |Validation acc: 0.46296296296296297\n",
            "Epoch 12: Train acc: 0.5758254057078903 |Validation acc: 0.47685185185185186\n",
            "Epoch 13: Train acc: 0.5847789591494125 |Validation acc: 0.48148148148148145\n",
            "Epoch 14: Train acc: 0.6121992165640738 |Validation acc: 0.5509259259259259\n",
            "Epoch 15: Train acc: 0.6284275321768327 |Validation acc: 0.5555555555555556\n",
            "Epoch 16: Train acc: 0.6261891438164522 |Validation acc: 0.5601851851851852\n",
            "Epoch 17: Train acc: 0.6558477895914941 |Validation acc: 0.5231481481481481\n",
            "Epoch 18: Train acc: 0.6888640179071068 |Validation acc: 0.5694444444444444\n",
            "Epoch 19: Train acc: 0.6799104644655848 |Validation acc: 0.5601851851851852\n",
            "Epoch 20: Train acc: 0.7347509792949076 |Validation acc: 0.5972222222222222\n",
            "Finished Training\n",
            "Total time elapsed: 822.05 seconds\n"
          ]
        },
        {
          "data": {
            "image/png": "[encoded data removed]",
            "text/plain": [
              "<Figure size 432x288 with 1 Axes>"
            ]
          },
          "metadata": {},
          "output_type": "display_data"
        },
        {
          "data": {
            "image/png": "[encoded data removed]",
            "text/plain": [
              "<Figure size 432x288 with 1 Axes>"
            ]
          },
          "metadata": {},
          "output_type": "display_data"
        },
        {
          "name": "stdout",
          "output_type": "stream",
          "text": [
            "Final Training Accuracy: 0.7347509792949076\n",
            "Final Validation Accuracy: 0.5972222222222222\n"
          ]
        }
      ],
      "source": [
        "print(\"CNN: Changing kernel size from 5 to 3 for Conv2d layers...\")\n",
        "\n",
        "# The input of cov1 is 3*224*224 and then after this layer it becomes 5*222*222 because o = (i+2p-k)/s + 1 = (224+0-3)/1 + 1 = 222. \n",
        "# Then we apply relu on it and then a pooling layer with kernel size 2 and stride 2 which reduces the size to 5*111*111 because o = (i-k)/s + 1 = (222-2)/2 + 1 = 111. \n",
        "# Then we apply another conv layer (conv2) which then the size becomes 10*109*109 because o = (i+2p-k)/s + 1 = (111+0-3)/1 + 1 = 109. \n",
        "# Then we apply relu on it and then a pooling layer with kernel size 2 and stride 2 which reduces the size to 10*53*53 because o = (i-k)/s + 1 = (109-2)/2 + 1 = 54. \n",
        "# Finally I applied a fully-connected layer with relu activation on top of it and \n",
        "# then another final fully-connected layer to reduce the output size to 9 for my 9 classes (A, B, C, D, E, F, G, H, I).\n",
        "\n",
        "torch.manual_seed(1) # set the random seed\n",
        "\n",
        "#Convolutional Neural Network Architecture\n",
        "class CNN_Gesture_new(nn.Module):\n",
        "    def __init__(self):\n",
        "        super(CNN_Gesture_new, self).__init__()\n",
        "        self.name = \"cnn_gesture_new\"\n",
        "        self.conv1 = nn.Conv2d(3, 5, 3) #in_channels, out_chanels, kernel_size\n",
        "        self.pool = nn.MaxPool2d(2, 2) #kernel_size, stride \n",
        "        self.conv2 = nn.Conv2d(5, 10, 3) #in_channels, out_chanels, kernel_size\n",
        "        self.fc1 = nn.Linear(10 * 54 * 54, 32)\n",
        "        self.fc2 = nn.Linear(32, 9)\n",
        "\n",
        "    def forward(self, x):\n",
        "        x = self.pool(F.relu(self.conv1(x)))\n",
        "        x = self.pool(F.relu(self.conv2(x)))\n",
        "        x = x.view(-1, 10 * 54 * 54)\n",
        "        x = F.relu(self.fc1(x))\n",
        "        x = self.fc2(x)\n",
        "        return x\n",
        "    \n",
        "    print('Convolutional Neural Network Architecture Done')\n",
        "\n",
        "model2 = CNN_Gesture_new()\n",
        "print(model2)\n",
        "train(model2, train_dataset, validation_dataset, batch_size=256)"
      ]
    },
    {
      "cell_type": "markdown",
      "metadata": {
        "id": "cXsJU6abbu1M"
      },
      "source": [
        "**Changing learning rate from 0.001 to 0.01:**"
      ]
    },
    {
      "cell_type": "code",
      "execution_count": null,
      "metadata": {
        "colab": {
          "base_uri": "https://localhost:8080/",
          "height": 1000
        },
        "id": "Kd5Px9T8X008",
        "outputId": "1b28b6ef-207b-48f8-c881-01d992e621ee"
      },
      "outputs": [
        {
          "name": "stdout",
          "output_type": "stream",
          "text": [
            "CNN: Increasing learning rate from 0.001 to 0.01...\n",
            "CNN_Gesture(\n",
            "  (conv1): Conv2d(3, 5, kernel_size=(5, 5), stride=(1, 1))\n",
            "  (pool): MaxPool2d(kernel_size=2, stride=2, padding=0, dilation=1, ceil_mode=False)\n",
            "  (conv2): Conv2d(5, 10, kernel_size=(5, 5), stride=(1, 1))\n",
            "  (fc1): Linear(in_features=28090, out_features=32, bias=True)\n",
            "  (fc2): Linear(in_features=32, out_features=9, bias=True)\n",
            ")\n",
            "Epoch 1: Train acc: 0.11135982092893117 |Validation acc: 0.1111111111111111\n",
            "Epoch 2: Train acc: 0.11135982092893117 |Validation acc: 0.1111111111111111\n",
            "Epoch 3: Train acc: 0.11303861219921657 |Validation acc: 0.1111111111111111\n",
            "Epoch 4: Train acc: 0.11303861219921657 |Validation acc: 0.1111111111111111\n",
            "Epoch 5: Train acc: 0.11303861219921657 |Validation acc: 0.1111111111111111\n",
            "Epoch 6: Train acc: 0.1152770005595971 |Validation acc: 0.1111111111111111\n",
            "Epoch 7: Train acc: 0.11247901510912144 |Validation acc: 0.1111111111111111\n",
            "Epoch 8: Train acc: 0.11303861219921657 |Validation acc: 0.1111111111111111\n",
            "Epoch 9: Train acc: 0.1152770005595971 |Validation acc: 0.1111111111111111\n",
            "Epoch 10: Train acc: 0.1152770005595971 |Validation acc: 0.1111111111111111\n",
            "Epoch 11: Train acc: 0.1152770005595971 |Validation acc: 0.1111111111111111\n",
            "Epoch 12: Train acc: 0.1152770005595971 |Validation acc: 0.1111111111111111\n",
            "Epoch 13: Train acc: 0.11303861219921657 |Validation acc: 0.1111111111111111\n",
            "Epoch 14: Train acc: 0.11303861219921657 |Validation acc: 0.1111111111111111\n",
            "Epoch 15: Train acc: 0.1152770005595971 |Validation acc: 0.1111111111111111\n",
            "Epoch 16: Train acc: 0.1152770005595971 |Validation acc: 0.1111111111111111\n",
            "Epoch 17: Train acc: 0.1152770005595971 |Validation acc: 0.1111111111111111\n",
            "Epoch 18: Train acc: 0.1152770005595971 |Validation acc: 0.1111111111111111\n",
            "Epoch 19: Train acc: 0.1152770005595971 |Validation acc: 0.1111111111111111\n",
            "Epoch 20: Train acc: 0.1152770005595971 |Validation acc: 0.1111111111111111\n",
            "Finished Training\n",
            "Total time elapsed: 895.65 seconds\n"
          ]
        },
        {
          "data": {
            "image/png": "[encoded data removed]",
            "text/plain": [
              "<Figure size 432x288 with 1 Axes>"
            ]
          },
          "metadata": {},
          "output_type": "display_data"
        },
        {
          "data": {
            "image/png": "[encoded data removed]",
            "text/plain": [
              "<Figure size 432x288 with 1 Axes>"
            ]
          },
          "metadata": {},
          "output_type": "display_data"
        },
        {
          "name": "stdout",
          "output_type": "stream",
          "text": [
            "Final Training Accuracy: 0.1152770005595971\n",
            "Final Validation Accuracy: 0.1111111111111111\n"
          ]
        }
      ],
      "source": [
        "print(\"CNN: Increasing learning rate from 0.001 to 0.01...\")\n",
        "model3 = CNN_Gesture()\n",
        "print(model3)\n",
        "train(model3, train_dataset, validation_dataset, learning_rate=0.01)"
      ]
    },
    {
      "cell_type": "markdown",
      "metadata": {
        "id": "VXd0vZxSb3Ei"
      },
      "source": [
        "**Changing batch size from 64 to 32:**"
      ]
    },
    {
      "cell_type": "code",
      "execution_count": null,
      "metadata": {
        "colab": {
          "base_uri": "https://localhost:8080/",
          "height": 1000
        },
        "id": "D_yeDMdpiFpd",
        "outputId": "e2459f6c-8fc6-421f-da9a-0d6a84238f9d"
      },
      "outputs": [
        {
          "name": "stdout",
          "output_type": "stream",
          "text": [
            "CNN: Reducing batch size from 64 to 32...\n",
            "CNN_Gesture(\n",
            "  (conv1): Conv2d(3, 5, kernel_size=(5, 5), stride=(1, 1))\n",
            "  (pool): MaxPool2d(kernel_size=2, stride=2, padding=0, dilation=1, ceil_mode=False)\n",
            "  (conv2): Conv2d(5, 10, kernel_size=(5, 5), stride=(1, 1))\n",
            "  (fc1): Linear(in_features=28090, out_features=32, bias=True)\n",
            "  (fc2): Linear(in_features=32, out_features=9, bias=True)\n",
            ")\n",
            "Epoch 1: Train acc: 0.11135982092893117 |Validation acc: 0.1111111111111111\n",
            "Epoch 2: Train acc: 0.11135982092893117 |Validation acc: 0.1111111111111111\n",
            "Epoch 3: Train acc: 0.11135982092893117 |Validation acc: 0.1111111111111111\n",
            "Epoch 4: Train acc: 0.11135982092893117 |Validation acc: 0.1111111111111111\n",
            "Epoch 5: Train acc: 0.11135982092893117 |Validation acc: 0.1111111111111111\n",
            "Epoch 6: Train acc: 0.11135982092893117 |Validation acc: 0.1111111111111111\n",
            "Epoch 7: Train acc: 0.11135982092893117 |Validation acc: 0.1111111111111111\n",
            "Epoch 8: Train acc: 0.11135982092893117 |Validation acc: 0.1111111111111111\n",
            "Epoch 9: Train acc: 0.11135982092893117 |Validation acc: 0.1111111111111111\n",
            "Epoch 10: Train acc: 0.11135982092893117 |Validation acc: 0.1111111111111111\n",
            "Epoch 11: Train acc: 0.11135982092893117 |Validation acc: 0.1111111111111111\n",
            "Epoch 12: Train acc: 0.11135982092893117 |Validation acc: 0.1111111111111111\n",
            "Epoch 13: Train acc: 0.11135982092893117 |Validation acc: 0.1111111111111111\n",
            "Epoch 14: Train acc: 0.11135982092893117 |Validation acc: 0.1111111111111111\n",
            "Epoch 15: Train acc: 0.11135982092893117 |Validation acc: 0.1111111111111111\n",
            "Epoch 16: Train acc: 0.11247901510912144 |Validation acc: 0.1111111111111111\n",
            "Epoch 17: Train acc: 0.11135982092893117 |Validation acc: 0.1111111111111111\n",
            "Epoch 18: Train acc: 0.1152770005595971 |Validation acc: 0.1111111111111111\n",
            "Epoch 19: Train acc: 0.1152770005595971 |Validation acc: 0.1111111111111111\n",
            "Epoch 20: Train acc: 0.1152770005595971 |Validation acc: 0.1111111111111111\n",
            "Finished Training\n",
            "Total time elapsed: 824.21 seconds\n"
          ]
        },
        {
          "data": {
            "image/png": "[encoded data removed]",
            "text/plain": [
              "<Figure size 432x288 with 1 Axes>"
            ]
          },
          "metadata": {},
          "output_type": "display_data"
        },
        {
          "data": {
            "image/png": "[encoded data removed]",
            "text/plain": [
              "<Figure size 432x288 with 1 Axes>"
            ]
          },
          "metadata": {},
          "output_type": "display_data"
        },
        {
          "name": "stdout",
          "output_type": "stream",
          "text": [
            "Final Training Accuracy: 0.1152770005595971\n",
            "Final Validation Accuracy: 0.1111111111111111\n"
          ]
        }
      ],
      "source": [
        "print(\"CNN: Reducing batch size from 64 to 32...\")\n",
        "model4 = CNN_Gesture()\n",
        "print(model4)\n",
        "train(model4, train_dataset, validation_dataset, batch_size=32)"
      ]
    },
    {
      "cell_type": "markdown",
      "metadata": {
        "id": "HDIfyp57b5KN"
      },
      "source": [
        "**Changing learning rate from 0.001 to 0.005:**"
      ]
    },
    {
      "cell_type": "code",
      "execution_count": null,
      "metadata": {
        "colab": {
          "base_uri": "https://localhost:8080/",
          "height": 1000
        },
        "id": "oNSswn2Vosf_",
        "outputId": "1478b812-df30-4717-c368-aa047f82b4d3"
      },
      "outputs": [
        {
          "name": "stdout",
          "output_type": "stream",
          "text": [
            "CNN: Increasing learning rate from 0.001 to 0.005...\n",
            "CNN_Gesture(\n",
            "  (conv1): Conv2d(3, 5, kernel_size=(5, 5), stride=(1, 1))\n",
            "  (pool): MaxPool2d(kernel_size=2, stride=2, padding=0, dilation=1, ceil_mode=False)\n",
            "  (conv2): Conv2d(5, 10, kernel_size=(5, 5), stride=(1, 1))\n",
            "  (fc1): Linear(in_features=28090, out_features=32, bias=True)\n",
            "  (fc2): Linear(in_features=32, out_features=9, bias=True)\n",
            ")\n",
            "Epoch 1: Train acc: 0.11135982092893117 |Validation acc: 0.1111111111111111\n",
            "Epoch 2: Train acc: 0.11135982092893117 |Validation acc: 0.1111111111111111\n",
            "Epoch 3: Train acc: 0.11135982092893117 |Validation acc: 0.1111111111111111\n",
            "Epoch 4: Train acc: 0.11135982092893117 |Validation acc: 0.1111111111111111\n",
            "Epoch 5: Train acc: 0.1152770005595971 |Validation acc: 0.1111111111111111\n",
            "Epoch 6: Train acc: 0.1152770005595971 |Validation acc: 0.1111111111111111\n",
            "Epoch 7: Train acc: 0.1152770005595971 |Validation acc: 0.1111111111111111\n",
            "Epoch 8: Train acc: 0.1152770005595971 |Validation acc: 0.1111111111111111\n",
            "Epoch 9: Train acc: 0.1152770005595971 |Validation acc: 0.1111111111111111\n",
            "Epoch 10: Train acc: 0.1152770005595971 |Validation acc: 0.1111111111111111\n",
            "Epoch 11: Train acc: 0.1152770005595971 |Validation acc: 0.1111111111111111\n",
            "Epoch 12: Train acc: 0.11303861219921657 |Validation acc: 0.1111111111111111\n",
            "Epoch 13: Train acc: 0.1152770005595971 |Validation acc: 0.1111111111111111\n",
            "Epoch 14: Train acc: 0.1152770005595971 |Validation acc: 0.1111111111111111\n",
            "Epoch 15: Train acc: 0.1152770005595971 |Validation acc: 0.1111111111111111\n",
            "Epoch 16: Train acc: 0.1152770005595971 |Validation acc: 0.1111111111111111\n",
            "Epoch 17: Train acc: 0.1152770005595971 |Validation acc: 0.1111111111111111\n",
            "Epoch 18: Train acc: 0.1152770005595971 |Validation acc: 0.1111111111111111\n",
            "Epoch 19: Train acc: 0.1152770005595971 |Validation acc: 0.1111111111111111\n",
            "Epoch 20: Train acc: 0.1152770005595971 |Validation acc: 0.1111111111111111\n",
            "Finished Training\n",
            "Total time elapsed: 922.08 seconds\n"
          ]
        },
        {
          "data": {
            "image/png": "[encoded data removed]",
            "text/plain": [
              "<Figure size 432x288 with 1 Axes>"
            ]
          },
          "metadata": {},
          "output_type": "display_data"
        },
        {
          "data": {
            "image/png": "[encoded data removed]",
            "text/plain": [
              "<Figure size 432x288 with 1 Axes>"
            ]
          },
          "metadata": {},
          "output_type": "display_data"
        },
        {
          "name": "stdout",
          "output_type": "stream",
          "text": [
            "Final Training Accuracy: 0.1152770005595971\n",
            "Final Validation Accuracy: 0.1111111111111111\n"
          ]
        }
      ],
      "source": [
        "print(\"CNN: Increasing learning rate from 0.001 to 0.005...\")\n",
        "model5 = CNN_Gesture()\n",
        "print(model5)\n",
        "train(model5, train_dataset, validation_dataset, learning_rate=0.005)"
      ]
    },
    {
      "cell_type": "markdown",
      "metadata": {
        "id": "88u3IbsecCwu"
      },
      "source": [
        "**Default (initial) model with learning_rate=0.001, batch_size=64, kernel_size=5:**"
      ]
    },
    {
      "cell_type": "code",
      "execution_count": null,
      "metadata": {
        "colab": {
          "base_uri": "https://localhost:8080/",
          "height": 1000
        },
        "id": "rqILg1Edwjyn",
        "outputId": "599d4df0-6933-4cf8-e9cc-7cb709ae774b"
      },
      "outputs": [
        {
          "name": "stdout",
          "output_type": "stream",
          "text": [
            "CNN_Gesture(\n",
            "  (conv1): Conv2d(3, 5, kernel_size=(5, 5), stride=(1, 1))\n",
            "  (pool): MaxPool2d(kernel_size=2, stride=2, padding=0, dilation=1, ceil_mode=False)\n",
            "  (conv2): Conv2d(5, 10, kernel_size=(5, 5), stride=(1, 1))\n",
            "  (fc1): Linear(in_features=28090, out_features=32, bias=True)\n",
            "  (fc2): Linear(in_features=32, out_features=9, bias=True)\n",
            ")\n",
            "Epoch 1: Train acc: 0.49468382764409624 |Validation acc: 0.4861111111111111\n",
            "Epoch 2: Train acc: 0.6189143816452154 |Validation acc: 0.5879629629629629\n",
            "Epoch 3: Train acc: 0.7213206491326245 |Validation acc: 0.6481481481481481\n",
            "Epoch 4: Train acc: 0.735870173475098 |Validation acc: 0.6574074074074074\n",
            "Epoch 5: Train acc: 0.7470621152770005 |Validation acc: 0.6620370370370371\n",
            "Epoch 6: Train acc: 0.7688864017907107 |Validation acc: 0.6944444444444444\n",
            "Epoch 7: Train acc: 0.8142137660884163 |Validation acc: 0.7037037037037037\n",
            "Epoch 8: Train acc: 0.8371572467823167 |Validation acc: 0.6898148148148148\n",
            "Epoch 9: Train acc: 0.8612199216564074 |Validation acc: 0.7129629629629629\n",
            "Epoch 10: Train acc: 0.8875209848908786 |Validation acc: 0.7037037037037037\n",
            "Epoch 11: Train acc: 0.9205372132064913 |Validation acc: 0.7129629629629629\n",
            "Epoch 12: Train acc: 0.9434806939003917 |Validation acc: 0.7037037037037037\n",
            "Epoch 13: Train acc: 0.9697817571348629 |Validation acc: 0.7222222222222222\n",
            "Epoch 14: Train acc: 0.9759373251259094 |Validation acc: 0.7175925925925926\n",
            "Epoch 15: Train acc: 0.9563514269725797 |Validation acc: 0.7129629629629629\n",
            "Epoch 16: Train acc: 0.9815332960268607 |Validation acc: 0.6527777777777778\n",
            "Epoch 17: Train acc: 0.9949636261891438 |Validation acc: 0.6944444444444444\n",
            "Epoch 18: Train acc: 0.9983212087297146 |Validation acc: 0.7407407407407407\n",
            "Epoch 19: Train acc: 0.9988808058198098 |Validation acc: 0.7037037037037037\n",
            "Epoch 20: Train acc: 0.9994404029099049 |Validation acc: 0.7222222222222222\n",
            "Finished Training\n",
            "Total time elapsed: 950.76 seconds\n"
          ]
        },
        {
          "data": {
            "image/png": "[encoded data removed]",
            "text/plain": [
              "<Figure size 432x288 with 1 Axes>"
            ]
          },
          "metadata": {},
          "output_type": "display_data"
        },
        {
          "data": {
            "image/png": "[encoded data removed]",
            "text/plain": [
              "<Figure size 432x288 with 1 Axes>"
            ]
          },
          "metadata": {},
          "output_type": "display_data"
        },
        {
          "name": "stdout",
          "output_type": "stream",
          "text": [
            "Final Training Accuracy: 0.9994404029099049\n",
            "Final Validation Accuracy: 0.7222222222222222\n"
          ]
        }
      ],
      "source": [
        "model6 = CNN_Gesture()\n",
        "print(model6)\n",
        "train(model6, train_dataset, validation_dataset)"
      ]
    },
    {
      "cell_type": "markdown",
      "metadata": {
        "id": "PGV0HJEHcfdR"
      },
      "source": [
        "**A better way to search for the best hyperparameters is Random Search. Trying out below combination with keeping kernel_size constant (kernel_size=5):**\n",
        "\n",
        "**batch_size_list = [32, 32, 64, 64, 128, 128]**\n",
        "\n",
        "**learning_rate_list = [0.01, 0.001, 0.001, 0.0001, 0.005, 0.001]**"
      ]
    },
    {
      "cell_type": "code",
      "execution_count": null,
      "metadata": {
        "colab": {
          "base_uri": "https://localhost:8080/"
        },
        "id": "d7ToF_ibDmw-",
        "outputId": "1aba97f6-b0a6-43f2-a3df-f4ae808a81e4"
      },
      "outputs": [
        {
          "name": "stdout",
          "output_type": "stream",
          "text": [
            "Convolutional Neural Network Architecture Done\n"
          ]
        }
      ],
      "source": [
        "torch.manual_seed(1) # set the random seed\n",
        "\n",
        "#Convolutional Neural Network Architecture\n",
        "class CNN_Gesture_searching(nn.Module):\n",
        "    def __init__(self):\n",
        "        super(CNN_Gesture_searching, self).__init__()\n",
        "        self.name = \"cnn_gesture_searching\"\n",
        "        self.conv1 = nn.Conv2d(3, 5, 5) #in_channels, out_chanels, kernel_size\n",
        "        self.pool = nn.MaxPool2d(2, 2) #kernel_size, stride \n",
        "        self.conv2 = nn.Conv2d(5, 10, 5) #in_channels, out_chanels, kernel_size\n",
        "        self.fc1 = nn.Linear(10 * 53 * 53, 32)\n",
        "        self.fc2 = nn.Linear(32, 9)\n",
        "\n",
        "    def forward(self, x):\n",
        "        x = self.pool(F.relu(self.conv1(x)))\n",
        "        x = self.pool(F.relu(self.conv2(x)))\n",
        "        x = x.view(-1, 10 * 53 * 53)\n",
        "        x = F.relu(self.fc1(x))\n",
        "        x = self.fc2(x)\n",
        "        return x\n",
        "    \n",
        "    print('Convolutional Neural Network Architecture Done')"
      ]
    },
    {
      "cell_type": "code",
      "execution_count": null,
      "metadata": {
        "id": "Kjgjx02vD-eL"
      },
      "outputs": [],
      "source": [
        "use_cuda = True\n",
        "\n",
        "def get_accuracy(model, data_loader):\n",
        "\n",
        "    correct = 0\n",
        "    total = 0\n",
        "    for imgs, labels in data_loader:\n",
        "\n",
        "        #############################################\n",
        "        #To Enable GPU Usage\n",
        "        if use_cuda and torch.cuda.is_available():\n",
        "          imgs = imgs.cuda()\n",
        "          labels = labels.cuda()\n",
        "        #############################################\n",
        "        \n",
        "        output = model(imgs)\n",
        "        \n",
        "        #select index with maximum prediction score\n",
        "        pred = output.max(1, keepdim=True)[1]\n",
        "        correct += pred.eq(labels.view_as(pred)).sum().item()\n",
        "        total += imgs.shape[0]\n",
        "    return correct / total"
      ]
    },
    {
      "cell_type": "code",
      "execution_count": null,
      "metadata": {
        "id": "0I1jsf5jC-t3"
      },
      "outputs": [],
      "source": [
        "def train_searching(model, train_dataset, validation_dataset, learning_rate, batch_size, num_epochs):\n",
        "    \n",
        "    train_loader = DataLoader(\n",
        "    train_dataset, batch_size=batch_size, \n",
        "    shuffle=True\n",
        "    )\n",
        "\n",
        "    validation_loader = DataLoader(\n",
        "    validation_dataset, batch_size=batch_size, \n",
        "    shuffle=True\n",
        "    )\n",
        "\n",
        "    criterion = nn.CrossEntropyLoss()\n",
        "    optimizer = optim.Adam(model.parameters(), lr=learning_rate)\n",
        "\n",
        "    iters, losses, train_acc, val_acc = [], [], [], []\n",
        "\n",
        "    # training\n",
        "    #n = 0 # the number of iterations\n",
        "    start_time = time.time()\n",
        "    for epoch in range(num_epochs):\n",
        "        for imgs, labels in iter(train_loader):\n",
        "\n",
        "            #############################################\n",
        "            #To Enable GPU Usage\n",
        "            if use_cuda and torch.cuda.is_available():\n",
        "              imgs = imgs.cuda()\n",
        "              labels = labels.cuda()\n",
        "            #############################################\n",
        "              \n",
        "            out = model(imgs)             # forward pass\n",
        "\n",
        "            loss = criterion(out, labels) # compute the total loss\n",
        "            loss.backward()               # backward pass (compute parameter updates)\n",
        "            optimizer.step()              # make the updates for each parameter\n",
        "            optimizer.zero_grad()         # a clean up step for PyTorch\n",
        "\n",
        "        # save the current training information\n",
        "        #n += 1\n",
        "        iters.append(epoch)\n",
        "        losses.append(float(loss)/batch_size)             # compute *average* loss\n",
        "        train_acc.append(get_accuracy(model, train_loader)) # compute training accuracy \n",
        "        val_acc.append(get_accuracy(model, validation_loader))  # compute validation accuracy\n",
        "        print((\"Epoch {}: Train acc: {} |\"+\n",
        "               \"Validation acc: {}\").format(\n",
        "                   epoch + 1,\n",
        "                   train_acc[epoch],\n",
        "                   val_acc[epoch]))\n",
        "        # Save the current model (checkpoint) to a file\n",
        "        #model_path = get_model_name(model.name, batch_size, learning_rate, epoch)\n",
        "        #torch.save(model.state_dict(), model_path)\n",
        "    print('Finished Training')\n",
        "    end_time = time.time()\n",
        "    elapsed_time = end_time - start_time\n",
        "    print(\"Total time elapsed: {:.2f} seconds\".format(elapsed_time))\n",
        "\n",
        "    print(\"Final Training Accuracy: {}\".format(train_acc[-1]))\n",
        "    print(\"Final Validation Accuracy: {}\".format(val_acc[-1]))"
      ]
    },
    {
      "cell_type": "code",
      "execution_count": null,
      "metadata": {
        "colab": {
          "base_uri": "https://localhost:8080/"
        },
        "id": "LVvBp9ZkBj5_",
        "outputId": "097e0ae3-0238-4dae-839e-94cd7874fd90"
      },
      "outputs": [
        {
          "name": "stdout",
          "output_type": "stream",
          "text": [
            "\n",
            "CNN\n",
            "CNN_Gesture_searching(\n",
            "  (conv1): Conv2d(3, 5, kernel_size=(5, 5), stride=(1, 1))\n",
            "  (pool): MaxPool2d(kernel_size=2, stride=2, padding=0, dilation=1, ceil_mode=False)\n",
            "  (conv2): Conv2d(5, 10, kernel_size=(5, 5), stride=(1, 1))\n",
            "  (fc1): Linear(in_features=28090, out_features=32, bias=True)\n",
            "  (fc2): Linear(in_features=32, out_features=9, bias=True)\n",
            ")\n",
            "Epoch 1: Train acc: 0.10968102965864578 |Validation acc: 0.1111111111111111\n",
            "Epoch 2: Train acc: 0.1152770005595971 |Validation acc: 0.1111111111111111\n",
            "Epoch 3: Train acc: 0.1152770005595971 |Validation acc: 0.1111111111111111\n",
            "Epoch 4: Train acc: 0.1152770005595971 |Validation acc: 0.1111111111111111\n",
            "Epoch 5: Train acc: 0.1152770005595971 |Validation acc: 0.1111111111111111\n",
            "Epoch 6: Train acc: 0.1152770005595971 |Validation acc: 0.1111111111111111\n",
            "Epoch 7: Train acc: 0.1152770005595971 |Validation acc: 0.1111111111111111\n",
            "Epoch 8: Train acc: 0.1152770005595971 |Validation acc: 0.1111111111111111\n",
            "Epoch 9: Train acc: 0.1152770005595971 |Validation acc: 0.1111111111111111\n",
            "Epoch 10: Train acc: 0.1152770005595971 |Validation acc: 0.1111111111111111\n",
            "Epoch 11: Train acc: 0.1152770005595971 |Validation acc: 0.1111111111111111\n",
            "Epoch 12: Train acc: 0.11303861219921657 |Validation acc: 0.1111111111111111\n",
            "Epoch 13: Train acc: 0.1152770005595971 |Validation acc: 0.1111111111111111\n",
            "Epoch 14: Train acc: 0.1152770005595971 |Validation acc: 0.1111111111111111\n",
            "Epoch 15: Train acc: 0.1152770005595971 |Validation acc: 0.1111111111111111\n",
            "Finished Training\n",
            "Total time elapsed: 1360.59 seconds\n",
            "Final Training Accuracy: 0.1152770005595971\n",
            "Final Validation Accuracy: 0.1111111111111111\n",
            "\n",
            "CNN\n",
            "CNN_Gesture_searching(\n",
            "  (conv1): Conv2d(3, 5, kernel_size=(5, 5), stride=(1, 1))\n",
            "  (pool): MaxPool2d(kernel_size=2, stride=2, padding=0, dilation=1, ceil_mode=False)\n",
            "  (conv2): Conv2d(5, 10, kernel_size=(5, 5), stride=(1, 1))\n",
            "  (fc1): Linear(in_features=28090, out_features=32, bias=True)\n",
            "  (fc2): Linear(in_features=32, out_features=9, bias=True)\n",
            ")\n",
            "Epoch 1: Train acc: 0.34191382204812537 |Validation acc: 0.28703703703703703\n",
            "Epoch 2: Train acc: 0.6239507554560716 |Validation acc: 0.5833333333333334\n",
            "Epoch 3: Train acc: 0.7470621152770005 |Validation acc: 0.6481481481481481\n",
            "Epoch 4: Train acc: 0.8220481253497481 |Validation acc: 0.6527777777777778\n",
            "Epoch 5: Train acc: 0.8735310576385003 |Validation acc: 0.6620370370370371\n",
            "Epoch 6: Train acc: 0.9132624510352546 |Validation acc: 0.6712962962962963\n",
            "Epoch 7: Train acc: 0.9485170677112479 |Validation acc: 0.6666666666666666\n",
            "Epoch 8: Train acc: 0.9591494124230554 |Validation acc: 0.625\n",
            "Epoch 9: Train acc: 0.9876888640179071 |Validation acc: 0.6666666666666666\n",
            "Epoch 10: Train acc: 0.9932848349188584 |Validation acc: 0.6712962962962963\n",
            "Epoch 11: Train acc: 0.9983212087297146 |Validation acc: 0.6574074074074074\n",
            "Epoch 12: Train acc: 0.9994404029099049 |Validation acc: 0.6805555555555556\n",
            "Epoch 13: Train acc: 0.9983212087297146 |Validation acc: 0.6990740740740741\n",
            "Epoch 14: Train acc: 0.9955232232792389 |Validation acc: 0.6851851851851852\n",
            "Epoch 15: Train acc: 0.9994404029099049 |Validation acc: 0.7129629629629629\n",
            "Finished Training\n",
            "Total time elapsed: 676.76 seconds\n",
            "Final Training Accuracy: 0.9994404029099049\n",
            "Final Validation Accuracy: 0.7129629629629629\n",
            "\n",
            "CNN\n",
            "CNN_Gesture_searching(\n",
            "  (conv1): Conv2d(3, 5, kernel_size=(5, 5), stride=(1, 1))\n",
            "  (pool): MaxPool2d(kernel_size=2, stride=2, padding=0, dilation=1, ceil_mode=False)\n",
            "  (conv2): Conv2d(5, 10, kernel_size=(5, 5), stride=(1, 1))\n",
            "  (fc1): Linear(in_features=28090, out_features=32, bias=True)\n",
            "  (fc2): Linear(in_features=32, out_features=9, bias=True)\n",
            ")\n",
            "Epoch 1: Train acc: 0.2557358701734751 |Validation acc: 0.2222222222222222\n",
            "Epoch 2: Train acc: 0.5920537213206492 |Validation acc: 0.5509259259259259\n",
            "Epoch 3: Train acc: 0.6703973139339675 |Validation acc: 0.5972222222222222\n",
            "Epoch 4: Train acc: 0.7252378287632905 |Validation acc: 0.6712962962962963\n",
            "Epoch 5: Train acc: 0.7565752658086178 |Validation acc: 0.6944444444444444\n",
            "Epoch 6: Train acc: 0.7728035814213766 |Validation acc: 0.6527777777777778\n",
            "Epoch 7: Train acc: 0.8198097369893677 |Validation acc: 0.7175925925925926\n",
            "Epoch 8: Train acc: 0.8069390039171797 |Validation acc: 0.7175925925925926\n",
            "Epoch 9: Train acc: 0.8203693340794628 |Validation acc: 0.6990740740740741\n",
            "Epoch 10: Train acc: 0.8192501398992725 |Validation acc: 0.7407407407407407\n",
            "Epoch 11: Train acc: 0.8869613878007835 |Validation acc: 0.7407407407407407\n",
            "Epoch 12: Train acc: 0.8908785674314493 |Validation acc: 0.7083333333333334\n",
            "Epoch 13: Train acc: 0.9132624510352546 |Validation acc: 0.7407407407407407\n",
            "Epoch 14: Train acc: 0.898153329602686 |Validation acc: 0.6759259259259259\n",
            "Epoch 15: Train acc: 0.9283715724678232 |Validation acc: 0.7361111111111112\n",
            "Finished Training\n",
            "Total time elapsed: 800.33 seconds\n",
            "Final Training Accuracy: 0.9283715724678232\n",
            "Final Validation Accuracy: 0.7361111111111112\n",
            "\n",
            "CNN\n",
            "CNN_Gesture_searching(\n",
            "  (conv1): Conv2d(3, 5, kernel_size=(5, 5), stride=(1, 1))\n",
            "  (pool): MaxPool2d(kernel_size=2, stride=2, padding=0, dilation=1, ceil_mode=False)\n",
            "  (conv2): Conv2d(5, 10, kernel_size=(5, 5), stride=(1, 1))\n",
            "  (fc1): Linear(in_features=28090, out_features=32, bias=True)\n",
            "  (fc2): Linear(in_features=32, out_features=9, bias=True)\n",
            ")\n",
            "Epoch 1: Train acc: 0.11303861219921657 |Validation acc: 0.1111111111111111\n",
            "Epoch 2: Train acc: 0.15332960268606602 |Validation acc: 0.125\n",
            "Epoch 3: Train acc: 0.2562954672635702 |Validation acc: 0.25\n",
            "Epoch 4: Train acc: 0.2557358701734751 |Validation acc: 0.24074074074074073\n",
            "Epoch 5: Train acc: 0.29938444320089536 |Validation acc: 0.3148148148148148\n",
            "Epoch 6: Train acc: 0.3587017347509793 |Validation acc: 0.375\n",
            "Epoch 7: Train acc: 0.3710128707330722 |Validation acc: 0.36574074074074076\n",
            "Epoch 8: Train acc: 0.48069390039171794 |Validation acc: 0.44907407407407407\n",
            "Epoch 9: Train acc: 0.5321768326804701 |Validation acc: 0.5277777777777778\n",
            "Epoch 10: Train acc: 0.6099608282036934 |Validation acc: 0.5509259259259259\n",
            "Epoch 11: Train acc: 0.6116396194739787 |Validation acc: 0.5462962962962963\n",
            "Epoch 12: Train acc: 0.6390598768886402 |Validation acc: 0.5555555555555556\n",
            "Epoch 13: Train acc: 0.6642417459429211 |Validation acc: 0.5879629629629629\n",
            "Epoch 14: Train acc: 0.6608841634023503 |Validation acc: 0.5833333333333334\n",
            "Epoch 15: Train acc: 0.6933407946278679 |Validation acc: 0.6111111111111112\n",
            "Finished Training\n",
            "Total time elapsed: 817.17 seconds\n",
            "Final Training Accuracy: 0.6933407946278679\n",
            "Final Validation Accuracy: 0.6111111111111112\n",
            "\n",
            "CNN\n",
            "CNN_Gesture_searching(\n",
            "  (conv1): Conv2d(3, 5, kernel_size=(5, 5), stride=(1, 1))\n",
            "  (pool): MaxPool2d(kernel_size=2, stride=2, padding=0, dilation=1, ceil_mode=False)\n",
            "  (conv2): Conv2d(5, 10, kernel_size=(5, 5), stride=(1, 1))\n",
            "  (fc1): Linear(in_features=28090, out_features=32, bias=True)\n",
            "  (fc2): Linear(in_features=32, out_features=9, bias=True)\n",
            ")\n",
            "Epoch 1: Train acc: 0.11135982092893117 |Validation acc: 0.1111111111111111\n",
            "Epoch 2: Train acc: 0.11135982092893117 |Validation acc: 0.1111111111111111\n",
            "Epoch 3: Train acc: 0.11135982092893117 |Validation acc: 0.1111111111111111\n",
            "Epoch 4: Train acc: 0.11135982092893117 |Validation acc: 0.1111111111111111\n",
            "Epoch 5: Train acc: 0.11135982092893117 |Validation acc: 0.1111111111111111\n",
            "Epoch 6: Train acc: 0.11135982092893117 |Validation acc: 0.1111111111111111\n",
            "Epoch 7: Train acc: 0.1152770005595971 |Validation acc: 0.1111111111111111\n",
            "Epoch 8: Train acc: 0.1152770005595971 |Validation acc: 0.1111111111111111\n",
            "Epoch 9: Train acc: 0.1152770005595971 |Validation acc: 0.1111111111111111\n",
            "Epoch 10: Train acc: 0.1152770005595971 |Validation acc: 0.1111111111111111\n",
            "Epoch 11: Train acc: 0.1152770005595971 |Validation acc: 0.1111111111111111\n",
            "Epoch 12: Train acc: 0.1152770005595971 |Validation acc: 0.1111111111111111\n",
            "Epoch 13: Train acc: 0.1152770005595971 |Validation acc: 0.1111111111111111\n",
            "Epoch 14: Train acc: 0.1152770005595971 |Validation acc: 0.1111111111111111\n",
            "Epoch 15: Train acc: 0.1152770005595971 |Validation acc: 0.1111111111111111\n",
            "Finished Training\n",
            "Total time elapsed: 831.44 seconds\n",
            "Final Training Accuracy: 0.1152770005595971\n",
            "Final Validation Accuracy: 0.1111111111111111\n",
            "\n",
            "CNN\n",
            "CNN_Gesture_searching(\n",
            "  (conv1): Conv2d(3, 5, kernel_size=(5, 5), stride=(1, 1))\n",
            "  (pool): MaxPool2d(kernel_size=2, stride=2, padding=0, dilation=1, ceil_mode=False)\n",
            "  (conv2): Conv2d(5, 10, kernel_size=(5, 5), stride=(1, 1))\n",
            "  (fc1): Linear(in_features=28090, out_features=32, bias=True)\n",
            "  (fc2): Linear(in_features=32, out_features=9, bias=True)\n",
            ")\n",
            "Epoch 1: Train acc: 0.10520425293788473 |Validation acc: 0.1111111111111111\n",
            "Epoch 2: Train acc: 0.11135982092893117 |Validation acc: 0.1111111111111111\n",
            "Epoch 3: Train acc: 0.1331841074426413 |Validation acc: 0.12037037037037036\n",
            "Epoch 4: Train acc: 0.1684387241186346 |Validation acc: 0.2175925925925926\n",
            "Epoch 5: Train acc: 0.2921096810296586 |Validation acc: 0.37037037037037035\n",
            "Epoch 6: Train acc: 0.3833240067151651 |Validation acc: 0.375\n",
            "Epoch 7: Train acc: 0.5349748181309457 |Validation acc: 0.4861111111111111\n",
            "Epoch 8: Train acc: 0.5808617795187465 |Validation acc: 0.5648148148148148\n",
            "Epoch 9: Train acc: 0.6233911583659765 |Validation acc: 0.5879629629629629\n",
            "Epoch 10: Train acc: 0.6429770565193061 |Validation acc: 0.5787037037037037\n",
            "Epoch 11: Train acc: 0.6815892557358701 |Validation acc: 0.6481481481481481\n",
            "Epoch 12: Train acc: 0.7067711247901511 |Validation acc: 0.6481481481481481\n",
            "Epoch 13: Train acc: 0.7073307218802463 |Validation acc: 0.6296296296296297\n",
            "Epoch 14: Train acc: 0.7313933967543369 |Validation acc: 0.6759259259259259\n",
            "Epoch 15: Train acc: 0.761611639619474 |Validation acc: 0.6805555555555556\n",
            "Finished Training\n",
            "Total time elapsed: 878.33 seconds\n",
            "Final Training Accuracy: 0.761611639619474\n",
            "Final Validation Accuracy: 0.6805555555555556\n"
          ]
        }
      ],
      "source": [
        "#batch size, learning rate, kernel size\n",
        "batch_size_list = [32, 32, 64, 64, 128, 128]\n",
        "learning_rate_list = [0.01, 0.001, 0.001, 0.0001, 0.005, 0.001]\n",
        "# kernel_size = [3, 5, 3, 5, 3, 5]\n",
        "for i in range(len(batch_size_list)):\n",
        "  print(\"\\nCNN\")\n",
        "  model_searching = CNN_Gesture_searching()\n",
        "  print(model_searching)\n",
        "  train_searching(model_searching, train_dataset, validation_dataset, learning_rate_list[i], batch_size_list[i], 15) "
      ]
    },
    {
      "cell_type": "markdown",
      "metadata": {
        "id": "rox89agtdHFn"
      },
      "source": [
        "**Again doing Random Search with below combination with keeping kernel_size constant but this time set it to 3 instead of 5 (kernel_size=3):**\n",
        "\n",
        "**batch_size_list = [32, 64, 64, 128]**\n",
        "\n",
        "**learning_rate_list = [0.001, 0.001, 0.0001, 0.001]**"
      ]
    },
    {
      "cell_type": "code",
      "execution_count": null,
      "metadata": {
        "colab": {
          "base_uri": "https://localhost:8080/"
        },
        "id": "_lMUsER3MJyA",
        "outputId": "21b37069-9148-487f-b610-57772f7a8357"
      },
      "outputs": [
        {
          "name": "stdout",
          "output_type": "stream",
          "text": [
            "Convolutional Neural Network Architecture Done\n"
          ]
        }
      ],
      "source": [
        "torch.manual_seed(1) # set the random seed\n",
        "\n",
        "#Convolutional Neural Network Architecture\n",
        "class CNN_Gesture_new(nn.Module):\n",
        "    def __init__(self):\n",
        "        super(CNN_Gesture_new, self).__init__()\n",
        "        self.name = \"cnn_gesture_new\"\n",
        "        self.conv1 = nn.Conv2d(3, 5, 3) #in_channels, out_chanels, kernel_size\n",
        "        self.pool = nn.MaxPool2d(2, 2) #kernel_size, stride \n",
        "        self.conv2 = nn.Conv2d(5, 10, 3) #in_channels, out_chanels, kernel_size\n",
        "        self.fc1 = nn.Linear(10 * 54 * 54, 32)\n",
        "        self.fc2 = nn.Linear(32, 9)\n",
        "\n",
        "    def forward(self, x):\n",
        "        x = self.pool(F.relu(self.conv1(x)))\n",
        "        x = self.pool(F.relu(self.conv2(x)))\n",
        "        x = x.view(-1, 10 * 54 * 54)\n",
        "        x = F.relu(self.fc1(x))\n",
        "        x = self.fc2(x)\n",
        "        return x\n",
        "    \n",
        "    print('Convolutional Neural Network Architecture Done')"
      ]
    },
    {
      "cell_type": "code",
      "execution_count": null,
      "metadata": {
        "id": "GHSmRldTMRq0"
      },
      "outputs": [],
      "source": [
        "use_cuda = True\n",
        "\n",
        "def get_accuracy(model, data_loader):\n",
        "\n",
        "    correct = 0\n",
        "    total = 0\n",
        "    for imgs, labels in data_loader:\n",
        "\n",
        "        #############################################\n",
        "        #To Enable GPU Usage\n",
        "        if use_cuda and torch.cuda.is_available():\n",
        "          imgs = imgs.cuda()\n",
        "          labels = labels.cuda()\n",
        "        #############################################\n",
        "        \n",
        "        output = model(imgs)\n",
        "        \n",
        "        #select index with maximum prediction score\n",
        "        pred = output.max(1, keepdim=True)[1]\n",
        "        correct += pred.eq(labels.view_as(pred)).sum().item()\n",
        "        total += imgs.shape[0]\n",
        "    return correct / total"
      ]
    },
    {
      "cell_type": "code",
      "execution_count": null,
      "metadata": {
        "id": "vRs4vtvEMS33"
      },
      "outputs": [],
      "source": [
        "def train_searching(model, train_dataset, validation_dataset, learning_rate, batch_size, num_epochs):\n",
        "    \n",
        "    train_loader = DataLoader(\n",
        "    train_dataset, batch_size=batch_size, \n",
        "    shuffle=True\n",
        "    )\n",
        "\n",
        "    validation_loader = DataLoader(\n",
        "    validation_dataset, batch_size=batch_size, \n",
        "    shuffle=True\n",
        "    )\n",
        "\n",
        "    criterion = nn.CrossEntropyLoss()\n",
        "    optimizer = optim.Adam(model.parameters(), lr=learning_rate)\n",
        "\n",
        "    iters, losses, train_acc, val_acc = [], [], [], []\n",
        "\n",
        "    # training\n",
        "    #n = 0 # the number of iterations\n",
        "    start_time = time.time()\n",
        "    for epoch in range(num_epochs):\n",
        "        for imgs, labels in iter(train_loader):\n",
        "\n",
        "            #############################################\n",
        "            #To Enable GPU Usage\n",
        "            if use_cuda and torch.cuda.is_available():\n",
        "              imgs = imgs.cuda()\n",
        "              labels = labels.cuda()\n",
        "            #############################################\n",
        "              \n",
        "            out = model(imgs)             # forward pass\n",
        "\n",
        "            loss = criterion(out, labels) # compute the total loss\n",
        "            loss.backward()               # backward pass (compute parameter updates)\n",
        "            optimizer.step()              # make the updates for each parameter\n",
        "            optimizer.zero_grad()         # a clean up step for PyTorch\n",
        "\n",
        "        # save the current training information\n",
        "        #n += 1\n",
        "        iters.append(epoch)\n",
        "        losses.append(float(loss)/batch_size)             # compute *average* loss\n",
        "        train_acc.append(get_accuracy(model, train_loader)) # compute training accuracy \n",
        "        val_acc.append(get_accuracy(model, validation_loader))  # compute validation accuracy\n",
        "        print((\"Epoch {}: Train acc: {} |\"+\n",
        "               \"Validation acc: {}\").format(\n",
        "                   epoch + 1,\n",
        "                   train_acc[epoch],\n",
        "                   val_acc[epoch]))\n",
        "        # Save the current model (checkpoint) to a file\n",
        "        #model_path = get_model_name(model.name, batch_size, learning_rate, epoch)\n",
        "        #torch.save(model.state_dict(), model_path)\n",
        "    print('Finished Training')\n",
        "    end_time = time.time()\n",
        "    elapsed_time = end_time - start_time\n",
        "    print(\"Total time elapsed: {:.2f} seconds\".format(elapsed_time))\n",
        "\n",
        "    print(\"Final Training Accuracy: {}\".format(train_acc[-1]))\n",
        "    print(\"Final Validation Accuracy: {}\".format(val_acc[-1]))"
      ]
    },
    {
      "cell_type": "code",
      "execution_count": null,
      "metadata": {
        "colab": {
          "base_uri": "https://localhost:8080/"
        },
        "id": "iWk5DbkjMa9G",
        "outputId": "8afa194a-aff9-4a6b-9f8b-e348a42717ed"
      },
      "outputs": [
        {
          "name": "stdout",
          "output_type": "stream",
          "text": [
            "\n",
            "CNN\n",
            "CNN_Gesture_new(\n",
            "  (conv1): Conv2d(3, 5, kernel_size=(3, 3), stride=(1, 1))\n",
            "  (pool): MaxPool2d(kernel_size=2, stride=2, padding=0, dilation=1, ceil_mode=False)\n",
            "  (conv2): Conv2d(5, 10, kernel_size=(3, 3), stride=(1, 1))\n",
            "  (fc1): Linear(in_features=29160, out_features=32, bias=True)\n",
            "  (fc2): Linear(in_features=32, out_features=9, bias=True)\n",
            ")\n",
            "Epoch 1: Train acc: 0.1152770005595971 |Validation acc: 0.1111111111111111\n",
            "Epoch 2: Train acc: 0.32624510352546165 |Validation acc: 0.30092592592592593\n",
            "Epoch 3: Train acc: 0.6620033575825406 |Validation acc: 0.5833333333333334\n",
            "Epoch 4: Train acc: 0.7291550083939563 |Validation acc: 0.6342592592592593\n",
            "Epoch 5: Train acc: 0.7722439843312815 |Validation acc: 0.6805555555555556\n",
            "Epoch 6: Train acc: 0.8136541689983212 |Validation acc: 0.6805555555555556\n",
            "Epoch 7: Train acc: 0.8528259653049804 |Validation acc: 0.7037037037037037\n",
            "Epoch 8: Train acc: 0.8847229994404029 |Validation acc: 0.6898148148148148\n",
            "Epoch 9: Train acc: 0.8774482372691662 |Validation acc: 0.6666666666666666\n",
            "Epoch 10: Train acc: 0.9222160044767768 |Validation acc: 0.7222222222222222\n",
            "Epoch 11: Train acc: 0.9384443200895355 |Validation acc: 0.6990740740740741\n",
            "Epoch 12: Train acc: 0.9406827084499161 |Validation acc: 0.6898148148148148\n",
            "Epoch 13: Train acc: 0.9820928931169558 |Validation acc: 0.7083333333333334\n",
            "Epoch 14: Train acc: 0.9876888640179071 |Validation acc: 0.6990740740740741\n",
            "Epoch 15: Train acc: 0.9910464465584778 |Validation acc: 0.7268518518518519\n",
            "Finished Training\n",
            "Total time elapsed: 1132.75 seconds\n",
            "Final Training Accuracy: 0.9910464465584778\n",
            "Final Validation Accuracy: 0.7268518518518519\n",
            "\n",
            "CNN\n",
            "CNN_Gesture_new(\n",
            "  (conv1): Conv2d(3, 5, kernel_size=(3, 3), stride=(1, 1))\n",
            "  (pool): MaxPool2d(kernel_size=2, stride=2, padding=0, dilation=1, ceil_mode=False)\n",
            "  (conv2): Conv2d(5, 10, kernel_size=(3, 3), stride=(1, 1))\n",
            "  (fc1): Linear(in_features=29160, out_features=32, bias=True)\n",
            "  (fc2): Linear(in_features=32, out_features=9, bias=True)\n",
            ")\n",
            "Epoch 1: Train acc: 0.11135982092893117 |Validation acc: 0.1111111111111111\n",
            "Epoch 2: Train acc: 0.22271964185786233 |Validation acc: 0.24074074074074073\n",
            "Epoch 3: Train acc: 0.4068270844991606 |Validation acc: 0.41203703703703703\n",
            "Epoch 4: Train acc: 0.561275881365417 |Validation acc: 0.5\n",
            "Epoch 5: Train acc: 0.6524902070509233 |Validation acc: 0.5694444444444444\n",
            "Epoch 6: Train acc: 0.6961387800783436 |Validation acc: 0.6296296296296297\n",
            "Epoch 7: Train acc: 0.7090095131505316 |Validation acc: 0.6435185185185185\n",
            "Epoch 8: Train acc: 0.7341913822048125 |Validation acc: 0.6203703703703703\n",
            "Epoch 9: Train acc: 0.7571348628987129 |Validation acc: 0.6527777777777778\n",
            "Epoch 10: Train acc: 0.7750419697817571 |Validation acc: 0.6435185185185185\n",
            "Epoch 11: Train acc: 0.7845551203133744 |Validation acc: 0.6527777777777778\n",
            "Epoch 12: Train acc: 0.7660884163402351 |Validation acc: 0.6296296296296297\n",
            "Epoch 13: Train acc: 0.8091773922775601 |Validation acc: 0.6620370370370371\n",
            "Epoch 14: Train acc: 0.8310016787912703 |Validation acc: 0.6574074074074074\n",
            "Epoch 15: Train acc: 0.8265249020705092 |Validation acc: 0.6666666666666666\n",
            "Finished Training\n",
            "Total time elapsed: 710.78 seconds\n",
            "Final Training Accuracy: 0.8265249020705092\n",
            "Final Validation Accuracy: 0.6666666666666666\n",
            "\n",
            "CNN\n",
            "CNN_Gesture_new(\n",
            "  (conv1): Conv2d(3, 5, kernel_size=(3, 3), stride=(1, 1))\n",
            "  (pool): MaxPool2d(kernel_size=2, stride=2, padding=0, dilation=1, ceil_mode=False)\n",
            "  (conv2): Conv2d(5, 10, kernel_size=(3, 3), stride=(1, 1))\n",
            "  (fc1): Linear(in_features=29160, out_features=32, bias=True)\n",
            "  (fc2): Linear(in_features=32, out_features=9, bias=True)\n",
            ")\n",
            "Epoch 1: Train acc: 0.13094571908226077 |Validation acc: 0.13425925925925927\n",
            "Epoch 2: Train acc: 0.17907106883044208 |Validation acc: 0.17592592592592593\n",
            "Epoch 3: Train acc: 0.2641298265249021 |Validation acc: 0.2962962962962963\n",
            "Epoch 4: Train acc: 0.1986569669837717 |Validation acc: 0.2222222222222222\n",
            "Epoch 5: Train acc: 0.21936205931729155 |Validation acc: 0.2175925925925926\n",
            "Epoch 6: Train acc: 0.21936205931729155 |Validation acc: 0.2175925925925926\n",
            "Epoch 7: Train acc: 0.22719641857862338 |Validation acc: 0.22685185185185186\n",
            "Epoch 8: Train acc: 0.24734191382204812 |Validation acc: 0.25462962962962965\n",
            "Epoch 9: Train acc: 0.2501398992725238 |Validation acc: 0.2638888888888889\n",
            "Epoch 10: Train acc: 0.27252378287632906 |Validation acc: 0.2962962962962963\n",
            "Epoch 11: Train acc: 0.3010632344711808 |Validation acc: 0.3101851851851852\n",
            "Epoch 12: Train acc: 0.3010632344711808 |Validation acc: 0.2916666666666667\n",
            "Epoch 13: Train acc: 0.2820369334079463 |Validation acc: 0.3055555555555556\n",
            "Epoch 14: Train acc: 0.32624510352546165 |Validation acc: 0.2962962962962963\n",
            "Epoch 15: Train acc: 0.32960268606603244 |Validation acc: 0.32407407407407407\n",
            "Finished Training\n",
            "Total time elapsed: 695.41 seconds\n",
            "Final Training Accuracy: 0.32960268606603244\n",
            "Final Validation Accuracy: 0.32407407407407407\n",
            "\n",
            "CNN\n",
            "CNN_Gesture_new(\n",
            "  (conv1): Conv2d(3, 5, kernel_size=(3, 3), stride=(1, 1))\n",
            "  (pool): MaxPool2d(kernel_size=2, stride=2, padding=0, dilation=1, ceil_mode=False)\n",
            "  (conv2): Conv2d(5, 10, kernel_size=(3, 3), stride=(1, 1))\n",
            "  (fc1): Linear(in_features=29160, out_features=32, bias=True)\n",
            "  (fc2): Linear(in_features=32, out_features=9, bias=True)\n",
            ")\n",
            "Epoch 1: Train acc: 0.1600447677672076 |Validation acc: 0.1388888888888889\n",
            "Epoch 2: Train acc: 0.1460548405148293 |Validation acc: 0.14814814814814814\n",
            "Epoch 3: Train acc: 0.259653049804141 |Validation acc: 0.25\n",
            "Epoch 4: Train acc: 0.32624510352546165 |Validation acc: 0.3194444444444444\n",
            "Epoch 5: Train acc: 0.44655847789591496 |Validation acc: 0.4212962962962963\n",
            "Epoch 6: Train acc: 0.5394515948517068 |Validation acc: 0.5092592592592593\n",
            "Epoch 7: Train acc: 0.587017347509793 |Validation acc: 0.625\n",
            "Epoch 8: Train acc: 0.6513710128707331 |Validation acc: 0.5694444444444444\n",
            "Epoch 9: Train acc: 0.6390598768886402 |Validation acc: 0.6296296296296297\n",
            "Epoch 10: Train acc: 0.6748740906547286 |Validation acc: 0.6388888888888888\n",
            "Epoch 11: Train acc: 0.684946838276441 |Validation acc: 0.5879629629629629\n",
            "Epoch 12: Train acc: 0.6698377168438724 |Validation acc: 0.6388888888888888\n",
            "Epoch 13: Train acc: 0.697817571348629 |Validation acc: 0.6574074074074074\n",
            "Epoch 14: Train acc: 0.7090095131505316 |Validation acc: 0.625\n",
            "Epoch 15: Train acc: 0.7062115277000559 |Validation acc: 0.6018518518518519\n",
            "Finished Training\n",
            "Total time elapsed: 770.61 seconds\n",
            "Final Training Accuracy: 0.7062115277000559\n",
            "Final Validation Accuracy: 0.6018518518518519\n"
          ]
        }
      ],
      "source": [
        "#batch size, learning rate, kernel size\n",
        "batch_size_list = [32, 64, 64, 128]\n",
        "learning_rate_list = [0.001, 0.001, 0.0001, 0.001]\n",
        "# kernel_size = [3, 5, 3, 5, 3, 5]\n",
        "for i in range(len(batch_size_list)):\n",
        "  print(\"\\nCNN\")\n",
        "  model_searching = CNN_Gesture_new()\n",
        "  print(model_searching)\n",
        "  train_searching(model_searching, train_dataset, validation_dataset, learning_rate_list[i], batch_size_list[i], 15) "
      ]
    },
    {
      "cell_type": "markdown",
      "metadata": {
        "id": "PK4keo8Jyq5e"
      },
      "source": [
        "**Again doing Random Search with below combination with keeping kernel_size constant but this time set it to 7 instead of 5 (kernel_size=7):**\n",
        "\n",
        "**batch_size_list = [32, 64, 64, 128]**\n",
        "\n",
        "**learning_rate_list = [0.001, 0.001, 0.0001, 0.001]**"
      ]
    },
    {
      "cell_type": "code",
      "execution_count": null,
      "metadata": {
        "colab": {
          "base_uri": "https://localhost:8080/"
        },
        "id": "UCM9Po0bXQZK",
        "outputId": "cafaf9df-a251-404b-b488-a9ca0138fd73"
      },
      "outputs": [
        {
          "name": "stdout",
          "output_type": "stream",
          "text": [
            "CNN: Changing kernel size from 5 to 7 for Conv2d layers...\n",
            "Convolutional Neural Network Architecture Done\n"
          ]
        }
      ],
      "source": [
        "print(\"CNN: Changing kernel size from 5 to 7 for Conv2d layers...\")\n",
        "\n",
        "# The input of cov1 is 3*224*224 and then after this layer it becomes 5*218*218 because o = (i+2p-k)/s + 1 = (224+0-7)/1 + 1 = 218. \n",
        "# Then we apply relu on it and then a pooling layer with kernel size 2 and stride 2 which reduces the size to 5*109*109 because o = (i-k)/s + 1 = (218-2)/2 + 1 = 109. \n",
        "# Then we apply another conv layer (conv2) which then the size becomes 10*109*109 because o = (i+2p-k)/s + 1 = (109+0-7)/1 + 1 = 103. \n",
        "# Then we apply relu on it and then a pooling layer with kernel size 2 and stride 2 which reduces the size to 10*51*51 because o = (i-k)/s + 1 = (103-2)/2 + 1 = 51. \n",
        "# Finally I applied a fully-connected layer with relu activation on top of it and \n",
        "# then another final fully-connected layer to reduce the output size to 9 for my 9 classes (A, B, C, D, E, F, G, H, I).\n",
        "\n",
        "torch.manual_seed(1) # set the random seed\n",
        "\n",
        "#Convolutional Neural Network Architecture\n",
        "class CNN_Gesture_7(nn.Module):\n",
        "    def __init__(self):\n",
        "        super(CNN_Gesture_7, self).__init__()\n",
        "        self.name = \"cnn_gesture_7\"\n",
        "        self.conv1 = nn.Conv2d(3, 5, 7) #in_channels, out_chanels, kernel_size\n",
        "        self.pool = nn.MaxPool2d(2, 2) #kernel_size, stride \n",
        "        self.conv2 = nn.Conv2d(5, 10, 7) #in_channels, out_chanels, kernel_size\n",
        "        self.fc1 = nn.Linear(10 * 51 * 51, 32)\n",
        "        self.fc2 = nn.Linear(32, 9)\n",
        "\n",
        "    def forward(self, x):\n",
        "        x = self.pool(F.relu(self.conv1(x)))\n",
        "        x = self.pool(F.relu(self.conv2(x)))\n",
        "        x = x.view(-1, 10 * 51 * 51)\n",
        "        x = F.relu(self.fc1(x))\n",
        "        x = self.fc2(x)\n",
        "        return x\n",
        "    \n",
        "    print('Convolutional Neural Network Architecture Done')"
      ]
    },
    {
      "cell_type": "code",
      "execution_count": null,
      "metadata": {
        "id": "uNAceMHZYIn9"
      },
      "outputs": [],
      "source": [
        "use_cuda = True\n",
        "\n",
        "def get_accuracy_7(model, data_loader):\n",
        "\n",
        "    correct = 0\n",
        "    total = 0\n",
        "    for imgs, labels in data_loader:\n",
        "\n",
        "        #############################################\n",
        "        #To Enable GPU Usage\n",
        "        if use_cuda and torch.cuda.is_available():\n",
        "          imgs = imgs.cuda()\n",
        "          labels = labels.cuda()\n",
        "        #############################################\n",
        "        \n",
        "        output = model(imgs)\n",
        "        \n",
        "        #select index with maximum prediction score\n",
        "        pred = output.max(1, keepdim=True)[1]\n",
        "        correct += pred.eq(labels.view_as(pred)).sum().item()\n",
        "        total += imgs.shape[0]\n",
        "    return correct / total"
      ]
    },
    {
      "cell_type": "code",
      "execution_count": null,
      "metadata": {
        "id": "si6JPNTZYUMd"
      },
      "outputs": [],
      "source": [
        "import matplotlib.pyplot as plt\n",
        "\n",
        "def train_7(model, train_dataset, validation_dataset, learning_rate, batch_size, num_epochs):\n",
        "    \n",
        "    train_loader = DataLoader(\n",
        "    train_dataset, batch_size=batch_size, \n",
        "    shuffle=True\n",
        "    )\n",
        "\n",
        "    validation_loader = DataLoader(\n",
        "    validation_dataset, batch_size=batch_size, \n",
        "    shuffle=True\n",
        "    )\n",
        "\n",
        "    criterion = nn.CrossEntropyLoss()\n",
        "    optimizer = optim.Adam(model.parameters(), lr=learning_rate)\n",
        "\n",
        "    iters, losses, train_acc, val_acc = [], [], [], []\n",
        "\n",
        "    # training\n",
        "    #n = 0 # the number of iterations\n",
        "    start_time = time.time()\n",
        "    for epoch in range(num_epochs):\n",
        "        for imgs, labels in iter(train_loader):\n",
        "\n",
        "            #############################################\n",
        "            #To Enable GPU Usage\n",
        "            if use_cuda and torch.cuda.is_available():\n",
        "              imgs = imgs.cuda()\n",
        "              labels = labels.cuda()\n",
        "            #############################################\n",
        "              \n",
        "            out = model(imgs)             # forward pass\n",
        "\n",
        "            loss = criterion(out, labels) # compute the total loss\n",
        "            loss.backward()               # backward pass (compute parameter updates)\n",
        "            optimizer.step()              # make the updates for each parameter\n",
        "            optimizer.zero_grad()         # a clean up step for PyTorch\n",
        "\n",
        "        # save the current training information\n",
        "        #n += 1\n",
        "        iters.append(epoch)\n",
        "        losses.append(float(loss)/batch_size)             # compute *average* loss\n",
        "        train_acc.append(get_accuracy_7(model, train_loader)) # compute training accuracy \n",
        "        val_acc.append(get_accuracy_7(model, validation_loader))  # compute validation accuracy\n",
        "        print((\"Epoch {}: Train acc: {} |\"+\n",
        "               \"Validation acc: {}\").format(\n",
        "                   epoch + 1,\n",
        "                   train_acc[epoch],\n",
        "                   val_acc[epoch]))\n",
        "        # Save the current model (checkpoint) to a file\n",
        "        #model_path = get_model_name(model.name, batch_size, learning_rate, epoch)\n",
        "        #torch.save(model.state_dict(), model_path)\n",
        "    print('Finished Training')\n",
        "    end_time = time.time()\n",
        "    elapsed_time = end_time - start_time\n",
        "    print(\"Total time elapsed: {:.2f} seconds\".format(elapsed_time))"
      ]
    },
    {
      "cell_type": "code",
      "execution_count": null,
      "metadata": {
        "colab": {
          "base_uri": "https://localhost:8080/"
        },
        "id": "-1x_jMcEeEBi",
        "outputId": "e1a7308f-f526-4371-8210-9ba668ed549b"
      },
      "outputs": [
        {
          "name": "stdout",
          "output_type": "stream",
          "text": [
            "Epoch 1: Train acc: 0.5293788472299944 |Validation acc: 0.46296296296296297\n",
            "Epoch 2: Train acc: 0.6625629546726357 |Validation acc: 0.6296296296296297\n",
            "Epoch 3: Train acc: 0.6648013430330162 |Validation acc: 0.6527777777777778\n",
            "Epoch 4: Train acc: 0.7353105763850027 |Validation acc: 0.6805555555555556\n",
            "Epoch 5: Train acc: 0.7392277560156687 |Validation acc: 0.6898148148148148\n",
            "Epoch 6: Train acc: 0.8035814213766088 |Validation acc: 0.7129629629629629\n",
            "Epoch 7: Train acc: 0.8080581980973699 |Validation acc: 0.7037037037037037\n",
            "Epoch 8: Train acc: 0.8360380526021265 |Validation acc: 0.7222222222222222\n",
            "Epoch 9: Train acc: 0.8483491885842194 |Validation acc: 0.7268518518518519\n",
            "Epoch 10: Train acc: 0.8942361499720202 |Validation acc: 0.7314814814814815\n",
            "Epoch 11: Train acc: 0.9054280917739228 |Validation acc: 0.7268518518518519\n",
            "Epoch 12: Train acc: 0.9238947957470621 |Validation acc: 0.7546296296296297\n",
            "Epoch 13: Train acc: 0.9334079462786794 |Validation acc: 0.75\n",
            "Epoch 14: Train acc: 0.9507554560716285 |Validation acc: 0.7407407407407407\n",
            "Epoch 15: Train acc: 0.970341354224958 |Validation acc: 0.7314814814814815\n",
            "Finished Training\n",
            "Total time elapsed: 1308.34 seconds\n",
            "Epoch 1: Train acc: 0.3111359820928931 |Validation acc: 0.27314814814814814\n",
            "Epoch 2: Train acc: 0.6703973139339675 |Validation acc: 0.6527777777777778\n",
            "Epoch 3: Train acc: 0.6899832120872972 |Validation acc: 0.6712962962962963\n",
            "Epoch 4: Train acc: 0.7761611639619473 |Validation acc: 0.7175925925925926\n",
            "Epoch 5: Train acc: 0.7912702853945159 |Validation acc: 0.6712962962962963\n",
            "Epoch 6: Train acc: 0.8656966983771684 |Validation acc: 0.6712962962962963\n",
            "Epoch 7: Train acc: 0.9076664801343033 |Validation acc: 0.7037037037037037\n",
            "Epoch 8: Train acc: 0.9350867375489648 |Validation acc: 0.7361111111111112\n",
            "Epoch 9: Train acc: 0.9686625629546727 |Validation acc: 0.7314814814814815\n",
            "Epoch 10: Train acc: 0.9759373251259094 |Validation acc: 0.7129629629629629\n",
            "Epoch 11: Train acc: 0.9910464465584778 |Validation acc: 0.7361111111111112\n",
            "Epoch 12: Train acc: 0.9904868494683827 |Validation acc: 0.7175925925925926\n",
            "Epoch 13: Train acc: 0.9932848349188584 |Validation acc: 0.7268518518518519\n",
            "Epoch 14: Train acc: 0.9988808058198098 |Validation acc: 0.7314814814814815\n",
            "Epoch 15: Train acc: 0.9994404029099049 |Validation acc: 0.7175925925925926\n",
            "Finished Training\n",
            "Total time elapsed: 1214.97 seconds\n",
            "Epoch 1: Train acc: 0.13094571908226077 |Validation acc: 0.1111111111111111\n",
            "Epoch 2: Train acc: 0.2641298265249021 |Validation acc: 0.2361111111111111\n",
            "Epoch 3: Train acc: 0.3564633463905988 |Validation acc: 0.3472222222222222\n",
            "Epoch 4: Train acc: 0.41689983212087295 |Validation acc: 0.4212962962962963\n",
            "Epoch 5: Train acc: 0.5338556239507555 |Validation acc: 0.5601851851851852\n",
            "Epoch 6: Train acc: 0.583100167879127 |Validation acc: 0.5787037037037037\n",
            "Epoch 7: Train acc: 0.625069949636262 |Validation acc: 0.6018518518518519\n",
            "Epoch 8: Train acc: 0.6558477895914941 |Validation acc: 0.6574074074074074\n",
            "Epoch 9: Train acc: 0.6888640179071068 |Validation acc: 0.6388888888888888\n",
            "Epoch 10: Train acc: 0.7062115277000559 |Validation acc: 0.625\n",
            "Epoch 11: Train acc: 0.7056519306099608 |Validation acc: 0.6574074074074074\n",
            "Epoch 12: Train acc: 0.7157246782316732 |Validation acc: 0.7083333333333334\n",
            "Epoch 13: Train acc: 0.731952993844432 |Validation acc: 0.6759259259259259\n",
            "Epoch 14: Train acc: 0.7453833240067151 |Validation acc: 0.6990740740740741\n",
            "Epoch 15: Train acc: 0.7308337996642418 |Validation acc: 0.6666666666666666\n",
            "Finished Training\n",
            "Total time elapsed: 1274.92 seconds\n",
            "Epoch 1: Train acc: 0.25685506435366534 |Validation acc: 0.2777777777777778\n",
            "Epoch 2: Train acc: 0.5590374930050364 |Validation acc: 0.5462962962962963\n",
            "Epoch 3: Train acc: 0.6502518186905428 |Validation acc: 0.5879629629629629\n",
            "Epoch 4: Train acc: 0.6787912702853945 |Validation acc: 0.6111111111111112\n",
            "Epoch 5: Train acc: 0.7246782316731953 |Validation acc: 0.6527777777777778\n",
            "Epoch 6: Train acc: 0.7285954113038612 |Validation acc: 0.6388888888888888\n",
            "Epoch 7: Train acc: 0.7610520425293789 |Validation acc: 0.6944444444444444\n",
            "Epoch 8: Train acc: 0.7638500279798545 |Validation acc: 0.625\n",
            "Epoch 9: Train acc: 0.8035814213766088 |Validation acc: 0.6666666666666666\n",
            "Epoch 10: Train acc: 0.8136541689983212 |Validation acc: 0.6712962962962963\n",
            "Epoch 11: Train acc: 0.8561835478455512 |Validation acc: 0.7314814814814815\n",
            "Epoch 12: Train acc: 0.8024622271964186 |Validation acc: 0.6759259259259259\n",
            "Epoch 13: Train acc: 0.8287632904308898 |Validation acc: 0.7314814814814815\n",
            "Epoch 14: Train acc: 0.8578623391158366 |Validation acc: 0.7222222222222222\n",
            "Epoch 15: Train acc: 0.87241186345831 |Validation acc: 0.7129629629629629\n",
            "Finished Training\n",
            "Total time elapsed: 1335.92 seconds\n"
          ]
        }
      ],
      "source": [
        "#batch size, learning rate, kernel size\n",
        "batch_size_list_7 = [32, 64, 64, 128]\n",
        "learning_rate_list_7 = [0.001, 0.001, 0.0001, 0.001]\n",
        "# kernel_size = [3, 5, 3, 5, 3, 5]\n",
        "for i in range(len(batch_size_list_7)):\n",
        "  model_7 = CNN_Gesture_7()\n",
        "  train_7(model_7, train_dataset, validation_dataset, learning_rate_list_7[i], batch_size_list_7[i], 15) "
      ]
    },
    {
      "cell_type": "markdown",
      "metadata": {
        "id": "H93iN5_l60BO"
      },
      "source": [
        "### Part (c) - 2 pt\n",
        "Choose the best model out of all the ones that you have trained. Justify your choice."
      ]
    },
    {
      "cell_type": "markdown",
      "metadata": {
        "id": "1eJkbPXpzNkQ"
      },
      "source": [
        "**Answer**:\n",
        "\n",
        "My best model is this: batch size=32, learning rate=0.001, kernel size=7. \n",
        "\n",
        "Because validation accuracy is around 73% which is the highest and training accuracy is around 95 to 97% and since there's not a huge gap between my validation and training accuracy, the model is not really overfitting. Although I found other models with higher training accuracy (around 99%), but validation accuracy was not above 73%. So my final model is having batch size of 32, learning rate of 0.001, and kernel size of 7."
      ]
    },
    {
      "cell_type": "code",
      "execution_count": null,
      "metadata": {
        "collapsed": true,
        "id": "kIhcN7IG6zRO"
      },
      "outputs": [],
      "source": [
        "import matplotlib.pyplot as plt\n",
        "\n",
        "def train_7_plot(model, train_dataset, validation_dataset, learning_rate, batch_size, num_epochs):\n",
        "    \n",
        "    train_loader = DataLoader(\n",
        "    train_dataset, batch_size=batch_size, \n",
        "    shuffle=True\n",
        "    )\n",
        "\n",
        "    validation_loader = DataLoader(\n",
        "    validation_dataset, batch_size=batch_size, \n",
        "    shuffle=True\n",
        "    )\n",
        "\n",
        "    criterion = nn.CrossEntropyLoss()\n",
        "    optimizer = optim.Adam(model.parameters(), lr=learning_rate)\n",
        "\n",
        "    iters, losses, train_acc, val_acc = [], [], [], []\n",
        "\n",
        "    # training\n",
        "    #n = 0 # the number of iterations\n",
        "    start_time = time.time()\n",
        "    for epoch in range(num_epochs):\n",
        "        for imgs, labels in iter(train_loader):\n",
        "\n",
        "            #############################################\n",
        "            #To Enable GPU Usage\n",
        "            if use_cuda and torch.cuda.is_available():\n",
        "              imgs = imgs.cuda()\n",
        "              labels = labels.cuda()\n",
        "            #############################################\n",
        "              \n",
        "            out = model(imgs)             # forward pass\n",
        "\n",
        "            loss = criterion(out, labels) # compute the total loss\n",
        "            loss.backward()               # backward pass (compute parameter updates)\n",
        "            optimizer.step()              # make the updates for each parameter\n",
        "            optimizer.zero_grad()         # a clean up step for PyTorch\n",
        "\n",
        "        # save the current training information\n",
        "        #n += 1\n",
        "        iters.append(epoch)\n",
        "        losses.append(float(loss)/batch_size)             # compute *average* loss\n",
        "        train_acc.append(get_accuracy_7(model, train_loader)) # compute training accuracy \n",
        "        val_acc.append(get_accuracy_7(model, validation_loader))  # compute validation accuracy\n",
        "        print((\"Epoch {}: Train acc: {} |\"+\n",
        "               \"Validation acc: {}\").format(\n",
        "                   epoch + 1,\n",
        "                   train_acc[epoch],\n",
        "                   val_acc[epoch]))\n",
        "        # Save the current model (checkpoint) to a file\n",
        "        #model_path = get_model_name(model.name, batch_size, learning_rate, epoch)\n",
        "        #torch.save(model.state_dict(), model_path)\n",
        "    print('Finished Training')\n",
        "    end_time = time.time()\n",
        "    elapsed_time = end_time - start_time\n",
        "    print(\"Total time elapsed: {:.2f} seconds\".format(elapsed_time))\n",
        "\n",
        "    # plotting\n",
        "    plt.title(\"Training Curve\")\n",
        "    plt.plot(iters, losses, label=\"Train\")\n",
        "    plt.xlabel(\"Iterations\")\n",
        "    plt.ylabel(\"Loss\")\n",
        "    plt.show()\n",
        "\n",
        "    plt.title(\"Training Curve\")\n",
        "    plt.plot(iters, train_acc, label=\"Train\")\n",
        "    plt.plot(iters, val_acc, label=\"Validation\")\n",
        "    plt.xlabel(\"Iterations\")\n",
        "    plt.ylabel(\"Training Accuracy\")\n",
        "    plt.legend(loc='best')\n",
        "    plt.show()\n",
        "\n",
        "    print(\"Final Training Accuracy: {}\".format(train_acc[-1]))\n",
        "    print(\"Final Validation Accuracy: {}\".format(val_acc[-1]))"
      ]
    },
    {
      "cell_type": "code",
      "execution_count": null,
      "metadata": {
        "colab": {
          "base_uri": "https://localhost:8080/",
          "height": 915
        },
        "id": "psjQXwbt0hHt",
        "outputId": "c2714afc-2270-408c-c527-1dbc499866c1"
      },
      "outputs": [
        {
          "name": "stdout",
          "output_type": "stream",
          "text": [
            "Epoch 1: Train acc: 0.429770565193061 |Validation acc: 0.3888888888888889\n",
            "Epoch 2: Train acc: 0.6261891438164522 |Validation acc: 0.5601851851851852\n",
            "Epoch 3: Train acc: 0.6821488528259653 |Validation acc: 0.6527777777777778\n",
            "Epoch 4: Train acc: 0.7151650811415781 |Validation acc: 0.6481481481481481\n",
            "Epoch 5: Train acc: 0.7565752658086178 |Validation acc: 0.6712962962962963\n",
            "Epoch 6: Train acc: 0.7895914941242306 |Validation acc: 0.6712962962962963\n",
            "Epoch 7: Train acc: 0.7963066592053721 |Validation acc: 0.6851851851851852\n",
            "Epoch 8: Train acc: 0.8198097369893677 |Validation acc: 0.7222222222222222\n",
            "Epoch 9: Train acc: 0.855623950755456 |Validation acc: 0.7083333333333334\n",
            "Epoch 10: Train acc: 0.8740906547285954 |Validation acc: 0.7175925925925926\n",
            "Epoch 11: Train acc: 0.9143816452154448 |Validation acc: 0.7453703703703703\n",
            "Epoch 12: Train acc: 0.9138220481253497 |Validation acc: 0.7037037037037037\n",
            "Epoch 13: Train acc: 0.9272523782876329 |Validation acc: 0.7268518518518519\n",
            "Epoch 14: Train acc: 0.9115836597649692 |Validation acc: 0.7037037037037037\n",
            "Epoch 15: Train acc: 0.9501958589815332 |Validation acc: 0.7268518518518519\n",
            "Finished Training\n",
            "Total time elapsed: 1010.78 seconds\n"
          ]
        },
        {
          "data": {
            "image/png": "[encoded data removed]",
            "text/plain": [
              "<Figure size 432x288 with 1 Axes>"
            ]
          },
          "metadata": {},
          "output_type": "display_data"
        },
        {
          "data": {
            "image/png": "[encoded data removed]",
            "text/plain": [
              "<Figure size 432x288 with 1 Axes>"
            ]
          },
          "metadata": {},
          "output_type": "display_data"
        },
        {
          "name": "stdout",
          "output_type": "stream",
          "text": [
            "Final Training Accuracy: 0.9501958589815332\n",
            "Final Validation Accuracy: 0.7268518518518519\n"
          ]
        }
      ],
      "source": [
        "model_7_toPlot = CNN_Gesture_7()\n",
        "train_7_plot(model_7_toPlot, train_dataset, validation_dataset, 0.001, 32, 15)"
      ]
    },
    {
      "cell_type": "markdown",
      "metadata": {
        "id": "QzNA5oup67JO"
      },
      "source": [
        "### Part (d) - 2 pt\n",
        "Report the test accuracy of your best model. You should only do this step once and prior to this step you should have only used the training and validation data."
      ]
    },
    {
      "cell_type": "markdown",
      "metadata": {
        "id": "gL3Alr1aC772"
      },
      "source": [
        "**Answer**:\n",
        "\n",
        "We can see that we get a good test accuracy which is around 64% and is close to our validation accuracy which was around 73%. "
      ]
    },
    {
      "cell_type": "code",
      "execution_count": null,
      "metadata": {
        "colab": {
          "base_uri": "https://localhost:8080/"
        },
        "collapsed": true,
        "id": "2eJ7AbVl6-ax",
        "outputId": "b0725741-9b4a-42d8-88ea-fa443fc64764"
      },
      "outputs": [
        {
          "name": "stdout",
          "output_type": "stream",
          "text": [
            "Test acc: 0.6435185185185185\n"
          ]
        }
      ],
      "source": [
        "use_cuda = True\n",
        "\n",
        "def get_accuracy_for_test(model, data_loader):\n",
        "\n",
        "    correct = 0\n",
        "    total = 0\n",
        "    for imgs, labels in data_loader:\n",
        "\n",
        "        #############################################\n",
        "        #To Enable GPU Usage\n",
        "        if use_cuda and torch.cuda.is_available():\n",
        "          imgs = imgs.cuda()\n",
        "          labels = labels.cuda()\n",
        "        #############################################\n",
        "        \n",
        "        output = model(imgs)\n",
        "        \n",
        "        #select index with maximum prediction score\n",
        "        pred = output.max(1, keepdim=True)[1]\n",
        "        correct += pred.eq(labels.view_as(pred)).sum().item()\n",
        "        total += imgs.shape[0]\n",
        "    return correct / total\n",
        "\n",
        "test_loader = DataLoader(\n",
        "    test_dataset, batch_size=32, \n",
        "    shuffle=True\n",
        ")\n",
        "test_acc = get_accuracy_for_test(model_7_toPlot, test_loader)\n",
        "print((\"Test acc: {}\").format(test_acc))"
      ]
    },
    {
      "cell_type": "markdown",
      "metadata": {
        "id": "Wrem-iXV6_Bz"
      },
      "source": [
        "### 4. Transfer Learning [15 pt]\n",
        "For many image classification tasks, it is generally not a good idea to train a very large deep neural network\n",
        "model from scratch due to the enormous compute requirements and lack of sufficient amounts of training\n",
        "data.\n",
        "\n",
        "One of the better options is to try using an existing model that performs a similar task to the one you need\n",
        "to solve. This method of utilizing a pre-trained network for other similar tasks is broadly termed **Transfer\n",
        "Learning**. In this assignment, we will use Transfer Learning to extract features from the hand gesture\n",
        "images. Then, train a smaller network to use these features as input and classify the hand gestures.\n",
        "\n",
        "As you have learned from the CNN lecture, convolution layers extract various features from the images which\n",
        "get utilized by the fully connected layers for correct classification. AlexNet architecture played a pivotal\n",
        "role in establishing Deep Neural Nets as a go-to tool for image classification problems and we will use an\n",
        "ImageNet pre-trained AlexNet model to extract features in this assignment."
      ]
    },
    {
      "cell_type": "markdown",
      "metadata": {
        "id": "rWdQJz4Q7O2F"
      },
      "source": [
        "### Part (a) - 5 pt\n",
        "Here is the code to load the AlexNet network, with pretrained weights. When you first run the code, PyTorch\n",
        "will download the pretrained weights from the internet."
      ]
    },
    {
      "cell_type": "code",
      "execution_count": null,
      "metadata": {
        "colab": {
          "base_uri": "https://localhost:8080/"
        },
        "collapsed": true,
        "id": "BJKcTW9C7TZk",
        "outputId": "8f4d24c0-1d69-42df-979e-63bf7b8727d6"
      },
      "outputs": [
        {
          "name": "stderr",
          "output_type": "stream",
          "text": [
            "/usr/local/lib/python3.8/dist-packages/torchvision/models/_utils.py:208: UserWarning: The parameter 'pretrained' is deprecated since 0.13 and may be removed in the future, please use 'weights' instead.\n",
            "  warnings.warn(\n",
            "/usr/local/lib/python3.8/dist-packages/torchvision/models/_utils.py:223: UserWarning: Arguments other than a weight enum or `None` for 'weights' are deprecated since 0.13 and may be removed in the future. The current behavior is equivalent to passing `weights=AlexNet_Weights.IMAGENET1K_V1`. You can also use `weights=AlexNet_Weights.DEFAULT` to get the most up-to-date weights.\n",
            "  warnings.warn(msg)\n"
          ]
        }
      ],
      "source": [
        "import torchvision.models\n",
        "alexnet = torchvision.models.alexnet(pretrained=True)"
      ]
    },
    {
      "cell_type": "markdown",
      "metadata": {
        "id": "NQ0GZYaP7VAR"
      },
      "source": [
        "The alexnet model is split up into two components: *alexnet.features* and *alexnet.classifier*. The\n",
        "first neural network component, *alexnet.features*, is used to compute convolutional features, which are\n",
        "taken as input in *alexnet.classifier*.\n",
        "\n",
        "The neural network alexnet.features expects an image tensor of shape Nx3x224x224 as input and it will\n",
        "output a tensor of shape Nx256x6x6 . (N = batch size).\n",
        "\n",
        "Compute the AlexNet features for each of your training, validation, and test data. Here is an example code\n",
        "snippet showing how you can compute the AlexNet features for some images (your actual code might be\n",
        "different):"
      ]
    },
    {
      "cell_type": "code",
      "execution_count": null,
      "metadata": {
        "collapsed": true,
        "id": "oX7SjVdB7XAE"
      },
      "outputs": [],
      "source": [
        "# img = ... a PyTorch tensor with shape [N,3,224,224] containing hand images ...\n",
        "# features = alexnet.features(img)"
      ]
    },
    {
      "cell_type": "markdown",
      "metadata": {
        "id": "DYcjHg_A7cCM"
      },
      "source": [
        "**Save the computed features**. You will be using these features as input to your neural network in Part\n",
        "(b), and you do not want to re-compute the features every time. Instead, run *alexnet.features* once for\n",
        "each image, and save the result."
      ]
    },
    {
      "cell_type": "code",
      "execution_count": null,
      "metadata": {
        "collapsed": true,
        "id": "TBo1BpL373LX"
      },
      "outputs": [],
      "source": [
        "transform = transforms.Compose([\n",
        "    transforms.Resize((224, 224)),\n",
        "    transforms.ToTensor(),\n",
        "])\n",
        "\n",
        "train_dataset = datasets.ImageFolder(\n",
        "    root='/content/gdrive/MyDrive/Lab3_Gestures_Summer/Train',\n",
        "    transform=transform\n",
        ")\n",
        "\n",
        "validation_dataset = datasets.ImageFolder(\n",
        "    root='/content/gdrive/MyDrive/Lab3_Gestures_Summer/Validation',\n",
        "    transform=transform\n",
        ")\n",
        "\n",
        "test_dataset = datasets.ImageFolder(\n",
        "    root='/content/gdrive/MyDrive/Lab3_Gestures_Summer/Test',\n",
        "    transform=transform\n",
        ")\n",
        "\n",
        "classes = ['A', 'B', 'C', 'D', 'E', 'F', 'G', 'H', 'I']\n",
        "Train_features, Validation_features, Test_features = [], [], []\n",
        "Train_labels, Validation_labels, Test_labels = [], [], []\n",
        "\n",
        "# name should be Train, Validation or Test\n",
        "def AlexNet_features(dataset, name, batch_size=1, num_workers=1):\n",
        "  data_loader = DataLoader(\n",
        "    dataset, batch_size=batch_size, \n",
        "    shuffle=True, num_workers=num_workers\n",
        "  )\n",
        "  n = 0\n",
        "  for imgs, labels in iter(data_loader):\n",
        "    features = alexnet.features(imgs)\n",
        "    if name == 'Train':\n",
        "      Train_features.append(alexnet.features(imgs))\n",
        "      Train_labels.append(labels)\n",
        "    elif name == 'Validation':\n",
        "      Validation_features.append(alexnet.features(imgs))\n",
        "      Validation_labels.append(labels)\n",
        "    elif name == 'Test':\n",
        "      Test_features.append(alexnet.features(imgs))\n",
        "      Test_labels.append(labels)\n",
        "    else:\n",
        "      print(\"You picked an incorrect 'name'. Please replace 'name' with Train, Validation or Test.\")\n",
        "      return None\n",
        "    features_tensor = torch.from_numpy(features.detach().numpy())\n",
        "    torch.save(features_tensor.squeeze(0), '/content/gdrive/MyDrive/Lab3_Gestures_Summer_AlexNet/' + name + '/' + classes[labels] + '/' + str(n) + '.tensor')\n",
        "    n += 1"
      ]
    },
    {
      "cell_type": "code",
      "execution_count": null,
      "metadata": {
        "id": "Je2RMimaDysb"
      },
      "outputs": [],
      "source": [
        "AlexNet_features(train_dataset, 'Train')"
      ]
    },
    {
      "cell_type": "code",
      "execution_count": null,
      "metadata": {
        "id": "e9sWU6jtElcw"
      },
      "outputs": [],
      "source": [
        "AlexNet_features(validation_dataset, 'Validation')"
      ]
    },
    {
      "cell_type": "markdown",
      "metadata": {
        "id": "OFWvvhFN73qY"
      },
      "source": [
        "### Part (b) - 3 pt\n",
        "Build a convolutional neural network model that takes as input these AlexNet features, and makes a\n",
        "prediction. Your model should be a subclass of nn.Module.\n",
        "\n",
        "Explain your choice of neural network architecture: how many layers did you choose? What types of layers\n",
        "did you use: fully-connected or convolutional? What about other decisions like pooling layers, activation\n",
        "functions, number of channels / hidden units in each layer?\n",
        "\n",
        "Here is an example of how your model may be called:"
      ]
    },
    {
      "cell_type": "markdown",
      "metadata": {
        "id": "igniezmBEuyf"
      },
      "source": [
        "**Answer**:\n",
        "\n",
        "I picked 2 convolution layers, and 2 fully-connected layers: The first convolution layer is with 256 input channels, 60 output channels and kernel size of 3. The second convolution layer is with 60 input channels, 10 output channels and kernel size of 2. The first fully-connected layer is having input size of 10\\*3\\*3 and output size of 32. The second fully-connected layer is having input size of 32 and output size of 9. \n",
        "\n",
        "The input of cov1 is 256\\*6\\*6 and then after this layer which has kernel size of 3, it becomes 60\\*4\\*4 because o = (i+2p-k)/s + 1 = (6+0-3)/1 + 1 = 4. Then we apply another conv layer (conv2) with kernel size of 2 which then the size becomes 10\\3\\*3 because o = (i+2p-k)/s + 1 = (4+0-2)/1 + 1 = 3. Finally I applied a fully-connected layer with relu activation on top of it and then another final fully-connected layer to reduce the output size to 9 for my 9 classes (A, B, C, D, E, F, G, H, I)."
      ]
    },
    {
      "cell_type": "code",
      "execution_count": null,
      "metadata": {
        "colab": {
          "base_uri": "https://localhost:8080/"
        },
        "collapsed": true,
        "id": "oVTuHUeV78-U",
        "outputId": "67321ddd-f814-46b6-af9e-16ebba5b4184"
      },
      "outputs": [
        {
          "name": "stdout",
          "output_type": "stream",
          "text": [
            "Convolutional Neural Network Architecture Done\n"
          ]
        }
      ],
      "source": [
        "# features = ... load precomputed alexnet.features(img) ...\n",
        "# output = model(features)\n",
        "# prob = F.softmax(output)\n",
        "\n",
        "torch.manual_seed(1) # set the random seed\n",
        "\n",
        "#Convolutional Neural Network Architecture\n",
        "class CNN_AlexNet(nn.Module):\n",
        "    def __init__(self):\n",
        "        super(CNN_AlexNet, self).__init__()\n",
        "        self.name = \"cnn_alexnet\"\n",
        "        self.conv1 = nn.Conv2d(256, 60, 3) #in_channels, out_chanels, kernel_size\n",
        "        self.conv2 = nn.Conv2d(60, 10, 2) #in_channels, out_chanels, kernel_size\n",
        "        self.fc1 = nn.Linear(10 * 3 * 3, 32)\n",
        "        self.fc2 = nn.Linear(32, 9)\n",
        "\n",
        "    def forward(self, x):\n",
        "        x = F.relu(self.conv1(x))\n",
        "        x = F.relu(self.conv2(x))\n",
        "        x = x.view(-1, 10 * 3 * 3)\n",
        "        x = F.relu(self.fc1(x))\n",
        "        x = self.fc2(x)\n",
        "        return x\n",
        "    \n",
        "    print('Convolutional Neural Network Architecture Done')"
      ]
    },
    {
      "cell_type": "code",
      "execution_count": null,
      "metadata": {
        "id": "4fdUgKrJE1w8"
      },
      "outputs": [],
      "source": [
        "train_dataset_cnn_alexnet = datasets.DatasetFolder(\n",
        "    '/content/gdrive/MyDrive/Lab3_Gestures_Summer_AlexNet/Train', \n",
        "    loader=torch.load, \n",
        "    extensions=('.tensor')\n",
        "    )\n",
        "\n",
        "validation_dataset_cnn_alexnet = datasets.DatasetFolder(\n",
        "    '/content/gdrive/MyDrive/Lab3_Gestures_Summer_AlexNet/Validation', \n",
        "    loader=torch.load, \n",
        "    extensions=('.tensor')\n",
        "    )\n",
        "\n",
        "test_dataset_cnn_alexnet = datasets.DatasetFolder(\n",
        "    '/content/gdrive/MyDrive/Lab3_Gestures_Summer_AlexNet/Test', \n",
        "    loader=torch.load, \n",
        "    extensions=('.tensor')\n",
        "    )\n",
        "\n",
        "train_loader_cnn_alexnet = DataLoader(\n",
        "    train_dataset_cnn_alexnet, batch_size=BATCH_SIZE, \n",
        "    shuffle=True, num_workers=1\n",
        ")\n",
        "\n",
        "validation_loader_cnn_alexnet = DataLoader(\n",
        "    validation_dataset_cnn_alexnet, batch_size=BATCH_SIZE, \n",
        "    shuffle=True, num_workers=1\n",
        ")\n",
        "\n",
        "test_loader_cnn_alexnet = DataLoader(\n",
        "    test_dataset_cnn_alexnet, batch_size=BATCH_SIZE, \n",
        "    shuffle=True, num_workers=1\n",
        ")"
      ]
    },
    {
      "cell_type": "markdown",
      "metadata": {
        "id": "wVAGuURu7-9q"
      },
      "source": [
        "### Part (c) - 5 pt\n",
        "Train your new network, including any hyperparameter tuning. Plot and submit the training curve of your\n",
        "best model only.\n",
        "\n",
        "Note: Depending on how you are caching (saving) your AlexNet features, PyTorch might still be tracking\n",
        "updates to the **AlexNet weights**, which we are not tuning. One workaround is to convert your AlexNet\n",
        "feature tensor into a numpy array, and then back into a PyTorch tensor."
      ]
    },
    {
      "cell_type": "markdown",
      "metadata": {
        "id": "QBcgpqqFFSO7"
      },
      "source": [
        "**Doing Random Search with below combinations:**\n",
        "\n",
        "**batch_size_list_cnn_alexnet = [32, 64, 64, 128]**\n",
        "\n",
        "**learning_rate_list_cnn_alexnet = [0.001, 0.001, 0.0001, 0.001]**"
      ]
    },
    {
      "cell_type": "code",
      "execution_count": null,
      "metadata": {
        "collapsed": true,
        "id": "JCmiH11x7-q1"
      },
      "outputs": [],
      "source": [
        "# tensor = torch.from_numpy(tensor.detach().numpy())"
      ]
    },
    {
      "cell_type": "code",
      "execution_count": null,
      "metadata": {
        "id": "t6MWjlOwFAk4"
      },
      "outputs": [],
      "source": [
        "use_cuda = True\n",
        "\n",
        "def get_accuracy_cnn_alexnet(model, data_loader):\n",
        "\n",
        "    correct = 0\n",
        "    total = 0\n",
        "    for imgs, labels in data_loader:\n",
        "\n",
        "        #############################################\n",
        "        #To Enable GPU Usage\n",
        "        if use_cuda and torch.cuda.is_available():\n",
        "          imgs = imgs.cuda()\n",
        "          labels = labels.cuda()\n",
        "        #############################################\n",
        "        \n",
        "        output = model(imgs)\n",
        "        \n",
        "        #select index with maximum prediction score\n",
        "        pred = output.max(1, keepdim=True)[1]\n",
        "        correct += pred.eq(labels.view_as(pred)).sum().item()\n",
        "        total += imgs.shape[0]\n",
        "    return correct / total"
      ]
    },
    {
      "cell_type": "code",
      "execution_count": null,
      "metadata": {
        "id": "NTgGoHIEFFjr"
      },
      "outputs": [],
      "source": [
        "import matplotlib.pyplot as plt\n",
        "\n",
        "def train_cnn_alexnet(model, train_dataset, validation_dataset, learning_rate, batch_size, num_epochs):\n",
        "    \n",
        "    train_loader = DataLoader(\n",
        "    train_dataset, batch_size=batch_size, \n",
        "    shuffle=True\n",
        "    )\n",
        "\n",
        "    validation_loader = DataLoader(\n",
        "    validation_dataset, batch_size=batch_size, \n",
        "    shuffle=True\n",
        "    )\n",
        "\n",
        "    criterion = nn.CrossEntropyLoss()\n",
        "    optimizer = optim.Adam(model.parameters(), lr=learning_rate)\n",
        "\n",
        "    iters, losses, train_acc, val_acc = [], [], [], []\n",
        "\n",
        "    # training\n",
        "    #n = 0 # the number of iterations\n",
        "    start_time = time.time()\n",
        "    for epoch in range(num_epochs):\n",
        "        for imgs, labels in iter(train_loader):\n",
        "\n",
        "            #############################################\n",
        "            #To Enable GPU Usage\n",
        "            if use_cuda and torch.cuda.is_available():\n",
        "              imgs = imgs.cuda()\n",
        "              labels = labels.cuda()\n",
        "            #############################################\n",
        "              \n",
        "            out = model(imgs)             # forward pass\n",
        "\n",
        "            loss = criterion(out, labels) # compute the total loss\n",
        "            loss.backward()               # backward pass (compute parameter updates)\n",
        "            optimizer.step()              # make the updates for each parameter\n",
        "            optimizer.zero_grad()         # a clean up step for PyTorch\n",
        "\n",
        "        # save the current training information\n",
        "        #n += 1\n",
        "        iters.append(epoch)\n",
        "        losses.append(float(loss)/batch_size)             # compute *average* loss\n",
        "        train_acc.append(get_accuracy_cnn_alexnet(model, train_loader)) # compute training accuracy \n",
        "        val_acc.append(get_accuracy_cnn_alexnet(model, validation_loader))  # compute validation accuracy\n",
        "        print((\"Epoch {}: Train acc: {} |\"+\n",
        "               \"Validation acc: {}\").format(\n",
        "                   epoch + 1,\n",
        "                   train_acc[epoch],\n",
        "                   val_acc[epoch]))\n",
        "        # Save the current model (checkpoint) to a file\n",
        "        #model_path = get_model_name(model.name, batch_size, learning_rate, epoch)\n",
        "        #torch.save(model.state_dict(), model_path)\n",
        "    print('Finished Training')\n",
        "    end_time = time.time()\n",
        "    elapsed_time = end_time - start_time\n",
        "    print(\"Total time elapsed: {:.2f} seconds\".format(elapsed_time))\n",
        "\n",
        "    # plotting\n",
        "    \"\"\" plt.title(\"Training Curve\")\n",
        "    plt.plot(iters, losses, label=\"Train\")\n",
        "    plt.xlabel(\"Iterations\")\n",
        "    plt.ylabel(\"Loss\")\n",
        "    plt.show()\n",
        "\n",
        "    plt.title(\"Training Curve\")\n",
        "    plt.plot(iters, train_acc, label=\"Train\")\n",
        "    plt.plot(iters, val_acc, label=\"Validation\")\n",
        "    plt.xlabel(\"Iterations\")\n",
        "    plt.ylabel(\"Training Accuracy\")\n",
        "    plt.legend(loc='best')\n",
        "    plt.show()\n",
        "\n",
        "    print(\"Final Training Accuracy: {}\".format(train_acc[-1]))\n",
        "    print(\"Final Validation Accuracy: {}\".format(val_acc[-1]))\"\"\""
      ]
    },
    {
      "cell_type": "code",
      "execution_count": null,
      "metadata": {
        "colab": {
          "background_save": true,
          "base_uri": "https://localhost:8080/"
        },
        "id": "1n8IGO09FJm_",
        "outputId": "50211491-edbf-4e31-f749-688c94c033af"
      },
      "outputs": [
        {
          "name": "stdout",
          "output_type": "stream",
          "text": [
            "\n",
            "\n",
            "Epoch 1: Train acc: 0.8449789996181749 |Validation acc: 0.7965217391304348\n",
            "Epoch 2: Train acc: 0.9587628865979382 |Validation acc: 0.8504347826086956\n",
            "Epoch 3: Train acc: 0.9845360824742269 |Validation acc: 0.8556521739130435\n",
            "Epoch 4: Train acc: 0.9965635738831615 |Validation acc: 0.8869565217391304\n",
            "Epoch 5: Train acc: 0.9990454371897671 |Validation acc: 0.8747826086956522\n",
            "Epoch 6: Train acc: 0.9992363497518136 |Validation acc: 0.8765217391304347\n",
            "Epoch 7: Train acc: 0.9996181748759069 |Validation acc: 0.8747826086956522\n",
            "Epoch 8: Train acc: 0.9996181748759069 |Validation acc: 0.8730434782608696\n",
            "Epoch 9: Train acc: 0.9996181748759069 |Validation acc: 0.88\n",
            "Epoch 10: Train acc: 0.9280259641084383 |Validation acc: 0.84\n",
            "Epoch 11: Train acc: 0.9914089347079038 |Validation acc: 0.8904347826086957\n",
            "Epoch 12: Train acc: 0.9996181748759069 |Validation acc: 0.8921739130434783\n",
            "Epoch 13: Train acc: 0.9996181748759069 |Validation acc: 0.8817391304347826\n",
            "Epoch 14: Train acc: 0.9996181748759069 |Validation acc: 0.88\n",
            "Epoch 15: Train acc: 0.9992363497518136 |Validation acc: 0.9147826086956522\n",
            "Finished Training\n",
            "Total time elapsed: 361.00 seconds\n",
            "\n",
            "\n",
            "Epoch 1: Train acc: 0.9005345551737304 |Validation acc: 0.8347826086956521\n",
            "Epoch 2: Train acc: 0.9518900343642611 |Validation acc: 0.8834782608695653\n",
            "Epoch 3: Train acc: 0.9831996945399007 |Validation acc: 0.9095652173913044\n",
            "Epoch 4: Train acc: 0.9910271095838106 |Validation acc: 0.9060869565217391\n",
            "Epoch 5: Train acc: 0.9992363497518136 |Validation acc: 0.9165217391304348\n",
            "Epoch 6: Train acc: 0.9992363497518136 |Validation acc: 0.9217391304347826\n",
            "Epoch 7: Train acc: 0.9996181748759069 |Validation acc: 0.9269565217391305\n",
            "Epoch 8: Train acc: 0.9994272623138603 |Validation acc: 0.9373913043478261\n",
            "Epoch 9: Train acc: 0.9996181748759069 |Validation acc: 0.9321739130434783\n",
            "Epoch 10: Train acc: 0.9996181748759069 |Validation acc: 0.928695652173913\n",
            "Epoch 11: Train acc: 0.993127147766323 |Validation acc: 0.9269565217391305\n",
            "Epoch 12: Train acc: 0.9982817869415808 |Validation acc: 0.9252173913043479\n",
            "Epoch 13: Train acc: 0.9996181748759069 |Validation acc: 0.9234782608695652\n",
            "Epoch 14: Train acc: 0.9996181748759069 |Validation acc: 0.9147826086956522\n",
            "Epoch 15: Train acc: 0.9996181748759069 |Validation acc: 0.9408695652173913\n",
            "Finished Training\n",
            "Total time elapsed: 339.45 seconds\n",
            "\n",
            "\n",
            "Epoch 1: Train acc: 0.46601756395570826 |Validation acc: 0.5565217391304348\n",
            "Epoch 2: Train acc: 0.7961053837342497 |Validation acc: 0.7095652173913043\n",
            "Epoch 3: Train acc: 0.8518518518518519 |Validation acc: 0.768695652173913\n",
            "Epoch 4: Train acc: 0.8900343642611683 |Validation acc: 0.8347826086956521\n",
            "Epoch 5: Train acc: 0.9106529209621993 |Validation acc: 0.8608695652173913\n",
            "Epoch 6: Train acc: 0.923634975181367 |Validation acc: 0.8452173913043478\n",
            "Epoch 7: Train acc: 0.9390988927071401 |Validation acc: 0.8626086956521739\n",
            "Epoch 8: Train acc: 0.9484536082474226 |Validation acc: 0.8573913043478261\n",
            "Epoch 9: Train acc: 0.9610538373424972 |Validation acc: 0.8660869565217392\n",
            "Epoch 10: Train acc: 0.9673539518900344 |Validation acc: 0.8817391304347826\n",
            "Epoch 11: Train acc: 0.9753722794959908 |Validation acc: 0.888695652173913\n",
            "Epoch 12: Train acc: 0.9814814814814815 |Validation acc: 0.9130434782608695\n",
            "Epoch 13: Train acc: 0.98491790759832 |Validation acc: 0.8869565217391304\n",
            "Epoch 14: Train acc: 0.9885452462772051 |Validation acc: 0.88\n",
            "Epoch 15: Train acc: 0.9902634593356243 |Validation acc: 0.9078260869565218\n",
            "Finished Training\n",
            "Total time elapsed: 339.50 seconds\n",
            "\n",
            "\n",
            "Epoch 1: Train acc: 0.8329515082092401 |Validation acc: 0.8034782608695652\n",
            "Epoch 2: Train acc: 0.942344406261932 |Validation acc: 0.8765217391304347\n",
            "Epoch 3: Train acc: 0.9768995799923635 |Validation acc: 0.92\n",
            "Epoch 4: Train acc: 0.9774723176785033 |Validation acc: 0.928695652173913\n",
            "Epoch 5: Train acc: 0.9914089347079038 |Validation acc: 0.9165217391304348\n",
            "Epoch 6: Train acc: 0.9885452462772051 |Validation acc: 0.9182608695652174\n",
            "Epoch 7: Train acc: 0.9969453990072547 |Validation acc: 0.92\n",
            "Epoch 8: Train acc: 0.9988545246277205 |Validation acc: 0.9321739130434783\n",
            "Epoch 9: Train acc: 0.9988545246277205 |Validation acc: 0.928695652173913\n",
            "Epoch 10: Train acc: 0.9996181748759069 |Validation acc: 0.928695652173913\n",
            "Epoch 11: Train acc: 0.9996181748759069 |Validation acc: 0.9234782608695652\n",
            "Epoch 12: Train acc: 0.9996181748759069 |Validation acc: 0.92\n",
            "Epoch 13: Train acc: 0.9996181748759069 |Validation acc: 0.9182608695652174\n",
            "Epoch 14: Train acc: 0.9996181748759069 |Validation acc: 0.9304347826086956\n",
            "Epoch 15: Train acc: 0.9996181748759069 |Validation acc: 0.9252173913043479\n",
            "Finished Training\n",
            "Total time elapsed: 328.44 seconds\n",
            "\n",
            "\n",
            "Epoch 1: Train acc: 0.7647957235586101 |Validation acc: 0.7304347826086957\n",
            "Epoch 2: Train acc: 0.8688430698739977 |Validation acc: 0.8573913043478261\n",
            "Epoch 3: Train acc: 0.9354715540282551 |Validation acc: 0.8991304347826087\n",
            "Epoch 4: Train acc: 0.9587628865979382 |Validation acc: 0.8747826086956522\n",
            "Epoch 5: Train acc: 0.981672394043528 |Validation acc: 0.9147826086956522\n",
            "Epoch 6: Train acc: 0.9866361206567392 |Validation acc: 0.9078260869565218\n",
            "Epoch 7: Train acc: 0.9917907598319969 |Validation acc: 0.8869565217391304\n",
            "Epoch 8: Train acc: 0.9982817869415808 |Validation acc: 0.9113043478260869\n",
            "Epoch 9: Train acc: 0.9992363497518136 |Validation acc: 0.9304347826086956\n",
            "Epoch 10: Train acc: 0.9994272623138603 |Validation acc: 0.9460869565217391\n",
            "Epoch 11: Train acc: 0.9992363497518136 |Validation acc: 0.9165217391304348\n",
            "Epoch 12: Train acc: 0.9994272623138603 |Validation acc: 0.9321739130434783\n",
            "Epoch 13: Train acc: 0.9994272623138603 |Validation acc: 0.9339130434782609\n",
            "Epoch 14: Train acc: 0.9996181748759069 |Validation acc: 0.9443478260869566\n",
            "Epoch 15: Train acc: 0.9996181748759069 |Validation acc: 0.9339130434782609\n",
            "Finished Training\n",
            "Total time elapsed: 325.39 seconds\n"
          ]
        }
      ],
      "source": [
        "#batch size, learning rate\n",
        "batch_size_list_cnn_alexnet = [32, 64, 64, 128, 256]\n",
        "learning_rate_list_cnn_alexnet = [0.001, 0.001, 0.0001, 0.001, 0.001]\n",
        "# kernel_size = [3, 5, 3, 5, 3, 5]\n",
        "for i in range(len(batch_size_list_cnn_alexnet)):\n",
        "  print(\"\\n\")\n",
        "  model_cnn_alexnet = CNN_AlexNet()\n",
        "  train_cnn_alexnet(model_cnn_alexnet, train_dataset_cnn_alexnet, validation_dataset_cnn_alexnet, learning_rate_list_cnn_alexnet[i], batch_size_list_cnn_alexnet[i], 15) "
      ]
    },
    {
      "cell_type": "markdown",
      "metadata": {
        "id": "aCxbWDyrIbUs"
      },
      "source": [
        "**Answer**:\n",
        "\n",
        "My best model is this: batch size=64, learning rate=0.001. \n",
        "\n",
        "Because validation accuracy is around 94% which is the highest and training accuracy is around 99% and since there's not a huge gap between my validation and training accuracy, the model is not really overfitting and so it's the best model."
      ]
    },
    {
      "cell_type": "code",
      "execution_count": null,
      "metadata": {
        "id": "v0-bjcibJDQo"
      },
      "outputs": [],
      "source": [
        "import matplotlib.pyplot as plt\n",
        "\n",
        "def train_cnn_alexnet_plot(model, train_dataset, validation_dataset, learning_rate, batch_size, num_epochs):\n",
        "    \n",
        "    train_loader = DataLoader(\n",
        "    train_dataset, batch_size=batch_size, \n",
        "    shuffle=True\n",
        "    )\n",
        "\n",
        "    validation_loader = DataLoader(\n",
        "    validation_dataset, batch_size=batch_size, \n",
        "    shuffle=True\n",
        "    )\n",
        "\n",
        "    criterion = nn.CrossEntropyLoss()\n",
        "    optimizer = optim.Adam(model.parameters(), lr=learning_rate)\n",
        "\n",
        "    iters, losses, train_acc, val_acc = [], [], [], []\n",
        "\n",
        "    # training\n",
        "    #n = 0 # the number of iterations\n",
        "    start_time = time.time()\n",
        "    for epoch in range(num_epochs):\n",
        "        for imgs, labels in iter(train_loader):\n",
        "\n",
        "            #############################################\n",
        "            #To Enable GPU Usage\n",
        "            if use_cuda and torch.cuda.is_available():\n",
        "              imgs = imgs.cuda()\n",
        "              labels = labels.cuda()\n",
        "            #############################################\n",
        "              \n",
        "            out = model(imgs)             # forward pass\n",
        "\n",
        "            loss = criterion(out, labels) # compute the total loss\n",
        "            loss.backward()               # backward pass (compute parameter updates)\n",
        "            optimizer.step()              # make the updates for each parameter\n",
        "            optimizer.zero_grad()         # a clean up step for PyTorch\n",
        "\n",
        "        # save the current training information\n",
        "        #n += 1\n",
        "        iters.append(epoch)\n",
        "        losses.append(float(loss)/batch_size)             # compute *average* loss\n",
        "        train_acc.append(get_accuracy_cnn_alexnet(model, train_loader)) # compute training accuracy \n",
        "        val_acc.append(get_accuracy_cnn_alexnet(model, validation_loader))  # compute validation accuracy\n",
        "        print((\"Epoch {}: Train acc: {} |\"+\n",
        "               \"Validation acc: {}\").format(\n",
        "                   epoch + 1,\n",
        "                   train_acc[epoch],\n",
        "                   val_acc[epoch]))\n",
        "        # Save the current model (checkpoint) to a file\n",
        "        #model_path = get_model_name(model.name, batch_size, learning_rate, epoch)\n",
        "        #torch.save(model.state_dict(), model_path)\n",
        "    print('Finished Training')\n",
        "    end_time = time.time()\n",
        "    elapsed_time = end_time - start_time\n",
        "    print(\"Total time elapsed: {:.2f} seconds\".format(elapsed_time))\n",
        "\n",
        "    # plotting\n",
        "    plt.title(\"Training Curve\")\n",
        "    plt.plot(iters, losses, label=\"Train\")\n",
        "    plt.xlabel(\"Iterations\")\n",
        "    plt.ylabel(\"Loss\")\n",
        "    plt.show()\n",
        "\n",
        "    plt.title(\"Training Curve\")\n",
        "    plt.plot(iters, train_acc, label=\"Train\")\n",
        "    plt.plot(iters, val_acc, label=\"Validation\")\n",
        "    plt.xlabel(\"Iterations\")\n",
        "    plt.ylabel(\"Training Accuracy\")\n",
        "    plt.legend(loc='best')\n",
        "    plt.show()\n",
        "\n",
        "    print(\"Final Training Accuracy: {}\".format(train_acc[-1]))\n",
        "    print(\"Final Validation Accuracy: {}\".format(val_acc[-1]))"
      ]
    },
    {
      "cell_type": "code",
      "execution_count": null,
      "metadata": {
        "id": "D5wKJyDxJQck",
        "colab": {
          "base_uri": "https://localhost:8080/",
          "height": 915
        },
        "outputId": "dee11a00-b609-4791-ca83-722e64795372"
      },
      "outputs": [
        {
          "output_type": "stream",
          "name": "stdout",
          "text": [
            "Epoch 1: Train acc: 0.9026345933562429 |Validation acc: 0.7843478260869565\n",
            "Epoch 2: Train acc: 0.9753722794959908 |Validation acc: 0.8817391304347826\n",
            "Epoch 3: Train acc: 0.9889270714012982 |Validation acc: 0.9043478260869565\n",
            "Epoch 4: Train acc: 0.995418098510882 |Validation acc: 0.9043478260869565\n",
            "Epoch 5: Train acc: 0.9984726995036274 |Validation acc: 0.9043478260869565\n",
            "Epoch 6: Train acc: 0.9996181748759069 |Validation acc: 0.9252173913043479\n",
            "Epoch 7: Train acc: 0.9996181748759069 |Validation acc: 0.9252173913043479\n",
            "Epoch 8: Train acc: 0.9996181748759069 |Validation acc: 0.9113043478260869\n",
            "Epoch 9: Train acc: 0.9996181748759069 |Validation acc: 0.928695652173913\n",
            "Epoch 10: Train acc: 0.9904543718976708 |Validation acc: 0.8869565217391304\n",
            "Epoch 11: Train acc: 0.9963726613211149 |Validation acc: 0.9217391304347826\n",
            "Epoch 12: Train acc: 0.9996181748759069 |Validation acc: 0.9269565217391305\n",
            "Epoch 13: Train acc: 0.9996181748759069 |Validation acc: 0.9408695652173913\n",
            "Epoch 14: Train acc: 0.9996181748759069 |Validation acc: 0.9460869565217391\n",
            "Epoch 15: Train acc: 0.9996181748759069 |Validation acc: 0.9408695652173913\n",
            "Finished Training\n",
            "Total time elapsed: 342.23 seconds\n"
          ]
        },
        {
          "output_type": "display_data",
          "data": {
            "text/plain": [
              "<Figure size 432x288 with 1 Axes>"
            ],
            "image/png": "[encoded data removed]"
          },
          "metadata": {
            "needs_background": "light"
          }
        },
        {
          "output_type": "display_data",
          "data": {
            "text/plain": [
              "<Figure size 432x288 with 1 Axes>"
            ],
            "image/png": "[encoded data removed]"
          },
          "metadata": {
            "needs_background": "light"
          }
        },
        {
          "output_type": "stream",
          "name": "stdout",
          "text": [
            "Final Training Accuracy: 0.9996181748759069\n",
            "Final Validation Accuracy: 0.9408695652173913\n"
          ]
        }
      ],
      "source": [
        "model_cnn_alexnet_toPlot = CNN_AlexNet()\n",
        "train_cnn_alexnet_plot(model_cnn_alexnet_toPlot, train_dataset_cnn_alexnet, validation_dataset_cnn_alexnet, 0.001, 64, 15) "
      ]
    },
    {
      "cell_type": "markdown",
      "metadata": {
        "id": "hQ2tvqJ68Mqb"
      },
      "source": [
        "### Part (d) - 2 pt\n",
        "Report the test accuracy of your best model. How does the test accuracy compare to Part 3(d) without transfer learning?"
      ]
    },
    {
      "cell_type": "markdown",
      "metadata": {
        "id": "5SuhuyvKMjYS"
      },
      "source": [
        "**Answer**:\n",
        "\n",
        "The accuracy here is much more higher compared to Part3(d) which shows that AlexNet is performing much better in terms of paying attention to features and it is obvious because AlexNet trained on more data and is more optimized compared to my model."
      ]
    },
    {
      "cell_type": "code",
      "execution_count": null,
      "metadata": {
        "collapsed": true,
        "id": "yCp_kFSg8Q2T",
        "colab": {
          "base_uri": "https://localhost:8080/"
        },
        "outputId": "d7d9a87e-aff1-4aeb-f0cb-8f3d078ae0fb"
      },
      "outputs": [
        {
          "output_type": "stream",
          "name": "stdout",
          "text": [
            "Test acc: 0.8793103448275862\n"
          ]
        }
      ],
      "source": [
        "use_cuda = True\n",
        "\n",
        "def get_accuracy_for_test_alexnet(model, data_loader):\n",
        "\n",
        "    correct = 0\n",
        "    total = 0\n",
        "    for imgs, labels in data_loader:\n",
        "\n",
        "        #############################################\n",
        "        #To Enable GPU Usage\n",
        "        if use_cuda and torch.cuda.is_available():\n",
        "          imgs = imgs.cuda()\n",
        "          labels = labels.cuda()\n",
        "        #############################################\n",
        "        \n",
        "        output = model(imgs)\n",
        "        \n",
        "        #select index with maximum prediction score\n",
        "        pred = output.max(1, keepdim=True)[1]\n",
        "        correct += pred.eq(labels.view_as(pred)).sum().item()\n",
        "        total += imgs.shape[0]\n",
        "    return correct / total\n",
        "\n",
        "test_loader_alexnet = DataLoader(\n",
        "    test_dataset_cnn_alexnet, batch_size=64, \n",
        "    shuffle=True\n",
        ")\n",
        "test_acc_alexnet = get_accuracy_for_test_alexnet(model_cnn_alexnet_toPlot, test_loader_alexnet)\n",
        "print((\"Test acc: {}\").format(test_acc_alexnet))"
      ]
    },
    {
      "cell_type": "markdown",
      "metadata": {
        "id": "KglslgaUsgct"
      },
      "source": [
        "### 5. Additional Testing [5 pt]\n",
        "As a final step in testing we will be revisiting the sample images that you had collected and submitted at the start of this lab. These sample images should be untouched and will be used to demonstrate how well your model works at identifying your hand guestures. \n",
        "\n",
        "Using the best transfer learning model developed in Part 4. Report the test accuracy on your sample images and how it compares to the test accuracy obtained in Part 4(d)? How well did your model do for the different hand guestures? Provide an explanation for why you think your model performed the way it did?"
      ]
    },
    {
      "cell_type": "code",
      "execution_count": null,
      "metadata": {
        "id": "lDFQ08pgTpDd"
      },
      "outputs": [],
      "source": [
        "transform = transforms.Compose([\n",
        "    transforms.Resize((224, 224)),\n",
        "    transforms.ToTensor(),\n",
        "])\n",
        "\n",
        "test_dataset_small = datasets.ImageFolder(\n",
        "    root='/content/gdrive/MyDrive/Lab3_Gestures_Summer_Small/Test',\n",
        "    transform=transform\n",
        ")\n",
        "\n",
        "data_loader = DataLoader(\n",
        "    test_dataset_small, batch_size=1, \n",
        "    shuffle=True, num_workers=1\n",
        ")\n",
        "n = 0\n",
        "for imgs, labels in iter(data_loader):\n",
        "  features = alexnet.features(imgs)\n",
        "  features_tensor = torch.from_numpy(features.detach().numpy())\n",
        "  torch.save(features_tensor.squeeze(0), '/content/gdrive/MyDrive/Lab3_Gestures_Summer_AlexNet_small/' + 'Test' + '/' + classes[labels] + '/' + str(n) + '.tensor')\n",
        "  n += 1"
      ]
    },
    {
      "cell_type": "code",
      "execution_count": null,
      "metadata": {
        "id": "maYlRW7QWeAw"
      },
      "outputs": [],
      "source": [
        "test_datasetfolder_small = datasets.DatasetFolder(\n",
        "    '/content/gdrive/MyDrive/Lab3_Gestures_Summer_AlexNet_small/Test', \n",
        "    loader=torch.load, \n",
        "    extensions=('.tensor')\n",
        ")"
      ]
    },
    {
      "cell_type": "code",
      "source": [
        "data_loader = DataLoader(\n",
        "    test_datasetfolder_small, batch_size=64, \n",
        "    shuffle=True, num_workers=1\n",
        ")"
      ],
      "metadata": {
        "id": "BYmk_f_oAxRx"
      },
      "execution_count": null,
      "outputs": []
    },
    {
      "cell_type": "code",
      "execution_count": null,
      "metadata": {
        "id": "xYoBiZAGjNdx"
      },
      "outputs": [],
      "source": [
        "use_cuda = True\n",
        "\n",
        "def get_accuracy_for_test_alexnet(model, data_loader):\n",
        "\n",
        "    correct = 0\n",
        "    total = 0\n",
        "    for imgs, labels in data_loader:\n",
        "\n",
        "        #############################################\n",
        "        #To Enable GPU Usage\n",
        "        if use_cuda and torch.cuda.is_available():\n",
        "          imgs = imgs.cuda()\n",
        "          labels = labels.cuda()\n",
        "        #############################################\n",
        "        \n",
        "        output = model(imgs)\n",
        "        \n",
        "        #select index with maximum prediction score\n",
        "        pred = output.max(1, keepdim=True)[1]\n",
        "        correct += pred.eq(labels.view_as(pred)).sum().item()\n",
        "        total += imgs.shape[0]\n",
        "    return correct / total"
      ]
    },
    {
      "cell_type": "code",
      "execution_count": null,
      "metadata": {
        "collapsed": true,
        "id": "ZH-HDYYMsgct",
        "colab": {
          "base_uri": "https://localhost:8080/"
        },
        "outputId": "192487e2-cdc7-4189-9e17-3abb98f92c05"
      },
      "outputs": [
        {
          "output_type": "stream",
          "name": "stdout",
          "text": [
            "Test acc: 0.8055555555555556\n"
          ]
        }
      ],
      "source": [
        "test_acc_alexnet_small = get_accuracy_for_test_alexnet(model_cnn_alexnet_toPlot, data_loader)\n",
        "print((\"Test acc: {}\").format(test_acc_alexnet_small))"
      ]
    },
    {
      "cell_type": "markdown",
      "metadata": {
        "id": "tbmX9CYNbaet"
      },
      "source": [
        "**Answer**:\n",
        "\n",
        "Test accuracy now is around 81% and is almost the same as Part 4(d) which is not showing overfitting and this is because AlexNet is performing very well."
      ]
    },
    {
      "cell_type": "code",
      "source": [],
      "metadata": {
        "id": "P75HRsymBeqM"
      },
      "execution_count": null,
      "outputs": []
    }
  ],
  "metadata": {
    "colab": {
      "provenance": []
    },
    "gpuClass": "standard",
    "kernelspec": {
      "display_name": "Python 3 (ipykernel)",
      "language": "python",
      "name": "python3"
    },
    "language_info": {
      "codemirror_mode": {
        "name": "ipython",
        "version": 3
      },
      "file_extension": ".py",
      "mimetype": "text/x-python",
      "name": "python",
      "nbconvert_exporter": "python",
      "pygments_lexer": "ipython3",
      "version": "3.9.4"
    }
  },
  "nbformat": 4,
  "nbformat_minor": 0
}